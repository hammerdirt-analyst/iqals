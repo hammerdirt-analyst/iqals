{
 "cells": [
  {
   "cell_type": "code",
   "execution_count": 1,
   "metadata": {},
   "outputs": [],
   "source": [
    "# sys, file and nav packages:\n",
    "import os\n",
    "import datetime as dt\n",
    "import csv\n",
    "import json\n",
    "\n",
    "# math packages:\n",
    "import pandas as pd\n",
    "import numpy as np\n",
    "import math\n",
    "\n",
    "# charting:\n",
    "import matplotlib as mpl\n",
    "import matplotlib.pyplot as plt\n",
    "import seaborn as sns\n",
    "\n",
    "# home brew utitilties\n",
    "import utilities.utility_functions as ut\n",
    "import utilities.abundance_classes as ac\n",
    "\n",
    "# chart kwargs\n",
    "title_k = {'loc':'left', 'pad':14, 'linespacing':1.5, 'fontsize':12}\n",
    "title_k14 = {'loc':'left', 'pad':16, 'linespacing':1.5, 'fontsize':14}\n",
    "xlab_k = {'labelpad':10, 'fontsize':12}\n",
    "xlab_k14 = {'labelpad':14, 'fontsize':14}\n",
    "\n",
    "survey_data, location_data, code_defs, stat_ent, geo_data, output = ut.make_local_paths()"
   ]
  },
  {
   "cell_type": "code",
   "execution_count": 2,
   "metadata": {},
   "outputs": [
    {
     "name": "stdout",
     "output_type": "stream",
     "text": [
      "\n",
      "This is the output directory for this notebook:\n",
      "\n",
      "   output/projectdescription\n",
      "\n",
      "It can be called by typing 'project_directory'\n",
      "\n"
     ]
    }
   ],
   "source": [
    "# set some parameters:\n",
    "start_date = '2020-04-01'\n",
    "end_date ='2021-04-01'\n",
    "\n",
    "# name the folder:\n",
    "name_of_project = 'projectdescription'\n",
    "\n",
    "# use this to store things:\n",
    "project_directory = ut.make_project_folder(output, name_of_project)\n",
    "\n",
    "# keep track of output\n",
    "files_generated = []\n",
    "figure_num = 0\n",
    "data_num = 0\n",
    "\n",
    "# kwargs for the abundance class\n",
    "group_names_locations = {\n",
    "    \"waste water\": \"wastewater.json\" ,\n",
    "    \"less than 5mm\":\"codeListMicros.json\",\n",
    "    \"construction\":\"construction.json\",\n",
    "    \"food\":\"foodstuff.json\",\n",
    "    \"agg-con-trans\":\"cat.json\",\n",
    "    \"agriculture\":\"ag.json\",\n",
    "    \"tobacco\":\"tobac.json\",\n",
    "    \"recreation\":\"recreation.json\",    \n",
    "    \"packaging non food\":\"packaging.json\",\n",
    "    \"personal items\":\"pi.json\",    \n",
    "}\n",
    "\n",
    "\n",
    "frag_plas = {\"fragmented plastics\":[\"G79\", \"G78\", \"G75\"]}\n",
    "\n",
    "these_cols = ['loc_date', 'location', 'water_name','type', 'date']\n",
    "\n",
    "foams={'G82':['G82', 'G912'], 'G81':['G81', 'G911'], 'G74':['G74', 'G910', 'G909']}\n",
    "\n",
    "# convenience method to organize output\n",
    "def add_output(**kwargs):\n",
    "    files_generated.append({'tag':kwargs['tag'], 'number':kwargs['figure_num'], 'file':kwargs['file'],'type':kwargs['a_type']})\n",
    "    if kwargs['a_type'] == 'data':\n",
    "        kwargs['data'].to_csv(F\"{kwargs['file']}.csv\", index=False)\n",
    "    else:\n",
    "        plt.savefig(F\"{kwargs['file']}.jpeg\", dpi=300)\n",
    "print(F\"\\nThis is the output directory for this notebook:\\n\\n   {project_directory}\\n\\nIt can be called by typing 'project_directory'\\n\")"
   ]
  },
  {
   "cell_type": "code",
   "execution_count": 3,
   "metadata": {},
   "outputs": [],
   "source": [
    "# non aggregated survey data\n",
    "# Zero values are assigned for all codes not identified at a survey, for each survey\n",
    "dfSurveys = pd.read_csv(F\"{survey_data}/results_with_zeroes.csv\")\n",
    "\n",
    "# house keeping\n",
    "dfSurveys = dfSurveys[(dfSurveys.date >= start_date)&(dfSurveys.date <= end_date)]\n",
    "dfSurveys['date'] = pd.to_datetime(dfSurveys['date'], format=\"%Y-%m-%d\")\n",
    "\n",
    "# river bassin labels\n",
    "river_bassins = ut.json_file_get(F\"{location_data}/river_basins.json\")\n",
    "\n",
    "# beach data\n",
    "dfBeaches = pd.read_csv(F\"{location_data}/beaches_with_ranks.csv\")\n",
    "dfBeaches.set_index('slug', inplace=True)\n",
    "\n",
    "# assign river bassin labels to locations:\n",
    "for k,v in river_bassins.items():\n",
    "    dfBeaches.loc[dfBeaches.water_name.isin(v), 'river_bassin'] = k\n",
    "\n",
    "# code definitions\n",
    "dfCodes = pd.read_csv(F\"{code_defs}/mlw_codes.csv\", index_col='code')\n",
    "\n",
    "# dimensional data\n",
    "dfDims = pd.read_csv(F\"{survey_data}/dims_data.csv\")\n",
    "\n",
    "# project lakes and beaches:\n",
    "project_lakes = ut.json_file_get(F\"{location_data}/project_lakes.json\")\n",
    "project_beaches = ut.json_file_get(F\"{location_data}/project_beaches.json\")"
   ]
  },
  {
   "cell_type": "code",
   "execution_count": 4,
   "metadata": {},
   "outputs": [],
   "source": [
    "# make a copy of the survey data and tag the records as either lake or river:\n",
    "data = dfSurveys.copy()\n",
    "\n",
    "# map lake or river from dfBeaches\n",
    "lakes = dfBeaches[dfBeaches.water == 'l'].water_name.unique()\n",
    "rivers = dfBeaches[dfBeaches.water == 'r'].water_name.unique()\n",
    "\n",
    "# map values to new column t:\n",
    "data['type'] = 't'\n",
    "for a_place in data.water_name.unique():\n",
    "    data.loc[data.water_name.isin(lakes), 'type'] = 'l'\n",
    "    data.loc[data.water_name.isin(rivers), 'type'] = 'r'\n",
    "\n",
    "# check if there any un categorized records:\n",
    "if len(data[data['type']=='t']) > 0:\n",
    "    print(F\"\\nThere are {len(data[data['type']=='t'])} records that were not classified as either lake or river:\\n\\n{data[data['type']=='t']}\\n\")\n",
    "else:\n",
    "    pass"
   ]
  },
  {
   "cell_type": "markdown",
   "metadata": {},
   "source": [
    "## <span style=\"color:#008891\">Description of survey results</span>\n",
    "\n",
    "### <span style=\"color:#008891\"> Total number of surveys and observations, total number of objects found, number of cities and total population concerned</span>"
   ]
  },
  {
   "cell_type": "code",
   "execution_count": 5,
   "metadata": {},
   "outputs": [],
   "source": [
    "# put the data into a class\n",
    "a_class_kwargs = dict(\n",
    "    code_group_data=group_names_locations,\n",
    "    new_code_group=frag_plas,\n",
    "    levels=['river_bassin', 'water_name', 'city'],\n",
    "    river_bassins=river_bassins,\n",
    "    exp_variables=['population','buildings', 'streets', 'intersects', 'pop_group_proj', 'pop_group_rip', 'streets_rank', 'buildings_rank'],\n",
    "    code_group_loc=output,\n",
    "    these_cols=these_cols,\n",
    "    foams=foams\n",
    ")\n",
    "a = ac.PreprocessData(data, dfBeaches,**a_class_kwargs)"
   ]
  },
  {
   "cell_type": "code",
   "execution_count": 6,
   "metadata": {},
   "outputs": [],
   "source": [
    "# define the final data set here:\n",
    "a_data = a.survey_data[a.survey_data.river_bassin != 'reuss'].copy()\n",
    "\n",
    "# describe the data set:\n",
    "num_obs = len(a_data)\n",
    "num_samps = len(a_data.loc_date.unique())\n",
    "num_obj = a_data.quantity.sum()\n",
    "num_locs = len(a_data.location.unique())\n",
    "\n",
    "# number of municipalities\n",
    "a_map = dfBeaches['city']\n",
    "munis = [a_map[x] for x in a_data.location.unique()]\n",
    "munis = list(set(munis))\n",
    "num_munis = len(munis)\n",
    "\n",
    "# population\n",
    "total_pop_d = dfBeaches.loc[a_data.location.unique()][['city', 'population']]\n",
    "total_pop_c = total_pop_d.drop_duplicates('city')\n",
    "total_pop = total_pop_c.population.sum()"
   ]
  },
  {
   "cell_type": "code",
   "execution_count": 7,
   "metadata": {},
   "outputs": [
    {
     "name": "stdout",
     "output_type": "stream",
     "text": [
      "There are 76,024 observations from 344 surveys.\n",
      "\n",
      "There were 50,197 objects collected from 120 different locations\n",
      "\n",
      "The survey concerns 67 municipalities with a total population of ~1,575,802\n",
      "\n",
      "This data is valid for surveys surveys between 2020-04-01 and 2021-04-01\n",
      "\n",
      "The municpalities where the surveys were conducted:\n",
      "\n",
      "['Cheyres-Châbles', 'Unterengstringen', 'Biel/Bienne', 'Estavayer', 'Lüscherz', 'Freienbach', 'Schmerikon', 'Küsnacht (ZH)', 'Brügg', 'Gambarogno', 'Bönigen', 'Neuchâtel', 'Brugg', 'Kallnach', 'Riddes', 'Locarno', 'Yverdon-les-Bains', 'Leuk', 'Bern', 'Port', 'Brienz (BE)', 'Zürich', 'Lausanne', 'Saint-Gingolph', 'Thun', 'Allaman', 'Nidau', 'Gals', 'Walenstadt', 'Salgesch', 'Gland', 'Richterswil', 'Spiez', 'Köniz', 'Minusio', 'Montreux', 'Grandson', 'Walperswil', 'Sion', 'Le Landeron', 'Rapperswil-Jona', 'Quarten', 'Beatenberg', 'Tolochenaz', 'Ascona', 'Hauterive (NE)', 'Bellinzona', 'Boudry', 'Saint-Sulpice (VD)', 'Weesen', 'Solothurn', 'Gebenstorf', 'Genève', 'Versoix', 'Cudrefin', 'La Tour-de-Peilz', 'Aarau', 'Unterseen', 'Bourg-en-Lavaux', 'Vevey', 'Ligerz', 'Préverenges', 'Glarus Nord', 'Vinelz', 'Lavey-Morcles', 'Stäfa', 'Luterbach']\n",
      "\n"
     ]
    }
   ],
   "source": [
    "print(F\"There are {'{:,}'.format(num_obs)} observations from {num_samps} surveys.\\n\\nThere were {'{:,}'.format(num_obj)} objects collected from {num_locs} different locations\")\n",
    "print(F\"\\nThe survey concerns {num_munis} municipalities with a total population of ~{'{:,}'.format(total_pop)}\")\n",
    "print(F\"\\nThis data is valid for surveys surveys between {start_date} and {end_date}\")\n",
    "print(F\"\\nThe municpalities where the surveys were conducted:\\n\\n{munis}\\n\")"
   ]
  },
  {
   "cell_type": "markdown",
   "metadata": {},
   "source": [
    "### <span style=\"color:#008891\">Total length, area, weight, weight of plastic objects and field time</span>\n",
    "\n",
    "Dimensional data is kept for all surveys. This includes:\n",
    "\n",
    "1. Length of survey area\n",
    "2. Surface area\n",
    "3. Weight of all objects\n",
    "4. Weight of all plastics\n",
    "5. Weight of all plastics < 5mm\n",
    "6. Time to complete a survey"
   ]
  },
  {
   "cell_type": "code",
   "execution_count": 8,
   "metadata": {},
   "outputs": [
    {
     "name": "stdout",
     "output_type": "stream",
     "text": [
      "\n",
      "The cumulative results: time in the field, meters surveyed, m² surveyed, the total weight removed, the total plastic weight, the number of samples and number of objects found:\n",
      "\n",
      "total_time      1365.02\n",
      "length         17647.00\n",
      "area           86562.35\n",
      "total_w          986.34\n",
      "mac_plast_w       84.11\n",
      "loc_date         343.00\n",
      "n_samples        344.00\n",
      "quantity       50197.00\n",
      "dtype: float64\n",
      "\n",
      "\n",
      "Per river basin: time in the field, meters surveyed, m² surveyed, the total weight removed, the total plastic weight, the number of samples and number of objects found\n",
      "\n",
      "\n"
     ]
    },
    {
     "data": {
      "text/html": [
       "<div>\n",
       "<style scoped>\n",
       "    .dataframe tbody tr th:only-of-type {\n",
       "        vertical-align: middle;\n",
       "    }\n",
       "\n",
       "    .dataframe tbody tr th {\n",
       "        vertical-align: top;\n",
       "    }\n",
       "\n",
       "    .dataframe thead th {\n",
       "        text-align: right;\n",
       "    }\n",
       "</style>\n",
       "<table border=\"1\" class=\"dataframe\">\n",
       "  <thead>\n",
       "    <tr style=\"text-align: right;\">\n",
       "      <th></th>\n",
       "      <th>total_time</th>\n",
       "      <th>quantity</th>\n",
       "      <th>length</th>\n",
       "      <th>area</th>\n",
       "      <th>total_w</th>\n",
       "      <th>mac_plast_w</th>\n",
       "      <th>n_samples</th>\n",
       "    </tr>\n",
       "    <tr>\n",
       "      <th>river_bassin</th>\n",
       "      <th></th>\n",
       "      <th></th>\n",
       "      <th></th>\n",
       "      <th></th>\n",
       "      <th></th>\n",
       "      <th></th>\n",
       "      <th></th>\n",
       "    </tr>\n",
       "  </thead>\n",
       "  <tbody>\n",
       "    <tr>\n",
       "      <th>aare</th>\n",
       "      <td>530.80</td>\n",
       "      <td>12884</td>\n",
       "      <td>7476</td>\n",
       "      <td>34695.80</td>\n",
       "      <td>68.27</td>\n",
       "      <td>28.52</td>\n",
       "      <td>129</td>\n",
       "    </tr>\n",
       "    <tr>\n",
       "      <th>linth</th>\n",
       "      <td>381.15</td>\n",
       "      <td>8796</td>\n",
       "      <td>4980</td>\n",
       "      <td>24239.80</td>\n",
       "      <td>363.64</td>\n",
       "      <td>12.41</td>\n",
       "      <td>99</td>\n",
       "    </tr>\n",
       "    <tr>\n",
       "      <th>rhone</th>\n",
       "      <td>388.49</td>\n",
       "      <td>27087</td>\n",
       "      <td>4136</td>\n",
       "      <td>22638.25</td>\n",
       "      <td>520.66</td>\n",
       "      <td>41.35</td>\n",
       "      <td>99</td>\n",
       "    </tr>\n",
       "    <tr>\n",
       "      <th>ticino</th>\n",
       "      <td>64.58</td>\n",
       "      <td>1430</td>\n",
       "      <td>1055</td>\n",
       "      <td>4988.50</td>\n",
       "      <td>33.77</td>\n",
       "      <td>1.83</td>\n",
       "      <td>17</td>\n",
       "    </tr>\n",
       "  </tbody>\n",
       "</table>\n",
       "</div>"
      ],
      "text/plain": [
       "              total_time  quantity  length      area  total_w  mac_plast_w  \\\n",
       "river_bassin                                                                 \n",
       "aare              530.80     12884    7476  34695.80    68.27        28.52   \n",
       "linth             381.15      8796    4980  24239.80   363.64        12.41   \n",
       "rhone             388.49     27087    4136  22638.25   520.66        41.35   \n",
       "ticino             64.58      1430    1055   4988.50    33.77         1.83   \n",
       "\n",
       "             n_samples  \n",
       "river_bassin            \n",
       "aare               129  \n",
       "linth               99  \n",
       "rhone               99  \n",
       "ticino              17  "
      ]
     },
     "execution_count": 8,
     "metadata": {},
     "output_type": "execute_result"
    }
   ],
   "source": [
    "# gather the dimensional data for the time frame basin\n",
    "som_dims = dfDims[dfDims.date <= end_date].copy()\n",
    "\n",
    "# map the number of samples per water feature or bassin:\n",
    "samples_feature = a_data.groupby('water_name').loc_date.nunique()\n",
    "samples_bassin = a_data.groupby('river_bassin').loc_date.nunique()\n",
    "\n",
    "# map total quantity per river bassin:\n",
    "qty_bassin = a_data.groupby('river_bassin').quantity.sum()\n",
    "\n",
    "# the loc date key needs updating:\n",
    "som_dims['new_loc_date'] = list(zip(som_dims.location, som_dims.date))\n",
    "\n",
    "# add travel and incidental time:\n",
    "som_dims['total_time'] = som_dims.time_minutes+120\n",
    "som_dims['total_time'] = som_dims.total_time/60\n",
    "som_dims['total_time'] = som_dims.total_time.round(2)\n",
    "\n",
    "# map locations to feature names\n",
    "location_wname_key = dfBeaches[['water_name']]\n",
    "\n",
    "# assign a water feature name to each record\n",
    "som_dims['water_name'] = som_dims.location.map(lambda x: location_wname_key.loc[x][0])\n",
    "\n",
    "# assign a river bassin name to each record\n",
    "for k,v in river_bassins.items():\n",
    "    som_dims.loc[som_dims.water_name.isin(v), 'river_bassin'] = k\n",
    "\n",
    "# group by river bassin\n",
    "dims_summary_stats = som_dims.groupby('river_bassin').agg({'total_time':'sum', 'length':'sum', 'area':'sum', 'total_w':'sum', 'mac_plast_w':'sum', 'loc_date':'nunique'})\n",
    "\n",
    "# get the number of samples per river bassin\n",
    "dims_summary_stats['n_samples'] = dims_summary_stats.index.map(lambda x: ut.use_this_key(x, samples_bassin, column='loc_date'))\n",
    "\n",
    "# remove records that have no sample data\n",
    "dims_summary_stats = dims_summary_stats[dims_summary_stats.n_samples != 'no data'].copy()\n",
    "\n",
    "# convert the plastic weights to kilos\n",
    "dims_summary_stats['mac_plast_w'] = dims_summary_stats.mac_plast_w/1000\n",
    "\n",
    "# get the quantity found per river bassin\n",
    "dims_summary_stats['quantity'] = dims_summary_stats.index.map(lambda x: ut.use_this_key(x, qty_bassin))\n",
    "\n",
    "print(F\"\\nThe cumulative results: time in the field, meters surveyed, m² surveyed, the total weight removed, the total plastic weight, the number of samples and number of objects found:\\n\\n{dims_summary_stats.sum().round(2)}\\n\")\n",
    "\n",
    "print(F\"\\nPer river basin: time in the field, meters surveyed, m² surveyed, the total weight removed, the total plastic weight, the number of samples and number of objects found\\n\\n\")\n",
    "\n",
    "dims_summary_stats[['total_time','quantity', 'length', 'area', 'total_w', 'mac_plast_w', 'n_samples']].round(2)"
   ]
  },
  {
   "cell_type": "code",
   "execution_count": 9,
   "metadata": {},
   "outputs": [
    {
     "name": "stdout",
     "output_type": "stream",
     "text": [
      "\n",
      "These are the project beaches:\n",
      "\n",
      "['neuenburgersee_cudrefin_mattera', 'la-petite-plage', 'evole-plage', 'plage-de-cheyres', 'mullermatte', 'bielersee_vinelz_fankhausers', 'baby-plage-geneva', 'baye-de-montreux-g', 'grand-clos', 'preverenges', 'quai-maria-belgia', 'zurichsee_wollishofen_langendorfm', 'zurichsee_kusnachterhorn_thirkell-whitej', 'zuerichsee_richterswil_benkoem_2', 'rastplatz-stampf', 'weissenau-neuhaus', 'thunersee_spiez_meierd_1', 'walensee_walenstadt_wysse', 'gasi-strand', 'vira-gambarogno', 'sentiero-giro-del-golf-spiaggia', 'maladaire']\n",
      "\n",
      "\n",
      "These are the project lakes:\n",
      "\n",
      "['Bielersee', 'Walensee', 'Zurichsee', 'Lac Léman', 'Thunersee', 'Neuenburgersee', 'Lago Maggiore']\n",
      "\n"
     ]
    }
   ],
   "source": [
    "    \n",
    "print(F\"\\nThese are the project beaches:\\n\\n{project_beaches}\\n\")\n",
    "print(F\"\\nThese are the project lakes:\\n\\n{project_lakes}\\n\")"
   ]
  },
  {
   "cell_type": "markdown",
   "metadata": {},
   "source": [
    "#### <span style=\"color:#008891\">Identify dimensional data records that do not have a matching daily survey total or have an extreme weight value and identify survey dates that do not have a dims record:</span>"
   ]
  },
  {
   "cell_type": "code",
   "execution_count": 10,
   "metadata": {},
   "outputs": [
    {
     "name": "stdout",
     "output_type": "stream",
     "text": [
      "\n",
      "These are the dims records that did not get tagged with a quantity:\n",
      "\n",
      "                                     location        date      water_name\n",
      "111                  lacleman_gland_lecoanets  2020-11-27       Lac Léman\n",
      "132                            luscherz-plage  2021-01-26       Bielersee\n",
      "149                               mullermatte  2020-01-26       Bielersee\n",
      "171                          plage-de-cheyres  2020-03-15  Neuenburgersee\n",
      "228          schiffenensee_duedingen_hirschij  2020-07-11   Schiffenensee\n",
      "244                                strandbeiz  2020-03-20       Zurichsee\n",
      "251                  thunersee_spiez_meierd_1  2020-03-08       Thunersee\n",
      "288                 walensee_walenstadt_wysse  2020-03-17        Walensee\n",
      "331  zurichsee_kusnachterhorn_thirkell-whitej  2020-03-20       Zurichsee\n",
      "332  zurichsee_kusnachterhorn_thirkell-whitej  2020-03-20       Zurichsee\n",
      "344         zurichsee_wollishofen_langendorfm  2020-03-11       Zurichsee\n",
      "\n",
      "These are the surveys that do not have dimensional data:\n",
      "\n",
      "[('baby-plage-geneva', '2021-03-10'), ('baby-plage-geneva', '2021-02-10'), ('baby-plage-geneva', '2020-12-16'), ('baby-plage-geneva', '2020-11-18'), ('baby-plage-geneva', '2020-08-18'), ('quai-maria-belgia', '2021-02-28'), ('quai-maria-belgia', '2021-01-31'), ('zuerichsee_richterswil_benkoem_2', '2020-11-21'), ('zurichsee_wollishofen_langendorfm', '2020-11-12'), ('luscherz-plage', '2020-12-26'), ('lacleman_gland_lecoanets', '2020-10-27')]\n",
      "\n"
     ]
    }
   ],
   "source": [
    "# map loc_date to quantity from all surveys        \n",
    "some_q = a.daily_totals_all[['loc_date', 'quantity']].copy()\n",
    "some_q.set_index('loc_date', inplace=True)\n",
    "\n",
    "ldu = a_data.loc_date.unique()\n",
    "ddu = som_dims.new_loc_date.unique()\n",
    "\n",
    "# map quantity per survey to the dims data\n",
    "som_dims['quantity'] = som_dims.new_loc_date.map(lambda x: ut.use_this_key(x,some_q, column='quantity'))\n",
    "print(F\"\\nThese are the dims records that did not get tagged with a quantity:\\n\\n{som_dims[som_dims.quantity == 'no data'][['location', 'date', 'water_name']]}\\n\")\n",
    "print(F\"These are the surveys that do not have dimensional data:\\n\\n{[x for x in list(ldu) if x not in list(ddu)]}\\n\")"
   ]
  },
  {
   "cell_type": "code",
   "execution_count": 11,
   "metadata": {},
   "outputs": [
    {
     "name": "stdout",
     "output_type": "stream",
     "text": [
      "\n",
      "These are the dims records that have a weight greater than 50:\n",
      "\n",
      "              location        date water_name  total_w\n",
      "113  lavey-les-bains-2  2021-02-24      Rhône     80.0\n",
      "137          maladaire  2020-07-29  Lac Léman    147.0\n",
      "162           murg-bad  2020-10-23   Walensee    330.0\n",
      "191        preverenges  2020-09-08  Lac Léman    230.0\n",
      "\n"
     ]
    }
   ],
   "source": [
    "print(F\"\\nThese are the dims records that have a weight greater than 50:\\n\\n{som_dims[som_dims.total_w > 50][['location', 'date', 'water_name', 'total_w']]}\\n\")"
   ]
  },
  {
   "cell_type": "markdown",
   "metadata": {},
   "source": [
    "#### <span style=\"color:#008891\">The time to complete a survey versus the number of objects found</span>"
   ]
  },
  {
   "cell_type": "code",
   "execution_count": 12,
   "metadata": {},
   "outputs": [
    {
     "data": {
      "image/png": "[encoded data removed]",
      "text/plain": [
       "<Figure size 576x432 with 1 Axes>"
      ]
     },
     "metadata": {
      "needs_background": "light"
     },
     "output_type": "display_data"
    }
   ],
   "source": [
    "fig, ax = plt.subplots(figsize=(8,6))\n",
    "sns.scatterplot(data=som_dims[som_dims.quantity != 'no data'], x='total_time', y='quantity', hue='water_name', palette='husl', ax=ax)\n",
    "ax.get_legend().remove()\n",
    "ax.set_xlabel(\"Time in hours to complete the survey\", **xlab_k14 )\n",
    "ax.set_ylabel(\"Number of objects identified\", **xlab_k14)\n",
    "plt.tight_layout()\n",
    "plt.show()"
   ]
  },
  {
   "cell_type": "markdown",
   "metadata": {},
   "source": [
    "#### Hopefully that just worked for you\n",
    "\n",
    "if not contact analyst@hammerdirt.ch"
   ]
  }
 ],
 "metadata": {
  "kernelspec": {
   "display_name": "Python 3",
   "language": "python",
   "name": "python3"
  },
  "language_info": {
   "codemirror_mode": {
    "name": "ipython",
    "version": 3
   },
   "file_extension": ".py",
   "mimetype": "text/x-python",
   "name": "python",
   "nbconvert_exporter": "python",
   "pygments_lexer": "ipython3",
   "version": "3.8.3"
  }
 },
 "nbformat": 4,
 "nbformat_minor": 4
}
