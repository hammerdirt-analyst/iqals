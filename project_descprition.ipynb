{
 "cells": [
  {
   "cell_type": "code",
   "execution_count": 1,
   "metadata": {
    "jupyter": {
     "source_hidden": true
    }
   },
   "outputs": [],
   "source": [
    "# sys, file and nav packages:\n",
    "import os\n",
    "import datetime as dt\n",
    "import csv\n",
    "import json\n",
    "\n",
    "# math packages:\n",
    "import pandas as pd\n",
    "import numpy as np\n",
    "import math\n",
    "\n",
    "# charting:\n",
    "import matplotlib as mpl\n",
    "import matplotlib.pyplot as plt\n",
    "import seaborn as sns\n",
    "\n",
    "# home brew utitilties\n",
    "import utilities.utility_functions as ut\n",
    "import utilities.abundance_classes as ac\n",
    "\n",
    "# chart kwargs\n",
    "title_k = {'loc':'left', 'pad':14, 'linespacing':1.5, 'fontsize':12}\n",
    "title_k14 = {'loc':'left', 'pad':16, 'linespacing':1.5, 'fontsize':14}\n",
    "xlab_k = {'labelpad':10, 'fontsize':12}\n",
    "xlab_k14 = {'labelpad':14, 'fontsize':14}\n",
    "\n",
    "# easy variables to the directory tree\n",
    "survey_data, location_data, code_defs, stat_ent, geo_data, output = ut.make_local_paths()"
   ]
  },
  {
   "cell_type": "code",
   "execution_count": 2,
   "metadata": {
    "jupyter": {
     "source_hidden": true
    }
   },
   "outputs": [
    {
     "name": "stdout",
     "output_type": "stream",
     "text": [
      "\n",
      "This is the output directory for this notebook:\n",
      "\n",
      "   output/projectdescription\n",
      "\n",
      "It can be called by typing 'project_directory'\n",
      "\n"
     ]
    }
   ],
   "source": [
    "# set some parameters:\n",
    "start_date = '2020-04-01'\n",
    "end_date ='2021-04-01'\n",
    "\n",
    "today = dt.datetime.now().date().strftime(\"%Y-%m-%d\")\n",
    "\n",
    "\n",
    "# name the folder:\n",
    "name_of_project = 'projectdescription'\n",
    "\n",
    "# use this to store things:\n",
    "project_directory = ut.make_project_folder(output, name_of_project)\n",
    "\n",
    "# keep track of output\n",
    "files_generated = []\n",
    "figure_num = 0\n",
    "data_num = 0\n",
    "\n",
    "# kwargs for the abundance class\n",
    "group_names_locations = {\n",
    "    \"waste water\": \"wastewater.json\" ,\n",
    "    \"less than 5mm\":\"codeListMicros.json\",\n",
    "    \"construction\":\"construction.json\",\n",
    "    \"food\":\"foodstuff.json\",\n",
    "    \"agg-con-trans\":\"cat.json\",\n",
    "    \"agriculture\":\"ag.json\",\n",
    "    \"tobacco\":\"tobac.json\",\n",
    "    \"recreation\":\"recreation.json\",    \n",
    "    \"packaging non food\":\"packaging.json\",\n",
    "    \"personal items\":\"pi.json\",    \n",
    "}\n",
    "\n",
    "frag_plas = {\"fragmented plastics\":[\"G79\", \"G78\", \"G75\"]}\n",
    "\n",
    "# convenience method to organize output\n",
    "def add_output(**kwargs):\n",
    "    files_generated.append({'tag':kwargs['tag'], 'number':kwargs['figure_num'], 'file':kwargs['file'],'type':kwargs['a_type']})\n",
    "    if kwargs['a_type'] == 'data':\n",
    "        kwargs['data'].to_csv(F\"{kwargs['file']}.csv\", index=False)\n",
    "    else:\n",
    "        plt.savefig(F\"{kwargs['file']}.jpeg\", dpi=300)\n",
    "        \n",
    "\n",
    "print(F\"\\nThis is the output directory for this notebook:\\n\\n   {project_directory}\\n\\nIt can be called by typing 'project_directory'\\n\")"
   ]
  },
  {
   "cell_type": "code",
   "execution_count": 3,
   "metadata": {
    "jupyter": {
     "source_hidden": true
    }
   },
   "outputs": [],
   "source": [
    "# non aggregated survey data\n",
    "# Zero values are assigned for all codes not identified at a survey, for each survey\n",
    "dfSurveys = pd.read_csv(F\"{survey_data}/results_with_zeroes.csv\")\n",
    "\n",
    "# house keeping\n",
    "dfSurveys = dfSurveys[(dfSurveys.date >= start_date)&(dfSurveys.date <= end_date)]\n",
    "dfSurveys['date'] = pd.to_datetime(dfSurveys['date'], format=\"%Y-%m-%d\")\n",
    "\n",
    "# river bassin labels\n",
    "river_bassins = ut.json_file_get(F\"{location_data}/river_basins.json\")\n",
    "\n",
    "# beach data\n",
    "dfBeaches = pd.read_csv(F\"{location_data}/beaches_with_ranks.csv\")\n",
    "dfBeaches.set_index('slug', inplace=True)\n",
    "\n",
    "# assign river bassin labels to locations:\n",
    "for k,v in river_bassins.items():\n",
    "    dfBeaches.loc[dfBeaches.water_name.isin(v), 'river_bassin'] = k\n",
    "\n",
    "# code definitions\n",
    "dfCodes = pd.read_csv(F\"{code_defs}/mlw_codes.csv\", index_col='code')\n",
    "\n",
    "# dimensional data\n",
    "dfDims = pd.read_csv(F\"{survey_data}/dims_data.csv\")\n",
    "# the loc date key needs updating:\n",
    "dfDims['loc_date'] = list(zip(dfDims.location, dfDims.date))\n",
    "\n",
    "# project lakes and beaches:\n",
    "project_lakes = ut.json_file_get(F\"{location_data}/project_lakes.json\")\n",
    "project_beaches = ut.json_file_get(F\"{location_data}/project_beaches.json\")"
   ]
  },
  {
   "cell_type": "code",
   "execution_count": 4,
   "metadata": {
    "jupyter": {
     "source_hidden": true
    }
   },
   "outputs": [],
   "source": [
    "# make a copy of the survey data and tag the records as either lake or river:\n",
    "data = dfSurveys.copy()\n",
    "\n",
    "# map lake or river from dfBeaches\n",
    "lakes = dfBeaches[dfBeaches.water == 'l'].water_name.unique()\n",
    "rivers = dfBeaches[dfBeaches.water == 'r'].water_name.unique()\n",
    "\n",
    "# map values to new column t:\n",
    "data['type'] = 't'\n",
    "for a_place in data.water_name.unique():\n",
    "    data.loc[data.water_name.isin(lakes), 'type'] = 'l'\n",
    "    data.loc[data.water_name.isin(rivers), 'type'] = 'r'\n",
    "\n",
    "# check if there any un categorized records:\n",
    "if len(data[data['type']=='t']) > 0:\n",
    "    print(F\"\\nThere are {len(data[data['type']=='t'])} records that were not classified as either lake or river:\\n\\n{data[data['type']=='t']}\\n\")\n",
    "else:\n",
    "    pass"
   ]
  },
  {
   "cell_type": "markdown",
   "metadata": {},
   "source": [
    "## <span style=\"color:#008891\">Description of survey results: temporal, geopgraphic and administrative scope</span>"
   ]
  },
  {
   "cell_type": "code",
   "execution_count": 5,
   "metadata": {
    "jupyter": {
     "source_hidden": true
    }
   },
   "outputs": [],
   "source": [
    "# put the data into a class\n",
    "a_class_kwargs = dict(\n",
    "    code_group_data=group_names_locations,\n",
    "    new_code_group=frag_plas,\n",
    "    levels=['river_bassin', 'water_name', 'city'],\n",
    "    river_bassins=river_bassins,\n",
    "    exp_variables=['population','buildings', 'streets', 'intersects', 'pop_group_proj', 'pop_group_rip', 'streets_rank', 'buildings_rank'],\n",
    "    code_group_loc=output,\n",
    ")\n",
    "a = ac.PreprocessData(data, dfBeaches,**a_class_kwargs)\n",
    "# define the final data set here:\n",
    "a_data = a.survey_data[a.survey_data.river_bassin != 'reuss'].copy()\n",
    "\n",
    "# describe the data set:\n",
    "num_obs = len(a_data)\n",
    "num_samps = len(a_data.loc_date.unique())\n",
    "num_obj = a_data.quantity.sum()\n",
    "num_locs = len(a_data.location.unique())\n",
    "num_rivs = a_data[a_data['type']=='r'].water_name.nunique()\n",
    "num_lakes = a_data[a_data['type'] == 'l'].water_name.nunique()\n",
    "\n",
    "# number of municipalities\n",
    "a_map = dfBeaches['city']\n",
    "munis = [a_map[x] for x in a_data.location.unique()]\n",
    "munis = list(set(munis))\n",
    "num_munis = len(munis)\n",
    "\n",
    "# population\n",
    "total_pop_d = dfBeaches.loc[a_data.location.unique()][['city', 'population']]\n",
    "total_pop_c = total_pop_d.drop_duplicates('city')\n",
    "total_pop = total_pop_c.population.sum()"
   ]
  },
  {
   "cell_type": "markdown",
   "metadata": {},
   "source": [
    "### <span style=\"color:#008891\"> Effective dates, river bassins, number of obervations, number of surveys and number of objects</span>"
   ]
  },
  {
   "cell_type": "code",
   "execution_count": 6,
   "metadata": {
    "jupyter": {
     "source_hidden": true
    }
   },
   "outputs": [
    {
     "name": "stdout",
     "output_type": "stream",
     "text": [
      "\n",
      "This data is valid for surveys surveys between 2020-04-01 and 2021-04-01 from the following catchment areas:\n",
      "\n",
      "  ['rhone' 'aare' 'linth' 'ticino']\n",
      "\n",
      "There are 76,024 observations from 344 surveys.\n",
      "\n",
      "There were 50,197 objects collected.\n"
     ]
    }
   ],
   "source": [
    "print(F\"\\nThis data is valid for surveys surveys between {start_date} and {end_date} from the following catchment areas:\\n\\n  {a_data.river_bassin.unique()}\")\n",
    "\n",
    "print(F\"\\nThere are {'{:,}'.format(num_obs)} observations from {num_samps} surveys.\\n\\nThere were {'{:,}'.format(num_obj)} objects collected.\")"
   ]
  },
  {
   "cell_type": "code",
   "execution_count": null,
   "metadata": {
    "jupyter": {
     "source_hidden": true
    }
   },
   "outputs": [],
   "source": []
  },
  {
   "cell_type": "code",
   "execution_count": 7,
   "metadata": {
    "jupyter": {
     "source_hidden": true
    }
   },
   "outputs": [
    {
     "name": "stdout",
     "output_type": "stream",
     "text": [
      "\n",
      "There are 120 different survey locations from 67 municipalities with a total population of ~1,575,802\n",
      "\n",
      "There are samples from 8 different lakes and 14 different rivers.\n",
      "\n",
      "\n",
      "The lakes where the surveys were conducted:\n",
      "\n",
      "['Lac Léman' 'Thunersee' 'Neuenburgersee' 'Bielersee' 'Walensee'\n",
      " 'Zurichsee' 'Lago Maggiore' 'Brienzersee']\n",
      "\n",
      "\n",
      "The rivers where the surveys were conducted:\n",
      "\n",
      "['Limmat' 'Sihl' 'Ticino' 'Aare' 'Rhône' 'Schüss' 'Jona' 'Linthkanal'\n",
      " 'Maggia' 'La Thièle' 'Aare|Nidau-Büren-Kanal' 'Dorfbach' 'Escherkanal'\n",
      " 'Seez']\n",
      "\n",
      "\n",
      "The municpalities where the surveys were conducted:\n",
      "\n",
      "['Grandson', 'Glarus Nord', 'Aarau', 'Quarten', 'Montreux', 'Brienz (BE)', 'Unterengstringen', 'Bern', 'Préverenges', 'Biel/Bienne', 'Freienbach', 'Locarno', 'Sion', 'Genève', 'Walperswil', 'Neuchâtel', 'Rapperswil-Jona', 'Gambarogno', 'Lausanne', 'Saint-Sulpice (VD)', 'Saint-Gingolph', 'Minusio', 'Zürich', 'Kallnach', 'Küsnacht (ZH)', 'Gebenstorf', 'Spiez', 'Cudrefin', 'Vevey', 'Solothurn', 'Le Landeron', 'Bourg-en-Lavaux', 'Leuk', 'Beatenberg', 'Brugg', 'Thun', 'Salgesch', 'Ligerz', 'Bönigen', 'Köniz', 'Nidau', 'Hauterive (NE)', 'Cheyres-Châbles', 'La Tour-de-Peilz', 'Schmerikon', 'Bellinzona', 'Gland', 'Brügg', 'Estavayer', 'Lüscherz', 'Yverdon-les-Bains', 'Gals', 'Ascona', 'Richterswil', 'Versoix', 'Lavey-Morcles', 'Luterbach', 'Weesen', 'Boudry', 'Port', 'Walenstadt', 'Unterseen', 'Riddes', 'Tolochenaz', 'Vinelz', 'Stäfa', 'Allaman']\n",
      "\n"
     ]
    }
   ],
   "source": [
    "\n",
    "print(F\"\\nThere are {num_locs} different survey locations from {num_munis} municipalities with a total population of ~{'{:,}'.format(total_pop)}\")\n",
    "print(F\"\\nThere are samples from {num_lakes} different lakes and {num_rivs} different rivers.\\n\")\n",
    "\n",
    "print(F\"\\nThe lakes where the surveys were conducted:\\n\\n{a_data[a_data['type'] == 'l'].water_name.unique()}\\n\")\n",
    "\n",
    "print(F\"\\nThe rivers where the surveys were conducted:\\n\\n{a_data[a_data['type'] == 'r'].water_name.unique()}\\n\")\n",
    "\n",
    "print(F\"\\nThe municpalities where the surveys were conducted:\\n\\n{munis}\\n\")"
   ]
  },
  {
   "cell_type": "markdown",
   "metadata": {},
   "source": [
    "## <span style=\"color:#008891\">The dimensional data summary</span>\n",
    "\n",
    "### <span style=\"color:#008891\"> Match the dimensional records to the survey records</span>\n",
    "\n",
    "#### There are two components to the survey:\n",
    "\n",
    "1. The objects that are found\n",
    "2. The context in which they were found -- dimensional data\n",
    "\n",
    "These two elements are transmitted seperately when the surveyor submits the data. The main reason for this is efficiency and speed. The context for each survey is unique and each survey can generate up to 220 observations in the same context.\n",
    "\n",
    "Before analysis the dimensional data records need to be matched up to the survey data. The *loc_date* key is the unique indentifier for each survey. Here we match up the loc_date keys from both data sets.\n",
    "\n",
    "Dimensional data with no matching survey is dropped. An inquiry is made to the surveyor to identify the nature of the discrepancy\n",
    "\n",
    "Missing dimensional data can be recuperated by asking the surveyor. There are paper records generated at each survey.\n",
    "\n",
    "Records are dropped from the server or ammended once the surveyor has replied to the inquiry."
   ]
  },
  {
   "cell_type": "code",
   "execution_count": 8,
   "metadata": {},
   "outputs": [
    {
     "name": "stdout",
     "output_type": "stream",
     "text": [
      "\n",
      "These are the dimensional records that do not have a matching survey in the survey data:\n",
      "\n",
      "Empty DataFrame\n",
      "Columns: [location, date]\n",
      "Index: []\n",
      "\n",
      "All dimensional records found a home in the survey data!\n",
      "\n",
      "These are the surveys that do not have a matching survey in the dimensional data:\n",
      "\n",
      "[('baby-plage-geneva', '2021-03-10'), ('baby-plage-geneva', '2021-02-10'), ('baby-plage-geneva', '2020-12-16'), ('baby-plage-geneva', '2020-11-18'), ('baby-plage-geneva', '2020-08-18'), ('quai-maria-belgia', '2021-02-28'), ('quai-maria-belgia', '2021-01-31'), ('zuerichsee_richterswil_benkoem_2', '2020-11-21'), ('zurichsee_wollishofen_langendorfm', '2020-11-12'), ('luscherz-plage', '2020-12-26'), ('lacleman_gland_lecoanets', '2020-10-27')]\n",
      "\n",
      "\n",
      "The dimensional data for the surveys with no matching dimensional records are not included in the survey dimensions summary.\n",
      "\n",
      "!In other terms THE DIMENSIONAL DATA IS CALCULATED USING 96.8% of the dimensional data.\n",
      "\n",
      "Requests have been made to surveyors to submit the missing reocrds. The dimensional data is initially recorded in the surveyors notebook.\n",
      "\n"
     ]
    }
   ],
   "source": [
    "# gather the dimensional data for the time frame\n",
    "som_dims = dfDims[(dfDims.date >= start_date)&(dfDims.date <= end_date)].copy()\n",
    "\n",
    "# map survey total to loc date from the survey data\n",
    "some_q = a.daily_totals_all[['loc_date', 'quantity']].set_index('loc_date')\n",
    "\n",
    "# use only data from the surveys in a_data:\n",
    "som_dims = som_dims[som_dims.loc_date.isin(a_data.loc_date.unique())].copy()\n",
    "\n",
    "# keep the dims that don't match\n",
    "no_matching_locdate = som_dims[~som_dims.loc_date.isin(a_data.loc_date.unique())]\n",
    "\n",
    "# get a list of unique loc_date values from each set\n",
    "ldu = a_data.loc_date.unique()\n",
    "ddu = som_dims.loc_date.unique()\n",
    "\n",
    "# identify the surveys with no matching dimensional data\n",
    "no_dim_locdate = [x for x in list(ldu) if x not in list(ddu)]\n",
    "\n",
    "# map quantity per survey to the dims data\n",
    "som_dims['quantity'] = som_dims.loc_date.map(lambda x: ut.use_this_key(x,some_q, column='quantity'))\n",
    "\n",
    "# keep the dims that did not tagged with a qty\n",
    "no_qty = som_dims[som_dims.quantity == 'no data'][['location', 'date']].copy()\n",
    "\n",
    "# drop the dims that did not match\n",
    "som_dims = som_dims[som_dims.quantity != 'no data'].copy()\n",
    "\n",
    "# map locations to feature names\n",
    "location_wname_key = dfBeaches.water_name\n",
    "\n",
    "# assign a water feature name to each record\n",
    "som_dims['water_name'] = som_dims.location.map(lambda x: location_wname_key.loc[x])\n",
    "\n",
    "# assign a river bassin name to each record\n",
    "for k,v in river_bassins.items():\n",
    "    som_dims.loc[som_dims.water_name.isin(v), 'river_bassin'] = k\n",
    "\n",
    "# map the number of samples per water feature or bassin:\n",
    "samples_feature = a_data.groupby('water_name').loc_date.nunique()\n",
    "samples_bassin = a_data.groupby('river_bassin').loc_date.nunique()\n",
    "\n",
    "# map total quantity per river bassin:\n",
    "qty_bassin = a_data.groupby('river_bassin').quantity.sum()\n",
    "qty_feature = a_data.groupby('water_name').quantity.sum()\n",
    "\n",
    "# 120 minutes covers the travel, equipment preparation and maintenance and incidental time on location:\n",
    "som_dims['total_time'] = som_dims.time_minutes+120\n",
    "som_dims['total_time'] = som_dims.total_time/60\n",
    "som_dims['total_time'] = som_dims.total_time.round(2)\n",
    "\n",
    "\n",
    "print(F\"\\nThese are the dimensional records that do not have a matching survey in the survey data:\\n\\n{no_qty}\\n\")\n",
    "if len(no_qty) > 0:\n",
    "    print(F\"\\nThe dims records with no matching survey records have been dropped.\\n\")\n",
    "else:\n",
    "    print(\"All dimensional records found a home in the survey data!\")\n",
    "    \n",
    "print(F\"\\nThese are the surveys that do not have a matching survey in the dimensional data:\\n\\n{no_dim_locdate}\\n\")\n",
    "\n",
    "if len(no_dim_locdate) > 0:\n",
    "    print(F\"\\nThe dimensional data for the surveys with no matching dimensional records are not included in the survey dimensions summary.\")\n",
    "    print(F\"\\n!In other terms THE DIMENSIONAL DATA IS CALCULATED USING {np.round(((1-len(no_dim_locdate)/len(ldu))*100),1)}% of the dimensional data.\")\n",
    "    print(\"\\nRequests have been made to surveyors to submit the missing reocrds. The dimensional data is initially recorded in the surveyors notebook.\\n\")\n",
    "else:\n",
    "    print(\"\\nAll the surveys found a home in the dimensional data\")"
   ]
  },
  {
   "cell_type": "markdown",
   "metadata": {},
   "source": [
    "### <span style=\"color:#008891\">Records that are kept</span>\n",
    "\n",
    "The following information is recorded at each survey:\n",
    "\n",
    "1. Length of survey area\n",
    "2. Surface area\n",
    "3. Weight of all objects\n",
    "4. Weight of all plastics\n",
    "5. Weight of all plastics < 5mm\n",
    "6. Time to complete a survey\n",
    "7. Number of participants\n",
    "8. Participating groups"
   ]
  },
  {
   "cell_type": "code",
   "execution_count": 9,
   "metadata": {},
   "outputs": [],
   "source": [
    "\n",
    "\n",
    "new_cols = {\n",
    "    'total_time':'time to survey',\n",
    "    'length':'meters surveyed',\n",
    "    'area':'m² surveyed',\n",
    "    'total_w':'total weight',\n",
    "    'mac_plast_w':'plastic > 5mm weight',\n",
    "    'mic_plas_w':'plastic < 5mm weight',\n",
    "    'num_parts_staff':'staff',\n",
    "    'num_parts_other':'help',\n",
    "    'participants':'groups'\n",
    "}\n",
    "\n",
    "som_dims.rename(columns=new_cols, inplace=True)"
   ]
  },
  {
   "cell_type": "code",
   "execution_count": 10,
   "metadata": {},
   "outputs": [
    {
     "name": "stdout",
     "output_type": "stream",
     "text": [
      "\n",
      "The cumulative results from 333 samples, weights are in kilograms\n",
      "\n"
     ]
    },
    {
     "data": {
      "text/html": [
       "<div>\n",
       "<style scoped>\n",
       "    .dataframe tbody tr th:only-of-type {\n",
       "        vertical-align: middle;\n",
       "    }\n",
       "\n",
       "    .dataframe tbody tr th {\n",
       "        vertical-align: top;\n",
       "    }\n",
       "\n",
       "    .dataframe thead th {\n",
       "        text-align: right;\n",
       "    }\n",
       "</style>\n",
       "<table border=\"1\" class=\"dataframe\">\n",
       "  <thead>\n",
       "    <tr style=\"text-align: right;\">\n",
       "      <th>index</th>\n",
       "      <th># samples</th>\n",
       "      <th>meters surveyed</th>\n",
       "      <th>m² surveyed</th>\n",
       "      <th>total weight</th>\n",
       "      <th>plastic &gt; 5mm weight</th>\n",
       "      <th>plastic &lt; 5mm weight</th>\n",
       "      <th>quantity</th>\n",
       "      <th>time to survey</th>\n",
       "      <th>help</th>\n",
       "      <th>staff</th>\n",
       "    </tr>\n",
       "    <tr>\n",
       "      <th>summary total</th>\n",
       "      <th></th>\n",
       "      <th></th>\n",
       "      <th></th>\n",
       "      <th></th>\n",
       "      <th></th>\n",
       "      <th></th>\n",
       "      <th></th>\n",
       "      <th></th>\n",
       "      <th></th>\n",
       "      <th></th>\n",
       "    </tr>\n",
       "  </thead>\n",
       "  <tbody>\n",
       "    <tr>\n",
       "      <th>summary total</th>\n",
       "      <td>333</td>\n",
       "      <td>17125</td>\n",
       "      <td>84388</td>\n",
       "      <td>978</td>\n",
       "      <td>82</td>\n",
       "      <td>0.43</td>\n",
       "      <td>50197</td>\n",
       "      <td>1317</td>\n",
       "      <td>117</td>\n",
       "      <td>341</td>\n",
       "    </tr>\n",
       "  </tbody>\n",
       "</table>\n",
       "</div>"
      ],
      "text/plain": [
       "index          # samples  meters surveyed  m² surveyed  total weight  \\\n",
       "summary total                                                          \n",
       "summary total        333            17125        84388           978   \n",
       "\n",
       "index          plastic > 5mm weight  plastic < 5mm weight  quantity  \\\n",
       "summary total                                                         \n",
       "summary total                    82                  0.43     50197   \n",
       "\n",
       "index          time to survey  help  staff  \n",
       "summary total                               \n",
       "summary total            1317   117    341  "
      ]
     },
     "execution_count": 10,
     "metadata": {},
     "output_type": "execute_result"
    }
   ],
   "source": [
    "# group by river bassin\n",
    "agg_this = {\n",
    "    'time to survey':'sum',\n",
    "    'meters surveyed':'sum',\n",
    "    'm² surveyed':'sum',\n",
    "    'total weight':'sum',\n",
    "    'plastic > 5mm weight':'sum',\n",
    "    'plastic < 5mm weight':'sum',\n",
    "    'staff':'sum',\n",
    "    'help':'sum',\n",
    "    'loc_date':'nunique'}\n",
    "dims_summary_stats = som_dims.groupby('river_bassin').agg(agg_this)\n",
    "dims_summary_stats.rename(columns={'loc_date':'# samples'}, inplace=True)\n",
    "\n",
    "# convert the plastic weights to kilos\n",
    "dims_summary_stats['plastic > 5mm weight'] = dims_summary_stats['plastic > 5mm weight']/1000\n",
    "dims_summary_stats['plastic < 5mm weight'] = dims_summary_stats['plastic < 5mm weight']/1000\n",
    "\n",
    "# get the quantity found per river bassin\n",
    "dims_summary_stats['quantity'] = dims_summary_stats.index.map(lambda x: ut.use_this_key(x, qty_bassin))\n",
    "\n",
    "som_cols = [\n",
    "    'time to survey',\n",
    "    'meters surveyed',\n",
    "    'm² surveyed',\n",
    "    'total weight',\n",
    "    'plastic > 5mm weight',\n",
    "    'staff', 'help',\n",
    "    '# samples',\n",
    "    'quantity'\n",
    "]\n",
    "def make_series_an_int(x):\n",
    "    return x.astype('int')\n",
    "col_order = ['# samples',  'meters surveyed', 'm² surveyed', 'total weight', 'plastic > 5mm weight','plastic < 5mm weight', 'quantity', 'time to survey', 'help', 'staff']\n",
    "\n",
    "dims_summary_stats[som_cols] = dims_summary_stats[som_cols].apply(lambda x: x.astype('int'))\n",
    "dims_summary_stats = dims_summary_stats[col_order]\n",
    "asum = pd.DataFrame(dims_summary_stats.sum()).round(2)\n",
    "asum.reset_index(inplace=True)\n",
    "asum['summary total'] = 'summary total'\n",
    "asum['# samples'] = len(som_dims)\n",
    "asum = asum.pivot(columns='index', values=0, index='summary total')\n",
    "asum[som_cols] = asum[som_cols].apply(lambda x: x.astype('int'))\n",
    "asum = asum[col_order]\n",
    "\n",
    "print(F\"\\nThe cumulative results from {len(som_dims.loc_date.unique())} samples, weights are in kilograms\\n\")\n",
    "asum"
   ]
  },
  {
   "cell_type": "code",
   "execution_count": 11,
   "metadata": {
    "jupyter": {
     "source_hidden": true
    }
   },
   "outputs": [
    {
     "name": "stdout",
     "output_type": "stream",
     "text": [
      "\n",
      "The cumulative results for each river basin, weights are in kilograms\n",
      "\n"
     ]
    },
    {
     "data": {
      "text/html": [
       "<div>\n",
       "<style scoped>\n",
       "    .dataframe tbody tr th:only-of-type {\n",
       "        vertical-align: middle;\n",
       "    }\n",
       "\n",
       "    .dataframe tbody tr th {\n",
       "        vertical-align: top;\n",
       "    }\n",
       "\n",
       "    .dataframe thead th {\n",
       "        text-align: right;\n",
       "    }\n",
       "</style>\n",
       "<table border=\"1\" class=\"dataframe\">\n",
       "  <thead>\n",
       "    <tr style=\"text-align: right;\">\n",
       "      <th></th>\n",
       "      <th># samples</th>\n",
       "      <th>meters surveyed</th>\n",
       "      <th>m² surveyed</th>\n",
       "      <th>total weight</th>\n",
       "      <th>plastic &gt; 5mm weight</th>\n",
       "      <th>plastic &lt; 5mm weight</th>\n",
       "      <th>quantity</th>\n",
       "      <th>time to survey</th>\n",
       "      <th>help</th>\n",
       "      <th>staff</th>\n",
       "    </tr>\n",
       "    <tr>\n",
       "      <th>river_bassin</th>\n",
       "      <th></th>\n",
       "      <th></th>\n",
       "      <th></th>\n",
       "      <th></th>\n",
       "      <th></th>\n",
       "      <th></th>\n",
       "      <th></th>\n",
       "      <th></th>\n",
       "      <th></th>\n",
       "      <th></th>\n",
       "    </tr>\n",
       "  </thead>\n",
       "  <tbody>\n",
       "    <tr>\n",
       "      <th>aare</th>\n",
       "      <td>128</td>\n",
       "      <td>7220</td>\n",
       "      <td>33912</td>\n",
       "      <td>64</td>\n",
       "      <td>28</td>\n",
       "      <td>0.377277</td>\n",
       "      <td>12884</td>\n",
       "      <td>511</td>\n",
       "      <td>5</td>\n",
       "      <td>130</td>\n",
       "    </tr>\n",
       "    <tr>\n",
       "      <th>linth</th>\n",
       "      <td>97</td>\n",
       "      <td>4755</td>\n",
       "      <td>23055</td>\n",
       "      <td>361</td>\n",
       "      <td>12</td>\n",
       "      <td>0.004179</td>\n",
       "      <td>8796</td>\n",
       "      <td>357</td>\n",
       "      <td>7</td>\n",
       "      <td>97</td>\n",
       "    </tr>\n",
       "    <tr>\n",
       "      <th>rhone</th>\n",
       "      <td>91</td>\n",
       "      <td>4095</td>\n",
       "      <td>22433</td>\n",
       "      <td>520</td>\n",
       "      <td>41</td>\n",
       "      <td>0.047683</td>\n",
       "      <td>27087</td>\n",
       "      <td>385</td>\n",
       "      <td>105</td>\n",
       "      <td>97</td>\n",
       "    </tr>\n",
       "    <tr>\n",
       "      <th>ticino</th>\n",
       "      <td>17</td>\n",
       "      <td>1055</td>\n",
       "      <td>4988</td>\n",
       "      <td>33</td>\n",
       "      <td>1</td>\n",
       "      <td>0.000249</td>\n",
       "      <td>1430</td>\n",
       "      <td>64</td>\n",
       "      <td>0</td>\n",
       "      <td>17</td>\n",
       "    </tr>\n",
       "  </tbody>\n",
       "</table>\n",
       "</div>"
      ],
      "text/plain": [
       "              # samples  meters surveyed  m² surveyed  total weight  \\\n",
       "river_bassin                                                          \n",
       "aare                128             7220        33912            64   \n",
       "linth                97             4755        23055           361   \n",
       "rhone                91             4095        22433           520   \n",
       "ticino               17             1055         4988            33   \n",
       "\n",
       "              plastic > 5mm weight  plastic < 5mm weight  quantity  \\\n",
       "river_bassin                                                         \n",
       "aare                            28              0.377277     12884   \n",
       "linth                           12              0.004179      8796   \n",
       "rhone                           41              0.047683     27087   \n",
       "ticino                           1              0.000249      1430   \n",
       "\n",
       "              time to survey  help  staff  \n",
       "river_bassin                               \n",
       "aare                     511     5    130  \n",
       "linth                    357     7     97  \n",
       "rhone                    385   105     97  \n",
       "ticino                    64     0     17  "
      ]
     },
     "execution_count": 11,
     "metadata": {},
     "output_type": "execute_result"
    }
   ],
   "source": [
    "print(\"\\nThe cumulative results for each river basin, weights are in kilograms\\n\")\n",
    "dims_summary_stats"
   ]
  },
  {
   "cell_type": "code",
   "execution_count": 12,
   "metadata": {},
   "outputs": [
    {
     "data": {
      "text/plain": [
       "0      0.075\n",
       "1      0.155\n",
       "2      0.001\n",
       "3      3.800\n",
       "4      0.100\n",
       "       ...  \n",
       "350    0.200\n",
       "351    0.070\n",
       "352    0.080\n",
       "353    0.030\n",
       "354    0.079\n",
       "Name: plastic > 5mm weight, Length: 333, dtype: float64"
      ]
     },
     "execution_count": 12,
     "metadata": {},
     "output_type": "execute_result"
    }
   ],
   "source": [
    "som_dims['plastic > 5mm weight']/1000"
   ]
  },
  {
   "cell_type": "markdown",
   "metadata": {},
   "source": [
    "#### <span style=\"color:#008891\">The time to complete a survey versus the number of objects found</span>"
   ]
  },
  {
   "cell_type": "code",
   "execution_count": 13,
   "metadata": {},
   "outputs": [
    {
     "data": {
      "image/png": "[encoded data removed]",
      "text/plain": [
       "<Figure size 1152x864 with 4 Axes>"
      ]
     },
     "metadata": {
      "needs_background": "light"
     },
     "output_type": "display_data"
    }
   ],
   "source": [
    "fig, axs = plt.subplots(2,2,figsize=(16,12), sharex=False, sharey=True)\n",
    "sns.scatterplot(data=som_dims, x='time to survey', y='quantity', hue='river_bassin', palette='husl', ax=axs[0,0])\n",
    "axs[0,0].get_legend().remove()\n",
    "axs[0,0].set_xlabel(\"Time in hours to complete the survey\", **xlab_k14 )\n",
    "axs[0,0].set_ylabel(\"Number of objects identified\", **xlab_k14)\n",
    "\n",
    "sns.scatterplot(data=som_dims[som_dims['total weight'] < 50], x='total weight', y='quantity', hue='river_bassin', palette='husl', ax=axs[0,1])\n",
    "axs[0,1].get_legend().remove()\n",
    "axs[0,1].set_xlabel(\"Weight in kilograms\", **xlab_k14 )\n",
    "axs[0,1].set_ylabel(\"Number of objects identified\", **xlab_k14)\n",
    "\n",
    "sns.scatterplot(data=som_dims[som_dims['total weight'] < 50], x=som_dims[som_dims['total weight'] < 50]['plastic > 5mm weight']/1000, y='quantity', hue='river_bassin', palette='husl', ax=axs[1,0])\n",
    "axs[1,0].get_legend().remove()\n",
    "axs[1,0].set_xlabel(\"Kilograms of plastic removed\", **xlab_k14 )\n",
    "axs[1,0].set_ylabel(\"Number of objects identified\", **xlab_k14)\n",
    "\n",
    "sns.scatterplot(data=som_dims, x='meters surveyed', y='quantity', hue='river_bassin', palette='husl', ax=axs[1,1])\n",
    "axs[1,1].get_legend().remove()\n",
    "axs[1,1].set_xlabel(\"Length of shoreline\", **xlab_k14 )\n",
    "axs[1,1].set_ylabel(\"Number of objects identified\", **xlab_k14)\n",
    "\n",
    "\n",
    "\n",
    "plt.tight_layout()\n",
    "plt.show()"
   ]
  },
  {
   "cell_type": "markdown",
   "metadata": {},
   "source": [
    "#### Hopefully that just worked for you\n",
    "\n",
    "if not contact analyst@hammerdirt.ch"
   ]
  }
 ],
 "metadata": {
  "kernelspec": {
   "display_name": "Python 3",
   "language": "python",
   "name": "python3"
  },
  "language_info": {
   "codemirror_mode": {
    "name": "ipython",
    "version": 3
   },
   "file_extension": ".py",
   "mimetype": "text/x-python",
   "name": "python",
   "nbconvert_exporter": "python",
   "pygments_lexer": "ipython3",
   "version": "3.8.3"
  }
 },
 "nbformat": 4,
 "nbformat_minor": 4
}
