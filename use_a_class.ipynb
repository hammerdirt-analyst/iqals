{
 "cells": [
  {
   "cell_type": "code",
   "execution_count": 1,
   "metadata": {},
   "outputs": [],
   "source": [
    "# sys, file and nav packages:\n",
    "import os\n",
    "import datetime as dt\n",
    "import csv\n",
    "\n",
    "# math packages:\n",
    "import pandas as pd\n",
    "import numpy as np\n",
    "from scipy import stats\n",
    "from scipy.stats import binom\n",
    "import datetime as dt \n",
    "from statsmodels.distributions.empirical_distribution import ECDF\n",
    "from scipy.stats import kendalltau, pearsonr, spearmanr\n",
    "import math\n",
    "from scipy.stats import gamma\n",
    "from scipy.stats import beta\n",
    "\n",
    "# charting:\n",
    "import matplotlib as mpl\n",
    "import matplotlib.pyplot as plt\n",
    "import matplotlib.dates as mdates\n",
    "from matplotlib import ticker\n",
    "import matplotlib.ticker as mtick\n",
    "import seaborn as sns\n",
    "from matplotlib.gridspec import GridSpec\n",
    "from IPython.display import display, Markdown, Latex, HTML\n",
    "from matplotlib import cm\n",
    "from matplotlib.colors import ListedColormap, LinearSegmentedColormap, Colormap\n",
    "\n",
    "# mapping\n",
    "import geopandas as gpd\n",
    "\n",
    "# home brew utitilties\n",
    "import utilities.utility_functions as ut\n",
    "import utilities.abundance_classes as ac\n",
    "\n",
    "# documenting\n",
    "from IPython.display import Markdown as md\n",
    "\n",
    "\n",
    "# returns the p_value for each test\n",
    "def kendall_pval(x,y):\n",
    "    return kendalltau(x,y)[1]\n",
    "\n",
    "def pearsonr_pval(x,y):\n",
    "    return pearsonr(x,y)[1]\n",
    "\n",
    "def spearmanr_pval(x,y):\n",
    "    return spearmanr(x,y)[1]\n",
    "\n",
    "# table kwargs\n",
    "table_k = dict(loc=\"top left\", bbox=(0,0,1,1), colWidths=[.5, .5], cellLoc='center')\n",
    "tablecenter_k = dict(loc=\"top left\", bbox=(0,0,1,1), cellLoc='center')\n",
    "tabtickp_k = dict(axis='both', which='both', bottom=False, top=False, left=False, right=False, labelleft=False, labelbottom=False)\n",
    "\n",
    "# chart kwargs\n",
    "title_k = {'loc':'left', 'pad':14, 'linespacing':1.5, 'fontsize':12}\n",
    "title_k14 = {'loc':'left', 'pad':16, 'linespacing':1.5, 'fontsize':14}\n",
    "xlab_k = {'labelpad':10, 'fontsize':12}\n",
    "ylab_k = {'labelpad':14, 'fontsize':14}\n",
    "\n",
    "\n",
    "# # use these to format date axis in charts\n",
    "# weeks = mdates.WeekdayLocator(byweekday=1, interval=4)\n",
    "# # onedayweek = mdates.DayLocator(bymonthday=1, interval=1)\n",
    "# # everytwoweeks = mdates.WeekdayLocator(byweekday=1, interval=4)\n",
    "\n",
    "# months = mdates.MonthLocator(bymonth=[3,6,9,12])\n",
    "# bimonthly = mdates.MonthLocator(bymonth=[1,3,5,7,9,11])\n",
    "# allmonths = mdates.MonthLocator()\n",
    "# wks_fmt = mdates.DateFormatter('%d')\n",
    "# mths_fmt = mdates.DateFormatter('%b')\n",
    "\n",
    "# map marker size:\n",
    "markerSize = 100\n",
    "survey_data, location_data, code_defs, stat_ent, geo_data, output = ut.make_local_paths()"
   ]
  },
  {
   "cell_type": "code",
   "execution_count": 2,
   "metadata": {},
   "outputs": [],
   "source": [
    "# set some parameters:\n",
    "start_date = '2020-04-01'\n",
    "end_date = dt.datetime.today().strftime('%Y-%m-%d')\n",
    "\n",
    "startyearmonth = '{}/{}'.format(start_date[5:7], start_date[:4])\n",
    "endyearmonth = '{}/{}'.format(end_date[5:7], end_date[:4]) \n",
    "\n",
    "# decide which data to use\n",
    "aggregated = False\n",
    "\n",
    "\n",
    "# collect the names:\n",
    "# group_names = list(these_groups.keys())\n",
    "\n",
    "# choose a lake:\n",
    "# lake = 'Lac Léman'\n",
    "coi = 'Biel/Bienne'\n",
    "bassin_label = 'Aare'\n",
    "bassin = ['Aare', 'Aare|Nidau-Büren-Kanal','Schüss', 'Neuenburgersee', 'Thunersee','Bielersee', 'Brienzersee','La Thièle']\n",
    "samples_all = 'All samples'\n",
    "# lavey_locs= ['lavey-les-bains-2','lavey-les-bains', 'lavey-la-source']\n",
    "\n",
    "\n",
    "# define a significant event:\n",
    "sig = .9\n",
    "one_minus_sig = (1-sig)\n",
    "\n",
    "# define explanatory variables:\n",
    "expv = ['population','streets','buildings','rivs']\n",
    "\n",
    "# name the folder:\n",
    "name_of_project = 'bielsummary'\n",
    "save_output = False\n",
    "\n",
    "# use this to store things:\n",
    "project_directory = ut.make_project_folder(output, name_of_project)\n",
    "\n",
    "# get the data\n",
    "# aggregated survey data\n",
    "# dfAgg = pd.read_csv(F\"{survey_data}/results_with_zeroes_aggregated_parent.csv\")\n",
    "\n",
    "files_generated = []\n",
    "figure_num = 1\n",
    "data_num = 1\n",
    "\n",
    "def add_output(**kwargs):\n",
    "    files_generated.append({'tag':kwargs['tag'], 'number':kwargs['figure_num'], 'file':kwargs['file'],'type':kwargs['a_type']})\n",
    "    if kwargs['a_type'] == 'data':\n",
    "        kwargs['data'].to_csv(F\"{kwargs['file']}.csv\", index=False)\n",
    "    else:\n",
    "        plt.savefig(F\"{kwargs['file']}.jpeg\", dpi=300)"
   ]
  },
  {
   "cell_type": "code",
   "execution_count": 3,
   "metadata": {},
   "outputs": [],
   "source": [
    "# non aggregated survey data\n",
    "dfSurveys = pd.read_csv(F\"{survey_data}/results_with_zeroes.csv\")\n",
    "dfSurveys['date'] = pd.to_datetime(dfSurveys['date'])\n",
    "dfSurveys = dfSurveys[dfSurveys.date >= start_date]\n",
    "dfSurveys['groupname'] = 'nogroup'\n",
    "\n",
    "# beach data\n",
    "dfBeaches = pd.read_csv(F\"{location_data}/beaches_with_ranks.csv\")\n",
    "dfBeaches.set_index('slug', inplace=True)\n",
    "dfBeaches.rename(columns={\"NUMPOINTS\":\"intersects\"}, inplace=True)\n",
    "\n",
    "# code definitions\n",
    "dfCodes = pd.read_csv(F\"{code_defs}/mlw_codes.csv\", index_col='code')\n"
   ]
  },
  {
   "cell_type": "code",
   "execution_count": 4,
   "metadata": {},
   "outputs": [],
   "source": [
    "\n",
    "group_names_locations = {\n",
    "    \"waste water\": \"wastewater.json\" ,\n",
    "    \"less than 5mm\":\"codeListMicros.json\",\n",
    "    \"construction\":\"construction.json\",\n",
    "    \"food\":\"foodstuff.json\",\n",
    "    \"agg-con-trans\":\"cat.json\",\n",
    "    \"agriculture\":\"ag.json\",\n",
    "    \"tobacco\":\"tobac.json\",\n",
    "    \"recreation\":\"recreation.json\",    \n",
    "    \"packaging\":\"packaging.json\",\n",
    "    \"personal items\":\"pi.json\",    \n",
    "}\n",
    "frag_plas = {\"fragmented plastics\":[\"G79\", \"G78\", \"G75\"]}\n",
    "levels={'muni':coi, 'catchment':bassin_label}\n",
    "\n",
    "these_cols = ['loc_date', 'location', 'water_name','type', 'date']\n",
    "catchment_cols = ['region','water_name','type','city','loc_date', 'location', 'date']\n",
    "foams={'G82':['G82', 'G912'], 'G81':['G81', 'G911'], 'G74':['G74', 'G910', 'G909']}\n",
    "\n",
    "data = dfSurveys.loc[(dfSurveys.date >= start_date)&(dfSurveys.date <= end_date)].copy()\n",
    "data['type'] = data.location.map(lambda x: dfBeaches[dfBeaches.index == x]['water'].values[0])    "
   ]
  },
  {
   "cell_type": "code",
   "execution_count": 5,
   "metadata": {},
   "outputs": [
    {
     "data": {
      "text/plain": [
       "array(['Zurichsee', 'Aare', 'Aare|Nidau-Büren-Kanal', 'Lac Léman', 'Arve',\n",
       "       'Lago Maggiore', 'Thunersee', 'Untersee', 'Bielersee', 'Birs',\n",
       "       'Bodensee', 'Ticino', 'Chriesbach', 'Neuenburgersee', 'Emme',\n",
       "       'Walensee', 'Glatt', 'Goldach', 'Greifensee', 'Grändelbach',\n",
       "       'Brienzersee', 'Inn', 'Jona', 'Katzensee', 'Dorfbach', 'La Thièle',\n",
       "       'Langeten', 'Rhône', 'Limmat', 'Linthkanal', 'Escherkanal',\n",
       "       'Lorze', 'Lötschebach', 'Murg', 'Ognonnaz', 'Pfaffnern', 'Reuss',\n",
       "       'Rhein', 'Maggia', 'Schiffenensee', 'Schüss', 'Seez', 'Sempachsee',\n",
       "       'Sense', 'Sihlsee', 'Sihl', 'Sitter', 'Thur', 'Töss', 'Urnäsch',\n",
       "       'Quatre Cantons', 'Vorderrhein', 'Zugersee', 'Zulg'], dtype=object)"
      ]
     },
     "execution_count": 5,
     "metadata": {},
     "output_type": "execute_result"
    }
   ],
   "source": [
    "dfBeaches.water_name.unique()"
   ]
  },
  {
   "cell_type": "code",
   "execution_count": 6,
   "metadata": {},
   "outputs": [],
   "source": [
    "a = ac.PreprocessData(data, dfBeaches,these_cols=these_cols, foams=foams, start_date=start_date, end_date=end_date)\n",
    "\n",
    "clas_kwargs = dict(\n",
    "    code_group_data=group_names_locations,\n",
    "    new_code_group=frag_plas,\n",
    "    levels=levels,\n",
    "    catchment_features=bassin,\n",
    "    end_date=end_date,\n",
    "    start_date=start_date,\n",
    "    code_group_loc=output,\n",
    "    catchment_cols=catchment_cols)\n",
    "b = ac.CatchmentArea(a.processed, dfBeaches, **clas_kwargs)"
   ]
  },
  {
   "cell_type": "code",
   "execution_count": 7,
   "metadata": {},
   "outputs": [],
   "source": [
    "b.bassin_data['fail'] = b.bassin_data.quantity > 0"
   ]
  },
  {
   "cell_type": "code",
   "execution_count": 8,
   "metadata": {},
   "outputs": [
    {
     "data": {
      "text/plain": [
       "5152   2021-03-12\n",
       "5153   2021-03-12\n",
       "5154   2021-03-12\n",
       "5155   2021-03-12\n",
       "5156   2021-03-12\n",
       "          ...    \n",
       "287    2020-12-08\n",
       "288    2021-01-08\n",
       "289    2021-02-07\n",
       "290    2020-09-07\n",
       "291    2020-11-07\n",
       "Name: date, Length: 27500, dtype: datetime64[ns]"
      ]
     },
     "execution_count": 8,
     "metadata": {},
     "output_type": "execute_result"
    }
   ],
   "source": [
    "b.bassin_data.date"
   ]
  },
  {
   "cell_type": "code",
   "execution_count": 9,
   "metadata": {},
   "outputs": [],
   "source": [
    "code = 'G79'"
   ]
  },
  {
   "cell_type": "code",
   "execution_count": 10,
   "metadata": {},
   "outputs": [],
   "source": [
    "tries = b.bassin_data.groupby('code').loc_date.nunique()\n",
    "fails = b.bassin_data.groupby('code').fail.sum()\n",
    "tries_fails = pd.concat([tries, fails], axis=1)\n",
    "tries_fails['rate'] = tries_fails.fail/tries_fails.loc_date\n",
    "asamp = tries_fails.loc[code].rate\n",
    "grtr_than_zero = b.bassin_data[(b.bassin_data.quantity > 0)].groupby(['code','pcs_m', 'type'], as_index=False).date.count()\n",
    "som_data = b.bassin_data.copy()\n",
    "codes_in_use = grtr_than_zero.code.unique()"
   ]
  },
  {
   "cell_type": "code",
   "execution_count": 11,
   "metadata": {},
   "outputs": [
    {
     "data": {
      "text/plain": [
       "array(['G10', 'G100', 'G101', 'G102', 'G103', 'G104', 'G106', 'G107',\n",
       "       'G11', 'G111', 'G112', 'G114', 'G115', 'G117', 'G118', 'G119',\n",
       "       'G12', 'G122', 'G124', 'G125', 'G126', 'G128', 'G129', 'G13',\n",
       "       'G131', 'G133', 'G134', 'G135', 'G136', 'G137', 'G138', 'G14',\n",
       "       'G141', 'G142', 'G143', 'G144', 'G145', 'G146', 'G148', 'G149',\n",
       "       'G150', 'G152', 'G153', 'G155', 'G156', 'G157', 'G158', 'G159',\n",
       "       'G161', 'G165', 'G167', 'G17', 'G170', 'G171', 'G172', 'G174',\n",
       "       'G175', 'G176', 'G177', 'G178', 'G181', 'G182', 'G186', 'G188',\n",
       "       'G190', 'G191', 'G194', 'G195', 'G197', 'G198', 'G2', 'G20',\n",
       "       'G200', 'G201', 'G202', 'G203', 'G204', 'G208', 'G21', 'G210',\n",
       "       'G211', 'G213', 'G214', 'G22', 'G23', 'G24', 'G25', 'G26', 'G27',\n",
       "       'G28', 'G29', 'G3', 'G30', 'G31', 'G32', 'G33', 'G34', 'G35',\n",
       "       'G36', 'G37', 'G38', 'G4', 'G40', 'G41', 'G43', 'G48', 'G49', 'G5',\n",
       "       'G50', 'G52', 'G53', 'G59', 'G6', 'G60', 'G61', 'G64', 'G65',\n",
       "       'G66', 'G67', 'G68', 'G7', 'G70', 'G71', 'G73', 'G74', 'G75',\n",
       "       'G76', 'G78', 'G79', 'G8', 'G80', 'G81', 'G82', 'G84', 'G87',\n",
       "       'G89', 'G90', 'G900', 'G901', 'G902', 'G904', 'G905', 'G908',\n",
       "       'G91', 'G913', 'G914', 'G915', 'G916', 'G917', 'G918', 'G919',\n",
       "       'G921', 'G922', 'G923', 'G925', 'G926', 'G927', 'G928', 'G929',\n",
       "       'G93', 'G930', 'G931', 'G933', 'G936', 'G938', 'G939', 'G94',\n",
       "       'G940', 'G941', 'G942', 'G943', 'G944', 'G945', 'G95', 'G96',\n",
       "       'G97', 'G98', 'G99'], dtype=object)"
      ]
     },
     "execution_count": 11,
     "metadata": {},
     "output_type": "execute_result"
    }
   ],
   "source": [
    "codes_in_use"
   ]
  },
  {
   "cell_type": "code",
   "execution_count": null,
   "metadata": {},
   "outputs": [],
   "source": []
  },
  {
   "cell_type": "code",
   "execution_count": 12,
   "metadata": {},
   "outputs": [],
   "source": [
    "num_obs = som_data.groupby('type', as_index=False).date.count()"
   ]
  },
  {
   "cell_type": "code",
   "execution_count": 18,
   "metadata": {},
   "outputs": [
    {
     "name": "stdout",
     "output_type": "stream",
     "text": [
      "[0.0006920415224913495, 0.001038062283737024, 0.001384083044982699]\n"
     ]
    }
   ],
   "source": [
    "code = 'G943'\n",
    "data = som_data[(som_data.code == code)&(som_data.quantity > 0)]['pcs_m'].copy()\n",
    "grtr_than_zero['weight'] = grtr_than_zero.date/grtr_than_zero.date.sum()\n",
    "print(list(np.cumsum(grtr_than_zero[grtr_than_zero.code == code].weight.values)))"
   ]
  },
  {
   "cell_type": "code",
   "execution_count": 20,
   "metadata": {},
   "outputs": [
    {
     "data": {
      "text/html": [
       "<div>\n",
       "<style scoped>\n",
       "    .dataframe tbody tr th:only-of-type {\n",
       "        vertical-align: middle;\n",
       "    }\n",
       "\n",
       "    .dataframe tbody tr th {\n",
       "        vertical-align: top;\n",
       "    }\n",
       "\n",
       "    .dataframe thead th {\n",
       "        text-align: right;\n",
       "    }\n",
       "</style>\n",
       "<table border=\"1\" class=\"dataframe\">\n",
       "  <thead>\n",
       "    <tr style=\"text-align: right;\">\n",
       "      <th></th>\n",
       "      <th>code</th>\n",
       "      <th>pcs_m</th>\n",
       "      <th>type</th>\n",
       "      <th>date</th>\n",
       "      <th>weight</th>\n",
       "    </tr>\n",
       "  </thead>\n",
       "  <tbody>\n",
       "    <tr>\n",
       "      <th>1243</th>\n",
       "      <td>G943</td>\n",
       "      <td>0.01</td>\n",
       "      <td>l</td>\n",
       "      <td>2</td>\n",
       "      <td>0.000692</td>\n",
       "    </tr>\n",
       "    <tr>\n",
       "      <th>1244</th>\n",
       "      <td>G943</td>\n",
       "      <td>0.03</td>\n",
       "      <td>l</td>\n",
       "      <td>1</td>\n",
       "      <td>0.000346</td>\n",
       "    </tr>\n",
       "    <tr>\n",
       "      <th>1245</th>\n",
       "      <td>G943</td>\n",
       "      <td>0.18</td>\n",
       "      <td>l</td>\n",
       "      <td>1</td>\n",
       "      <td>0.000346</td>\n",
       "    </tr>\n",
       "  </tbody>\n",
       "</table>\n",
       "</div>"
      ],
      "text/plain": [
       "      code  pcs_m type  date    weight\n",
       "1243  G943   0.01    l     2  0.000692\n",
       "1244  G943   0.03    l     1  0.000346\n",
       "1245  G943   0.18    l     1  0.000346"
      ]
     },
     "execution_count": 20,
     "metadata": {},
     "output_type": "execute_result"
    }
   ],
   "source": [
    "grtr_than_zero[grtr_than_zero.code == code]"
   ]
  },
  {
   "cell_type": "code",
   "execution_count": 21,
   "metadata": {},
   "outputs": [
    {
     "name": "stdout",
     "output_type": "stream",
     "text": [
      "0.032\n",
      "[0]\n",
      "(399999996.6303193, -982.3824191318233, 2.4561935685266976e-06)\n"
     ]
    }
   ],
   "source": [
    "code = 'G943'\n",
    "rate = tries_fails.loc[code].rate\n",
    "found = binom.rvs(1, rate,size=1)\n",
    "\n",
    "d_lin = np.linspace(data.min(), data.max(), num=1000, dtype=np.float64)\n",
    "prior_params = gamma.fit(d_lin[d_lin >0])\n",
    "print(rate)\n",
    "print(found)\n",
    "print(prior_params)\n",
    "\n",
    "out = gamma.rvs(prior_params[0], loc=prior_params[1], scale=prior_params[2], size=len(d_lin))"
   ]
  },
  {
   "cell_type": "code",
   "execution_count": 22,
   "metadata": {},
   "outputs": [
    {
     "data": {
      "image/png": "[encoded data removed]",
      "text/plain": [
       "<Figure size 432x288 with 1 Axes>"
      ]
     },
     "metadata": {
      "needs_background": "light"
     },
     "output_type": "display_data"
    }
   ],
   "source": [
    "fig, ax = plt.subplots()\n",
    "sns.histplot(data, ax=ax, color='blue', stat='probability')\n",
    "sns.histplot(out[out >0], ax=ax, color='red', stat='probability')\n",
    "plt.show()"
   ]
  },
  {
   "cell_type": "code",
   "execution_count": 23,
   "metadata": {},
   "outputs": [
    {
     "name": "stdout",
     "output_type": "stream",
     "text": [
      "0.01 0.18\n"
     ]
    }
   ],
   "source": [
    "print(data.min(), data.max())"
   ]
  },
  {
   "cell_type": "code",
   "execution_count": 24,
   "metadata": {},
   "outputs": [
    {
     "name": "stdout",
     "output_type": "stream",
     "text": [
      "0.02\n",
      "0.09705187276392735\n"
     ]
    }
   ],
   "source": [
    "print(data.median())\n",
    "print(np.median(out))"
   ]
  },
  {
   "cell_type": "code",
   "execution_count": 25,
   "metadata": {},
   "outputs": [
    {
     "data": {
      "text/plain": [
       "178"
      ]
     },
     "execution_count": 25,
     "metadata": {},
     "output_type": "execute_result"
    }
   ],
   "source": [
    "len(codes_in_use)"
   ]
  },
  {
   "cell_type": "code",
   "execution_count": 26,
   "metadata": {},
   "outputs": [],
   "source": [
    "this_n = fails.loc[code]\n",
    "this_p = rate"
   ]
  },
  {
   "cell_type": "code",
   "execution_count": 27,
   "metadata": {},
   "outputs": [],
   "source": [
    "samples = {}\n",
    "\n",
    "for i in np.arange(125):\n",
    "\n",
    "    a_sample = {}\n",
    "    codes_found = []\n",
    "    for code in codes_in_use:\n",
    "        rate = tries_fails.loc[code].rate\n",
    "        found = binom.rvs(1, rate,size=1)[0]\n",
    "        if found:\n",
    "            codes_found.append(code)\n",
    "    samples.update({i:codes_found})\n",
    "            \n",
    "#             data = som_data[(som_data.code == code)]['pcs_m']\n",
    "#             if len(data) >= 10:\n",
    "#                 prior_params = gamma.fit(data)\n",
    "#                 alpha, loc, scale = prior_params\n",
    "#                 prior_dist = gamma(alpha, loc, scale)\n",
    "#                 theta_prior = prior_dist.rvs(1)\n",
    "#                 sum_samples.append({'code':code, 'pcs_m':theta_prior[0], 'date':i})\n",
    "\n",
    "#             else:\n",
    "#                 weights = grtr_than_zero[(grtr_than_zero.code == code)].copy()\n",
    "#                 weights['weight'] = weights.date/weights.date.sum()\n",
    "#                 theta_prior = choices(weights.pcs_m.values, cum_weights = np.cumsum(weights.weight.values))[0]\n",
    "#                 sum_samples.append({'code':code, 'pcs_m':theta_prior, 'date':i})\n",
    "        "
   ]
  },
  {
   "cell_type": "code",
   "execution_count": 28,
   "metadata": {},
   "outputs": [
    {
     "name": "stdout",
     "output_type": "stream",
     "text": [
      "[24, 32, 26, 20, 22, 24, 31, 21, 17, 17, 24, 22, 27, 26, 21, 14, 25, 29, 24, 18, 23, 21, 22, 23, 28, 27, 22, 18, 26, 19, 24, 22, 16, 27, 18, 26, 22, 20, 24, 22, 28, 17, 21, 23, 23, 18, 30, 29, 18, 30, 28, 21, 26, 22, 22, 23, 21, 22, 22, 21, 23, 20, 19, 19, 28, 16, 30, 15, 25, 21, 22, 22, 19, 18, 27, 26, 22, 25, 30, 22, 26, 28, 30, 17, 17, 21, 21, 27, 30, 26, 25, 32, 21, 14, 18, 30, 24, 28, 25, 28, 23, 25, 18, 22, 27, 24, 23, 23, 19, 29, 23, 21, 22, 26, 24, 19, 33, 24, 25, 21, 23, 14, 25, 17, 25]\n"
     ]
    }
   ],
   "source": [
    "print([len(v) for k,v in samples.items()])"
   ]
  },
  {
   "cell_type": "markdown",
   "metadata": {},
   "source": [
    "#### Hopefully that just worked for you\n",
    "\n",
    "if not contact analyst@hammerdirt.ch"
   ]
  },
  {
   "cell_type": "code",
   "execution_count": null,
   "metadata": {},
   "outputs": [],
   "source": []
  },
  {
   "cell_type": "code",
   "execution_count": null,
   "metadata": {},
   "outputs": [],
   "source": []
  }
 ],
 "metadata": {
  "kernelspec": {
   "display_name": "Python 3",
   "language": "python",
   "name": "python3"
  },
  "language_info": {
   "codemirror_mode": {
    "name": "ipython",
    "version": 3
   },
   "file_extension": ".py",
   "mimetype": "text/x-python",
   "name": "python",
   "nbconvert_exporter": "python",
   "pygments_lexer": "ipython3",
   "version": "3.8.3"
  }
 },
 "nbformat": 4,
 "nbformat_minor": 4
}
