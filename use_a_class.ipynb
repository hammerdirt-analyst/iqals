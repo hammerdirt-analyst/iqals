{
 "cells": [
  {
   "cell_type": "code",
   "execution_count": 1,
   "metadata": {},
   "outputs": [],
   "source": [
    "# sys, file and nav packages:\n",
    "import os\n",
    "import datetime as dt\n",
    "import csv\n",
    "\n",
    "# math packages:\n",
    "import pandas as pd\n",
    "import numpy as np\n",
    "from scipy import stats\n",
    "\n",
    "import datetime as dt \n",
    "from scipy.stats import kendalltau, pearsonr, spearmanr\n",
    "import math\n",
    "from scipy.stats import gamma\n",
    "from scipy.stats import beta\n",
    "from scipy.stats import binom\n",
    "from scipy.stats import bernoulli\n",
    "import statsmodels.api as sm\n",
    "from statsmodels.graphics.gofplots import qqplot_2samples\n",
    "from statsmodels.distributions.empirical_distribution import ECDF\n",
    "# charting:\n",
    "import matplotlib as mpl\n",
    "import matplotlib.pyplot as plt\n",
    "import matplotlib.dates as mdates\n",
    "from matplotlib import ticker\n",
    "import matplotlib.ticker as mtick\n",
    "import seaborn as sns\n",
    "from matplotlib.gridspec import GridSpec\n",
    "from IPython.display import display, Markdown, Latex, HTML\n",
    "from matplotlib import cm\n",
    "from matplotlib.colors import ListedColormap, LinearSegmentedColormap, Colormap\n",
    "\n",
    "# mapping\n",
    "import geopandas as gpd\n",
    "\n",
    "# home brew utitilties\n",
    "import utilities.utility_functions as ut\n",
    "import utilities.abundance_classes as ac\n",
    "\n",
    "# documenting\n",
    "from IPython.display import Markdown as md\n",
    "\n",
    "\n",
    "# returns the p_value for each test\n",
    "def kendall_pval(x,y):\n",
    "    return kendalltau(x,y)[1]\n",
    "\n",
    "def pearsonr_pval(x,y):\n",
    "    return pearsonr(x,y)[1]\n",
    "\n",
    "def spearmanr_pval(x,y):\n",
    "    return spearmanr(x,y)[1]\n",
    "\n",
    "# table kwargs\n",
    "table_k = dict(loc=\"top left\", bbox=(0,0,1,1), colWidths=[.5, .5], cellLoc='center')\n",
    "tablecenter_k = dict(loc=\"top left\", bbox=(0,0,1,1), cellLoc='center')\n",
    "tabtickp_k = dict(axis='both', which='both', bottom=False, top=False, left=False, right=False, labelleft=False, labelbottom=False)\n",
    "\n",
    "# chart kwargs\n",
    "title_k = {'loc':'left', 'pad':14, 'linespacing':1.5, 'fontsize':12}\n",
    "title_k14 = {'loc':'left', 'pad':16, 'linespacing':1.5, 'fontsize':14}\n",
    "xlab_k = {'labelpad':10, 'fontsize':12}\n",
    "ylab_k = {'labelpad':14, 'fontsize':14}\n",
    "\n",
    "\n",
    "# # use these to format date axis in charts\n",
    "# weeks = mdates.WeekdayLocator(byweekday=1, interval=4)\n",
    "# # onedayweek = mdates.DayLocator(bymonthday=1, interval=1)\n",
    "# # everytwoweeks = mdates.WeekdayLocator(byweekday=1, interval=4)\n",
    "\n",
    "# months = mdates.MonthLocator(bymonth=[3,6,9,12])\n",
    "# bimonthly = mdates.MonthLocator(bymonth=[1,3,5,7,9,11])\n",
    "# allmonths = mdates.MonthLocator()\n",
    "# wks_fmt = mdates.DateFormatter('%d')\n",
    "# mths_fmt = mdates.DateFormatter('%b')\n",
    "\n",
    "# map marker size:\n",
    "markerSize = 100\n",
    "survey_data, location_data, code_defs, stat_ent, geo_data, output = ut.make_local_paths()"
   ]
  },
  {
   "cell_type": "code",
   "execution_count": 2,
   "metadata": {},
   "outputs": [],
   "source": [
    "# set some parameters:\n",
    "start_date = '2020-04-01'\n",
    "end_date = dt.datetime.today().strftime('%Y-%m-%d')\n",
    "\n",
    "startyearmonth = '{}/{}'.format(start_date[5:7], start_date[:4])\n",
    "endyearmonth = '{}/{}'.format(end_date[5:7], end_date[:4]) \n",
    "\n",
    "# decide which data to use\n",
    "aggregated = False\n",
    "\n",
    "\n",
    "# collect the names:\n",
    "# group_names = list(these_groups.keys())\n",
    "\n",
    "# choose a lake:\n",
    "# lake = 'Lac Léman'\n",
    "coi = 'Neuchâtel'\n",
    "bassin_label = 'Aare'\n",
    "bassin = ['Aare', 'Aare|Nidau-Büren-Kanal','Schüss', 'Neuenburgersee', 'Thunersee','Bielersee', 'Brienzersee','La Thièle']\n",
    "bassin_lmn = ['Rhône', 'Lac Léman']\n",
    "samples_all = 'All samples'\n",
    "# lavey_locs= ['lavey-les-bains-2','lavey-les-bains', 'lavey-la-source']\n",
    "\n",
    "\n",
    "# define a significant event:\n",
    "sig = .9\n",
    "one_minus_sig = (1-sig)\n",
    "\n",
    "# define explanatory variables:\n",
    "expv = ['population','streets','buildings','rivs']\n",
    "\n",
    "# name the folder:\n",
    "name_of_project = 'bielsummary'\n",
    "save_output = False\n",
    "\n",
    "# use this to store things:\n",
    "project_directory = ut.make_project_folder(output, name_of_project)\n",
    "\n",
    "# get the data\n",
    "# aggregated survey data\n",
    "# dfAgg = pd.read_csv(F\"{survey_data}/results_with_zeroes_aggregated_parent.csv\")\n",
    "\n",
    "# keep track of output\n",
    "files_generated = []\n",
    "figure_num = 1\n",
    "data_num = 1\n",
    "\n",
    "def add_output(**kwargs):\n",
    "    files_generated.append({'tag':kwargs['tag'], 'number':kwargs['figure_num'], 'file':kwargs['file'],'type':kwargs['a_type']})\n",
    "    if kwargs['a_type'] == 'data':\n",
    "        kwargs['data'].to_csv(F\"{kwargs['file']}.csv\", index=False)\n",
    "    else:\n",
    "        plt.savefig(F\"{kwargs['file']}.jpeg\", dpi=300)"
   ]
  },
  {
   "cell_type": "code",
   "execution_count": 3,
   "metadata": {},
   "outputs": [],
   "source": [
    "# non aggregated survey data\n",
    "# Zero values are assigned for all codes not identified at a survey, for each survey\n",
    "dfSurveys = pd.read_csv(F\"{survey_data}/results_with_zeroes.csv\")\n",
    "\n",
    "# house keeping\n",
    "dfSurveys = dfSurveys[(dfSurveys.date >= start_date)&(dfSurveys.date <= end_date)]\n",
    "dfSurveys['date'] = pd.to_datetime(dfSurveys['date'], format=\"%Y-%m-%d\")\n",
    "\n",
    "# allow for groups\n",
    "dfSurveys['groupname'] = 'nogroup'\n",
    "\n"
   ]
  },
  {
   "cell_type": "code",
   "execution_count": 4,
   "metadata": {},
   "outputs": [],
   "source": [
    "# beach data\n",
    "dfBeaches = pd.read_csv(F\"{location_data}/beaches_with_ranks.csv\")\n",
    "dfBeaches.set_index('slug', inplace=True)\n",
    "dfBeaches.rename(columns={\"NUMPOINTS\":\"intersects\"}, inplace=True)\n",
    "\n",
    "# code definitions\n",
    "dfCodes = pd.read_csv(F\"{code_defs}/mlw_codes.csv\", index_col='code')"
   ]
  },
  {
   "cell_type": "code",
   "execution_count": 5,
   "metadata": {},
   "outputs": [],
   "source": [
    "group_names_locations = {\n",
    "    \"waste water\": \"wastewater.json\" ,\n",
    "    \"less than 5mm\":\"codeListMicros.json\",\n",
    "    \"construction\":\"construction.json\",\n",
    "    \"food\":\"foodstuff.json\",\n",
    "    \"agg-con-trans\":\"cat.json\",\n",
    "    \"agriculture\":\"ag.json\",\n",
    "    \"tobacco\":\"tobac.json\",\n",
    "    \"recreation\":\"recreation.json\",    \n",
    "    \"packaging\":\"packaging.json\",\n",
    "    \"personal items\":\"pi.json\",    \n",
    "}\n",
    "\n",
    "\n",
    "frag_plas = {\"fragmented plastics\":[\"G79\", \"G78\", \"G75\"]}\n",
    "levels={'muni':coi, 'catchment':bassin_label}\n",
    "\n",
    "these_cols = ['loc_date', 'location', 'water_name','type', 'date']\n",
    "catchment_cols = ['region','water_name','type','city','loc_date', 'location', 'date']\n",
    "foams={'G82':['G82', 'G912'], 'G81':['G81', 'G911'], 'G74':['G74', 'G910', 'G909']}"
   ]
  },
  {
   "cell_type": "code",
   "execution_count": 6,
   "metadata": {},
   "outputs": [],
   "source": [
    "data = dfSurveys.copy()\n",
    "data.set_index('location', inplace=True)"
   ]
  },
  {
   "cell_type": "code",
   "execution_count": 7,
   "metadata": {},
   "outputs": [],
   "source": [
    "lakes = dfBeaches.water == 'l'\n",
    "rivers = dfBeaches.water == 'r'\n",
    "bssn = dfBeaches.water_name.isin(bassin)\n",
    "\n",
    "data['type'] = 't'\n",
    "data.loc[lakes, 'type'] = 'l'\n",
    "data.loc[rivers, 'type'] = 'r'"
   ]
  },
  {
   "cell_type": "code",
   "execution_count": 8,
   "metadata": {},
   "outputs": [
    {
     "name": "stdout",
     "output_type": "stream",
     "text": [
      "code maps done\n",
      "agg foams complet\n",
      "added exp vs\n"
     ]
    }
   ],
   "source": [
    "data.reset_index(inplace=True)\n",
    "a = ac.PreprocessData(data, dfBeaches,these_cols=these_cols, foams=foams, start_date=start_date, end_date=end_date)\n",
    "\n",
    "clas_kwargs = dict(\n",
    "    code_group_data=group_names_locations,\n",
    "    new_code_group=frag_plas,\n",
    "    levels=levels,\n",
    "    catchment_features=bassin,\n",
    "    end_date=end_date,\n",
    "    start_date=start_date,\n",
    "    code_group_loc=output,\n",
    "    catchment_cols=catchment_cols)\n"
   ]
  },
  {
   "cell_type": "code",
   "execution_count": 9,
   "metadata": {},
   "outputs": [
    {
     "name": "stdout",
     "output_type": "stream",
     "text": [
      "made code groups\n",
      "making group map\n",
      "assigned results to code groups\n",
      "assigned regional labels\n",
      "assigned results to code groups\n",
      "assigned regional labels\n",
      "made code totals\n",
      "made code totals\n"
     ]
    }
   ],
   "source": [
    "b = ac.CatchmentArea(a.processed, dfBeaches, **clas_kwargs)"
   ]
  },
  {
   "cell_type": "code",
   "execution_count": 10,
   "metadata": {},
   "outputs": [
    {
     "name": "stdout",
     "output_type": "stream",
     "text": [
      "made code groups\n",
      "making group map\n",
      "assigned results to code groups\n",
      "assigned regional labels\n",
      "assigned results to code groups\n",
      "assigned regional labels\n",
      "made code totals\n",
      "made code totals\n"
     ]
    }
   ],
   "source": [
    "clas_kwargs.update({'catchment_features':bassin_lmn})\n",
    "clas_kwargs.update({'muni':'Préverenges', 'catchment':\"Rhône Léman\"})\n",
    "c = ac.CatchmentArea(a.processed, dfBeaches, **clas_kwargs)"
   ]
  },
  {
   "cell_type": "code",
   "execution_count": 11,
   "metadata": {},
   "outputs": [
    {
     "name": "stdout",
     "output_type": "stream",
     "text": [
      "Index(['location', 'date', 'code', 'pcs_m', 'quantity', 'loc_date',\n",
      "       'water_name', 'groupname', 'type', 'population', 'string_date',\n",
      "       'region', 'city', 'fail'],\n",
      "      dtype='object')\n"
     ]
    }
   ],
   "source": [
    "som_bassin_data = b.bassin_data.copy()\n",
    "\n",
    "# mark all the records that have quantity > 0\n",
    "som_bassin_data['fail'] = som_bassin_data.quantity > 0\n",
    "print(som_bassin_data.columns)"
   ]
  },
  {
   "cell_type": "code",
   "execution_count": 12,
   "metadata": {},
   "outputs": [],
   "source": [
    "# map number of samples per location and sample total of all objects to each record\n",
    "\n",
    "def add_attribute(x, a_map={}):\n",
    "    try:\n",
    "        num_samps = a_map[x]\n",
    "    except:\n",
    "        num_samps = 0\n",
    "    return num_samps\n",
    "\n",
    "# conut the number of samples per location\n",
    "num_samp_location = b.bassin_pcsm_day.groupby('location').loc_date.count()\n",
    "\n",
    "# retrieve the total quantity per sample\n",
    "qty_sample = b.bassin_pcsm_day.groupby('loc_date').quantity.sum()"
   ]
  },
  {
   "cell_type": "code",
   "execution_count": 13,
   "metadata": {},
   "outputs": [],
   "source": [
    "# map values to bassin data\n",
    "\n",
    "# the number of samples at a location\n",
    "for beach in som_bassin_data.location.unique():\n",
    "    som_bassin_data.loc[som_bassin_data.location==beach, 'nsamps'] = add_attribute(beach, a_map=num_samp_location)\n",
    "\n",
    "# the number of samples at a location divided by the total number of samples\n",
    "som_bassin_data['l_weight'] = som_bassin_data.nsamps/len(som_bassin_data.loc_date.unique())\n",
    "\n",
    "# the survey total for the corresponding loc_date variable\n",
    "for loc_date in som_bassin_data.loc_date.unique():\n",
    "    som_bassin_data.loc[som_bassin_data.loc_date==loc_date, 'samp_total'] = qty_sample[[loc_date]][0]\n",
    "\n",
    "# the % of total for that object for the survey defined by loc_date\n",
    "som_bassin_data['% of total'] = som_bassin_data.quantity/som_bassin_data.samp_total"
   ]
  },
  {
   "cell_type": "code",
   "execution_count": 14,
   "metadata": {},
   "outputs": [
    {
     "name": "stdout",
     "output_type": "stream",
     "text": [
      "12364\n"
     ]
    }
   ],
   "source": [
    "\n",
    "\n",
    "def save_describe(x):\n",
    "    data=x.describe()\n",
    "    return data.values\n",
    "\n",
    "# save the key values from the original data:\n",
    "q_before = save_describe(som_bassin_data.quantity)\n",
    "pc_befor = save_describe(som_bassin_data.pcs_m)\n",
    "print(som_bassin_data.quantity.sum())"
   ]
  },
  {
   "cell_type": "code",
   "execution_count": 15,
   "metadata": {},
   "outputs": [],
   "source": [
    "# rank the quantity found of each code in each survey for all locations\n",
    "ranked = []\n",
    "\n",
    "# the loc_date values to aggregate:\n",
    "locs = som_bassin_data.loc_date.unique()"
   ]
  },
  {
   "cell_type": "code",
   "execution_count": 16,
   "metadata": {},
   "outputs": [
    {
     "data": {
      "text/plain": [
       "count    27846.000000\n",
       "mean         0.444014\n",
       "std          3.323533\n",
       "min          0.000000\n",
       "25%          0.000000\n",
       "50%          0.000000\n",
       "75%          0.000000\n",
       "max        161.000000\n",
       "Name: quantity, dtype: float64"
      ]
     },
     "execution_count": 16,
     "metadata": {},
     "output_type": "execute_result"
    }
   ],
   "source": [
    "som_bassin_data.quantity.describe()"
   ]
  },
  {
   "cell_type": "code",
   "execution_count": 17,
   "metadata": {},
   "outputs": [
    {
     "data": {
      "text/plain": [
       "count    27846.000000\n",
       "mean         0.010386\n",
       "std          0.078624\n",
       "min          0.000000\n",
       "25%          0.000000\n",
       "50%          0.000000\n",
       "75%          0.000000\n",
       "max          3.230000\n",
       "Name: pcs_m, dtype: float64"
      ]
     },
     "execution_count": 17,
     "metadata": {},
     "output_type": "execute_result"
    }
   ],
   "source": [
    "som_bassin_data.pcs_m.describe()"
   ]
  },
  {
   "cell_type": "code",
   "execution_count": 18,
   "metadata": {},
   "outputs": [
    {
     "name": "stdout",
     "output_type": "stream",
     "text": [
      "[ True  True False  True  True  True  True  True]\n",
      "12364\n",
      "[ True  True  True  True  True  True  True  True]\n"
     ]
    }
   ],
   "source": [
    "# for each value in loc_date:\n",
    "sbd = som_bassin_data.copy()\n",
    "for a_samp in locs:\n",
    "    # sort the values for each survey by \n",
    "    sbdl = sbd[sbd.loc_date == a_samp].sort_values(by='quantity', ascending=False)\n",
    "    sbdl = sbdl.set_index(np.arange(1, len(sbdl)+1), drop=True)\n",
    "    sbdl['rank'] = sbdl.index\n",
    "    ranked.append(sbdl)\n",
    "    \n",
    "# new data with amplitude rankings for each record\n",
    "som_bassin_data = pd.concat(ranked, ignore_index=True)\n",
    "\n",
    "# check the key values before and after:\n",
    "print(q_before == som_bassin_data.quantity.describe().values)\n",
    "print(som_bassin_data.quantity.sum())\n",
    "print(pc_befor == som_bassin_data.pcs_m.describe().values)\n"
   ]
  },
  {
   "cell_type": "code",
   "execution_count": 19,
   "metadata": {},
   "outputs": [
    {
     "name": "stdout",
     "output_type": "stream",
     "text": [
      "Check the n_weight sum:220.99999999999997\n",
      "\n",
      "Check the % of total column: 1.0\n",
      "\n",
      "The number of times that G27 is ranked one: 47\n",
      "\n",
      "The aggregated values should be the same: 47\n",
      "\n",
      "The locations where G27 was number one at least once: \n",
      "\n",
      "['aare-solothurn-lido-strand' 'aare_brugg_buchie' 'aare_koniz_hoppej'\n",
      " 'aare_post' 'camping-gwatt-strand' 'evole-plage' 'hafeli'\n",
      " 'hauterive-petite-plage' 'la-petite-plage' 'mullermatte'\n",
      " 'plage-de-cheyres' 'ruisseau-de-la-croix-plage' 'schusspark-strand'\n",
      " 'sundbach-strand' 'thun-strandbad' 'weissenau-neuhaus']\n",
      "\n",
      "G27 has been the number one at least once at 36.0% of the locations sampled\n",
      "\n",
      "G27 has been the number one object at a survey 37.0% of the time\n",
      "\n"
     ]
    }
   ],
   "source": [
    "# group by code and location. keep the columns that are specific to the location\n",
    "# agg results: pieces per meter and quantity. count the number of samples for this code and location\n",
    "sbd_ranked = som_bassin_data.groupby(['code','rank','location', 'population', 'groupname','l_weight','type'], as_index=False).agg({'pcs_m':'median', 'loc_date':'count', 'quantity':'sum'})\n",
    "\n",
    "# recalculate the % of total for the group levels\n",
    "# the sum of this col should equal one\n",
    "sbd_ranked['% of total'] = sbd_ranked.quantity/sbd_ranked.quantity.sum()\n",
    "\n",
    "# house keeping\n",
    "# the number of surveys is equal to the number of unique loc_values\n",
    "sbd_ranked.rename(columns={'loc_date':'n_times'}, inplace=True)\n",
    "\n",
    "# calculate the weight of the sample in reference to all other samples\n",
    "# the sum of rank_weight should equal one\n",
    "sbd_ranked['n_weight'] = sbd_ranked.n_times/len(locs)\n",
    "\n",
    "print(F\"Check the n_weight sum:{sbd_ranked.n_weight.sum()}\\n\\nCheck the % of total column: {sbd_ranked['% of total'].sum()}\\n\")\n",
    "\n",
    "print(F\"The number of times that G27 is ranked one: {len(som_bassin_data[(som_bassin_data.code == 'G27')&(som_bassin_data['rank'] == 1)])}\\n\")\n",
    "\n",
    "# aggregate and check:\n",
    "rank_and_code = sbd_ranked.groupby(['rank','code','location'], as_index=False).n_times.sum()\n",
    "print(F\"The aggregated values should be the same: {rank_and_code[(rank_and_code.code == 'G27')&(rank_and_code['rank'] == 1)].n_times.sum()}\\n\")\n",
    "\n",
    "print(F\"The locations where G27 was number one at least once: \\n\\n{rank_and_code[(rank_and_code.code == 'G27')&(rank_and_code['rank'] == 1)].location.unique()}\")\n",
    "print(F\"\\nG27 has been the number one at least once at {np.round((len(rank_and_code[(rank_and_code.code == 'G27')&(rank_and_code['rank'] == 1)].location.unique())/len(som_bassin_data.location.unique())*100),0)}% of the locations sampled\")\n",
    "\n",
    "print(F\"\\nG27 has been the number one object at a survey {np.round((len(som_bassin_data[(som_bassin_data.code == 'G27')&(som_bassin_data['rank'] == 1)])/len(som_bassin_data.loc_date.unique()))*100, 0)}% of the time\\n\" )"
   ]
  },
  {
   "cell_type": "code",
   "execution_count": 20,
   "metadata": {},
   "outputs": [
    {
     "name": "stdout",
     "output_type": "stream",
     "text": [
      "Codes and the number of times that they have been the number one item at a survey\n",
      "code\n",
      "G27     47\n",
      "G200    17\n",
      "G78     12\n",
      "G30      9\n",
      "G81      7\n",
      "G79      7\n",
      "G67      7\n",
      "G117     3\n",
      "G941     2\n",
      "G98      2\n",
      "G74      2\n",
      "G33      1\n",
      "G213     1\n",
      "G208     1\n",
      "G203     1\n",
      "G201     1\n",
      "G87      1\n",
      "G178     1\n",
      "G146     1\n",
      "G131     1\n",
      "G923     1\n",
      "G112     1\n",
      "Name: n_times, dtype: int64\n"
     ]
    }
   ],
   "source": [
    "other_number_one_ranks = rank_and_code[rank_and_code['rank'] == 1].groupby(['code','location'], as_index=False).n_times.sum()\n",
    "print(F\"Codes and the number of times that they have been the number one item at a survey\\n{other_number_one_ranks.groupby('code').n_times.sum().sort_values(ascending=False)}\")"
   ]
  },
  {
   "cell_type": "code",
   "execution_count": 21,
   "metadata": {},
   "outputs": [],
   "source": [
    "# project directory is 'output/bielsummary'\n",
    "sbd_ranked.to_csv(F\"{project_directory}/aare_codes_ranked.csv\")"
   ]
  },
  {
   "cell_type": "code",
   "execution_count": 22,
   "metadata": {},
   "outputs": [],
   "source": [
    "these_codes = ['G27', 'G30','G25', 'G81', 'G95', 'G67','G82']"
   ]
  },
  {
   "cell_type": "code",
   "execution_count": 23,
   "metadata": {},
   "outputs": [
    {
     "name": "stdout",
     "output_type": "stream",
     "text": [
      "12364\n"
     ]
    }
   ],
   "source": [
    "# grouped by survey and code group\n",
    "sbd_ranked_gs = som_bassin_data.groupby(['loc_date','groupname','location', 'population'], as_index=False).agg({'pcs_m':'sum', 'quantity':'sum'})\n",
    "\n",
    "sbd_ranked_gs['% of total'] = sbd_ranked_gs.apply(lambda x: x.quantity/qty_sample[x.loc_date], axis=1)\n",
    "# save the key values from the original data:\n",
    "q_before = save_describe(sbd_ranked_gs.quantity)\n",
    "pc_befor = save_describe(sbd_ranked_gs.pcs_m)\n",
    "print(sbd_ranked_gs.quantity.sum())"
   ]
  },
  {
   "cell_type": "code",
   "execution_count": 24,
   "metadata": {},
   "outputs": [
    {
     "name": "stdout",
     "output_type": "stream",
     "text": [
      "Check that the survey values have not been altered:\n",
      "\n",
      "[ True  True  True  True  True  True  True  True]\n",
      "[ True  True  True  True  True  True  True  True]\n",
      "\n",
      "Check % of total: 126.0\n",
      "\n",
      "The number of SURVEYS where ALL TOBACCO items combined are rank one: 33\n",
      "\n",
      "All TOBACCO items combined were number one in 26.0% of the surveys.\n",
      "\n",
      "The number of locations that tobaco is rank one: 11\n",
      "\n",
      "The objects labeled tobacco:\n",
      "['G152' 'G25' 'G26' 'G27']\n"
     ]
    }
   ],
   "source": [
    "ranked = []\n",
    "for a_samp in locs:\n",
    "    sbdl = sbd_ranked_gs[sbd_ranked_gs.loc_date == a_samp].sort_values(by='% of total', ascending=False)\n",
    "    sbdl = sbdl.set_index(np.arange(1, len(sbdl)+1), drop=True)\n",
    "    sbdl['rank'] = sbdl.index\n",
    "    ranked.append(sbdl)\n",
    "    \n",
    "sbd_ranked_gs = pd.concat(ranked, ignore_index=True)\n",
    "\n",
    "# check the key values before and after:\n",
    "print(\"Check that the survey values have not been altered:\\n\")\n",
    "print(q_before == sbd_ranked_gs.quantity.describe().values)\n",
    "print(pc_befor == sbd_ranked_gs.pcs_m.describe().values)\n",
    "\n",
    "# check the % of total\n",
    "print(F\"\\nCheck % of total: {sbd_ranked_gs.groupby('loc_date')['% of total'].sum().sum()}\\n\")\n",
    "print(F\"The number of SURVEYS where ALL TOBACCO items combined are rank one: {sbd_ranked_gs[(sbd_ranked_gs.groupname == 'tobacco')&(sbd_ranked_gs['rank'] == 1)].loc_date.nunique()}\\n\")\n",
    "\n",
    "print(F\"All TOBACCO items combined were number one in {np.round((sbd_ranked_gs[(sbd_ranked_gs.groupname == 'tobacco')&(sbd_ranked_gs['rank'] == 1)].loc_date.nunique()/sbd_ranked_gs.loc_date.nunique())*100,0)}% of the surveys.\")\n",
    "print(F\"\\nThe number of locations that tobaco is rank one: {sbd_ranked_gs[(sbd_ranked_gs.groupname == 'tobacco')&(sbd_ranked_gs['rank'] == 1)].location.nunique()}\\n\")\n",
    "print(F\"The objects labeled tobacco:\\n{sbd_ranked[sbd_ranked.groupname == 'tobacco'].code.unique()}\")"
   ]
  },
  {
   "cell_type": "code",
   "execution_count": 25,
   "metadata": {},
   "outputs": [
    {
     "name": "stdout",
     "output_type": "stream",
     "text": [
      "\n",
      "The number of samples: 126\n",
      "\n",
      "Other groups and the number of times they have been the most prevalent item:\n",
      "groupname\n",
      "food                   45\n",
      "tobacco                33\n",
      "fragmented plastics    19\n",
      "construction           14\n",
      "agg-con-trans           5\n",
      "less than 5mm           3\n",
      "waste water             2\n",
      "the rest                2\n",
      "recreation              2\n",
      "packaging               1\n",
      "Name: loc_date, dtype: int64\n",
      "\n"
     ]
    }
   ],
   "source": [
    "f = sbd_ranked_gs.groupby(['rank','groupname','location'], as_index=False).loc_date.nunique()\n",
    "fx = f[f['rank'] == 1].groupby('groupname').loc_date.sum()\n",
    "print(F\"\\nThe number of samples: {fx.sum()}\\n\")\n",
    "print(F\"Other groups and the number of times they have been the most prevalent item:\\n{fx.sort_values(ascending=False)}\\n\")"
   ]
  },
  {
   "cell_type": "code",
   "execution_count": 26,
   "metadata": {},
   "outputs": [],
   "source": [
    "# get the pass fail rate for each water feature\n",
    "\n",
    "# the total number of tries:\n",
    "tries_t = som_bassin_data.groupby(['water_name', 'code']).loc_date.nunique()\n",
    "\n",
    "# the total number of times that the object was found for a particular water feature\n",
    "fails_b = som_bassin_data.groupby(['water_name','code']).fail.sum()\n",
    "\n",
    "# the total number of samples:\n",
    "n_samps_b = som_bassin_data.groupby(['water_name']).loc_date.nunique()"
   ]
  },
  {
   "cell_type": "code",
   "execution_count": 27,
   "metadata": {},
   "outputs": [],
   "source": [
    "# get all values greater than zero for each code and LOCATION\n",
    "grtr_than_zero = som_bassin_data[(som_bassin_data.quantity > 0)].groupby(['code', 'location'], as_index=False).loc_date.count()\n",
    "\n",
    "# weight the result by the sum of the loc_date column\n",
    "grtr_than_zero['weight'] = grtr_than_zero.loc_date/grtr_than_zero.loc_date.sum()\n",
    "\n",
    "# housekeeping\n",
    "som_data = som_bassin_data.copy()\n",
    "\n",
    "# get a list of the codes that were found at least once\n",
    "codes_in_use = grtr_than_zero.code.unique()"
   ]
  },
  {
   "cell_type": "code",
   "execution_count": 28,
   "metadata": {},
   "outputs": [],
   "source": [
    "# combine the tries and fails dfs for each water feature\n",
    "tries_fails_b = pd.concat([tries_t, fails_b], axis=1)\n",
    "tries_fails_b.reset_index(inplace=True)"
   ]
  },
  {
   "cell_type": "code",
   "execution_count": 29,
   "metadata": {},
   "outputs": [
    {
     "data": {
      "text/html": [
       "<div>\n",
       "<style scoped>\n",
       "    .dataframe tbody tr th:only-of-type {\n",
       "        vertical-align: middle;\n",
       "    }\n",
       "\n",
       "    .dataframe tbody tr th {\n",
       "        vertical-align: top;\n",
       "    }\n",
       "\n",
       "    .dataframe thead th {\n",
       "        text-align: right;\n",
       "    }\n",
       "</style>\n",
       "<table border=\"1\" class=\"dataframe\">\n",
       "  <thead>\n",
       "    <tr style=\"text-align: right;\">\n",
       "      <th></th>\n",
       "      <th>water_name</th>\n",
       "      <th>code</th>\n",
       "      <th>loc_date</th>\n",
       "      <th>fail</th>\n",
       "    </tr>\n",
       "  </thead>\n",
       "  <tbody>\n",
       "    <tr>\n",
       "      <th>0</th>\n",
       "      <td>Aare</td>\n",
       "      <td>G1</td>\n",
       "      <td>12</td>\n",
       "      <td>0</td>\n",
       "    </tr>\n",
       "    <tr>\n",
       "      <th>1</th>\n",
       "      <td>Aare</td>\n",
       "      <td>G10</td>\n",
       "      <td>12</td>\n",
       "      <td>0</td>\n",
       "    </tr>\n",
       "    <tr>\n",
       "      <th>2</th>\n",
       "      <td>Aare</td>\n",
       "      <td>G100</td>\n",
       "      <td>12</td>\n",
       "      <td>0</td>\n",
       "    </tr>\n",
       "  </tbody>\n",
       "</table>\n",
       "</div>"
      ],
      "text/plain": [
       "  water_name  code  loc_date  fail\n",
       "0       Aare    G1        12     0\n",
       "1       Aare   G10        12     0\n",
       "2       Aare  G100        12     0"
      ]
     },
     "execution_count": 29,
     "metadata": {},
     "output_type": "execute_result"
    }
   ],
   "source": [
    "tries_fails_b.iloc[:3]"
   ]
  },
  {
   "cell_type": "code",
   "execution_count": 30,
   "metadata": {},
   "outputs": [
    {
     "data": {
      "text/html": [
       "<div>\n",
       "<style scoped>\n",
       "    .dataframe tbody tr th:only-of-type {\n",
       "        vertical-align: middle;\n",
       "    }\n",
       "\n",
       "    .dataframe tbody tr th {\n",
       "        vertical-align: top;\n",
       "    }\n",
       "\n",
       "    .dataframe thead th {\n",
       "        text-align: right;\n",
       "    }\n",
       "</style>\n",
       "<table border=\"1\" class=\"dataframe\">\n",
       "  <thead>\n",
       "    <tr style=\"text-align: right;\">\n",
       "      <th></th>\n",
       "      <th>water_name</th>\n",
       "      <th>code</th>\n",
       "      <th>loc_date</th>\n",
       "      <th>fail</th>\n",
       "      <th>rate</th>\n",
       "    </tr>\n",
       "  </thead>\n",
       "  <tbody>\n",
       "    <tr>\n",
       "      <th>0</th>\n",
       "      <td>Aare</td>\n",
       "      <td>G1</td>\n",
       "      <td>12</td>\n",
       "      <td>0</td>\n",
       "      <td>0.0</td>\n",
       "    </tr>\n",
       "    <tr>\n",
       "      <th>1</th>\n",
       "      <td>Aare</td>\n",
       "      <td>G10</td>\n",
       "      <td>12</td>\n",
       "      <td>0</td>\n",
       "      <td>0.0</td>\n",
       "    </tr>\n",
       "    <tr>\n",
       "      <th>2</th>\n",
       "      <td>Aare</td>\n",
       "      <td>G100</td>\n",
       "      <td>12</td>\n",
       "      <td>0</td>\n",
       "      <td>0.0</td>\n",
       "    </tr>\n",
       "  </tbody>\n",
       "</table>\n",
       "</div>"
      ],
      "text/plain": [
       "  water_name  code  loc_date  fail  rate\n",
       "0       Aare    G1        12     0   0.0\n",
       "1       Aare   G10        12     0   0.0\n",
       "2       Aare  G100        12     0   0.0"
      ]
     },
     "execution_count": 30,
     "metadata": {},
     "output_type": "execute_result"
    }
   ],
   "source": [
    "# get the ratio of total tries per code and location to total number of samples for that feature\n",
    "for a_b in tries_fails_b.water_name.unique():\n",
    "    tries_fails_b.loc[tries_fails_b.water_name==a_b, 'rate'] = tries_fails_b.fail/n_samps_b.loc[a_b]\n",
    "\n",
    "tries_fails_b.iloc[:3]"
   ]
  },
  {
   "cell_type": "code",
   "execution_count": 31,
   "metadata": {},
   "outputs": [
    {
     "data": {
      "text/plain": [
       "0.002898550724637681"
      ]
     },
     "execution_count": 31,
     "metadata": {},
     "output_type": "execute_result"
    }
   ],
   "source": [
    "# the minimum rate is 1/ the current sample number + 1\n",
    "# we are assuming that if the object has never been found before there\n",
    "# is always a chance that we may find it on the next sample\n",
    "# the longer we go without finding it the less likely it is to find in the river basin\n",
    "# which means that once it has been identified this should be considered a significant event.\n",
    "rate_min = 1/(len(a.processed.loc_date.unique())+1)\n",
    "rate_min"
   ]
  },
  {
   "cell_type": "code",
   "execution_count": 32,
   "metadata": {},
   "outputs": [
    {
     "data": {
      "text/html": [
       "<div>\n",
       "<style scoped>\n",
       "    .dataframe tbody tr th:only-of-type {\n",
       "        vertical-align: middle;\n",
       "    }\n",
       "\n",
       "    .dataframe tbody tr th {\n",
       "        vertical-align: top;\n",
       "    }\n",
       "\n",
       "    .dataframe thead th {\n",
       "        text-align: right;\n",
       "    }\n",
       "</style>\n",
       "<table border=\"1\" class=\"dataframe\">\n",
       "  <thead>\n",
       "    <tr style=\"text-align: right;\">\n",
       "      <th></th>\n",
       "      <th>water_name</th>\n",
       "      <th>code</th>\n",
       "      <th>loc_date</th>\n",
       "      <th>fail</th>\n",
       "      <th>rate</th>\n",
       "      <th>min_rate</th>\n",
       "    </tr>\n",
       "  </thead>\n",
       "  <tbody>\n",
       "    <tr>\n",
       "      <th>0</th>\n",
       "      <td>Aare</td>\n",
       "      <td>G1</td>\n",
       "      <td>12</td>\n",
       "      <td>0</td>\n",
       "      <td>0.0</td>\n",
       "      <td>0.002899</td>\n",
       "    </tr>\n",
       "    <tr>\n",
       "      <th>1</th>\n",
       "      <td>Aare</td>\n",
       "      <td>G10</td>\n",
       "      <td>12</td>\n",
       "      <td>0</td>\n",
       "      <td>0.0</td>\n",
       "      <td>0.002899</td>\n",
       "    </tr>\n",
       "    <tr>\n",
       "      <th>2</th>\n",
       "      <td>Aare</td>\n",
       "      <td>G100</td>\n",
       "      <td>12</td>\n",
       "      <td>0</td>\n",
       "      <td>0.0</td>\n",
       "      <td>0.002899</td>\n",
       "    </tr>\n",
       "  </tbody>\n",
       "</table>\n",
       "</div>"
      ],
      "text/plain": [
       "  water_name  code  loc_date  fail  rate  min_rate\n",
       "0       Aare    G1        12     0   0.0  0.002899\n",
       "1       Aare   G10        12     0   0.0  0.002899\n",
       "2       Aare  G100        12     0   0.0  0.002899"
      ]
     },
     "execution_count": 32,
     "metadata": {},
     "output_type": "execute_result"
    }
   ],
   "source": [
    "tries_fails_b.loc[tries_fails_b.fail==0, 'min_rate'] = rate_min\n",
    "tries_fails_b.loc[tries_fails_b.fail>0, 'min_rate'] = tries_fails_b.rate\n",
    "tries_fails_b.iloc[:3]"
   ]
  },
  {
   "cell_type": "code",
   "execution_count": 33,
   "metadata": {},
   "outputs": [
    {
     "data": {
      "text/plain": [
       "loc_date           12.000000\n",
       "location_weight     0.095238\n",
       "Name: Aare, dtype: float64"
      ]
     },
     "execution_count": 33,
     "metadata": {},
     "output_type": "execute_result"
    }
   ],
   "source": [
    "# get the ratio samples-per-location/number-samples-catchment-area\n",
    "weights = tries_fails_b[['water_name', 'loc_date']].drop_duplicates().set_index('water_name', drop=True)\n",
    "weights['location_weight'] = weights.loc_date/len(locs)\n",
    "nsamps = weights.loc['Aare', :]\n",
    "\n",
    "# now the number of samples and the weight is available\n",
    "nsamps"
   ]
  },
  {
   "cell_type": "code",
   "execution_count": 34,
   "metadata": {},
   "outputs": [],
   "source": [
    "# pull some samples from one river basin feature\n",
    "feature = 'Aare'\n",
    "n = weights.loc['Aare', 'loc_date']\n",
    "rates = tries_fails_b.loc[tries_fails_b.water_name == 'Aare'][['code','min_rate']].set_index('code')\n",
    "\n",
    "# store the samples here\n",
    "theta_samples_feature = pd.DataFrame(index=codes_in_use)"
   ]
  },
  {
   "cell_type": "code",
   "execution_count": 35,
   "metadata": {},
   "outputs": [
    {
     "data": {
      "text/plain": [
       "array([0.5])"
      ]
     },
     "execution_count": 35,
     "metadata": {},
     "output_type": "execute_result"
    }
   ],
   "source": [
    "rates.loc['G27'].values"
   ]
  },
  {
   "cell_type": "code",
   "execution_count": 36,
   "metadata": {},
   "outputs": [],
   "source": [
    "# determine wehter or not an object was found at a survey\n",
    "# use the rates for the parameter of a bernouli trial for each code\n",
    "\n",
    "k=0\n",
    "for j in np.arange(n):\n",
    "    k+=1\n",
    "    col_name = F\"s_{int(k)}\"\n",
    "    for a_code in codes_in_use:\n",
    "        theta_samples_feature.loc[a_code, col_name ] = bernoulli.rvs(rates.loc[a_code], size=1)\n",
    "\n",
    "\n",
    "found_feature = theta_samples_feature > 0\n",
    "codes_found_feature = [found_feature[found_feature[s_one] == True][s_one].index for s_one in found_feature.columns]\n",
    "codes_found_len_feature = [len(x) for x in codes_found_feature]"
   ]
  },
  {
   "cell_type": "code",
   "execution_count": 37,
   "metadata": {},
   "outputs": [],
   "source": [
    "d_samps_aare = b.bassin_data[(b.bassin_data.quantity>0)&(b.bassin_data.water_name == \"Aare\")][['loc_date', 'code']].groupby('loc_date').code.unique().to_numpy()"
   ]
  },
  {
   "cell_type": "code",
   "execution_count": 38,
   "metadata": {},
   "outputs": [],
   "source": [
    "# get the number of times each code was found\n",
    "def count_occurences(an_array):\n",
    "    wiw = {}\n",
    "    for a_list in an_array:\n",
    "        for code in a_list:\n",
    "            if code in wiw.keys():\n",
    "                wiw[code] += 1\n",
    "            else:\n",
    "                wiw[code] = 1\n",
    "    return [{'code':k, 'inst':v} for k,v in wiw.items()]\n",
    "theta_codes_count = count_occurences(codes_found_feature)\n",
    "dsamp_aare_count = pd.DataFrame(count_occurences(d_samps_aare)).set_index('code')"
   ]
  },
  {
   "cell_type": "code",
   "execution_count": 39,
   "metadata": {},
   "outputs": [
    {
     "data": {
      "text/plain": [
       "2"
      ]
     },
     "execution_count": 39,
     "metadata": {},
     "output_type": "execute_result"
    }
   ],
   "source": [
    "dsamp_aare_count.loc['G7', 'inst']"
   ]
  },
  {
   "cell_type": "code",
   "execution_count": 40,
   "metadata": {},
   "outputs": [
    {
     "name": "stdout",
     "output_type": "stream",
     "text": [
      "75\n",
      "92\n",
      "17\n",
      "49\n"
     ]
    }
   ],
   "source": [
    "# combine the counts in to one dataframe and compare results\n",
    "\n",
    "def combine_code_counts(x):\n",
    "    try:\n",
    "        data = dsamp_aare_count.loc[x, 'inst']\n",
    "    except:\n",
    "        data = 0\n",
    "    return data\n",
    "        \n",
    "theta_codes = pd.DataFrame(theta_codes_count)\n",
    "theta_codes['s_inst'] = theta_codes.code.map(lambda x: combine_code_counts(x))\n",
    "theta_codes['inst_dif'] = theta_codes.inst - theta_codes.s_inst\n",
    "\n",
    "# check the diffference between the two sets\n",
    "print(theta_codes['s_inst'].sum())\n",
    "print(theta_codes['inst'].sum())\n",
    "print(theta_codes.inst_dif.sum())\n",
    "print(len(theta_codes))"
   ]
  },
  {
   "cell_type": "code",
   "execution_count": 41,
   "metadata": {},
   "outputs": [
    {
     "data": {
      "text/html": [
       "<div>\n",
       "<style scoped>\n",
       "    .dataframe tbody tr th:only-of-type {\n",
       "        vertical-align: middle;\n",
       "    }\n",
       "\n",
       "    .dataframe tbody tr th {\n",
       "        vertical-align: top;\n",
       "    }\n",
       "\n",
       "    .dataframe thead th {\n",
       "        text-align: right;\n",
       "    }\n",
       "</style>\n",
       "<table border=\"1\" class=\"dataframe\">\n",
       "  <thead>\n",
       "    <tr style=\"text-align: right;\">\n",
       "      <th></th>\n",
       "      <th>code</th>\n",
       "      <th>inst</th>\n",
       "      <th>s_inst</th>\n",
       "      <th>inst_dif</th>\n",
       "    </tr>\n",
       "  </thead>\n",
       "  <tbody>\n",
       "    <tr>\n",
       "      <th>2</th>\n",
       "      <td>G6</td>\n",
       "      <td>1</td>\n",
       "      <td>0</td>\n",
       "      <td>1</td>\n",
       "    </tr>\n",
       "    <tr>\n",
       "      <th>5</th>\n",
       "      <td>G84</td>\n",
       "      <td>1</td>\n",
       "      <td>0</td>\n",
       "      <td>1</td>\n",
       "    </tr>\n",
       "    <tr>\n",
       "      <th>9</th>\n",
       "      <td>G36</td>\n",
       "      <td>1</td>\n",
       "      <td>0</td>\n",
       "      <td>1</td>\n",
       "    </tr>\n",
       "    <tr>\n",
       "      <th>22</th>\n",
       "      <td>G26</td>\n",
       "      <td>1</td>\n",
       "      <td>0</td>\n",
       "      <td>1</td>\n",
       "    </tr>\n",
       "    <tr>\n",
       "      <th>35</th>\n",
       "      <td>G138</td>\n",
       "      <td>1</td>\n",
       "      <td>0</td>\n",
       "      <td>1</td>\n",
       "    </tr>\n",
       "    <tr>\n",
       "      <th>44</th>\n",
       "      <td>G49</td>\n",
       "      <td>1</td>\n",
       "      <td>0</td>\n",
       "      <td>1</td>\n",
       "    </tr>\n",
       "    <tr>\n",
       "      <th>46</th>\n",
       "      <td>G17</td>\n",
       "      <td>1</td>\n",
       "      <td>0</td>\n",
       "      <td>1</td>\n",
       "    </tr>\n",
       "    <tr>\n",
       "      <th>48</th>\n",
       "      <td>G913</td>\n",
       "      <td>1</td>\n",
       "      <td>0</td>\n",
       "      <td>1</td>\n",
       "    </tr>\n",
       "  </tbody>\n",
       "</table>\n",
       "</div>"
      ],
      "text/plain": [
       "    code  inst  s_inst  inst_dif\n",
       "2     G6     1       0         1\n",
       "5    G84     1       0         1\n",
       "9    G36     1       0         1\n",
       "22   G26     1       0         1\n",
       "35  G138     1       0         1\n",
       "44   G49     1       0         1\n",
       "46   G17     1       0         1\n",
       "48  G913     1       0         1"
      ]
     },
     "execution_count": 41,
     "metadata": {},
     "output_type": "execute_result"
    }
   ],
   "source": [
    "theta_codes[theta_codes.code.isin([x for x in theta_codes.code.unique() if x not in dsamp_aare_count.index])]"
   ]
  },
  {
   "cell_type": "code",
   "execution_count": 42,
   "metadata": {},
   "outputs": [
    {
     "data": {
      "image/png": "[encoded data removed]",
      "text/plain": [
       "<Figure size 864x576 with 2 Axes>"
      ]
     },
     "metadata": {
      "needs_background": "light"
     },
     "output_type": "display_data"
    }
   ],
   "source": [
    "fig, axs = plt.subplots(2,1, figsize=(12,8))\n",
    "sns.barplot(data=theta_codes.sort_values(by='s_inst', ascending=False), x='code', y='s_inst', ax=axs[0])\n",
    "sns.barplot(data=theta_codes.sort_values(by='inst', ascending=False), x='code', y='inst', ax=axs[1])\n",
    "axs[0].tick_params(axis='x', labelrotation=90, labelsize=8)\n",
    "axs[1].tick_params(axis='x', labelrotation=90, labelsize=8)\n",
    "plt.show()\n",
    "plt.close()"
   ]
  },
  {
   "cell_type": "code",
   "execution_count": 43,
   "metadata": {},
   "outputs": [],
   "source": [
    "theta_samples_all = pd.DataFrame(index=codes_in_use)\n",
    "tries = som_bassin_data.groupby(['code']).loc_date.nunique()\n",
    "fails = som_bassin_data.groupby('code').fail.sum()\n",
    "# tries_fails by water body\n",
    "\n",
    "# for one body of water\n",
    "#fails_b = som_bassin_data.groupby(['water_name','code']).fail.sum()\n",
    "\n",
    "tries_fails = pd.concat([tries, fails], axis=1)\n",
    "tries_fails['rate'] = tries_fails.fail/tries_fails.loc_date\n",
    "\n",
    "code_weights = grtr_than_zero.groupby('code').weight.sum()"
   ]
  },
  {
   "cell_type": "code",
   "execution_count": 44,
   "metadata": {},
   "outputs": [],
   "source": [
    "k = 0\n",
    "for body in weights.index:\n",
    "#     print(body)\n",
    "#     print(tries_fails_b.loc[body].min_rate.sum())\n",
    "    these_rates =tries_fails_b.loc[tries_fails_b.water_name == body][['code','min_rate']].set_index('code')\n",
    "    \n",
    "\n",
    "    for j in np.arange(weights.loc[body]['loc_date']):\n",
    "        k+=1\n",
    "        #print(j, k)\n",
    "        col_name = F\"s_{int(k)} {body}\"\n",
    "        for a_code in codes_in_use:\n",
    "            theta_samples_all.loc[a_code, col_name ] = bernoulli.rvs(these_rates.loc[a_code], size=1)\n",
    "#             theta_samples_all.loc[a_code, col_name ] = binom.rvs(1,these_rates.loc[a_code], size=1)\n",
    "            "
   ]
  },
  {
   "cell_type": "code",
   "execution_count": 45,
   "metadata": {},
   "outputs": [
    {
     "name": "stdout",
     "output_type": "stream",
     "text": [
      "8\n",
      "8\n",
      "126\n"
     ]
    }
   ],
   "source": [
    "found = theta_samples_all > 0\n",
    "codes_found = [found[found[s_one] == True][s_one].index for s_one in found.columns]\n",
    "codes_found_len = [len(x) for x in codes_found]\n",
    "\n",
    "print(len(codes_found[0]))\n",
    "print(codes_found_len[0])\n",
    "print(len(codes_found))"
   ]
  },
  {
   "cell_type": "code",
   "execution_count": 46,
   "metadata": {},
   "outputs": [
    {
     "data": {
      "text/html": [
       "<div>\n",
       "<style scoped>\n",
       "    .dataframe tbody tr th:only-of-type {\n",
       "        vertical-align: middle;\n",
       "    }\n",
       "\n",
       "    .dataframe tbody tr th {\n",
       "        vertical-align: top;\n",
       "    }\n",
       "\n",
       "    .dataframe thead th {\n",
       "        text-align: right;\n",
       "    }\n",
       "</style>\n",
       "<table border=\"1\" class=\"dataframe\">\n",
       "  <thead>\n",
       "    <tr style=\"text-align: right;\">\n",
       "      <th></th>\n",
       "      <th>loc_date</th>\n",
       "      <th>fail</th>\n",
       "      <th>rate</th>\n",
       "    </tr>\n",
       "    <tr>\n",
       "      <th>code</th>\n",
       "      <th></th>\n",
       "      <th></th>\n",
       "      <th></th>\n",
       "    </tr>\n",
       "  </thead>\n",
       "  <tbody>\n",
       "    <tr>\n",
       "      <th>G1</th>\n",
       "      <td>126</td>\n",
       "      <td>0</td>\n",
       "      <td>0.000000</td>\n",
       "    </tr>\n",
       "    <tr>\n",
       "      <th>G10</th>\n",
       "      <td>126</td>\n",
       "      <td>37</td>\n",
       "      <td>0.293651</td>\n",
       "    </tr>\n",
       "    <tr>\n",
       "      <th>G100</th>\n",
       "      <td>126</td>\n",
       "      <td>26</td>\n",
       "      <td>0.206349</td>\n",
       "    </tr>\n",
       "  </tbody>\n",
       "</table>\n",
       "</div>"
      ],
      "text/plain": [
       "      loc_date  fail      rate\n",
       "code                          \n",
       "G1         126     0  0.000000\n",
       "G10        126    37  0.293651\n",
       "G100       126    26  0.206349"
      ]
     },
     "execution_count": 46,
     "metadata": {},
     "output_type": "execute_result"
    }
   ],
   "source": [
    "tries_fails.iloc[:3]"
   ]
  },
  {
   "cell_type": "code",
   "execution_count": 47,
   "metadata": {},
   "outputs": [],
   "source": [
    "# the number of unique codes per sample in the project data:\n",
    "d_samps = b.bassin_data[b.bassin_data.quantity>0][['loc_date', 'code']].groupby('loc_date').code.nunique()\n",
    "\n",
    "# the list of codes found at each survey in the project data:\n",
    "d_samps_c = b.bassin_data[b.bassin_data.quantity>0][['loc_date', 'code']].groupby('loc_date').code.unique().to_numpy()"
   ]
  },
  {
   "cell_type": "code",
   "execution_count": 48,
   "metadata": {},
   "outputs": [],
   "source": [
    "def count_occurences(an_array):\n",
    "    wiw = {}\n",
    "    for a_list in an_array:\n",
    "        for code in a_list:\n",
    "            if code in wiw.keys():\n",
    "                wiw[code] += 1\n",
    "            else:\n",
    "                wiw[code] = 1\n",
    "    return [{'code':k, 'inst':v} for k,v in wiw.items()]\n",
    "samp_codes = pd.DataFrame(count_occurences(d_samps_c)).set_index('code')\n"
   ]
  },
  {
   "cell_type": "code",
   "execution_count": 49,
   "metadata": {},
   "outputs": [],
   "source": [
    "# a_list_o_list = [value for k, value in samples.items()]\n",
    "# the_list_o_list = [*a_list_o_list]\n",
    "theta_codes = pd.DataFrame(count_occurences(codes_found))\n",
    "theta_codes['s_inst'] = theta_codes.code.map(lambda x: samp_codes.loc[x, 'inst'])\n",
    "theta_codes['inst_dif'] = theta_codes.inst - theta_codes.s_inst"
   ]
  },
  {
   "cell_type": "code",
   "execution_count": 50,
   "metadata": {},
   "outputs": [
    {
     "name": "stdout",
     "output_type": "stream",
     "text": [
      "-11\n",
      "161\n",
      "2875 2886\n"
     ]
    }
   ],
   "source": [
    "print(theta_codes['inst_dif'].sum())\n",
    "print(len(theta_codes))\n",
    "print(theta_codes.inst.sum(), theta_codes.s_inst.sum())"
   ]
  },
  {
   "cell_type": "code",
   "execution_count": 51,
   "metadata": {},
   "outputs": [
    {
     "data": {
      "image/png": "[encoded data removed]",
      "text/plain": [
       "<Figure size 1296x576 with 1 Axes>"
      ]
     },
     "metadata": {
      "needs_background": "light"
     },
     "output_type": "display_data"
    }
   ],
   "source": [
    "fig, axs = plt.subplots(figsize=(18,8))\n",
    "sns.barplot(data=theta_codes[theta_codes.inst >=20].sort_values(by='s_inst', ascending=False), x='code', y='s_inst', color='red', alpha=.6, ax=axs)\n",
    "sns.barplot(data=theta_codes[theta_codes.inst >=20].sort_values(by='inst', ascending=False), x='code', y='inst', color='blue',alpha=.6, ax=axs)\n",
    "axs.tick_params(axis='x', labelrotation=90, labelsize=10)\n",
    "# axs[1].tick_params(axis='x', labelrotation=90, labelsize=8)\n",
    "plt.show()\n",
    "plt.close()"
   ]
  },
  {
   "cell_type": "code",
   "execution_count": 52,
   "metadata": {},
   "outputs": [
    {
     "data": {
      "image/png": "[encoded data removed]",
      "text/plain": [
       "<Figure size 432x288 with 2 Axes>"
      ]
     },
     "metadata": {
      "needs_background": "light"
     },
     "output_type": "display_data"
    }
   ],
   "source": [
    "\n",
    "fig, axs = plt.subplots(1,2)\n",
    "sns.histplot(codes_found_len, ax=axs[0], binwidth=3)\n",
    "sns.histplot(d_samps.values, ax=axs[1], binwidth=3)\n",
    "plt.show()\n",
    "plt.close()"
   ]
  },
  {
   "cell_type": "code",
   "execution_count": 53,
   "metadata": {},
   "outputs": [],
   "source": [
    "# found.rename(columns={x:x.split(\" \")[-1] for x in found.columns}, inplace=True)\n",
    "codes_found = [{'label':s_one.split(\" \")[-1] , 'codes':found[found[s_one] == True][s_one].index.to_numpy()} for s_one in found.columns]\n",
    "# codes_found_len = [len(x) for x in codes_found_feature]\n",
    "a_label = codes_found[1]['label']\n",
    "a_code = codes_found[1]['codes'][0]"
   ]
  },
  {
   "cell_type": "code",
   "execution_count": 54,
   "metadata": {},
   "outputs": [],
   "source": [
    "location_weight = som_bassin_data.groupby('water_name', as_index=False).l_weight.median()\n",
    "location_weight.loc[4, 'water_name'] = \"Thièle\""
   ]
  },
  {
   "cell_type": "code",
   "execution_count": 55,
   "metadata": {},
   "outputs": [
    {
     "name": "stdout",
     "output_type": "stream",
     "text": [
      "0.01\n",
      "G125\n",
      "Aare\n",
      "\n",
      " the parameters \n",
      "\n",
      "0.01 0.01 100.0\n",
      "\n",
      "the predicted result \n",
      "\n",
      "0.01\n"
     ]
    }
   ],
   "source": [
    "agg_results_feature = som_bassin_data[som_bassin_data.pcs_m > 0].groupby(['water_name','code']).agg({'pcs_m':['mean', 'min', 'median', 'max']})\n",
    "agg_results_feature.columns = agg_results_feature.columns.get_level_values(1)\n",
    "agg_results_bassin = som_bassin_data[som_bassin_data.pcs_m > 0].groupby(['code']).agg({'pcs_m':['mean', 'min', 'median', 'max']})\n",
    "agg_results_bassin.columns = agg_results_bassin.columns.get_level_values(1)\n",
    "# get the parameters for one code at one sample:\n",
    "this_data = agg_results_feature.loc[a_label,codes_found[1]['codes'][0]]\n",
    "print(this_data['mean'])\n",
    "print(codes_found[1]['codes'][0])\n",
    "print(a_label)\n",
    "loc = this_data['mean']\n",
    "alpha=this_data['min']\n",
    "beta = 1/alpha\n",
    "print(\"\\n the parameters \\n\")\n",
    "print(loc, alpha, beta)\n",
    "\n",
    "print(\"\\nthe predicted result \\n\")\n",
    "print(gamma.rvs(alpha, loc=loc, scale=beta))"
   ]
  },
  {
   "cell_type": "code",
   "execution_count": 56,
   "metadata": {},
   "outputs": [
    {
     "data": {
      "text/plain": [
       "0.03"
      ]
     },
     "execution_count": 56,
     "metadata": {},
     "output_type": "execute_result"
    }
   ],
   "source": [
    "agg_results_feature.loc['Aare','G101']['min']"
   ]
  },
  {
   "cell_type": "code",
   "execution_count": 57,
   "metadata": {},
   "outputs": [],
   "source": [
    "# hmm = pd.DataFrame(codes_found).explode('codes').copy()\n",
    "# hmm.drop_duplicates(inplace=True)\n",
    "# print(hmm.isnull().values.any())\n",
    "# hmm.reset_index(inplace=True, drop=True)"
   ]
  },
  {
   "cell_type": "code",
   "execution_count": 58,
   "metadata": {},
   "outputs": [],
   "source": [
    "def assign_params(a_label, a_code, a_param, params):\n",
    "    default_params = agg_results_bassin\n",
    "    try:\n",
    "        this_param = params.loc[a_label,a_code][a_param]\n",
    "    except:\n",
    "        this_param = default_params.loc[a_code][a_param]\n",
    "    return this_param\n",
    "    "
   ]
  },
  {
   "cell_type": "code",
   "execution_count": 59,
   "metadata": {},
   "outputs": [
    {
     "data": {
      "text/html": [
       "<div>\n",
       "<style scoped>\n",
       "    .dataframe tbody tr th:only-of-type {\n",
       "        vertical-align: middle;\n",
       "    }\n",
       "\n",
       "    .dataframe tbody tr th {\n",
       "        vertical-align: top;\n",
       "    }\n",
       "\n",
       "    .dataframe thead th {\n",
       "        text-align: right;\n",
       "    }\n",
       "</style>\n",
       "<table border=\"1\" class=\"dataframe\">\n",
       "  <thead>\n",
       "    <tr style=\"text-align: right;\">\n",
       "      <th></th>\n",
       "      <th>water_name</th>\n",
       "      <th>pcs_m</th>\n",
       "    </tr>\n",
       "  </thead>\n",
       "  <tbody>\n",
       "    <tr>\n",
       "      <th>0</th>\n",
       "      <td>Aare</td>\n",
       "      <td>0.02</td>\n",
       "    </tr>\n",
       "    <tr>\n",
       "      <th>1</th>\n",
       "      <td>Aare</td>\n",
       "      <td>0.12</td>\n",
       "    </tr>\n",
       "    <tr>\n",
       "      <th>2</th>\n",
       "      <td>Aare</td>\n",
       "      <td>0.16</td>\n",
       "    </tr>\n",
       "    <tr>\n",
       "      <th>3</th>\n",
       "      <td>Thunersee</td>\n",
       "      <td>0.16</td>\n",
       "    </tr>\n",
       "    <tr>\n",
       "      <th>4</th>\n",
       "      <td>Aare</td>\n",
       "      <td>0.16</td>\n",
       "    </tr>\n",
       "    <tr>\n",
       "      <th>...</th>\n",
       "      <td>...</td>\n",
       "      <td>...</td>\n",
       "    </tr>\n",
       "    <tr>\n",
       "      <th>121</th>\n",
       "      <td>Bielersee</td>\n",
       "      <td>8.02</td>\n",
       "    </tr>\n",
       "    <tr>\n",
       "      <th>122</th>\n",
       "      <td>Bielersee</td>\n",
       "      <td>8.21</td>\n",
       "    </tr>\n",
       "    <tr>\n",
       "      <th>123</th>\n",
       "      <td>Bielersee</td>\n",
       "      <td>9.33</td>\n",
       "    </tr>\n",
       "    <tr>\n",
       "      <th>124</th>\n",
       "      <td>Bielersee</td>\n",
       "      <td>10.47</td>\n",
       "    </tr>\n",
       "    <tr>\n",
       "      <th>125</th>\n",
       "      <td>Bielersee</td>\n",
       "      <td>14.80</td>\n",
       "    </tr>\n",
       "  </tbody>\n",
       "</table>\n",
       "<p>126 rows × 2 columns</p>\n",
       "</div>"
      ],
      "text/plain": [
       "    water_name  pcs_m\n",
       "0         Aare   0.02\n",
       "1         Aare   0.12\n",
       "2         Aare   0.16\n",
       "3    Thunersee   0.16\n",
       "4         Aare   0.16\n",
       "..         ...    ...\n",
       "121  Bielersee   8.02\n",
       "122  Bielersee   8.21\n",
       "123  Bielersee   9.33\n",
       "124  Bielersee  10.47\n",
       "125  Bielersee  14.80\n",
       "\n",
       "[126 rows x 2 columns]"
      ]
     },
     "execution_count": 59,
     "metadata": {},
     "output_type": "execute_result"
    }
   ],
   "source": [
    "o_samps_d = b.bassin_pcsm_day[['water_name', 'pcs_m']].sort_values(by='pcs_m')\n",
    "o_samps_d.reset_index(inplace=True, drop=True)\n",
    "o_samps_d"
   ]
  },
  {
   "cell_type": "code",
   "execution_count": 60,
   "metadata": {},
   "outputs": [],
   "source": [
    "location_weight.set_index('water_name', drop=True, inplace=True)\n"
   ]
  },
  {
   "cell_type": "code",
   "execution_count": 61,
   "metadata": {},
   "outputs": [
    {
     "data": {
      "text/html": [
       "<div>\n",
       "<style scoped>\n",
       "    .dataframe tbody tr th:only-of-type {\n",
       "        vertical-align: middle;\n",
       "    }\n",
       "\n",
       "    .dataframe tbody tr th {\n",
       "        vertical-align: top;\n",
       "    }\n",
       "\n",
       "    .dataframe thead th {\n",
       "        text-align: right;\n",
       "    }\n",
       "</style>\n",
       "<table border=\"1\" class=\"dataframe\">\n",
       "  <thead>\n",
       "    <tr style=\"text-align: right;\">\n",
       "      <th></th>\n",
       "      <th>l_weight</th>\n",
       "    </tr>\n",
       "    <tr>\n",
       "      <th>water_name</th>\n",
       "      <th></th>\n",
       "    </tr>\n",
       "  </thead>\n",
       "  <tbody>\n",
       "    <tr>\n",
       "      <th>Aare</th>\n",
       "      <td>0.007937</td>\n",
       "    </tr>\n",
       "    <tr>\n",
       "      <th>Aare|Nidau-Büren-Kanal</th>\n",
       "      <td>0.007937</td>\n",
       "    </tr>\n",
       "    <tr>\n",
       "      <th>Bielersee</th>\n",
       "      <td>0.087302</td>\n",
       "    </tr>\n",
       "    <tr>\n",
       "      <th>Brienzersee</th>\n",
       "      <td>0.015873</td>\n",
       "    </tr>\n",
       "    <tr>\n",
       "      <th>Thièle</th>\n",
       "      <td>0.007937</td>\n",
       "    </tr>\n",
       "    <tr>\n",
       "      <th>Neuenburgersee</th>\n",
       "      <td>0.087302</td>\n",
       "    </tr>\n",
       "    <tr>\n",
       "      <th>Schüss</th>\n",
       "      <td>0.015873</td>\n",
       "    </tr>\n",
       "    <tr>\n",
       "      <th>Thunersee</th>\n",
       "      <td>0.079365</td>\n",
       "    </tr>\n",
       "  </tbody>\n",
       "</table>\n",
       "</div>"
      ],
      "text/plain": [
       "                        l_weight\n",
       "water_name                      \n",
       "Aare                    0.007937\n",
       "Aare|Nidau-Büren-Kanal  0.007937\n",
       "Bielersee               0.087302\n",
       "Brienzersee             0.015873\n",
       "Thièle                  0.007937\n",
       "Neuenburgersee          0.087302\n",
       "Schüss                  0.015873\n",
       "Thunersee               0.079365"
      ]
     },
     "execution_count": 61,
     "metadata": {},
     "output_type": "execute_result"
    }
   ],
   "source": [
    "location_weight"
   ]
  },
  {
   "cell_type": "code",
   "execution_count": 62,
   "metadata": {},
   "outputs": [],
   "source": [
    "sim_surveys = []\n",
    "for i,sample in enumerate(codes_found):\n",
    "    a_label = sample['label']\n",
    "    som_codes = sample['codes']\n",
    "    loc_weight = location_weight.loc[a_label]\n",
    "    for a_code in som_codes:\n",
    "        alpha = assign_params(a_label, a_code, 'median', agg_results_feature)\n",
    "        loc = assign_params(a_label, a_code, 'min', agg_results_feature)\n",
    "        scale = assign_params(a_label, a_code, 'max', agg_results_feature)+(5*alpha)       \n",
    "        pcs_m = gamma.rvs(alpha+(loc_weight*alpha), loc=loc, scale=scale)\n",
    "        sim_surveys.append({'code':a_code, 'label':a_label, 'survey':i, 'pcs_m':pcs_m})\n",
    "    \n",
    "new_surveys = pd.DataFrame(sim_surveys)\n",
    "new_surveys_d = new_surveys.groupby(['survey','label'], as_index=False).pcs_m.sum().copy()\n",
    "\n",
    "new_surveys_d.sort_values(by='pcs_m', inplace=True)\n",
    "ns_d = new_surveys_d[['label', 'pcs_m']].reset_index(drop=True).copy()\n",
    "ns_d.rename(columns={'label':'water_name'}, inplace=True)\n",
    "ns_d['label'] = 'sim'\n",
    "o_samps_d['label'] = 'odata'\n",
    "o_samps_d['survey'] = o_samps_d.index\n",
    "ns_d['survey'] =ns_d.index"
   ]
  },
  {
   "cell_type": "code",
   "execution_count": 63,
   "metadata": {},
   "outputs": [],
   "source": [
    "o_samps_d['label'] = 'odata'\n",
    "\n",
    "combined = pd.concat([ns_d, o_samps_d])"
   ]
  },
  {
   "cell_type": "code",
   "execution_count": 64,
   "metadata": {},
   "outputs": [
    {
     "data": {
      "text/html": [
       "<div>\n",
       "<style scoped>\n",
       "    .dataframe tbody tr th:only-of-type {\n",
       "        vertical-align: middle;\n",
       "    }\n",
       "\n",
       "    .dataframe tbody tr th {\n",
       "        vertical-align: top;\n",
       "    }\n",
       "\n",
       "    .dataframe thead th {\n",
       "        text-align: right;\n",
       "    }\n",
       "</style>\n",
       "<table border=\"1\" class=\"dataframe\">\n",
       "  <thead>\n",
       "    <tr style=\"text-align: right;\">\n",
       "      <th></th>\n",
       "      <th>water_name</th>\n",
       "      <th>pcs_m</th>\n",
       "      <th>label</th>\n",
       "      <th>survey</th>\n",
       "    </tr>\n",
       "  </thead>\n",
       "  <tbody>\n",
       "    <tr>\n",
       "      <th>0</th>\n",
       "      <td>Aare</td>\n",
       "      <td>0.154164</td>\n",
       "      <td>sim</td>\n",
       "      <td>0</td>\n",
       "    </tr>\n",
       "    <tr>\n",
       "      <th>1</th>\n",
       "      <td>Aare</td>\n",
       "      <td>0.154482</td>\n",
       "      <td>sim</td>\n",
       "      <td>1</td>\n",
       "    </tr>\n",
       "    <tr>\n",
       "      <th>2</th>\n",
       "      <td>Neuenburgersee</td>\n",
       "      <td>0.282592</td>\n",
       "      <td>sim</td>\n",
       "      <td>2</td>\n",
       "    </tr>\n",
       "    <tr>\n",
       "      <th>3</th>\n",
       "      <td>Thunersee</td>\n",
       "      <td>0.289386</td>\n",
       "      <td>sim</td>\n",
       "      <td>3</td>\n",
       "    </tr>\n",
       "    <tr>\n",
       "      <th>4</th>\n",
       "      <td>Thunersee</td>\n",
       "      <td>0.303497</td>\n",
       "      <td>sim</td>\n",
       "      <td>4</td>\n",
       "    </tr>\n",
       "    <tr>\n",
       "      <th>...</th>\n",
       "      <td>...</td>\n",
       "      <td>...</td>\n",
       "      <td>...</td>\n",
       "      <td>...</td>\n",
       "    </tr>\n",
       "    <tr>\n",
       "      <th>121</th>\n",
       "      <td>Bielersee</td>\n",
       "      <td>8.020000</td>\n",
       "      <td>odata</td>\n",
       "      <td>121</td>\n",
       "    </tr>\n",
       "    <tr>\n",
       "      <th>122</th>\n",
       "      <td>Bielersee</td>\n",
       "      <td>8.210000</td>\n",
       "      <td>odata</td>\n",
       "      <td>122</td>\n",
       "    </tr>\n",
       "    <tr>\n",
       "      <th>123</th>\n",
       "      <td>Bielersee</td>\n",
       "      <td>9.330000</td>\n",
       "      <td>odata</td>\n",
       "      <td>123</td>\n",
       "    </tr>\n",
       "    <tr>\n",
       "      <th>124</th>\n",
       "      <td>Bielersee</td>\n",
       "      <td>10.470000</td>\n",
       "      <td>odata</td>\n",
       "      <td>124</td>\n",
       "    </tr>\n",
       "    <tr>\n",
       "      <th>125</th>\n",
       "      <td>Bielersee</td>\n",
       "      <td>14.800000</td>\n",
       "      <td>odata</td>\n",
       "      <td>125</td>\n",
       "    </tr>\n",
       "  </tbody>\n",
       "</table>\n",
       "<p>252 rows × 4 columns</p>\n",
       "</div>"
      ],
      "text/plain": [
       "         water_name      pcs_m  label  survey\n",
       "0              Aare   0.154164    sim       0\n",
       "1              Aare   0.154482    sim       1\n",
       "2    Neuenburgersee   0.282592    sim       2\n",
       "3         Thunersee   0.289386    sim       3\n",
       "4         Thunersee   0.303497    sim       4\n",
       "..              ...        ...    ...     ...\n",
       "121       Bielersee   8.020000  odata     121\n",
       "122       Bielersee   8.210000  odata     122\n",
       "123       Bielersee   9.330000  odata     123\n",
       "124       Bielersee  10.470000  odata     124\n",
       "125       Bielersee  14.800000  odata     125\n",
       "\n",
       "[252 rows x 4 columns]"
      ]
     },
     "execution_count": 64,
     "metadata": {},
     "output_type": "execute_result"
    }
   ],
   "source": [
    "combined"
   ]
  },
  {
   "cell_type": "code",
   "execution_count": 65,
   "metadata": {},
   "outputs": [
    {
     "data": {
      "image/png": "[encoded data removed]",
      "text/plain": [
       "<Figure size 1008x576 with 1 Axes>"
      ]
     },
     "metadata": {
      "needs_background": "light"
     },
     "output_type": "display_data"
    }
   ],
   "source": [
    "fig, axs = plt.subplots(figsize=(14,8))\n",
    "sns.scatterplot(data=combined, x='survey', y='pcs_m', style='label', hue='water_name', palette='husl', s=40, ax=axs)\n",
    "# sns.scatterplot(data=o_samps_d, x=o_samps_d.index, y=o_samps_d.pcs_m, hue=o_samps_d.water_name, palette='viridis', ax=axs)\n",
    "plt.legend(bbox_to_anchor=(1.05, 1), loc=2, borderaxespad=0.)\n",
    "plt.show()\n",
    "plt.close()"
   ]
  },
  {
   "cell_type": "code",
   "execution_count": 66,
   "metadata": {},
   "outputs": [
    {
     "data": {
      "image/png": "[encoded data removed]",
      "text/plain": [
       "<Figure size 1008x576 with 1 Axes>"
      ]
     },
     "metadata": {
      "needs_background": "light"
     },
     "output_type": "display_data"
    }
   ],
   "source": [
    "# get the values for one survey:\n",
    "fig, axs = plt.subplots(figsize=(14,8))\n",
    "sns.boxplot(data=combined, x='water_name', y='pcs_m', hue='label', palette='flare', ax=axs, dodge=True)\n",
    "sns.stripplot(data=combined, x='water_name', y='pcs_m', hue='label', palette='husl', ax=axs)\n",
    "plt.legend(bbox_to_anchor=(1.05, 1), loc=2, borderaxespad=0.)\n",
    "plt.show()\n",
    "plt.close()\n"
   ]
  },
  {
   "cell_type": "code",
   "execution_count": 67,
   "metadata": {},
   "outputs": [
    {
     "ename": "NameError",
     "evalue": "name 'hmm' is not defined",
     "output_type": "error",
     "traceback": [
      "\u001b[0;31m---------------------------------------------------------------------------\u001b[0m",
      "\u001b[0;31mNameError\u001b[0m                                 Traceback (most recent call last)",
      "\u001b[0;32m<ipython-input-67-41a7808c125b>\u001b[0m in \u001b[0;36m<module>\u001b[0;34m\u001b[0m\n\u001b[0;32m----> 1\u001b[0;31m \u001b[0mhmm\u001b[0m\u001b[0;34m\u001b[0m\u001b[0;34m\u001b[0m\u001b[0m\n\u001b[0m",
      "\u001b[0;31mNameError\u001b[0m: name 'hmm' is not defined"
     ]
    }
   ],
   "source": [
    "hmm"
   ]
  },
  {
   "cell_type": "code",
   "execution_count": null,
   "metadata": {},
   "outputs": [],
   "source": [
    "these_params = []\n",
    "\n",
    "# get some paramaters from the data.\n",
    "print(\"The codes and the number of samples that the parameters are being drawn from\\n\")\n",
    "for code in samples[0]:\n",
    "    samp_data = som_params[som_params.code == code].pcs_m\n",
    "    # check how many samples there are for this region/district\n",
    "    # if less than minsamps grab the results from the next highest level\n",
    "    minsamps = 65\n",
    "    if len(samp_data) < minsamps:\n",
    "        samp_data = a.processed[(a.processed.code == code)&(a.processed.quantity > 0)].pcs_m\n",
    "        loc = samp_data.min()\n",
    "        alpha = samp_data.mean()\n",
    "        scale = 1/alpha\n",
    "    else:\n",
    "        loc = samp_data.min()\n",
    "        alpha = samp_data.mean()\n",
    "        scale = 1/alpha\n",
    "    print(code, len(samp_data))\n",
    "    these_params.append(dict(code=code, loc=loc, alpha=alpha, scale=scale, data=samp_data))\n"
   ]
  },
  {
   "cell_type": "code",
   "execution_count": null,
   "metadata": {},
   "outputs": [],
   "source": [
    "these_params[2]['data'].sum()"
   ]
  },
  {
   "cell_type": "markdown",
   "metadata": {},
   "source": [
    "#### Hopefully that just worked for you\n",
    "\n",
    "if not contact analyst@hammerdirt.ch"
   ]
  },
  {
   "cell_type": "code",
   "execution_count": null,
   "metadata": {
    "collapsed": true,
    "jupyter": {
     "outputs_hidden": true
    }
   },
   "outputs": [],
   "source": []
  },
  {
   "cell_type": "code",
   "execution_count": null,
   "metadata": {
    "collapsed": true,
    "jupyter": {
     "outputs_hidden": true
    }
   },
   "outputs": [],
   "source": []
  }
 ],
 "metadata": {
  "kernelspec": {
   "display_name": "Python 3",
   "language": "python",
   "name": "python3"
  },
  "language_info": {
   "codemirror_mode": {
    "name": "ipython",
    "version": 3
   },
   "file_extension": ".py",
   "mimetype": "text/x-python",
   "name": "python",
   "nbconvert_exporter": "python",
   "pygments_lexer": "ipython3",
   "version": "3.8.3"
  }
 },
 "nbformat": 4,
 "nbformat_minor": 4
}
