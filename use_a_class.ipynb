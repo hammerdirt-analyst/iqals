{
 "cells": [
  {
   "cell_type": "code",
   "execution_count": 1,
   "metadata": {
    "jupyter": {
     "source_hidden": true
    }
   },
   "outputs": [
    {
     "data": {
      "text/html": [
       "\n",
       "<style>\n",
       ".output {\n",
       "    display: flex;\n",
       "    align-items: center;\n",
       "    text-align: center;\n",
       "}\n",
       "</style>\n"
      ],
      "text/plain": [
       "<IPython.core.display.HTML object>"
      ]
     },
     "metadata": {},
     "output_type": "display_data"
    }
   ],
   "source": [
    "# sys, file and nav packages:\n",
    "import os\n",
    "import datetime as dt\n",
    "import csv\n",
    "import json\n",
    "\n",
    "# math packages:\n",
    "import pandas as pd\n",
    "import numpy as np\n",
    "from scipy import stats\n",
    "\n",
    "import datetime as dt \n",
    "from scipy.stats import kendalltau, pearsonr, spearmanr\n",
    "import math\n",
    "from scipy.stats import gamma\n",
    "from scipy.stats import beta\n",
    "from scipy.stats import binom\n",
    "from scipy.stats import bernoulli\n",
    "import statsmodels.api as sm\n",
    "from statsmodels.graphics.gofplots import qqplot_2samples\n",
    "from statsmodels.distributions.empirical_distribution import ECDF\n",
    "# charting:\n",
    "import matplotlib as mpl\n",
    "import matplotlib.pyplot as plt\n",
    "import matplotlib.dates as mdates\n",
    "from matplotlib import ticker\n",
    "import matplotlib.ticker as mtick\n",
    "import seaborn as sns\n",
    "from matplotlib.gridspec import GridSpec\n",
    "from IPython.display import display, Markdown, Latex, HTML\n",
    "from matplotlib import cm\n",
    "from matplotlib.colors import ListedColormap, LinearSegmentedColormap, Colormap\n",
    "\n",
    "# mapping\n",
    "import geopandas as gpd\n",
    "\n",
    "# home brew utitilties\n",
    "import utilities.utility_functions as ut\n",
    "import utilities.abundance_classes as ac\n",
    "\n",
    "# documenting\n",
    "from IPython.display import Markdown as md\n",
    "\n",
    "\n",
    "# returns the p_value for each test\n",
    "def kendall_pval(x,y):\n",
    "    return kendalltau(x,y)[1]\n",
    "\n",
    "def pearsonr_pval(x,y):\n",
    "    return pearsonr(x,y)[1]\n",
    "\n",
    "def spearmanr_pval(x,y):\n",
    "    return spearmanr(x,y)[1]\n",
    "\n",
    "# table kwargs\n",
    "table_k = dict(loc=\"top left\", bbox=(0,0,1,1), colWidths=[.5, .5], cellLoc='center')\n",
    "tablecenter_k = dict(loc=\"top left\", bbox=(0,0,1,1), cellLoc='center')\n",
    "tabtickp_k = dict(axis='both', which='both', bottom=False, top=False, left=False, right=False, labelleft=False, labelbottom=False)\n",
    "\n",
    "# chart kwargs\n",
    "title_k = {'loc':'left', 'pad':14, 'linespacing':1.5, 'fontsize':12}\n",
    "title_k14 = {'loc':'left', 'pad':16, 'linespacing':1.5, 'fontsize':14}\n",
    "xlab_k = {'labelpad':10, 'fontsize':12}\n",
    "xlab_k14 = {'labelpad':14, 'fontsize':14}\n",
    "\n",
    "\n",
    "# # use these to format date axis in charts\n",
    "# weeks = mdates.WeekdayLocator(byweekday=1, interval=4)\n",
    "# # onedayweek = mdates.DayLocator(bymonthday=1, interval=1)\n",
    "# # everytwoweeks = mdates.WeekdayLocator(byweekday=1, interval=4)\n",
    "\n",
    "# months = mdates.MonthLocator(bymonth=[3,6,9,12])\n",
    "# bimonthly = mdates.MonthLocator(bymonth=[1,3,5,7,9,11])\n",
    "# allmonths = mdates.MonthLocator()\n",
    "# wks_fmt = mdates.DateFormatter('%d')\n",
    "# mths_fmt = mdates.DateFormatter('%b')\n",
    "\n",
    "display(HTML(\"\"\"\n",
    "<style>\n",
    ".output {\n",
    "    display: flex;\n",
    "    align-items: center;\n",
    "    text-align: center;\n",
    "}\n",
    "</style>\n",
    "\"\"\"))\n",
    "\n",
    "# map marker size:\n",
    "markerSize = 100\n",
    "survey_data, location_data, code_defs, stat_ent, geo_data, output = ut.make_local_paths()"
   ]
  },
  {
   "cell_type": "code",
   "execution_count": 2,
   "metadata": {
    "jupyter": {
     "source_hidden": true
    }
   },
   "outputs": [],
   "source": [
    "# set some parameters:\n",
    "start_date = '2020-04-01'\n",
    "end_date ='2021-04-01'\n",
    "\n",
    "startyearmonth = '{}/{}'.format(start_date[5:7], start_date[:4])\n",
    "endyearmonth = '{}/{}'.format(end_date[5:7], end_date[:4]) \n",
    "\n",
    "# decide which data to use\n",
    "aggregated = False\n",
    "\n",
    "\n",
    "# collect the names:\n",
    "# group_names = list(these_groups.keys())\n",
    "\n",
    "# choose a lake:\n",
    "# lake = 'Lac Léman'\n",
    "coi = 'Neuchâtel'\n",
    "bassin_label = 'Aare'\n",
    "bassin = ['Aare', 'Aare|Nidau-Büren-Kanal','Schüss', 'Neuenburgersee', 'Thunersee','Bielersee', 'Brienzersee','La Thièle']\n",
    "bassin_lmn = ['Rhône', 'Lac Léman']\n",
    "coi_lmn = 'Vevey'\n",
    "bassin_lmn_label = \"Rhône - Léman\"\n",
    "samples_all = 'All samples'\n",
    "# lavey_locs= ['lavey-les-bains-2','lavey-les-bains', 'lavey-la-source']\n",
    "\n",
    "\n",
    "# define a significant event:\n",
    "sig = .9\n",
    "one_minus_sig = (1-sig)\n",
    "\n",
    "# define explanatory variables:\n",
    "expv = ['population','streets','buildings','rivs']\n",
    "\n",
    "# name the folder:\n",
    "name_of_project = 'bielsummary'\n",
    "save_output = False\n",
    "\n",
    "# use this to store things:\n",
    "project_directory = ut.make_project_folder(output, name_of_project)\n",
    "\n",
    "# get the data\n",
    "# aggregated survey data\n",
    "# dfAgg = pd.read_csv(F\"{survey_data}/results_with_zeroes_aggregated_parent.csv\")\n",
    "\n",
    "# keep track of output\n",
    "files_generated = []\n",
    "figure_num = 1\n",
    "data_num = 1\n",
    "\n",
    "def add_output(**kwargs):\n",
    "    files_generated.append({'tag':kwargs['tag'], 'number':kwargs['figure_num'], 'file':kwargs['file'],'type':kwargs['a_type']})\n",
    "    if kwargs['a_type'] == 'data':\n",
    "        kwargs['data'].to_csv(F\"{kwargs['file']}.csv\", index=False)\n",
    "    else:\n",
    "        plt.savefig(F\"{kwargs['file']}.jpeg\", dpi=300)"
   ]
  },
  {
   "cell_type": "markdown",
   "metadata": {},
   "source": [
    "## <span style=\"color:#008891\">Get data, assign initial variables run initial checks</span>"
   ]
  },
  {
   "cell_type": "code",
   "execution_count": 3,
   "metadata": {
    "jupyter": {
     "source_hidden": true
    }
   },
   "outputs": [
    {
     "name": "stdout",
     "output_type": "stream",
     "text": [
      "\n",
      "These are the project beaches:\n",
      "\n",
      "['neuenburgersee_cudrefin_mattera', 'la-petite-plage', 'evole-plage', 'plage-de-cheyres', 'mullermatte', 'bielersee_vinelz_fankhausers', 'baby-plage-geneva', 'baye-de-montreux-g', 'grand-clos', 'preverenges', 'quai-maria-belgia', 'zurichsee_wollishofen_langendorfm', 'zurichsee_kusnachterhorn_thirkell-whitej', 'zuerichsee_richterswil_benkoem_2', 'rastplatz-stampf', 'weissenau-neuhaus', 'thunersee_spiez_meierd_1', 'walensee_walenstadt_wysse', 'gasi-strand', 'vira-gambarogno', 'sentiero-giro-del-golf-spiaggia', 'maladaire']\n",
      "\n",
      "\n",
      "These are the project lakes:\n",
      "\n",
      "['Bielersee', 'Walensee', 'Zurichsee', 'Lac Léman', 'Thunersee', 'Neuenburgersee', 'Lago Maggiore']\n",
      "\n"
     ]
    }
   ],
   "source": [
    "# non aggregated survey data\n",
    "# Zero values are assigned for all codes not identified at a survey, for each survey\n",
    "dfSurveys = pd.read_csv(F\"{survey_data}/results_with_zeroes.csv\")\n",
    "\n",
    "# house keeping\n",
    "dfSurveys = dfSurveys[(dfSurveys.date >= start_date)&(dfSurveys.date <= end_date)]\n",
    "dfSurveys['date'] = pd.to_datetime(dfSurveys['date'], format=\"%Y-%m-%d\")\n",
    "\n",
    "# beach data\n",
    "dfBeaches = pd.read_csv(F\"{location_data}/beaches_with_ranks.csv\")\n",
    "dfBeaches.set_index('slug', inplace=True)\n",
    "dfBeaches.rename(columns={\"NUMPOINTS\":\"intersects\"}, inplace=True)\n",
    "\n",
    "# code definitions\n",
    "dfCodes = pd.read_csv(F\"{code_defs}/mlw_codes.csv\", index_col='code')\n",
    "\n",
    "# dimensional data\n",
    "dfDims = pd.read_csv(F\"{survey_data}/dims_data.csv\")\n",
    "\n",
    "# project lakes and beaches:\n",
    "\n",
    "with open(F\"{location_data}/project_lakes.json\", \"r\") as a_file:\n",
    "    project_lakes = json.load(a_file)\n",
    "with open(F\"{location_data}/project_beaches.json\", \"r\") as a_file:\n",
    "    project_beaches = json.load(a_file)\n",
    "    \n",
    "print(F\"\\nThese are the project beaches:\\n\\n{project_beaches}\\n\")\n",
    "print(F\"\\nThese are the project lakes:\\n\\n{project_lakes}\\n\")"
   ]
  },
  {
   "cell_type": "code",
   "execution_count": 4,
   "metadata": {
    "jupyter": {
     "source_hidden": true
    }
   },
   "outputs": [],
   "source": [
    "group_names_locations = {\n",
    "    \"waste water\": \"wastewater.json\" ,\n",
    "    \"less than 5mm\":\"codeListMicros.json\",\n",
    "    \"construction\":\"construction.json\",\n",
    "    \"food\":\"foodstuff.json\",\n",
    "    \"agg-con-trans\":\"cat.json\",\n",
    "    \"agriculture\":\"ag.json\",\n",
    "    \"tobacco\":\"tobac.json\",\n",
    "    \"recreation\":\"recreation.json\",    \n",
    "    \"packaging\":\"packaging.json\",\n",
    "    \"personal items\":\"pi.json\",    \n",
    "}\n",
    "\n",
    "\n",
    "frag_plas = {\"fragmented plastics\":[\"G79\", \"G78\", \"G75\"]}\n",
    "levels={'muni':coi, 'catchment':bassin_label}\n",
    "\n",
    "these_cols = ['loc_date', 'location', 'water_name','type', 'date']\n",
    "catchment_cols = ['region','water_name','type','city','loc_date', 'location', 'date']\n",
    "\n",
    "# the foam codes are automatically aggregated to the parent code for all data\n",
    "foams={'G82':['G82', 'G912'], 'G81':['G81', 'G911'], 'G74':['G74', 'G910', 'G909']}"
   ]
  },
  {
   "cell_type": "code",
   "execution_count": 5,
   "metadata": {
    "jupyter": {
     "source_hidden": true
    }
   },
   "outputs": [
    {
     "name": "stdout",
     "output_type": "stream",
     "text": [
      "\n",
      "There are 0 records that were not classified as either lake or river:\n",
      "\n",
      "Empty DataFrame\n",
      "Columns: [date, code, pcs_m, quantity, location, loc_date, water_name, type]\n",
      "Index: []\n",
      "\n"
     ]
    }
   ],
   "source": [
    "# make a copy of the survye data and tag the records as either lake or river:\n",
    "data = dfSurveys.copy()\n",
    "\n",
    "# map lake or river from dfBeaches\n",
    "lakes = dfBeaches[dfBeaches.water == 'l'].water_name.unique()\n",
    "rivers = dfBeaches[dfBeaches.water == 'r'].water_name.unique()\n",
    "\n",
    "# map values to new column t:\n",
    "data['type'] = 't'\n",
    "for a_place in data.water_name.unique():\n",
    "    data.loc[data.water_name.isin(lakes), 'type'] = 'l'\n",
    "    data.loc[data.water_name.isin(rivers), 'type'] = 'r'\n",
    "\n",
    "# check if there any un categorized records:\n",
    "\n",
    "print(F\"\\nThere are {len(data[data['type']=='t'])} records that were not classified as either lake or river:\\n\\n{data[data['type']=='t']}\\n\")"
   ]
  },
  {
   "cell_type": "markdown",
   "metadata": {},
   "source": [
    "## <span style=\"color:#008891\">Summary of all data, verification of start/end date assign code groups</span>\n",
    "\n",
    "### <span style=\"color:#008891\"> Total number of surveys, observations, number of objects found and median pcs/m for each survey</span>"
   ]
  },
  {
   "cell_type": "code",
   "execution_count": 6,
   "metadata": {
    "jupyter": {
     "source_hidden": true
    }
   },
   "outputs": [
    {
     "name": "stdout",
     "output_type": "stream",
     "text": [
      "code maps done\n",
      "made code groups\n",
      "making group map\n",
      "agg foams complet\n",
      "added exp vs\n",
      "assigned results to code groups\n"
     ]
    }
   ],
   "source": [
    "# data.reset_index(inplace=True)\n",
    "\n",
    "a_class_kwargs = dict(\n",
    "    code_group_data=group_names_locations,\n",
    "    new_code_group=frag_plas,\n",
    "    levels=levels,\n",
    "    code_group_loc=output,\n",
    "    these_cols=these_cols,\n",
    "    foams=foams\n",
    ")\n",
    "a = ac.PreprocessData(data, dfBeaches,**a_class_kwargs)\n"
   ]
  },
  {
   "cell_type": "code",
   "execution_count": 7,
   "metadata": {
    "jupyter": {
     "source_hidden": true
    }
   },
   "outputs": [],
   "source": [
    "#the top ten codes by quantity from all the survey data\n",
    "a_data = a.survey_data.copy()"
   ]
  },
  {
   "cell_type": "code",
   "execution_count": 8,
   "metadata": {
    "jupyter": {
     "source_hidden": true
    }
   },
   "outputs": [
    {
     "name": "stdout",
     "output_type": "stream",
     "text": [
      "There are 348 surveys and 76,908 rows/observations.\n",
      "\n",
      "The median pieces/meter per survey is 1.98\n",
      "\n",
      "The total number of objects found is 50228\n",
      "\n",
      "Valid for surveys between 2020-04-01 and 2021-04-01\n"
     ]
    }
   ],
   "source": [
    "print(F\"There are { len(a.daily_totals_all)} surveys and {'{:,}'.format(len(a_data))} rows/observations.\\n\\nThe median pieces/meter per survey is {np.round(a.median_daily_total, 2)}\")\n",
    "print(F\"\\nThe total number of objects found is {a.code_totals.sum()}\")\n",
    "print(F\"\\nValid for surveys between {start_date} and {end_date}\")"
   ]
  },
  {
   "cell_type": "markdown",
   "metadata": {},
   "source": [
    "### <span style=\"color:#008891\">Calculate the total number of meters, meter², weight of objects, weight of plastic objects and survey time per water feature</span>\n",
    "\n",
    "Dimensional data is kept for all surveys. This includes:\n",
    "\n",
    "1. Length\n",
    "2. Surface area\n",
    "3. Weight of all objects\n",
    "4. Weight of all plastics\n",
    "5. Weight of all plastics < 5mm\n",
    "6. Time to complete a survey\n",
    "7. Number of participants\n",
    "8. Name of participating groups\n",
    "\n",
    "The cumalative data can be expressed as the sum of all records:"
   ]
  },
  {
   "cell_type": "code",
   "execution_count": 9,
   "metadata": {
    "jupyter": {
     "source_hidden": true
    }
   },
   "outputs": [],
   "source": [
    "# gather the dimensional data for this river basin\n",
    "som_dims = dfDims[dfDims.date <= end_date].copy()\n",
    "\n",
    "# get a map of the number of samples per water feature:\n",
    "samples_feature = a_data.groupby('water_name').loc_date.nunique()\n",
    "# samples_feature"
   ]
  },
  {
   "cell_type": "code",
   "execution_count": 10,
   "metadata": {
    "jupyter": {
     "source_hidden": true
    }
   },
   "outputs": [
    {
     "name": "stdout",
     "output_type": "stream",
     "text": [
      "\n",
      "The time in minutes, cumulative meters surveyed, cumulative m² survyed, and the total weight of objects removed:\n",
      "\n",
      "total_time      1200.17\n",
      "length         17750.00\n",
      "area           86968.35\n",
      "total_w          986.86\n",
      "mac_plast_w       84.22\n",
      "loc_date         346.00\n",
      "n_samples        348.00\n",
      "dtype: float64\n",
      "\n",
      "\n",
      "The time in minutes, cumulative meters surveyed, cumulative m² survyed, and the total weight of objects removed per water feature:\n",
      "\n",
      "                        total_time  length      area  total_w  mac_plast_w\n",
      "water_name                                                                \n",
      "Aare                         36.78     589   2543.00    13.14         5.26\n",
      "Aare|Nidau-Büren-Kanal        5.67     106    565.00     1.96         0.13\n",
      "Bielersee                   137.48    1215   6096.00    13.56         6.72\n",
      "Brienzersee                  18.33     230   1143.00     2.27         1.97\n",
      "Dorfbach                      3.17     129   1093.00     0.34         0.00\n",
      "Escherkanal                   2.83      11     39.00     1.00         1.00\n",
      "Jona                          7.00      85    326.00     0.00         0.00\n",
      "La Thièle                     2.58      19     13.00     0.00         0.00\n",
      "Lac Léman                   316.49    3745  16438.25   430.17        27.38\n",
      "Lago Maggiore                48.83     951   3723.50    25.61         1.24\n",
      "Limmat                       12.67     186    932.00     2.76         0.17\n",
      "Linthkanal                    6.75     106    797.00     2.84         0.06\n",
      "Maggia                        3.75      60    900.00     4.90         0.01\n",
      "Neuenburgersee              149.29    3115  14526.00    16.06         8.55\n",
      "Reuss                         4.17      38    137.00     1.20         0.00\n",
      "Rhône                        26.00     391   6200.00    90.48        13.97\n",
      "Schüss                        6.08      92    381.00     0.36         0.21\n",
      "Seez                          5.00      51    642.00     1.00         0.05\n",
      "Sihl                          4.42      42    152.00     1.97         0.00\n",
      "Thunersee                   106.57    2109   9427.80    19.93         5.68\n",
      "Ticino                        3.50      44    365.00     3.26         0.58\n",
      "Walensee                    114.15    2225  13236.80   340.66         6.69\n",
      "Zugersee                      4.50      66    270.00     0.32         0.12\n",
      "Zurichsee                   174.16    2145   7022.00    13.07         4.44\n",
      "\n"
     ]
    }
   ],
   "source": [
    "# the loc date key needs updating:\n",
    "som_dims['new_loc_date'] = list(zip(som_dims.location, som_dims.date))\n",
    "# som_dims = som_dims.loc[som_dims.new_loc_date.isin(som_bassin_data.loc_date.unique())]\n",
    "\n",
    "# add travel and incidental time:\n",
    "som_dims['total_time'] = som_dims.time_minutes+90\n",
    "som_dims['total_time'] = som_dims.total_time/60\n",
    "som_dims['total_time'] = som_dims.total_time.round(2)\n",
    "\n",
    "location_wname_key = dfBeaches[['water_name']]\n",
    "som_dims['water_name'] = som_dims.location.map(lambda x: location_wname_key.loc[x][0])\n",
    "\n",
    "def use_this_key(x, key, column='no column'):\n",
    "    this_type = type(key)\n",
    "    if type(x) == tuple:\n",
    "        x = [x]\n",
    "    else:\n",
    "        pass\n",
    "    if this_type == dict:\n",
    "        try:\n",
    "            data = key[x]\n",
    "        except:\n",
    "            data = 'no data'\n",
    "    elif this_type == pd.core.series.Series:\n",
    "        try:\n",
    "            data =key.loc[x]\n",
    "        except:\n",
    "            data='no data'\n",
    "    else:\n",
    "        try:\n",
    "            data = key.loc[x, column][0]        \n",
    "        except:\n",
    "            data='no data'\n",
    "    \n",
    "    return data\n",
    "    \n",
    "    \n",
    "\n",
    "# dims data summary stats:\n",
    "dims_summary_stats = som_dims.groupby('water_name').agg({'total_time':'sum', 'length':'sum', 'area':'sum', 'total_w':'sum', 'mac_plast_w':'sum', 'loc_date':'nunique'})\n",
    "dims_summary_stats['n_samples'] = dims_summary_stats.index.map(lambda x: use_this_key(x, samples_feature, column='loc_date'))\n",
    "dims_summary_stats = dims_summary_stats[dims_summary_stats.n_samples != 'no data'].copy()\n",
    "dims_summary_stats['mac_plast_w'] = dims_summary_stats.mac_plast_w/1000\n",
    "\n",
    "print(F\"\\nThe time in minutes, cumulative meters surveyed, cumulative m² survyed, and the total weight of objects removed:\\n\\n{dims_summary_stats.sum().round(2)}\\n\")\n",
    "\n",
    "print(F\"\\nThe time in minutes, cumulative meters surveyed, cumulative m² survyed, and the total weight of objects removed per water feature:\\n\\n{dims_summary_stats[['total_time', 'length', 'area', 'total_w', 'mac_plast_w']].round(2)}\\n\")"
   ]
  },
  {
   "cell_type": "markdown",
   "metadata": {},
   "source": [
    "#### <span style=\"color:#008891\">Identify dimensional data records that do not have a matching daily survey total or have an extreme weight value and identify survey dates that do not have a dims record:</span>"
   ]
  },
  {
   "cell_type": "code",
   "execution_count": 11,
   "metadata": {
    "jupyter": {
     "source_hidden": true
    }
   },
   "outputs": [
    {
     "name": "stdout",
     "output_type": "stream",
     "text": [
      "\n",
      "These are the dims records that did not get tagged with a quantity:\n",
      "\n",
      "                                     location        date      water_name\n",
      "111                  lacleman_gland_lecoanets  2020-11-27       Lac Léman\n",
      "132                            luscherz-plage  2021-01-26       Bielersee\n",
      "149                               mullermatte  2020-01-26       Bielersee\n",
      "171                          plage-de-cheyres  2020-03-15  Neuenburgersee\n",
      "228          schiffenensee_duedingen_hirschij  2020-07-11   Schiffenensee\n",
      "244                                strandbeiz  2020-03-20       Zurichsee\n",
      "251                  thunersee_spiez_meierd_1  2020-03-08       Thunersee\n",
      "288                 walensee_walenstadt_wysse  2020-03-17        Walensee\n",
      "331  zurichsee_kusnachterhorn_thirkell-whitej  2020-03-20       Zurichsee\n",
      "332  zurichsee_kusnachterhorn_thirkell-whitej  2020-03-20       Zurichsee\n",
      "344         zurichsee_wollishofen_langendorfm  2020-03-11       Zurichsee\n",
      "\n",
      "These are the surveys that do not have dimensional data:\n",
      "\n",
      "[('baby-plage-geneva', '2021-03-10'), ('baby-plage-geneva', '2021-02-10'), ('baby-plage-geneva', '2020-12-16'), ('baby-plage-geneva', '2020-11-18'), ('baby-plage-geneva', '2020-08-18'), ('quai-maria-belgia', '2021-02-28'), ('quai-maria-belgia', '2021-01-31'), ('zuerichsee_richterswil_benkoem_2', '2020-11-21'), ('zurichsee_wollishofen_langendorfm', '2020-11-12'), ('luscherz-plage', '2020-12-26'), ('lacleman_gland_lecoanets', '2020-10-27')]\n",
      "\n"
     ]
    }
   ],
   "source": [
    "# map loc_date to quantity from all surveys        \n",
    "some_q = a.daily_totals_all[['loc_date', 'quantity']].copy()\n",
    "some_q.set_index('loc_date', inplace=True)\n",
    "\n",
    "ldu = a_data.loc_date.unique()\n",
    "ddu = som_dims.new_loc_date.unique()\n",
    "\n",
    "# map quantity per survey to the dims data\n",
    "som_dims['quantity'] = som_dims.new_loc_date.map(lambda x: use_this_key(x,some_q, column='quantity'))\n",
    "print(F\"\\nThese are the dims records that did not get tagged with a quantity:\\n\\n{som_dims[som_dims.quantity == 'no data'][['location', 'date', 'water_name']]}\\n\")\n",
    "print(F\"These are the surveys that do not have dimensional data:\\n\\n{[x for x in list(ldu) if x not in list(ddu)]}\\n\")"
   ]
  },
  {
   "cell_type": "code",
   "execution_count": 12,
   "metadata": {
    "jupyter": {
     "source_hidden": true
    }
   },
   "outputs": [
    {
     "name": "stdout",
     "output_type": "stream",
     "text": [
      "\n",
      "These are the dims records that have a weight greater than 50:\n",
      "\n",
      "              location        date water_name  total_w\n",
      "113  lavey-les-bains-2  2021-02-24      Rhône     80.0\n",
      "137          maladaire  2020-07-29  Lac Léman    147.0\n",
      "162           murg-bad  2020-10-23   Walensee    330.0\n",
      "191        preverenges  2020-09-08  Lac Léman    230.0\n",
      "\n"
     ]
    }
   ],
   "source": [
    "print(F\"\\nThese are the dims records that have a weight greater than 50:\\n\\n{som_dims[som_dims.total_w > 50][['location', 'date', 'water_name', 'total_w']]}\\n\")"
   ]
  },
  {
   "cell_type": "markdown",
   "metadata": {},
   "source": [
    "#### <span style=\"color:#008891\">The time to complete a survey versus the number of objects found</span>"
   ]
  },
  {
   "cell_type": "code",
   "execution_count": 13,
   "metadata": {
    "jupyter": {
     "source_hidden": true
    }
   },
   "outputs": [
    {
     "data": {
      "image/png": "[encoded data removed]",
      "text/plain": [
       "<Figure size 576x432 with 1 Axes>"
      ]
     },
     "metadata": {
      "needs_background": "light"
     },
     "output_type": "display_data"
    }
   ],
   "source": [
    "fig, ax = plt.subplots(figsize=(8,6))\n",
    "sns.scatterplot(data=som_dims[som_dims.quantity != 'no data'], x='total_time', y='quantity', hue='water_name', palette='husl', ax=ax)\n",
    "ax.get_legend().remove()\n",
    "ax.set_xlabel(\"Time in hours to complete the survey\", **xlab_k14 )\n",
    "ax.set_ylabel(\"Number of objects identified\", **xlab_k14)\n",
    "plt.tight_layout()\n",
    "plt.show()"
   ]
  },
  {
   "cell_type": "code",
   "execution_count": 14,
   "metadata": {},
   "outputs": [],
   "source": [
    "# create an intermediary group\n",
    "with open(F\"{code_defs}/all_foams.json\", \"r\") as a_file:\n",
    "    foams_bg = json.load(a_file)\n",
    "with open(F\"{code_defs}/sheeting.json\", \"r\") as a_file:\n",
    "    sheeting_bg = json.load(a_file)\n",
    "with open(F\"{code_defs}/fragmented_plastics.json\", \"r\") as a_file:\n",
    "    fragplas_bg = json.load(a_file)\n",
    "\n",
    "the_big_group = ['G27','G30', *foams_bg, *sheeting_bg, *fragplas_bg]\n",
    "\n",
    "# map codes to descriptions to:\n",
    "material_map = dfCodes.material\n",
    "desc_map = dfCodes.description\n",
    "\n",
    "# make an intermediary group\n",
    "a_data['big_group'] = 'no group'\n",
    "a_data.loc[a_data.code.isin(foams_bg), 'big_group'] = 'foams'\n",
    "a_data.loc[a_data.code.isin(sheeting_bg), 'big_group'] = 'sheeting'\n",
    "a_data.loc[a_data.code.isin(fragplas_bg), 'big_group'] = 'frag plastic'\n",
    "a_data.loc[a_data.code.isin(['G27']), 'big_group'] = 'cigarette ends'\n",
    "a_data.loc[a_data.code.isin(['G30']), 'big_group'] = 'snack wrapper'\n",
    "a_data.loc[~a_data.code.isin(the_big_group), 'big_group'] = 'other'\n",
    "\n",
    "# note all records where quantity is > 0\n",
    "a_data['found'] = a_data.quantity > 0"
   ]
  },
  {
   "cell_type": "markdown",
   "metadata": {},
   "source": [
    "# <span style=\"color:#008891\">Key indicators of survey results: provide answers to most frequent questions</span>\n",
    "\n",
    "### <span style=\"color:#008891\">The most frequent questions about the survey data are also key elements in finding sources and areas of accumulation</span>\n",
    "\n",
    "1. What do you find?\n",
    "2. How often do you find it?\n",
    "3. Do you find alot of it?\n",
    "4. What else do you find?\n",
    "5. Where do you find the most? \n",
    "\n",
    "The indicators should provide reasonable answwers to those questions using parameters that can be taken directly from the survey data.\n",
    "\n",
    "\n",
    "### <span style=\"color:#008891\">Key indicators to compare survey results between objects, locations and aggregation levels</span>\n",
    "\n",
    "\n",
    "#### What do you find? How often do you find it? **found rate or fail rate**\n",
    "\n",
    "There are 76,466 observations from 346 surveys or 221 observations per survey. Objects that were not identified durring a survey have a quantity of 0 for that survey. This allows us to determine how often an object was found. This rate can be calculated at all aggregation levels. The more samples there are at a particular location increases the confidence of the resulting fail rate.\n",
    "\n",
    "_The fail rate is the number of times that an object was found divided by the number of samples taken._\n",
    "\n",
    "__what does it mean:__ The fail rate describes how likely you are to find at least one an object in the course of the survey\n",
    "\n",
    "__how to use it:__ The objects with a high fail rate are those that are most likely to be found at a particular aggregation level\n",
    "\n",
    "__Why is this important?__ The fail rate alerts us to the presence of items that are identified regularly even though they may not be found in large quantities or the inverse.\n",
    "<br/><br />\n",
    "\n",
    "#### Do you find alot of it? Where do you find the most? **pieces per meter**\n",
    "\n",
    "The pieces per meter ratio is the total number of objects found divided by the length of the survey. This value is calculated automatically at the server and returned as output. This ratio is calculated for each record in the survey. Objects that were not identified durring a survey have a pcs/m ratio of 0.\n",
    "\n",
    "__what does it mean:__ The pcs-m ratio describes the minimum amount of an object you are likely to find if you mulitply pcs/m by the survey length\n",
    "\n",
    "__how to use it:__ Objects with high pcs/m ratio have higher minimum value per survey (if they are found: see fail rate)\n",
    "\n",
    "__Why is this is important?__ A high pcs/m ration indicates either proximity to a source or a zone of accumulation\n",
    "<br/><br />\n",
    "\n",
    "#### What else do you find? **percent of total or % of total**\n",
    "\n",
    "The percent of total describes the value of an object when all the other objects are considered.\n",
    "\n",
    "__what does it mean:__ The % of total describes how much of the problem can be attributed to an object or group of objects\n",
    "\n",
    "__how to use it:__ The % of total is the first indicator used to prioritize littering campaigns\n",
    "\n",
    "__Why is this important:__ This helps define the problem at different levels\n",
    "<br/><br />\n",
    "\n"
   ]
  },
  {
   "cell_type": "markdown",
   "metadata": {},
   "source": [
    "### <span style=\"color:#008891\">Key indicators of the top ten objects</span>"
   ]
  },
  {
   "cell_type": "code",
   "execution_count": 15,
   "metadata": {
    "jupyter": {
     "source_hidden": true
    }
   },
   "outputs": [
    {
     "name": "stdout",
     "output_type": "stream",
     "text": [
      "\n",
      "the top ten codes from all survey data, by quantity:\n",
      "\n",
      "\n"
     ]
    },
    {
     "data": {
      "text/html": [
       "<div>\n",
       "<style scoped>\n",
       "    .dataframe tbody tr th:only-of-type {\n",
       "        vertical-align: middle;\n",
       "    }\n",
       "\n",
       "    .dataframe tbody tr th {\n",
       "        vertical-align: top;\n",
       "    }\n",
       "\n",
       "    .dataframe thead th {\n",
       "        text-align: right;\n",
       "    }\n",
       "</style>\n",
       "<table border=\"1\" class=\"dataframe\">\n",
       "  <thead>\n",
       "    <tr style=\"text-align: right;\">\n",
       "      <th></th>\n",
       "      <th>quantity</th>\n",
       "      <th>% of total</th>\n",
       "      <th>find rate</th>\n",
       "      <th>pcs_m</th>\n",
       "    </tr>\n",
       "    <tr>\n",
       "      <th>description</th>\n",
       "      <th></th>\n",
       "      <th></th>\n",
       "      <th></th>\n",
       "      <th></th>\n",
       "    </tr>\n",
       "  </thead>\n",
       "  <tbody>\n",
       "    <tr>\n",
       "      <th>Cigarette butts and filters</th>\n",
       "      <td>7560</td>\n",
       "      <td>0.15</td>\n",
       "      <td>0.87</td>\n",
       "      <td>0.20</td>\n",
       "    </tr>\n",
       "    <tr>\n",
       "      <th>Foamed polystyrene pieces 0.5cm - 2.5cm</th>\n",
       "      <td>3627</td>\n",
       "      <td>0.07</td>\n",
       "      <td>0.57</td>\n",
       "      <td>0.02</td>\n",
       "    </tr>\n",
       "    <tr>\n",
       "      <th>Plastic pieces 0.5cm - 2.5cm</th>\n",
       "      <td>3447</td>\n",
       "      <td>0.07</td>\n",
       "      <td>0.70</td>\n",
       "      <td>0.07</td>\n",
       "    </tr>\n",
       "    <tr>\n",
       "      <th>Food wrappers; candy, snack packaging</th>\n",
       "      <td>3087</td>\n",
       "      <td>0.06</td>\n",
       "      <td>0.85</td>\n",
       "      <td>0.09</td>\n",
       "    </tr>\n",
       "    <tr>\n",
       "      <th>Plastic pieces 2.5cm - 50cm</th>\n",
       "      <td>2894</td>\n",
       "      <td>0.06</td>\n",
       "      <td>0.80</td>\n",
       "      <td>0.07</td>\n",
       "    </tr>\n",
       "    <tr>\n",
       "      <th>Industrial sheeting</th>\n",
       "      <td>2388</td>\n",
       "      <td>0.05</td>\n",
       "      <td>0.70</td>\n",
       "      <td>0.05</td>\n",
       "    </tr>\n",
       "    <tr>\n",
       "      <th>Glass or ceramic drink bottles, pieces</th>\n",
       "      <td>1828</td>\n",
       "      <td>0.04</td>\n",
       "      <td>0.64</td>\n",
       "      <td>0.03</td>\n",
       "    </tr>\n",
       "    <tr>\n",
       "      <th>Foam polystyrene; expanded beads/balls  2.5cm - 50cm</th>\n",
       "      <td>1717</td>\n",
       "      <td>0.03</td>\n",
       "      <td>0.53</td>\n",
       "      <td>0.01</td>\n",
       "    </tr>\n",
       "    <tr>\n",
       "      <th>Industrial pellets (nurdles)</th>\n",
       "      <td>1664</td>\n",
       "      <td>0.03</td>\n",
       "      <td>0.32</td>\n",
       "      <td>0.00</td>\n",
       "    </tr>\n",
       "    <tr>\n",
       "      <th>Foamed plastic  for thermal insulation or packing material</th>\n",
       "      <td>1632</td>\n",
       "      <td>0.03</td>\n",
       "      <td>0.54</td>\n",
       "      <td>0.01</td>\n",
       "    </tr>\n",
       "  </tbody>\n",
       "</table>\n",
       "</div>"
      ],
      "text/plain": [
       "                                                    quantity  % of total  \\\n",
       "description                                                                \n",
       "Cigarette butts and filters                             7560        0.15   \n",
       "Foamed polystyrene pieces 0.5cm - 2.5cm                 3627        0.07   \n",
       "Plastic pieces 0.5cm - 2.5cm                            3447        0.07   \n",
       "Food wrappers; candy, snack packaging                   3087        0.06   \n",
       "Plastic pieces 2.5cm - 50cm                             2894        0.06   \n",
       "Industrial sheeting                                     2388        0.05   \n",
       "Glass or ceramic drink bottles, pieces                  1828        0.04   \n",
       "Foam polystyrene; expanded beads/balls  2.5cm -...      1717        0.03   \n",
       "Industrial pellets (nurdles)                            1664        0.03   \n",
       "Foamed plastic  for thermal insulation or packi...      1632        0.03   \n",
       "\n",
       "                                                    find rate  pcs_m  \n",
       "description                                                           \n",
       "Cigarette butts and filters                              0.87   0.20  \n",
       "Foamed polystyrene pieces 0.5cm - 2.5cm                  0.57   0.02  \n",
       "Plastic pieces 0.5cm - 2.5cm                             0.70   0.07  \n",
       "Food wrappers; candy, snack packaging                    0.85   0.09  \n",
       "Plastic pieces 2.5cm - 50cm                              0.80   0.07  \n",
       "Industrial sheeting                                      0.70   0.05  \n",
       "Glass or ceramic drink bottles, pieces                   0.64   0.03  \n",
       "Foam polystyrene; expanded beads/balls  2.5cm -...       0.53   0.01  \n",
       "Industrial pellets (nurdles)                             0.32   0.00  \n",
       "Foamed plastic  for thermal insulation or packi...       0.54   0.01  "
      ]
     },
     "execution_count": 15,
     "metadata": {},
     "output_type": "execute_result"
    }
   ],
   "source": [
    "\n",
    "# get the list of codes by quantity\n",
    "national_topten= a.code_totals.sort_values(ascending=False)\n",
    "\n",
    "# take first ten records after sorting\n",
    "national_topten_codes = national_topten.index[:10]\n",
    "\n",
    "# grab the data from the survey results:\n",
    "top_ten_national = a_data[a_data.code.isin(national_topten_codes)][['code', 'big_group', 'groupname','quantity', 'found', 'pcs_m', 'loc_date']].copy()\n",
    "\n",
    "top_ten_national['material'] = top_ten_national.code.map(lambda x: material_map.loc[x])\n",
    "top_ten_national['description'] = top_ten_national.code.map(lambda x: desc_map.loc[x])\n",
    "\n",
    "# agg the values from the survey data:\n",
    "top_ten_agg = top_ten_national.groupby(['code', 'description', 'big_group', 'groupname', 'material'], as_index=False).agg({'pcs_m':'median', 'quantity':'sum', 'found':'sum', 'loc_date':'nunique'})\n",
    "\n",
    "# calculate the find rate and % of total for each code:\n",
    "top_ten_agg['find rate'] = top_ten_agg.found/top_ten_agg.loc_date\n",
    "top_ten_agg['% of total'] = top_ten_agg.quantity/a_data.quantity.sum()\n",
    "\n",
    "# for display purposes make the description the index\n",
    "top_ten_agg.set_index('description', inplace=True)\n",
    "\n",
    "print(F\"\\nthe top ten codes from all survey data, by quantity:\\n\\n\")\n",
    "tt_agg = top_ten_agg[['quantity', '% of total', 'find rate', 'pcs_m']].sort_values(by='quantity', ascending=False).round(2)\n",
    "tt_agg"
   ]
  },
  {
   "cell_type": "markdown",
   "metadata": {},
   "source": [
    "#### <span style=\"color:#008891\"> How often were the top ten objects found?</span>\n",
    "\n",
    "The top ten objects from the national data are found at different rates depending on which lake the survey was conducted."
   ]
  },
  {
   "cell_type": "code",
   "execution_count": 16,
   "metadata": {
    "jupyter": {
     "source_hidden": true
    }
   },
   "outputs": [
    {
     "data": {
      "image/png": "[encoded data removed]",
      "text/plain": [
       "<Figure size 648x648 with 1 Axes>"
      ]
     },
     "metadata": {
      "needs_background": "light"
     },
     "output_type": "display_data"
    }
   ],
   "source": [
    "# format data for heat map\n",
    "rg_tt = a_data[(a_data.code.isin(national_topten_codes))&(a_data.water_name.isin(project_lakes))][['water_name','code', 'quantity', 'found', 'pcs_m', 'loc_date']].groupby(['water_name', 'code'], as_index=False).agg({'quantity':'sum', 'found':'sum', 'pcs_m':'mean', 'loc_date':'nunique'}).copy()\n",
    "\n",
    "# get the total quantity for each water feature:\n",
    "w_feat_total = a_data.groupby('water_name').quantity.sum()\n",
    "\n",
    "# get the remaining key indicators\n",
    "rg_tt['find rate'] = rg_tt.found/rg_tt.loc_date\n",
    "rg_tt['feature_total'] = rg_tt.water_name.map(lambda x: w_feat_total.loc[x])\n",
    "rg_tt['% of total']=rg_tt.quantity/rg_tt.feature_total\n",
    "\n",
    "# replace the GCODE with a human readable description\n",
    "rg_tt['description'] = rg_tt.code.map(lambda x: desc_map.loc[x])\n",
    "\n",
    "# make heat map data\n",
    "rg_fr = rg_tt[['description', 'water_name', '% of total']].pivot(index='description', columns='water_name')\n",
    "\n",
    "fig, ax = plt.subplots(figsize=(9,9))\n",
    "sns.heatmap(data=rg_fr, ax = ax, cmap='YlOrRd', linewidth=.01, linecolor='white', annot=True, square=True, fmt=\".0%\", cbar=False)\n",
    "\n",
    "ax.set_ylabel(\"\")\n",
    "ax.set_xlabel(\"\", loc='left', labelpad=50)\n",
    "labels = [a_label.get_text().split('-') for a_label in ax.get_xticklabels()]\n",
    "new_labels = [x[-1] for x in labels]\n",
    "ax.set_xticklabels(new_labels)\n",
    "\n",
    "\n",
    "plt.tight_layout()\n",
    "\n",
    "plt.show()\n",
    "plt.close()"
   ]
  },
  {
   "cell_type": "markdown",
   "metadata": {},
   "source": [
    "#### <span style=\"color:#008891\">Pieces per meter: the density of the top ten objects for each lake</span>\n",
    "\n",
    "The top ten objects from the national data are found at different densities depending on which lake the survey was conducted."
   ]
  },
  {
   "cell_type": "code",
   "execution_count": 17,
   "metadata": {
    "jupyter": {
     "source_hidden": true
    }
   },
   "outputs": [
    {
     "data": {
      "image/png": "[encoded data removed]",
      "text/plain": [
       "<Figure size 648x648 with 1 Axes>"
      ]
     },
     "metadata": {
      "needs_background": "light"
     },
     "output_type": "display_data"
    }
   ],
   "source": [
    "\n",
    "rg_fpcs = rg_tt[['description', 'water_name', 'pcs_m']].pivot(index='description', columns='water_name')\n",
    "\n",
    "\n",
    "fig, ax = plt.subplots(figsize=(9,9))\n",
    "sns.heatmap(data=rg_fpcs, ax = ax, cmap='YlOrRd', linewidth=.01, linecolor='white', annot=True, square=True, fmt=\".2\", cbar=False)\n",
    "\n",
    "ax.set_ylabel(\"\")\n",
    "ax.set_xlabel(\"\", loc='left', labelpad=50)\n",
    "labels = [a_label.get_text().split('-') for a_label in ax.get_xticklabels()]\n",
    "new_labels = [x[-1] for x in labels]\n",
    "ax.set_xticklabels(new_labels)\n",
    "\n",
    "\n",
    "plt.tight_layout()\n",
    "\n",
    "plt.show()\n",
    "plt.close()"
   ]
  },
  {
   "cell_type": "markdown",
   "metadata": {},
   "source": [
    "## <span style=\"color:#008891\"> A closer look at the top ten</span>\n",
    "\n",
    "The top ten group has three members that are foam products. Expanded polystyrene in two sizes and extruded polystyrene. Furthermore, plastic fragements occupy two positions representing the size ranges they are grouped in durring the survey.\n",
    "\n",
    "#### <span style=\"color:#008891\"> combining like objects</span>\n",
    "\n",
    "By combining like objects or objects that have the same or similar origin the impact of that group can be better appreciated."
   ]
  },
  {
   "cell_type": "markdown",
   "metadata": {},
   "source": [
    "When the foam and the fragmented plastics are combined, that liberates three new places in the top ten list. Foams replace cigarette ends as the most abundant (pcs/m and quantity) but cigarette ends still retain the title as most frequently found."
   ]
  },
  {
   "cell_type": "code",
   "execution_count": 18,
   "metadata": {
    "jupyter": {
     "source_hidden": true
    }
   },
   "outputs": [],
   "source": [
    "fts = a_data.groupby(['loc_date','water_name','big_group',], as_index=False).agg({'pcs_m':'sum', 'quantity':'sum'})\n",
    "fts['found'] = fts.quantity > 0\n",
    "\n",
    "ftsx = fts.groupby('big_group').agg({'pcs_m':'mean', 'quantity':'sum', 'found':'sum', 'loc_date':'nunique'})\n",
    "ftsx['feature_total'] = ftsx.quantity.sum()\n",
    "ftsx['find rate'] = ftsx.found/ftsx.loc_date\n",
    "ftsx['% of total'] = ftsx.quantity/ftsx.feature_total\n",
    "ftsx['rating'] = ftsx['pcs_m']*ftsx['find rate']\n",
    "\n",
    "# create a new top ten list that incorporates the results from the intermediary group\n",
    "# coulmns for grouping and displaying\n",
    "big_g_cols = ['cigarette ends', 'foams', 'frag plastic', 'sheeting', 'snack wrapper']\n",
    "concat_cols = ['pcs_m', 'quantity', 'find rate', '% of total']\n",
    "\n",
    "# get the results from the intermediary group, exclude the 'others' group\n",
    "fts_s = ftsx.loc[big_g_cols].copy()\n",
    "\n",
    "# get the code totals for all other objects not in big_goups\n",
    "cts_s = pd.DataFrame(a.code_totals[~a.code_totals.index.isin(the_big_group)].copy())\n",
    "\n",
    "# concat the two dfs and sort in descending order \n",
    "new_top_ten = pd.concat([fts_s, cts_s], axis=0, ignore_index=False)\n",
    "\n",
    "# grab the top ten condes in a list\n",
    "new_top_ten = new_top_ten['quantity'].sort_values(ascending=False)[:10].index\n",
    "\n",
    "# indentify the new codes that need to be summarized\n",
    "codes_to_concat = [x for x in new_top_ten if x not in big_g_cols]\n",
    "\n",
    "# define the pcs_m, quantity, find rate and % of total for the new members of the top ten list\n",
    "new_tt = a_data[(a_data.code.isin(codes_to_concat))][['code', 'quantity', 'found', 'pcs_m', 'loc_date']].groupby(['code'], as_index=False).agg({'quantity':'sum', 'found':'sum', 'pcs_m':'mean', 'loc_date':'nunique'}).copy()\n",
    "new_tt['find rate'] = new_tt.found/new_tt.loc_date\n",
    "new_tt['description'] = new_tt.code.map(lambda x: desc_map.loc[x])\n",
    "new_tt['% of total'] = new_tt.quantity/a_data.quantity.sum()\n",
    "\n",
    "# sort the values in descending order and assign index\n",
    "new_tt_concat = new_tt.sort_values(by='quantity', ascending=False).set_index('description')\n",
    "ntt_con = new_tt_concat[concat_cols].copy()\n",
    "fts_con = fts_s[concat_cols].copy()\n",
    "\n",
    "# combined the two data frames\n",
    "a_ntt = pd.concat([fts_con, ntt_con], axis=0, ignore_index=False)"
   ]
  },
  {
   "cell_type": "markdown",
   "metadata": {},
   "source": [
    "#### <span style=\"color:#008891\"> There is more room at the top </span>"
   ]
  },
  {
   "cell_type": "code",
   "execution_count": 19,
   "metadata": {
    "jupyter": {
     "source_hidden": true
    }
   },
   "outputs": [
    {
     "data": {
      "text/html": [
       "<div>\n",
       "<style scoped>\n",
       "    .dataframe tbody tr th:only-of-type {\n",
       "        vertical-align: middle;\n",
       "    }\n",
       "\n",
       "    .dataframe tbody tr th {\n",
       "        vertical-align: top;\n",
       "    }\n",
       "\n",
       "    .dataframe thead th {\n",
       "        text-align: right;\n",
       "    }\n",
       "</style>\n",
       "<table border=\"1\" class=\"dataframe\">\n",
       "  <thead>\n",
       "    <tr style=\"text-align: right;\">\n",
       "      <th></th>\n",
       "      <th>pcs_m</th>\n",
       "      <th>quantity</th>\n",
       "      <th>find rate</th>\n",
       "      <th>% of total</th>\n",
       "    </tr>\n",
       "  </thead>\n",
       "  <tbody>\n",
       "    <tr>\n",
       "      <th>foams</th>\n",
       "      <td>0.826638</td>\n",
       "      <td>8912</td>\n",
       "      <td>0.810345</td>\n",
       "      <td>0.177431</td>\n",
       "    </tr>\n",
       "    <tr>\n",
       "      <th>cigarette ends</th>\n",
       "      <td>0.525086</td>\n",
       "      <td>7560</td>\n",
       "      <td>0.870690</td>\n",
       "      <td>0.150514</td>\n",
       "    </tr>\n",
       "    <tr>\n",
       "      <th>frag plastic</th>\n",
       "      <td>0.550201</td>\n",
       "      <td>6929</td>\n",
       "      <td>0.862069</td>\n",
       "      <td>0.137951</td>\n",
       "    </tr>\n",
       "    <tr>\n",
       "      <th>snack wrapper</th>\n",
       "      <td>0.245690</td>\n",
       "      <td>3087</td>\n",
       "      <td>0.850575</td>\n",
       "      <td>0.061460</td>\n",
       "    </tr>\n",
       "    <tr>\n",
       "      <th>sheeting</th>\n",
       "      <td>0.198937</td>\n",
       "      <td>2388</td>\n",
       "      <td>0.704023</td>\n",
       "      <td>0.047543</td>\n",
       "    </tr>\n",
       "    <tr>\n",
       "      <th>Glass or ceramic drink bottles, pieces</th>\n",
       "      <td>0.155661</td>\n",
       "      <td>1828</td>\n",
       "      <td>0.640805</td>\n",
       "      <td>0.036394</td>\n",
       "    </tr>\n",
       "    <tr>\n",
       "      <th>Industrial pellets (nurdles)</th>\n",
       "      <td>0.132443</td>\n",
       "      <td>1664</td>\n",
       "      <td>0.321839</td>\n",
       "      <td>0.033129</td>\n",
       "    </tr>\n",
       "    <tr>\n",
       "      <th>Cotton bud/swab sticks</th>\n",
       "      <td>0.113046</td>\n",
       "      <td>1325</td>\n",
       "      <td>0.511494</td>\n",
       "      <td>0.026380</td>\n",
       "    </tr>\n",
       "    <tr>\n",
       "      <th>Plastic construction waste</th>\n",
       "      <td>0.072069</td>\n",
       "      <td>907</td>\n",
       "      <td>0.517241</td>\n",
       "      <td>0.018058</td>\n",
       "    </tr>\n",
       "    <tr>\n",
       "      <th>Packaging plastic nonfood or unknown</th>\n",
       "      <td>0.062845</td>\n",
       "      <td>776</td>\n",
       "      <td>0.367816</td>\n",
       "      <td>0.015450</td>\n",
       "    </tr>\n",
       "  </tbody>\n",
       "</table>\n",
       "</div>"
      ],
      "text/plain": [
       "                                           pcs_m  quantity  find rate  \\\n",
       "foams                                   0.826638      8912   0.810345   \n",
       "cigarette ends                          0.525086      7560   0.870690   \n",
       "frag plastic                            0.550201      6929   0.862069   \n",
       "snack wrapper                           0.245690      3087   0.850575   \n",
       "sheeting                                0.198937      2388   0.704023   \n",
       "Glass or ceramic drink bottles, pieces  0.155661      1828   0.640805   \n",
       "Industrial pellets (nurdles)            0.132443      1664   0.321839   \n",
       "Cotton bud/swab sticks                  0.113046      1325   0.511494   \n",
       "Plastic construction waste              0.072069       907   0.517241   \n",
       "Packaging plastic nonfood or unknown    0.062845       776   0.367816   \n",
       "\n",
       "                                        % of total  \n",
       "foams                                     0.177431  \n",
       "cigarette ends                            0.150514  \n",
       "frag plastic                              0.137951  \n",
       "snack wrapper                             0.061460  \n",
       "sheeting                                  0.047543  \n",
       "Glass or ceramic drink bottles, pieces    0.036394  \n",
       "Industrial pellets (nurdles)              0.033129  \n",
       "Cotton bud/swab sticks                    0.026380  \n",
       "Plastic construction waste                0.018058  \n",
       "Packaging plastic nonfood or unknown      0.015450  "
      ]
     },
     "execution_count": 19,
     "metadata": {},
     "output_type": "execute_result"
    }
   ],
   "source": [
    "a_ntt.sort_values(by='quantity', ascending=False)"
   ]
  },
  {
   "cell_type": "markdown",
   "metadata": {},
   "source": [
    "The new additions to the top ten list (cotton swabs, plastic construction waste and non-food packaging) are found more often than industrial pellets but at lesser quantities. Another way to think of it is that there is smaller chance of finding industrial pellets, but when they are found they occur in greater quantities."
   ]
  },
  {
   "cell_type": "code",
   "execution_count": 20,
   "metadata": {
    "jupyter": {
     "source_hidden": true
    }
   },
   "outputs": [],
   "source": [
    "# collect all the results for codes in the big_g_cols list\n",
    "# aggregate to the water feature level\n",
    "fts_bg = fts[fts.water_name.isin(project_lakes)&(fts.big_group.isin(big_g_cols))].groupby(['water_name', 'big_group'], as_index=False).agg({'quantity':'sum', 'pcs_m':'mean', 'found':'sum', 'loc_date':'nunique'})\n",
    "\n",
    "# calculate key indicators\n",
    "fts_bg['find rate'] = fts_bg.found/fts_bg.loc_date\n",
    "fts_bg['feature_total'] = fts_bg.water_name.map(lambda x: w_feat_total.loc[x] )\n",
    "fts_bg['% of total'] = fts_bg.quantity/fts_bg.feature_total\n",
    "\n",
    "# do some housekeeping:\n",
    "fts_bg.rename(columns={'big_group':'code'}, inplace=True)\n",
    "fts_bg.set_index('water_name', inplace=True)"
   ]
  },
  {
   "cell_type": "code",
   "execution_count": 21,
   "metadata": {
    "jupyter": {
     "source_hidden": true
    }
   },
   "outputs": [],
   "source": [
    "# collect all the records in codes_to_concat list\n",
    "cc_feature = a_data[a_data.code.isin(codes_to_concat)].copy()\n",
    "\n",
    "# limit only to project lakes and aggregate codes to feature level\n",
    "cc_feat= cc_feature[cc_feature.water_name.isin(project_lakes)].groupby(['water_name','code',], as_index=False).agg({'pcs_m':'mean', 'quantity':'sum', 'loc_date':'nunique', 'found':'sum' })\n",
    "\n",
    "# calculate key indicators\n",
    "cc_feat['find rate'] = cc_feat.found/cc_feat.loc_date\n",
    "cc_feat['feature_total'] = cc_feat.water_name.map(lambda x: w_feat_total.loc[x] )\n",
    "cc_feat['% of total'] = cc_feat.quantity/cc_feat.feature_total\n",
    "\n",
    "# collect the descriptions, replace the code column with descriptions\n",
    "cc_feat['description'] = cc_feat.code.map(lambda x: desc_map.loc[x])\n",
    "cc_feat.drop('code', inplace=True, axis=1)\n",
    "cc_feat.rename(columns={'description':'code'}, inplace =True)\n",
    "\n",
    "# set index to the same as fts_bg\n",
    "cc_feat.set_index('water_name', inplace=True)\n",
    "\n",
    "# concat the two data frames\n",
    "cc_feat_bg = pd.concat([cc_feat, fts_bg], axis=0, ignore_index=False)\n",
    "\n",
    "# house keeping\n",
    "cc_feat_bg = cc_feat_bg[['code',*concat_cols ]].copy()\n",
    "\n",
    "# get the order of the new df by quantity, descending save the index\n",
    "index_order = cc_feat_bg.groupby('code').quantity.sum().sort_values(ascending=False).index\n",
    "\n",
    "# housekeeping\n",
    "cc_feat_bg.reset_index(inplace=True)\n",
    "\n",
    "# make heat map data\n",
    "heat_map_data = cc_feat_bg[['water_name', 'code', '% of total']].pivot(index='code', columns='water_name').sort_values(by=(\"% of total\", \"Bielersee\"), ascending=False)\n",
    "\n",
    "# flatten columns\n",
    "heat_map_data.columns = heat_map_data.columns.get_level_values(1)\n",
    "\n",
    "# apply the index order\n",
    "heat_map_data = heat_map_data.reindex(index_order)"
   ]
  },
  {
   "cell_type": "markdown",
   "metadata": {},
   "source": [
    "#### <span style=\"color:#008891\"> The expanded top ten % of total for each lake</span>"
   ]
  },
  {
   "cell_type": "code",
   "execution_count": 22,
   "metadata": {
    "jupyter": {
     "source_hidden": true
    }
   },
   "outputs": [
    {
     "data": {
      "image/png": "[encoded data removed]",
      "text/plain": [
       "<Figure size 648x648 with 1 Axes>"
      ]
     },
     "metadata": {
      "needs_background": "light"
     },
     "output_type": "display_data"
    }
   ],
   "source": [
    "fig, ax = plt.subplots(figsize=(9,9))\n",
    "\n",
    "sns.heatmap(data=heat_map_data, ax = ax, cmap='YlOrRd', linewidth=.01, linecolor='white', annot=True, square=True, fmt=\".1%\", cbar=False)\n",
    "\n",
    "ax.set_ylabel(\"\")\n",
    "ax.set_xlabel(\"\", loc='left', labelpad=50)\n",
    "labels = [a_label.get_text().split('-') for a_label in ax.get_xticklabels()]\n",
    "new_labels = [x[-1] for x in labels]\n",
    "ax.set_xticklabels(new_labels)\n",
    "\n",
    "plt.tight_layout()\n",
    "\n",
    "plt.show()\n",
    "plt.close()"
   ]
  },
  {
   "cell_type": "markdown",
   "metadata": {},
   "source": [
    "#### <span style=\"color:#008891\">There is a large variety of objects between 1% and 2% of the total</span>\n",
    "\n",
    "This variety represents the numerous sources of trash in the environment and was the desired result of the sampling method. \n",
    "\n",
    "To capture that variety the objects were grouped according to source activity. Fragmented plastics maintain their own group as well as all objects less than 5mm.\n",
    "\n",
    "Annex A has the complete list and key indicaotrs of all objects found at the national level.\n",
    "\n"
   ]
  },
  {
   "cell_type": "markdown",
   "metadata": {},
   "source": [
    "### <span style=\"color:#008891\">The major code groups</span>\n",
    "\n",
    "The code groups were based on the objects found, the experience of surveyors and discussions with stakeholders from the federal government and NGOS with a long history of monitoring and removing trash from a variety of environments.\n",
    "\n",
    "__What do code groups mean:__ They describe the __probable__ source activity of an object\n",
    "\n",
    "__How to use them:__ Identify areas or zones of land use that encourage use of the object\n",
    "\n",
    "__Why is this important:__ Helps identify sectors or groups that could benefit from outreach"
   ]
  },
  {
   "cell_type": "markdown",
   "metadata": {},
   "source": [
    "### <span style=\"color:#008891\">Key indicators of the major code groups</span>\n",
    "\n",
    "Objects related to food consumption replace tobacco products and foams as the most abundant objects. Foams, folded into the construction category, are in 2nd followed by tobacco.\n",
    "\n",
    "For these larger groups the pcs range (.003 - 0.2) is greater greater than the top ten list ( but the find rates for each group are more consolididated. is remains very similar to the \n",
    "\n",
    "\n"
   ]
  },
  {
   "cell_type": "code",
   "execution_count": 23,
   "metadata": {
    "jupyter": {
     "source_hidden": true
    }
   },
   "outputs": [
    {
     "name": "stdout",
     "output_type": "stream",
     "text": [
      "\n",
      "This is the survey results aggregated to groupname for each survey, all locations:\n",
      "\n",
      "\n"
     ]
    },
    {
     "data": {
      "text/html": [
       "<div>\n",
       "<style scoped>\n",
       "    .dataframe tbody tr th:only-of-type {\n",
       "        vertical-align: middle;\n",
       "    }\n",
       "\n",
       "    .dataframe tbody tr th {\n",
       "        vertical-align: top;\n",
       "    }\n",
       "\n",
       "    .dataframe thead th {\n",
       "        text-align: right;\n",
       "    }\n",
       "</style>\n",
       "<table border=\"1\" class=\"dataframe\">\n",
       "  <thead>\n",
       "    <tr style=\"text-align: right;\">\n",
       "      <th></th>\n",
       "      <th>quantity</th>\n",
       "      <th>pcs_m</th>\n",
       "      <th>% of total</th>\n",
       "      <th>find rate</th>\n",
       "    </tr>\n",
       "    <tr>\n",
       "      <th>groupname</th>\n",
       "      <th></th>\n",
       "      <th></th>\n",
       "      <th></th>\n",
       "      <th></th>\n",
       "    </tr>\n",
       "  </thead>\n",
       "  <tbody>\n",
       "    <tr>\n",
       "      <th>food</th>\n",
       "      <td>9245</td>\n",
       "      <td>0.031</td>\n",
       "      <td>0.184</td>\n",
       "      <td>0.974</td>\n",
       "    </tr>\n",
       "    <tr>\n",
       "      <th>construction</th>\n",
       "      <td>9072</td>\n",
       "      <td>0.033</td>\n",
       "      <td>0.181</td>\n",
       "      <td>0.911</td>\n",
       "    </tr>\n",
       "    <tr>\n",
       "      <th>tobacco</th>\n",
       "      <td>8333</td>\n",
       "      <td>0.148</td>\n",
       "      <td>0.166</td>\n",
       "      <td>0.920</td>\n",
       "    </tr>\n",
       "    <tr>\n",
       "      <th>fragmented plastics</th>\n",
       "      <td>6789</td>\n",
       "      <td>0.202</td>\n",
       "      <td>0.135</td>\n",
       "      <td>0.859</td>\n",
       "    </tr>\n",
       "    <tr>\n",
       "      <th>less than 5mm</th>\n",
       "      <td>3902</td>\n",
       "      <td>0.017</td>\n",
       "      <td>0.078</td>\n",
       "      <td>0.514</td>\n",
       "    </tr>\n",
       "    <tr>\n",
       "      <th>agg-con-trans</th>\n",
       "      <td>2892</td>\n",
       "      <td>0.017</td>\n",
       "      <td>0.058</td>\n",
       "      <td>0.773</td>\n",
       "    </tr>\n",
       "    <tr>\n",
       "      <th>waste water</th>\n",
       "      <td>2470</td>\n",
       "      <td>0.023</td>\n",
       "      <td>0.049</td>\n",
       "      <td>0.667</td>\n",
       "    </tr>\n",
       "    <tr>\n",
       "      <th>recreation</th>\n",
       "      <td>2322</td>\n",
       "      <td>0.006</td>\n",
       "      <td>0.046</td>\n",
       "      <td>0.848</td>\n",
       "    </tr>\n",
       "    <tr>\n",
       "      <th>packaging</th>\n",
       "      <td>2014</td>\n",
       "      <td>0.012</td>\n",
       "      <td>0.040</td>\n",
       "      <td>0.790</td>\n",
       "    </tr>\n",
       "    <tr>\n",
       "      <th>the rest</th>\n",
       "      <td>1816</td>\n",
       "      <td>0.003</td>\n",
       "      <td>0.036</td>\n",
       "      <td>0.851</td>\n",
       "    </tr>\n",
       "    <tr>\n",
       "      <th>personal items</th>\n",
       "      <td>1184</td>\n",
       "      <td>0.003</td>\n",
       "      <td>0.024</td>\n",
       "      <td>0.730</td>\n",
       "    </tr>\n",
       "    <tr>\n",
       "      <th>agriculture</th>\n",
       "      <td>189</td>\n",
       "      <td>0.003</td>\n",
       "      <td>0.004</td>\n",
       "      <td>0.193</td>\n",
       "    </tr>\n",
       "  </tbody>\n",
       "</table>\n",
       "</div>"
      ],
      "text/plain": [
       "                     quantity  pcs_m  % of total  find rate\n",
       "groupname                                                  \n",
       "food                     9245  0.031       0.184      0.974\n",
       "construction             9072  0.033       0.181      0.911\n",
       "tobacco                  8333  0.148       0.166      0.920\n",
       "fragmented plastics      6789  0.202       0.135      0.859\n",
       "less than 5mm            3902  0.017       0.078      0.514\n",
       "agg-con-trans            2892  0.017       0.058      0.773\n",
       "waste water              2470  0.023       0.049      0.667\n",
       "recreation               2322  0.006       0.046      0.848\n",
       "packaging                2014  0.012       0.040      0.790\n",
       "the rest                 1816  0.003       0.036      0.851\n",
       "personal items           1184  0.003       0.024      0.730\n",
       "agriculture               189  0.003       0.004      0.193"
      ]
     },
     "execution_count": 23,
     "metadata": {},
     "output_type": "execute_result"
    }
   ],
   "source": [
    "# calculate the fail rates at this aggregation level\n",
    "group_fail_rates = a_data.groupby(['loc_date', 'groupname'], as_index=False).quantity.sum()\n",
    "group_fail_rates['found'] = group_fail_rates.quantity > 0 \n",
    "group_fail_rates = group_fail_rates.groupby('groupname').found.sum()\n",
    "\n",
    "# make a group summary\n",
    "group_summary = a_data.groupby('groupname').agg({'pcs_m':'mean', 'quantity':'sum',  'loc_date':'nunique'})\n",
    "group_summary['found'] = group_summary.index.map(lambda x:group_fail_rates.loc[x] )\n",
    "group_summary['find rate'] = group_summary.found/group_summary.loc_date\n",
    "group_summary['% of total'] = group_summary.quantity/group_summary.quantity.sum()\n",
    "group_summary = group_summary[['quantity', 'pcs_m', '% of total', 'find rate']].sort_values(by='quantity',ascending=False)\n",
    "\n",
    "\n",
    "print(\"\\nThis is the survey results aggregated to groupname for each survey, all locations:\\n\\n\")\n",
    "group_summary.round(3)"
   ]
  },
  {
   "cell_type": "markdown",
   "metadata": {},
   "source": [
    "#### <span style=\"color:#008891\"> Fail rate: how often the major code groups were indentified at each lake</span>\n",
    "\n",
    "Compare the fail rate at the lake level to that of the national level."
   ]
  },
  {
   "cell_type": "code",
   "execution_count": 24,
   "metadata": {
    "jupyter": {
     "source_hidden": true
    }
   },
   "outputs": [],
   "source": [
    "\n",
    "# initial aggrgation for this level:\n",
    "feature_group_summary = a_data[a_data.water_name.isin(project_lakes)].groupby(['water_name','loc_date', 'groupname'], as_index=False).agg({'pcs_m':'sum', 'quantity':'sum'})\n",
    "fgs_total = feature_group_summary.groupby('water_name').quantity.sum()\n",
    "\n",
    "# get the number of failures at this level\n",
    "feature_group_summary['found'] = feature_group_summary.quantity > 0\n",
    "\n",
    "# sum up failures, tries and quantity, get the mean value for pcs_m\n",
    "fgs = feature_group_summary.groupby(['water_name', 'groupname'], as_index=False).agg({'pcs_m':'mean', 'quantity':'sum', 'loc_date':'nunique', 'found':'sum'})\n",
    "\n",
    "# get some rates\n",
    "fgs['find rate'] = fgs.found/fgs.loc_date\n",
    "fgs['feature_total'] = fgs.water_name.map(lambda x: fgs_total.loc[x])\n",
    "fgs['% of total'] = fgs.quantity/fgs.feature_total\n",
    "fgs['rating'] = fgs['pcs_m']*fgs['find rate']\n",
    "\n",
    "# format for the heat map\n",
    "fgs_rating = fgs[['water_name','groupname','find rate']].round(3).pivot(index='groupname', columns='water_name')\n",
    "fgs_rating.columns = fgs_rating.columns.get_level_values(1)"
   ]
  },
  {
   "cell_type": "code",
   "execution_count": 25,
   "metadata": {
    "jupyter": {
     "source_hidden": true
    }
   },
   "outputs": [
    {
     "data": {
      "image/png": "[encoded data removed]",
      "text/plain": [
       "<Figure size 648x792 with 1 Axes>"
      ]
     },
     "metadata": {
      "needs_background": "light"
     },
     "output_type": "display_data"
    }
   ],
   "source": [
    "fig, ax = plt.subplots(figsize=(9,11))\n",
    "sns.heatmap(data=fgs_rating, ax = ax, cmap='YlOrRd', linewidth=.01, linecolor='white', annot=True, square=True, fmt=\".0%\", cbar=False)\n",
    "\n",
    "ax.set_ylabel(\"\")\n",
    "ax.set_xlabel(\"\", loc='left', labelpad=50)\n",
    "labels = [a_label.get_text().split('-') for a_label in ax.get_xticklabels()]\n",
    "new_labels = [x[-1] for x in labels]\n",
    "ax.set_xticklabels(new_labels)\n",
    "\n",
    "\n",
    "plt.tight_layout()\n",
    "\n",
    "plt.show()\n",
    "plt.close()"
   ]
  },
  {
   "cell_type": "markdown",
   "metadata": {},
   "source": [
    "#### <span style=\"color:#008891\">Pieces per meter: the density of the major code groups for each lake</span>\n",
    "\n",
    "Compare the fail rate at the lake level to that of the national level."
   ]
  },
  {
   "cell_type": "code",
   "execution_count": 26,
   "metadata": {
    "jupyter": {
     "source_hidden": true
    }
   },
   "outputs": [
    {
     "data": {
      "image/png": "[encoded data removed]",
      "text/plain": [
       "<Figure size 648x792 with 1 Axes>"
      ]
     },
     "metadata": {
      "needs_background": "light"
     },
     "output_type": "display_data"
    }
   ],
   "source": [
    "# format for the heat map\n",
    "fgs_rating = fgs[['water_name','groupname','pcs_m']].round(3).pivot(index='groupname', columns='water_name')\n",
    "fgs_rating.columns = fgs_rating.columns.get_level_values(1)\n",
    "\n",
    "fig, ax = plt.subplots(figsize=(9,11))\n",
    "sns.heatmap(data=fgs_rating, ax = ax, cmap='YlOrRd', linewidth=.01, linecolor='white', annot=True, square=True, fmt=\".2\", cbar=False)\n",
    "\n",
    "ax.set_ylabel(\"\")\n",
    "ax.set_xlabel(\"\", loc='left', labelpad=50)\n",
    "labels = [a_label.get_text().split('-') for a_label in ax.get_xticklabels()]\n",
    "new_labels = [x[-1] for x in labels]\n",
    "ax.set_xticklabels(new_labels)\n",
    "\n",
    "\n",
    "plt.tight_layout()\n",
    "\n",
    "plt.show()\n",
    "plt.close()"
   ]
  },
  {
   "cell_type": "markdown",
   "metadata": {},
   "source": [
    "#### <span style=\"color:#008891\">The top ten results for each water feature</span>"
   ]
  },
  {
   "cell_type": "code",
   "execution_count": null,
   "metadata": {
    "jupyter": {
     "source_hidden": true
    }
   },
   "outputs": [],
   "source": []
  },
  {
   "cell_type": "code",
   "execution_count": 27,
   "metadata": {
    "jupyter": {
     "source_hidden": true
    }
   },
   "outputs": [
    {
     "data": {
      "text/html": [
       "<div>\n",
       "<style scoped>\n",
       "    .dataframe tbody tr th:only-of-type {\n",
       "        vertical-align: middle;\n",
       "    }\n",
       "\n",
       "    .dataframe tbody tr th {\n",
       "        vertical-align: top;\n",
       "    }\n",
       "\n",
       "    .dataframe thead th {\n",
       "        text-align: right;\n",
       "    }\n",
       "</style>\n",
       "<table border=\"1\" class=\"dataframe\">\n",
       "  <thead>\n",
       "    <tr style=\"text-align: right;\">\n",
       "      <th></th>\n",
       "      <th>groupname</th>\n",
       "      <th>quantity</th>\n",
       "      <th>pcs_m</th>\n",
       "      <th>% of total</th>\n",
       "    </tr>\n",
       "  </thead>\n",
       "  <tbody>\n",
       "    <tr>\n",
       "      <th>0</th>\n",
       "      <td>agg-con-trans</td>\n",
       "      <td>2892</td>\n",
       "      <td>0.02</td>\n",
       "      <td>5.76</td>\n",
       "    </tr>\n",
       "    <tr>\n",
       "      <th>1</th>\n",
       "      <td>agriculture</td>\n",
       "      <td>189</td>\n",
       "      <td>0.00</td>\n",
       "      <td>0.38</td>\n",
       "    </tr>\n",
       "    <tr>\n",
       "      <th>2</th>\n",
       "      <td>construction</td>\n",
       "      <td>9072</td>\n",
       "      <td>0.03</td>\n",
       "      <td>18.06</td>\n",
       "    </tr>\n",
       "    <tr>\n",
       "      <th>3</th>\n",
       "      <td>food</td>\n",
       "      <td>9245</td>\n",
       "      <td>0.03</td>\n",
       "      <td>18.41</td>\n",
       "    </tr>\n",
       "    <tr>\n",
       "      <th>4</th>\n",
       "      <td>fragmented plastics</td>\n",
       "      <td>6789</td>\n",
       "      <td>0.20</td>\n",
       "      <td>13.52</td>\n",
       "    </tr>\n",
       "    <tr>\n",
       "      <th>5</th>\n",
       "      <td>less than 5mm</td>\n",
       "      <td>3902</td>\n",
       "      <td>0.02</td>\n",
       "      <td>7.77</td>\n",
       "    </tr>\n",
       "    <tr>\n",
       "      <th>6</th>\n",
       "      <td>packaging</td>\n",
       "      <td>2014</td>\n",
       "      <td>0.01</td>\n",
       "      <td>4.01</td>\n",
       "    </tr>\n",
       "    <tr>\n",
       "      <th>7</th>\n",
       "      <td>personal items</td>\n",
       "      <td>1184</td>\n",
       "      <td>0.00</td>\n",
       "      <td>2.36</td>\n",
       "    </tr>\n",
       "    <tr>\n",
       "      <th>8</th>\n",
       "      <td>recreation</td>\n",
       "      <td>2322</td>\n",
       "      <td>0.01</td>\n",
       "      <td>4.62</td>\n",
       "    </tr>\n",
       "    <tr>\n",
       "      <th>9</th>\n",
       "      <td>the rest</td>\n",
       "      <td>1816</td>\n",
       "      <td>0.00</td>\n",
       "      <td>3.62</td>\n",
       "    </tr>\n",
       "    <tr>\n",
       "      <th>10</th>\n",
       "      <td>tobacco</td>\n",
       "      <td>8333</td>\n",
       "      <td>0.15</td>\n",
       "      <td>16.59</td>\n",
       "    </tr>\n",
       "    <tr>\n",
       "      <th>11</th>\n",
       "      <td>waste water</td>\n",
       "      <td>2470</td>\n",
       "      <td>0.02</td>\n",
       "      <td>4.92</td>\n",
       "    </tr>\n",
       "  </tbody>\n",
       "</table>\n",
       "</div>"
      ],
      "text/plain": [
       "              groupname  quantity  pcs_m  % of total\n",
       "0         agg-con-trans      2892   0.02        5.76\n",
       "1           agriculture       189   0.00        0.38\n",
       "2          construction      9072   0.03       18.06\n",
       "3                  food      9245   0.03       18.41\n",
       "4   fragmented plastics      6789   0.20       13.52\n",
       "5         less than 5mm      3902   0.02        7.77\n",
       "6             packaging      2014   0.01        4.01\n",
       "7        personal items      1184   0.00        2.36\n",
       "8            recreation      2322   0.01        4.62\n",
       "9              the rest      1816   0.00        3.62\n",
       "10              tobacco      8333   0.15       16.59\n",
       "11          waste water      2470   0.02        4.92"
      ]
     },
     "execution_count": 27,
     "metadata": {},
     "output_type": "execute_result"
    }
   ],
   "source": [
    "a_group_summary = a_data.groupby('groupname', as_index=False).agg({\"quantity\":\"sum\", \"pcs_m\":\"mean\"})\n",
    "a_group_summary['% of total'] = a_group_summary.quantity/a_group_summary.quantity.sum()*100\n",
    "\n",
    "a_group_summary.round(2)"
   ]
  },
  {
   "cell_type": "markdown",
   "metadata": {},
   "source": [
    "## <span style=\"color:#008891\">For the catchment area: assign code groups, regional labels and daily totals for survey data from the catchment area:</span>"
   ]
  },
  {
   "cell_type": "code",
   "execution_count": 28,
   "metadata": {
    "jupyter": {
     "source_hidden": true
    }
   },
   "outputs": [
    {
     "name": "stdout",
     "output_type": "stream",
     "text": [
      "made code groups\n",
      "making group map\n",
      "assigned results to code groups\n",
      "assigned regional labels\n",
      "assigned results to code groups\n",
      "assigned regional labels\n",
      "made code totals\n",
      "made code totals\n"
     ]
    }
   ],
   "source": [
    "\n",
    "clas_kwargs = dict(\n",
    "    code_group_data=group_names_locations,\n",
    "    new_code_group=frag_plas,\n",
    "    levels=levels,\n",
    "    catchment_features=bassin,\n",
    "    end_date=end_date,\n",
    "    start_date=start_date,\n",
    "    code_group_loc=output,\n",
    "    catchment_cols=catchment_cols\n",
    ")\n",
    "\n",
    "\n",
    "\n",
    "b = ac.CatchmentArea(a.processed, dfBeaches, **clas_kwargs)"
   ]
  },
  {
   "cell_type": "code",
   "execution_count": 29,
   "metadata": {
    "jupyter": {
     "source_hidden": true
    }
   },
   "outputs": [
    {
     "name": "stdout",
     "output_type": "stream",
     "text": [
      "\n",
      "The columns from the survey data:\n",
      "\n",
      "Index(['code', 'pcs_m', 'quantity', 'location', 'loc_date', 'water_name',\n",
      "       'type', 'groupname', 'population', 'string_date', 'region', 'city',\n",
      "       'fail'],\n",
      "      dtype='object')\n",
      "\n"
     ]
    }
   ],
   "source": [
    "som_bassin_data = b.bassin_data.copy()\n",
    "\n",
    "# mark all the records that have quantity > 0\n",
    "som_bassin_data['fail'] = som_bassin_data.quantity > 0\n",
    "som_bassin_data = som_bassin_data[som_bassin_data.columns[1:]]\n",
    "print(F\"\\nThe columns from the survey data:\\n\\n{som_bassin_data.columns}\\n\")"
   ]
  },
  {
   "cell_type": "markdown",
   "metadata": {},
   "source": [
    "#### <span style=\"color:#008891\">Get the dimensional data for the catchment area:</span>"
   ]
  },
  {
   "cell_type": "markdown",
   "metadata": {},
   "source": [
    "### <span style=\"color:#008891\"> Get sample rates at the code level:</span>"
   ]
  },
  {
   "cell_type": "code",
   "execution_count": 30,
   "metadata": {
    "jupyter": {
     "source_hidden": true
    }
   },
   "outputs": [],
   "source": [
    "# map number of samples per location and sample total to each record\n",
    "\n",
    "def add_attribute(x, a_map={}):\n",
    "    try:\n",
    "        num_samps = a_map[x]\n",
    "    except:\n",
    "        num_samps = 0\n",
    "    return num_samps\n",
    "\n",
    "# conut the number of samples per location\n",
    "num_samp_location = b.bassin_pcsm_day.groupby('location').loc_date.count()\n",
    "\n",
    "# retrieve the total quantity per sample\n",
    "qty_sample = b.bassin_pcsm_day.groupby('loc_date').quantity.sum()"
   ]
  },
  {
   "cell_type": "code",
   "execution_count": 31,
   "metadata": {
    "jupyter": {
     "source_hidden": true
    }
   },
   "outputs": [],
   "source": [
    "# map values to bassin data\n",
    "\n",
    "# the number of samples at a location\n",
    "for beach in som_bassin_data.location.unique():\n",
    "    som_bassin_data.loc[som_bassin_data.location==beach, 'nsamps'] = add_attribute(beach, a_map=num_samp_location)\n",
    "\n",
    "# the number of samples at a location divided by the total number of samples\n",
    "# som_bassin_data['l_weight'] = som_bassin_data.nsamps/len(som_bassin_data.loc_date.unique())\n",
    "\n",
    "# the survey total for the corresponding loc_date variable\n",
    "for loc_date in som_bassin_data.loc_date.unique():\n",
    "    som_bassin_data.loc[som_bassin_data.loc_date==loc_date, 'samp_total'] = qty_sample[[loc_date]][0]\n",
    "\n",
    "# the % of total for that object for the survey defined by loc_date\n",
    "som_bassin_data['sample_% _of_total'] = som_bassin_data.quantity/som_bassin_data.samp_total"
   ]
  },
  {
   "cell_type": "code",
   "execution_count": 32,
   "metadata": {
    "jupyter": {
     "source_hidden": true
    }
   },
   "outputs": [
    {
     "name": "stdout",
     "output_type": "stream",
     "text": [
      "12884\n"
     ]
    }
   ],
   "source": [
    "def save_describe(x):\n",
    "    data=x.describe()\n",
    "    return data.values\n",
    "\n",
    "# save the key values from the original data:\n",
    "q_before = save_describe(som_bassin_data.quantity)\n",
    "pc_befor = save_describe(som_bassin_data.pcs_m)\n",
    "print(som_bassin_data.quantity.sum())"
   ]
  },
  {
   "cell_type": "code",
   "execution_count": 33,
   "metadata": {
    "jupyter": {
     "source_hidden": true
    }
   },
   "outputs": [
    {
     "name": "stdout",
     "output_type": "stream",
     "text": [
      "[ True  True False  True  True  True  True  True]\n",
      "12884\n",
      "[ True  True  True  True  True  True  True  True]\n"
     ]
    }
   ],
   "source": [
    "# rank the quantity found of each code in each survey for all locations\n",
    "ranked = []\n",
    "\n",
    "# the loc_date values to aggregate:\n",
    "locs = som_bassin_data.loc_date.unique()\n",
    "\n",
    "# for each value in loc_date:\n",
    "sbd = som_bassin_data.copy()\n",
    "for a_samp in locs:\n",
    "    # sort the values for each survey by \n",
    "    sbdl = sbd[sbd.loc_date == a_samp].sort_values(by='quantity', ascending=False)\n",
    "    sbdl = sbdl.set_index(np.arange(1, len(sbdl)+1), drop=True)\n",
    "    sbdl['sample_rank'] = sbdl.index\n",
    "    ranked.append(sbdl)\n",
    "    \n",
    "# new data with amplitude rankings for each record\n",
    "sbd = pd.concat(ranked, ignore_index=True)\n",
    "\n",
    "# check the key values before and after:\n",
    "print(q_before == sbd.quantity.describe().values)\n",
    "print(sbd.quantity.sum())\n",
    "print(pc_befor == sbd.pcs_m.describe().values)\n"
   ]
  },
  {
   "cell_type": "code",
   "execution_count": 34,
   "metadata": {
    "jupyter": {
     "source_hidden": true
    }
   },
   "outputs": [
    {
     "data": {
      "text/plain": [
       "Index(['code', 'pcs_m', 'quantity', 'location', 'loc_date', 'water_name',\n",
       "       'type', 'groupname', 'population', 'string_date', 'region', 'city',\n",
       "       'fail', 'nsamps', 'samp_total', 'sample_% _of_total', 'sample_rank'],\n",
       "      dtype='object')"
      ]
     },
     "execution_count": 34,
     "metadata": {},
     "output_type": "execute_result"
    }
   ],
   "source": [
    "sbd.columns"
   ]
  },
  {
   "cell_type": "code",
   "execution_count": 35,
   "metadata": {
    "jupyter": {
     "source_hidden": true
    }
   },
   "outputs": [
    {
     "data": {
      "text/html": [
       "<div>\n",
       "<style scoped>\n",
       "    .dataframe tbody tr th:only-of-type {\n",
       "        vertical-align: middle;\n",
       "    }\n",
       "\n",
       "    .dataframe tbody tr th {\n",
       "        vertical-align: top;\n",
       "    }\n",
       "\n",
       "    .dataframe thead th {\n",
       "        text-align: right;\n",
       "    }\n",
       "</style>\n",
       "<table border=\"1\" class=\"dataframe\">\n",
       "  <thead>\n",
       "    <tr style=\"text-align: right;\">\n",
       "      <th></th>\n",
       "      <th>code</th>\n",
       "      <th>pcs_m</th>\n",
       "      <th>quantity</th>\n",
       "      <th>location</th>\n",
       "      <th>loc_date</th>\n",
       "      <th>water_name</th>\n",
       "      <th>type</th>\n",
       "      <th>groupname</th>\n",
       "      <th>population</th>\n",
       "      <th>string_date</th>\n",
       "      <th>region</th>\n",
       "      <th>city</th>\n",
       "      <th>fail</th>\n",
       "      <th>nsamps</th>\n",
       "      <th>samp_total</th>\n",
       "      <th>sample_% _of_total</th>\n",
       "      <th>sample_rank</th>\n",
       "    </tr>\n",
       "  </thead>\n",
       "  <tbody>\n",
       "    <tr>\n",
       "      <th>0</th>\n",
       "      <td>G27</td>\n",
       "      <td>0.57</td>\n",
       "      <td>60</td>\n",
       "      <td>weissenau-neuhaus</td>\n",
       "      <td>(weissenau-neuhaus, 2021-03-09)</td>\n",
       "      <td>Thunersee</td>\n",
       "      <td>l</td>\n",
       "      <td>tobacco</td>\n",
       "      <td>5751.0</td>\n",
       "      <td>2021-03-09</td>\n",
       "      <td>Aare</td>\n",
       "      <td>Unterseen</td>\n",
       "      <td>True</td>\n",
       "      <td>11.0</td>\n",
       "      <td>238.0</td>\n",
       "      <td>0.252101</td>\n",
       "      <td>1</td>\n",
       "    </tr>\n",
       "    <tr>\n",
       "      <th>1</th>\n",
       "      <td>G78</td>\n",
       "      <td>0.27</td>\n",
       "      <td>28</td>\n",
       "      <td>weissenau-neuhaus</td>\n",
       "      <td>(weissenau-neuhaus, 2021-03-09)</td>\n",
       "      <td>Thunersee</td>\n",
       "      <td>l</td>\n",
       "      <td>fragmented plastics</td>\n",
       "      <td>5751.0</td>\n",
       "      <td>2021-03-09</td>\n",
       "      <td>Aare</td>\n",
       "      <td>Unterseen</td>\n",
       "      <td>True</td>\n",
       "      <td>11.0</td>\n",
       "      <td>238.0</td>\n",
       "      <td>0.117647</td>\n",
       "      <td>2</td>\n",
       "    </tr>\n",
       "    <tr>\n",
       "      <th>2</th>\n",
       "      <td>G74</td>\n",
       "      <td>0.18</td>\n",
       "      <td>19</td>\n",
       "      <td>weissenau-neuhaus</td>\n",
       "      <td>(weissenau-neuhaus, 2021-03-09)</td>\n",
       "      <td>Thunersee</td>\n",
       "      <td>l</td>\n",
       "      <td>construction</td>\n",
       "      <td>5751.0</td>\n",
       "      <td>2021-03-09</td>\n",
       "      <td>Aare</td>\n",
       "      <td>Unterseen</td>\n",
       "      <td>True</td>\n",
       "      <td>11.0</td>\n",
       "      <td>238.0</td>\n",
       "      <td>0.079832</td>\n",
       "      <td>3</td>\n",
       "    </tr>\n",
       "    <tr>\n",
       "      <th>3</th>\n",
       "      <td>G67</td>\n",
       "      <td>0.15</td>\n",
       "      <td>16</td>\n",
       "      <td>weissenau-neuhaus</td>\n",
       "      <td>(weissenau-neuhaus, 2021-03-09)</td>\n",
       "      <td>Thunersee</td>\n",
       "      <td>l</td>\n",
       "      <td>agg-con-trans</td>\n",
       "      <td>5751.0</td>\n",
       "      <td>2021-03-09</td>\n",
       "      <td>Aare</td>\n",
       "      <td>Unterseen</td>\n",
       "      <td>True</td>\n",
       "      <td>11.0</td>\n",
       "      <td>238.0</td>\n",
       "      <td>0.067227</td>\n",
       "      <td>4</td>\n",
       "    </tr>\n",
       "    <tr>\n",
       "      <th>4</th>\n",
       "      <td>G941</td>\n",
       "      <td>0.14</td>\n",
       "      <td>15</td>\n",
       "      <td>weissenau-neuhaus</td>\n",
       "      <td>(weissenau-neuhaus, 2021-03-09)</td>\n",
       "      <td>Thunersee</td>\n",
       "      <td>l</td>\n",
       "      <td>packaging</td>\n",
       "      <td>5751.0</td>\n",
       "      <td>2021-03-09</td>\n",
       "      <td>Aare</td>\n",
       "      <td>Unterseen</td>\n",
       "      <td>True</td>\n",
       "      <td>11.0</td>\n",
       "      <td>238.0</td>\n",
       "      <td>0.063025</td>\n",
       "      <td>5</td>\n",
       "    </tr>\n",
       "  </tbody>\n",
       "</table>\n",
       "</div>"
      ],
      "text/plain": [
       "   code  pcs_m  quantity           location                         loc_date  \\\n",
       "0   G27   0.57        60  weissenau-neuhaus  (weissenau-neuhaus, 2021-03-09)   \n",
       "1   G78   0.27        28  weissenau-neuhaus  (weissenau-neuhaus, 2021-03-09)   \n",
       "2   G74   0.18        19  weissenau-neuhaus  (weissenau-neuhaus, 2021-03-09)   \n",
       "3   G67   0.15        16  weissenau-neuhaus  (weissenau-neuhaus, 2021-03-09)   \n",
       "4  G941   0.14        15  weissenau-neuhaus  (weissenau-neuhaus, 2021-03-09)   \n",
       "\n",
       "  water_name type            groupname  population string_date region  \\\n",
       "0  Thunersee    l              tobacco      5751.0  2021-03-09   Aare   \n",
       "1  Thunersee    l  fragmented plastics      5751.0  2021-03-09   Aare   \n",
       "2  Thunersee    l         construction      5751.0  2021-03-09   Aare   \n",
       "3  Thunersee    l        agg-con-trans      5751.0  2021-03-09   Aare   \n",
       "4  Thunersee    l            packaging      5751.0  2021-03-09   Aare   \n",
       "\n",
       "        city  fail  nsamps  samp_total  sample_% _of_total  sample_rank  \n",
       "0  Unterseen  True    11.0       238.0            0.252101            1  \n",
       "1  Unterseen  True    11.0       238.0            0.117647            2  \n",
       "2  Unterseen  True    11.0       238.0            0.079832            3  \n",
       "3  Unterseen  True    11.0       238.0            0.067227            4  \n",
       "4  Unterseen  True    11.0       238.0            0.063025            5  "
      ]
     },
     "execution_count": 35,
     "metadata": {},
     "output_type": "execute_result"
    }
   ],
   "source": [
    "sbd.head()"
   ]
  },
  {
   "cell_type": "code",
   "execution_count": 36,
   "metadata": {
    "jupyter": {
     "source_hidden": true
    }
   },
   "outputs": [
    {
     "name": "stdout",
     "output_type": "stream",
     "text": [
      "\n",
      " objects grouped by code and sorted by quantity found:\n",
      "\n",
      "code\n",
      "G27     2412\n",
      "G78      994\n",
      "G79      844\n",
      "G30      842\n",
      "G67      781\n",
      "G200     643\n",
      "G81      559\n",
      "G941     400\n",
      "G117     285\n",
      "G74      284\n",
      "Name: quantity, dtype: int64\n",
      "\n"
     ]
    }
   ],
   "source": [
    "# the top ten for the catchment area:\n",
    "catchment_top_ten = sbd.groupby('code').quantity.sum().sort_values(ascending=False)\n",
    "print(F\"\\n objects grouped by code and sorted by quantity found:\\n\\n{catchment_top_ten[:10]}\\n\")"
   ]
  },
  {
   "cell_type": "code",
   "execution_count": 37,
   "metadata": {
    "jupyter": {
     "source_hidden": true
    }
   },
   "outputs": [
    {
     "name": "stdout",
     "output_type": "stream",
     "text": [
      "\n",
      " objects grouped by code and sorted by median pcs-m: \n",
      "\n",
      "\n"
     ]
    },
    {
     "data": {
      "text/plain": [
       "code\n",
       "G122    0.580\n",
       "G144    0.235\n",
       "G27     0.190\n",
       "G78     0.155\n",
       "G119    0.135\n",
       "G79     0.100\n",
       "G5      0.090\n",
       "G30     0.090\n",
       "G67     0.090\n",
       "G200    0.080\n",
       "Name: pcs_m, dtype: float64"
      ]
     },
     "execution_count": 37,
     "metadata": {},
     "output_type": "execute_result"
    }
   ],
   "source": [
    "print(\"\\n objects grouped by code and sorted by median pcs-m: \\n\\n\")\n",
    "sbd[sbd.quantity > 0].groupby(['code']).pcs_m.median().sort_values(ascending=False)[:10]"
   ]
  },
  {
   "cell_type": "code",
   "execution_count": 38,
   "metadata": {
    "jupyter": {
     "source_hidden": true
    }
   },
   "outputs": [
    {
     "name": "stdout",
     "output_type": "stream",
     "text": [
      "\n",
      " objects grouped by code and sorted by quantity found: \n",
      "\n",
      "\n"
     ]
    },
    {
     "data": {
      "text/plain": [
       "code\n",
       "G27     2412\n",
       "G78      994\n",
       "G79      844\n",
       "G30      842\n",
       "G67      781\n",
       "G200     643\n",
       "G81      559\n",
       "G941     400\n",
       "G117     285\n",
       "G74      284\n",
       "Name: quantity, dtype: int64"
      ]
     },
     "execution_count": 38,
     "metadata": {},
     "output_type": "execute_result"
    }
   ],
   "source": [
    "print(\"\\n objects grouped by code and sorted by quantity found: \\n\\n\")\n",
    "sbd[sbd.quantity > 0].groupby(['code']).quantity.sum().sort_values(ascending=False)[:10]"
   ]
  },
  {
   "cell_type": "code",
   "execution_count": 39,
   "metadata": {
    "jupyter": {
     "source_hidden": true
    }
   },
   "outputs": [
    {
     "name": "stdout",
     "output_type": "stream",
     "text": [
      "\n",
      " objects grouped by code and sorted by number of times at least one was found: \n",
      "\n",
      "\n"
     ]
    },
    {
     "data": {
      "text/plain": [
       "code\n",
       "G27     107\n",
       "G79     107\n",
       "G30     105\n",
       "G67      97\n",
       "G78      96\n",
       "G200     87\n",
       "G81      72\n",
       "G82      68\n",
       "G74      64\n",
       "G89      64\n",
       "Name: fail, dtype: int64"
      ]
     },
     "execution_count": 39,
     "metadata": {},
     "output_type": "execute_result"
    }
   ],
   "source": [
    "print(\"\\n objects grouped by code and sorted by number of times at least one was found: \\n\\n\")\n",
    "sbd[sbd.quantity > 0].groupby(['code']).fail.sum().sort_values(ascending=False)[:10]"
   ]
  },
  {
   "cell_type": "markdown",
   "metadata": {},
   "source": [
    "### Sample rank: how much of the sample total was taken up by this object analogous to % of sample total"
   ]
  },
  {
   "cell_type": "code",
   "execution_count": 40,
   "metadata": {
    "jupyter": {
     "source_hidden": true
    }
   },
   "outputs": [
    {
     "name": "stdout",
     "output_type": "stream",
     "text": [
      "\n",
      " objects grouped by water feature and code, sorted by frequency of sample ranking: \n",
      "\n",
      "\n"
     ]
    },
    {
     "data": {
      "text/html": [
       "<div>\n",
       "<style scoped>\n",
       "    .dataframe tbody tr th:only-of-type {\n",
       "        vertical-align: middle;\n",
       "    }\n",
       "\n",
       "    .dataframe tbody tr th {\n",
       "        vertical-align: top;\n",
       "    }\n",
       "\n",
       "    .dataframe thead th {\n",
       "        text-align: right;\n",
       "    }\n",
       "</style>\n",
       "<table border=\"1\" class=\"dataframe\">\n",
       "  <thead>\n",
       "    <tr style=\"text-align: right;\">\n",
       "      <th></th>\n",
       "      <th>water_name</th>\n",
       "      <th>code</th>\n",
       "      <th>sample_rank</th>\n",
       "      <th>loc_date</th>\n",
       "    </tr>\n",
       "  </thead>\n",
       "  <tbody>\n",
       "    <tr>\n",
       "      <th>1394</th>\n",
       "      <td>Neuenburgersee</td>\n",
       "      <td>G27</td>\n",
       "      <td>1</td>\n",
       "      <td>22</td>\n",
       "    </tr>\n",
       "    <tr>\n",
       "      <th>2054</th>\n",
       "      <td>Thunersee</td>\n",
       "      <td>G27</td>\n",
       "      <td>1</td>\n",
       "      <td>12</td>\n",
       "    </tr>\n",
       "    <tr>\n",
       "      <th>1581</th>\n",
       "      <td>Neuenburgersee</td>\n",
       "      <td>G79</td>\n",
       "      <td>3</td>\n",
       "      <td>11</td>\n",
       "    </tr>\n",
       "    <tr>\n",
       "      <th>1291</th>\n",
       "      <td>Neuenburgersee</td>\n",
       "      <td>G200</td>\n",
       "      <td>2</td>\n",
       "      <td>9</td>\n",
       "    </tr>\n",
       "    <tr>\n",
       "      <th>483</th>\n",
       "      <td>Bielersee</td>\n",
       "      <td>G27</td>\n",
       "      <td>1</td>\n",
       "      <td>9</td>\n",
       "    </tr>\n",
       "    <tr>\n",
       "      <th>...</th>\n",
       "      <td>...</td>\n",
       "      <td>...</td>\n",
       "      <td>...</td>\n",
       "      <td>...</td>\n",
       "    </tr>\n",
       "    <tr>\n",
       "      <th>840</th>\n",
       "      <td>Bielersee</td>\n",
       "      <td>G928</td>\n",
       "      <td>23</td>\n",
       "      <td>1</td>\n",
       "    </tr>\n",
       "    <tr>\n",
       "      <th>839</th>\n",
       "      <td>Bielersee</td>\n",
       "      <td>G928</td>\n",
       "      <td>22</td>\n",
       "      <td>1</td>\n",
       "    </tr>\n",
       "    <tr>\n",
       "      <th>838</th>\n",
       "      <td>Bielersee</td>\n",
       "      <td>G928</td>\n",
       "      <td>21</td>\n",
       "      <td>1</td>\n",
       "    </tr>\n",
       "    <tr>\n",
       "      <th>837</th>\n",
       "      <td>Bielersee</td>\n",
       "      <td>G928</td>\n",
       "      <td>12</td>\n",
       "      <td>1</td>\n",
       "    </tr>\n",
       "    <tr>\n",
       "      <th>2351</th>\n",
       "      <td>Thunersee</td>\n",
       "      <td>G98</td>\n",
       "      <td>32</td>\n",
       "      <td>1</td>\n",
       "    </tr>\n",
       "  </tbody>\n",
       "</table>\n",
       "<p>2352 rows × 4 columns</p>\n",
       "</div>"
      ],
      "text/plain": [
       "          water_name  code  sample_rank  loc_date\n",
       "1394  Neuenburgersee   G27            1        22\n",
       "2054       Thunersee   G27            1        12\n",
       "1581  Neuenburgersee   G79            3        11\n",
       "1291  Neuenburgersee  G200            2         9\n",
       "483        Bielersee   G27            1         9\n",
       "...              ...   ...          ...       ...\n",
       "840        Bielersee  G928           23         1\n",
       "839        Bielersee  G928           22         1\n",
       "838        Bielersee  G928           21         1\n",
       "837        Bielersee  G928           12         1\n",
       "2351       Thunersee   G98           32         1\n",
       "\n",
       "[2352 rows x 4 columns]"
      ]
     },
     "execution_count": 40,
     "metadata": {},
     "output_type": "execute_result"
    }
   ],
   "source": [
    "print(\"\\n objects grouped by water feature and code, sorted by frequency of sample ranking: \\n\\n\")\n",
    "sbd[sbd.quantity > 0].groupby(['water_name','code', 'sample_rank'], as_index=False).loc_date.nunique().sort_values(by='loc_date', ascending=False)"
   ]
  },
  {
   "cell_type": "code",
   "execution_count": 41,
   "metadata": {
    "jupyter": {
     "source_hidden": true
    }
   },
   "outputs": [
    {
     "name": "stdout",
     "output_type": "stream",
     "text": [
      "\n",
      " objects grouped by water feature and code, sorted by quantity found: \n",
      "\n",
      "\n"
     ]
    },
    {
     "data": {
      "text/html": [
       "<div>\n",
       "<style scoped>\n",
       "    .dataframe tbody tr th:only-of-type {\n",
       "        vertical-align: middle;\n",
       "    }\n",
       "\n",
       "    .dataframe tbody tr th {\n",
       "        vertical-align: top;\n",
       "    }\n",
       "\n",
       "    .dataframe thead th {\n",
       "        text-align: right;\n",
       "    }\n",
       "</style>\n",
       "<table border=\"1\" class=\"dataframe\">\n",
       "  <thead>\n",
       "    <tr style=\"text-align: right;\">\n",
       "      <th></th>\n",
       "      <th>water_name</th>\n",
       "      <th>code</th>\n",
       "      <th>quantity</th>\n",
       "    </tr>\n",
       "  </thead>\n",
       "  <tbody>\n",
       "    <tr>\n",
       "      <th>377</th>\n",
       "      <td>Neuenburgersee</td>\n",
       "      <td>G27</td>\n",
       "      <td>898</td>\n",
       "    </tr>\n",
       "    <tr>\n",
       "      <th>155</th>\n",
       "      <td>Bielersee</td>\n",
       "      <td>G27</td>\n",
       "      <td>719</td>\n",
       "    </tr>\n",
       "    <tr>\n",
       "      <th>537</th>\n",
       "      <td>Thunersee</td>\n",
       "      <td>G27</td>\n",
       "      <td>613</td>\n",
       "    </tr>\n",
       "    <tr>\n",
       "      <th>188</th>\n",
       "      <td>Bielersee</td>\n",
       "      <td>G78</td>\n",
       "      <td>371</td>\n",
       "    </tr>\n",
       "    <tr>\n",
       "      <th>189</th>\n",
       "      <td>Bielersee</td>\n",
       "      <td>G79</td>\n",
       "      <td>334</td>\n",
       "    </tr>\n",
       "    <tr>\n",
       "      <th>...</th>\n",
       "      <td>...</td>\n",
       "      <td>...</td>\n",
       "      <td>...</td>\n",
       "    </tr>\n",
       "    <tr>\n",
       "      <th>306</th>\n",
       "      <td>La Thièle</td>\n",
       "      <td>G67</td>\n",
       "      <td>1</td>\n",
       "    </tr>\n",
       "    <tr>\n",
       "      <th>307</th>\n",
       "      <td>La Thièle</td>\n",
       "      <td>G81</td>\n",
       "      <td>1</td>\n",
       "    </tr>\n",
       "    <tr>\n",
       "      <th>308</th>\n",
       "      <td>La Thièle</td>\n",
       "      <td>G82</td>\n",
       "      <td>1</td>\n",
       "    </tr>\n",
       "    <tr>\n",
       "      <th>313</th>\n",
       "      <td>Neuenburgersee</td>\n",
       "      <td>G103</td>\n",
       "      <td>1</td>\n",
       "    </tr>\n",
       "    <tr>\n",
       "      <th>301</th>\n",
       "      <td>Brienzersee</td>\n",
       "      <td>G96</td>\n",
       "      <td>1</td>\n",
       "    </tr>\n",
       "  </tbody>\n",
       "</table>\n",
       "<p>603 rows × 3 columns</p>\n",
       "</div>"
      ],
      "text/plain": [
       "         water_name  code  quantity\n",
       "377  Neuenburgersee   G27       898\n",
       "155       Bielersee   G27       719\n",
       "537       Thunersee   G27       613\n",
       "188       Bielersee   G78       371\n",
       "189       Bielersee   G79       334\n",
       "..              ...   ...       ...\n",
       "306       La Thièle   G67         1\n",
       "307       La Thièle   G81         1\n",
       "308       La Thièle   G82         1\n",
       "313  Neuenburgersee  G103         1\n",
       "301     Brienzersee   G96         1\n",
       "\n",
       "[603 rows x 3 columns]"
      ]
     },
     "execution_count": 41,
     "metadata": {},
     "output_type": "execute_result"
    }
   ],
   "source": [
    "print(\"\\n objects grouped by water feature and code, sorted by quantity found: \\n\\n\")\n",
    "sbd[sbd.quantity > 0].groupby(['water_name','code'], as_index=False).quantity.sum().sort_values(by='quantity', ascending=False)"
   ]
  },
  {
   "cell_type": "code",
   "execution_count": 42,
   "metadata": {
    "jupyter": {
     "source_hidden": true
    }
   },
   "outputs": [
    {
     "name": "stdout",
     "output_type": "stream",
     "text": [
      "\n",
      " objects grouped by water feature and code, sorted by median pcs_m: \n",
      "\n",
      "\n"
     ]
    },
    {
     "data": {
      "text/html": [
       "<div>\n",
       "<style scoped>\n",
       "    .dataframe tbody tr th:only-of-type {\n",
       "        vertical-align: middle;\n",
       "    }\n",
       "\n",
       "    .dataframe tbody tr th {\n",
       "        vertical-align: top;\n",
       "    }\n",
       "\n",
       "    .dataframe thead th {\n",
       "        text-align: right;\n",
       "    }\n",
       "</style>\n",
       "<table border=\"1\" class=\"dataframe\">\n",
       "  <thead>\n",
       "    <tr style=\"text-align: right;\">\n",
       "      <th></th>\n",
       "      <th>water_name</th>\n",
       "      <th>code</th>\n",
       "      <th>pcs_m</th>\n",
       "    </tr>\n",
       "  </thead>\n",
       "  <tbody>\n",
       "    <tr>\n",
       "      <th>259</th>\n",
       "      <td>Brienzersee</td>\n",
       "      <td>G27</td>\n",
       "      <td>1.00</td>\n",
       "    </tr>\n",
       "    <tr>\n",
       "      <th>66</th>\n",
       "      <td>Aare</td>\n",
       "      <td>G98</td>\n",
       "      <td>0.97</td>\n",
       "    </tr>\n",
       "    <tr>\n",
       "      <th>278</th>\n",
       "      <td>Brienzersee</td>\n",
       "      <td>G78</td>\n",
       "      <td>0.61</td>\n",
       "    </tr>\n",
       "    <tr>\n",
       "      <th>144</th>\n",
       "      <td>Bielersee</td>\n",
       "      <td>G204</td>\n",
       "      <td>0.59</td>\n",
       "    </tr>\n",
       "    <tr>\n",
       "      <th>98</th>\n",
       "      <td>Bielersee</td>\n",
       "      <td>G122</td>\n",
       "      <td>0.58</td>\n",
       "    </tr>\n",
       "    <tr>\n",
       "      <th>...</th>\n",
       "      <td>...</td>\n",
       "      <td>...</td>\n",
       "      <td>...</td>\n",
       "    </tr>\n",
       "    <tr>\n",
       "      <th>489</th>\n",
       "      <td>Thunersee</td>\n",
       "      <td>G124</td>\n",
       "      <td>0.01</td>\n",
       "    </tr>\n",
       "    <tr>\n",
       "      <th>485</th>\n",
       "      <td>Thunersee</td>\n",
       "      <td>G111</td>\n",
       "      <td>0.01</td>\n",
       "    </tr>\n",
       "    <tr>\n",
       "      <th>482</th>\n",
       "      <td>Thunersee</td>\n",
       "      <td>G103</td>\n",
       "      <td>0.01</td>\n",
       "    </tr>\n",
       "    <tr>\n",
       "      <th>312</th>\n",
       "      <td>Neuenburgersee</td>\n",
       "      <td>G102</td>\n",
       "      <td>0.01</td>\n",
       "    </tr>\n",
       "    <tr>\n",
       "      <th>602</th>\n",
       "      <td>Thunersee</td>\n",
       "      <td>G98</td>\n",
       "      <td>0.01</td>\n",
       "    </tr>\n",
       "  </tbody>\n",
       "</table>\n",
       "<p>603 rows × 3 columns</p>\n",
       "</div>"
      ],
      "text/plain": [
       "         water_name  code  pcs_m\n",
       "259     Brienzersee   G27   1.00\n",
       "66             Aare   G98   0.97\n",
       "278     Brienzersee   G78   0.61\n",
       "144       Bielersee  G204   0.59\n",
       "98        Bielersee  G122   0.58\n",
       "..              ...   ...    ...\n",
       "489       Thunersee  G124   0.01\n",
       "485       Thunersee  G111   0.01\n",
       "482       Thunersee  G103   0.01\n",
       "312  Neuenburgersee  G102   0.01\n",
       "602       Thunersee   G98   0.01\n",
       "\n",
       "[603 rows x 3 columns]"
      ]
     },
     "execution_count": 42,
     "metadata": {},
     "output_type": "execute_result"
    }
   ],
   "source": [
    "print(\"\\n objects grouped by water feature and code, sorted by median pcs_m: \\n\\n\")\n",
    "sbd[sbd.quantity > 0].groupby(['water_name','code'], as_index=False).pcs_m.median().sort_values(by='pcs_m', ascending=False)"
   ]
  },
  {
   "cell_type": "markdown",
   "metadata": {},
   "source": [
    "### Get sample rates at the group level:"
   ]
  },
  {
   "cell_type": "code",
   "execution_count": 43,
   "metadata": {
    "jupyter": {
     "source_hidden": true
    }
   },
   "outputs": [],
   "source": [
    "def calculate_fail(x):\n",
    "    a_q = x.sum()\n",
    "    if a_q > 0:\n",
    "        data = True\n",
    "    else:\n",
    "        data = False\n",
    "    return data"
   ]
  },
  {
   "cell_type": "code",
   "execution_count": 44,
   "metadata": {
    "jupyter": {
     "source_hidden": true
    }
   },
   "outputs": [
    {
     "ename": "KeyError",
     "evalue": "'date'",
     "output_type": "error",
     "traceback": [
      "\u001b[0;31m---------------------------------------------------------------------------\u001b[0m",
      "\u001b[0;31mKeyError\u001b[0m                                  Traceback (most recent call last)",
      "\u001b[0;32m<ipython-input-44-e1a643105fd7>\u001b[0m in \u001b[0;36m<module>\u001b[0;34m\u001b[0m\n\u001b[0;32m----> 1\u001b[0;31m \u001b[0msbd_g\u001b[0m \u001b[0;34m=\u001b[0m \u001b[0msbd\u001b[0m\u001b[0;34m.\u001b[0m\u001b[0mgroupby\u001b[0m\u001b[0;34m(\u001b[0m\u001b[0;34m[\u001b[0m\u001b[0;34m'water_name'\u001b[0m\u001b[0;34m,\u001b[0m \u001b[0;34m'type'\u001b[0m\u001b[0;34m,\u001b[0m \u001b[0;34m'loc_date'\u001b[0m\u001b[0;34m,\u001b[0m \u001b[0;34m'date'\u001b[0m\u001b[0;34m,\u001b[0m \u001b[0;34m'location'\u001b[0m\u001b[0;34m,\u001b[0m \u001b[0;34m'groupname'\u001b[0m\u001b[0;34m,\u001b[0m \u001b[0;34m'nsamps'\u001b[0m\u001b[0;34m,\u001b[0m \u001b[0;34m'samp_total'\u001b[0m\u001b[0;34m]\u001b[0m\u001b[0;34m,\u001b[0m \u001b[0mas_index\u001b[0m\u001b[0;34m=\u001b[0m\u001b[0;32mFalse\u001b[0m\u001b[0;34m)\u001b[0m\u001b[0;34m.\u001b[0m\u001b[0magg\u001b[0m\u001b[0;34m(\u001b[0m\u001b[0;34m{\u001b[0m\u001b[0;34m'quantity'\u001b[0m\u001b[0;34m:\u001b[0m\u001b[0;34m'sum'\u001b[0m\u001b[0;34m,\u001b[0m \u001b[0;34m'pcs_m'\u001b[0m\u001b[0;34m:\u001b[0m\u001b[0;34m'sum'\u001b[0m\u001b[0;34m,\u001b[0m \u001b[0;34m'fail'\u001b[0m\u001b[0;34m:\u001b[0m\u001b[0mcalculate_fail\u001b[0m\u001b[0;34m}\u001b[0m\u001b[0;34m)\u001b[0m\u001b[0;34m\u001b[0m\u001b[0;34m\u001b[0m\u001b[0m\n\u001b[0m\u001b[1;32m      2\u001b[0m \u001b[0;34m\u001b[0m\u001b[0m\n\u001b[1;32m      3\u001b[0m \u001b[0msbd_g_ranked\u001b[0m \u001b[0;34m=\u001b[0m \u001b[0;34m[\u001b[0m\u001b[0;34m]\u001b[0m\u001b[0;34m\u001b[0m\u001b[0;34m\u001b[0m\u001b[0m\n\u001b[1;32m      4\u001b[0m \u001b[0;32mfor\u001b[0m \u001b[0ma_samp\u001b[0m \u001b[0;32min\u001b[0m \u001b[0mlocs\u001b[0m\u001b[0;34m:\u001b[0m\u001b[0;34m\u001b[0m\u001b[0;34m\u001b[0m\u001b[0m\n\u001b[1;32m      5\u001b[0m     \u001b[0;31m# sort the values for each survey by\u001b[0m\u001b[0;34m\u001b[0m\u001b[0;34m\u001b[0m\u001b[0;34m\u001b[0m\u001b[0m\n",
      "\u001b[0;32m~/anaconda3/envs/refactor_process/lib/python3.8/site-packages/pandas/core/frame.py\u001b[0m in \u001b[0;36mgroupby\u001b[0;34m(self, by, axis, level, as_index, sort, group_keys, squeeze, observed, dropna)\u001b[0m\n\u001b[1;32m   6513\u001b[0m         \u001b[0maxis\u001b[0m \u001b[0;34m=\u001b[0m \u001b[0mself\u001b[0m\u001b[0;34m.\u001b[0m\u001b[0m_get_axis_number\u001b[0m\u001b[0;34m(\u001b[0m\u001b[0maxis\u001b[0m\u001b[0;34m)\u001b[0m\u001b[0;34m\u001b[0m\u001b[0;34m\u001b[0m\u001b[0m\n\u001b[1;32m   6514\u001b[0m \u001b[0;34m\u001b[0m\u001b[0m\n\u001b[0;32m-> 6515\u001b[0;31m         return DataFrameGroupBy(\n\u001b[0m\u001b[1;32m   6516\u001b[0m             \u001b[0mobj\u001b[0m\u001b[0;34m=\u001b[0m\u001b[0mself\u001b[0m\u001b[0;34m,\u001b[0m\u001b[0;34m\u001b[0m\u001b[0;34m\u001b[0m\u001b[0m\n\u001b[1;32m   6517\u001b[0m             \u001b[0mkeys\u001b[0m\u001b[0;34m=\u001b[0m\u001b[0mby\u001b[0m\u001b[0;34m,\u001b[0m\u001b[0;34m\u001b[0m\u001b[0;34m\u001b[0m\u001b[0m\n",
      "\u001b[0;32m~/anaconda3/envs/refactor_process/lib/python3.8/site-packages/pandas/core/groupby/groupby.py\u001b[0m in \u001b[0;36m__init__\u001b[0;34m(self, obj, keys, axis, level, grouper, exclusions, selection, as_index, sort, group_keys, squeeze, observed, mutated, dropna)\u001b[0m\n\u001b[1;32m    523\u001b[0m             \u001b[0;32mfrom\u001b[0m \u001b[0mpandas\u001b[0m\u001b[0;34m.\u001b[0m\u001b[0mcore\u001b[0m\u001b[0;34m.\u001b[0m\u001b[0mgroupby\u001b[0m\u001b[0;34m.\u001b[0m\u001b[0mgrouper\u001b[0m \u001b[0;32mimport\u001b[0m \u001b[0mget_grouper\u001b[0m\u001b[0;34m\u001b[0m\u001b[0;34m\u001b[0m\u001b[0m\n\u001b[1;32m    524\u001b[0m \u001b[0;34m\u001b[0m\u001b[0m\n\u001b[0;32m--> 525\u001b[0;31m             grouper, exclusions, obj = get_grouper(\n\u001b[0m\u001b[1;32m    526\u001b[0m                 \u001b[0mobj\u001b[0m\u001b[0;34m,\u001b[0m\u001b[0;34m\u001b[0m\u001b[0;34m\u001b[0m\u001b[0m\n\u001b[1;32m    527\u001b[0m                 \u001b[0mkeys\u001b[0m\u001b[0;34m,\u001b[0m\u001b[0;34m\u001b[0m\u001b[0;34m\u001b[0m\u001b[0m\n",
      "\u001b[0;32m~/anaconda3/envs/refactor_process/lib/python3.8/site-packages/pandas/core/groupby/grouper.py\u001b[0m in \u001b[0;36mget_grouper\u001b[0;34m(obj, key, axis, level, sort, observed, mutated, validate, dropna)\u001b[0m\n\u001b[1;32m    784\u001b[0m                 \u001b[0min_axis\u001b[0m\u001b[0;34m,\u001b[0m \u001b[0mname\u001b[0m\u001b[0;34m,\u001b[0m \u001b[0mlevel\u001b[0m\u001b[0;34m,\u001b[0m \u001b[0mgpr\u001b[0m \u001b[0;34m=\u001b[0m \u001b[0;32mFalse\u001b[0m\u001b[0;34m,\u001b[0m \u001b[0;32mNone\u001b[0m\u001b[0;34m,\u001b[0m \u001b[0mgpr\u001b[0m\u001b[0;34m,\u001b[0m \u001b[0;32mNone\u001b[0m\u001b[0;34m\u001b[0m\u001b[0;34m\u001b[0m\u001b[0m\n\u001b[1;32m    785\u001b[0m             \u001b[0;32melse\u001b[0m\u001b[0;34m:\u001b[0m\u001b[0;34m\u001b[0m\u001b[0;34m\u001b[0m\u001b[0m\n\u001b[0;32m--> 786\u001b[0;31m                 \u001b[0;32mraise\u001b[0m \u001b[0mKeyError\u001b[0m\u001b[0;34m(\u001b[0m\u001b[0mgpr\u001b[0m\u001b[0;34m)\u001b[0m\u001b[0;34m\u001b[0m\u001b[0;34m\u001b[0m\u001b[0m\n\u001b[0m\u001b[1;32m    787\u001b[0m         \u001b[0;32melif\u001b[0m \u001b[0misinstance\u001b[0m\u001b[0;34m(\u001b[0m\u001b[0mgpr\u001b[0m\u001b[0;34m,\u001b[0m \u001b[0mGrouper\u001b[0m\u001b[0;34m)\u001b[0m \u001b[0;32mand\u001b[0m \u001b[0mgpr\u001b[0m\u001b[0;34m.\u001b[0m\u001b[0mkey\u001b[0m \u001b[0;32mis\u001b[0m \u001b[0;32mnot\u001b[0m \u001b[0;32mNone\u001b[0m\u001b[0;34m:\u001b[0m\u001b[0;34m\u001b[0m\u001b[0;34m\u001b[0m\u001b[0m\n\u001b[1;32m    788\u001b[0m             \u001b[0;31m# Add key to exclusions\u001b[0m\u001b[0;34m\u001b[0m\u001b[0;34m\u001b[0m\u001b[0;34m\u001b[0m\u001b[0m\n",
      "\u001b[0;31mKeyError\u001b[0m: 'date'"
     ]
    }
   ],
   "source": [
    "sbd_g = sbd.groupby(['water_name', 'type', 'loc_date', 'date', 'location', 'groupname', 'nsamps', 'samp_total'], as_index=False).agg({'quantity':'sum', 'pcs_m':'sum', 'fail':calculate_fail})\n",
    "\n",
    "sbd_g_ranked = []\n",
    "for a_samp in locs:\n",
    "    # sort the values for each survey by \n",
    "    sbdl = sbd_g.loc[sbd_g.loc_date==a_samp].sort_values(by='quantity', ascending=False)\n",
    "    sbdl = sbdl.set_index(np.arange(1, len(sbdl)+1), drop=True)\n",
    "    sbdl['sample_rank'] = sbdl.index\n",
    "    sbd_g_ranked.append(sbdl)\n",
    "sbd_g_ranked[0]\n",
    "sbd_gr = pd.concat(sbd_g_ranked, ignore_index=True)\n",
    "sbd_gr.head()"
   ]
  },
  {
   "cell_type": "code",
   "execution_count": null,
   "metadata": {
    "jupyter": {
     "source_hidden": true
    }
   },
   "outputs": [],
   "source": [
    "fd = sbd_gr[(sbd_gr.water_name=='Bielersee')&(sbd_gr.sample_rank==1)].groupby('groupname').sample_rank.sum()\n",
    "fd.sum()\n",
    "print(fd)"
   ]
  },
  {
   "cell_type": "code",
   "execution_count": null,
   "metadata": {
    "jupyter": {
     "source_hidden": true
    }
   },
   "outputs": [],
   "source": [
    "sbd_gr[sbd_gr.water_name == 'Aare'].groupby(['water_name','groupname', 'sample_rank'], as_index=False).loc_date.nunique()"
   ]
  },
  {
   "cell_type": "code",
   "execution_count": null,
   "metadata": {
    "jupyter": {
     "source_hidden": true
    }
   },
   "outputs": [],
   "source": [
    "other_number_one_ranks = rank_and_code[rank_and_code['rank'] == 1].groupby(['code','location'], as_index=False).n_times.sum()\n",
    "print(F\"Codes and the number of times that they have been the number one item at a survey\\n{other_number_one_ranks.groupby('code').n_times.sum().sort_values(ascending=False)}\")"
   ]
  },
  {
   "cell_type": "code",
   "execution_count": null,
   "metadata": {
    "jupyter": {
     "source_hidden": true
    }
   },
   "outputs": [],
   "source": [
    "# project directory is 'output/bielsummary'\n",
    "sbd_ranked.to_csv(F\"{project_directory}/aare_codes_ranked.csv\")"
   ]
  },
  {
   "cell_type": "code",
   "execution_count": null,
   "metadata": {
    "jupyter": {
     "source_hidden": true
    }
   },
   "outputs": [],
   "source": [
    "these_codes = ['G27', 'G30','G25', 'G81', 'G95', 'G67','G82']"
   ]
  },
  {
   "cell_type": "code",
   "execution_count": null,
   "metadata": {
    "jupyter": {
     "source_hidden": true
    }
   },
   "outputs": [],
   "source": [
    "# grouped by survey and code group\n",
    "sbd_ranked_gs = som_bassin_data.groupby(['loc_date','groupname','location', 'population'], as_index=False).agg({'pcs_m':'sum', 'quantity':'sum'})\n",
    "\n",
    "sbd_ranked_gs['% of total'] = sbd_ranked_gs.apply(lambda x: x.quantity/qty_sample[x.loc_date], axis=1)\n",
    "# save the key values from the original data:\n",
    "q_before = save_describe(sbd_ranked_gs.quantity)\n",
    "pc_befor = save_describe(sbd_ranked_gs.pcs_m)\n",
    "print(sbd_ranked_gs.quantity.sum())"
   ]
  },
  {
   "cell_type": "code",
   "execution_count": null,
   "metadata": {
    "jupyter": {
     "source_hidden": true
    }
   },
   "outputs": [],
   "source": [
    "ranked = []\n",
    "for a_samp in locs:\n",
    "    sbdl = sbd_ranked_gs[sbd_ranked_gs.loc_date == a_samp].sort_values(by='% of total', ascending=False)\n",
    "    sbdl = sbdl.set_index(np.arange(1, len(sbdl)+1), drop=True)\n",
    "    sbdl['rank'] = sbdl.index\n",
    "    ranked.append(sbdl)\n",
    "    \n",
    "sbd_ranked_gs = pd.concat(ranked, ignore_index=True)\n",
    "\n",
    "# check the key values before and after:\n",
    "print(\"Check that the survey values have not been altered:\\n\")\n",
    "print(q_before == sbd_ranked_gs.quantity.describe().values)\n",
    "print(pc_befor == sbd_ranked_gs.pcs_m.describe().values)\n",
    "\n",
    "# check the % of total\n",
    "print(F\"\\nCheck % of total: {sbd_ranked_gs.groupby('loc_date')['% of total'].sum().sum()}\\n\")\n",
    "print(F\"The number of SURVEYS where ALL TOBACCO items combined are rank one: {sbd_ranked_gs[(sbd_ranked_gs.groupname == 'tobacco')&(sbd_ranked_gs['rank'] == 1)].loc_date.nunique()}\\n\")\n",
    "\n",
    "print(F\"All TOBACCO items combined were number one in {np.round((sbd_ranked_gs[(sbd_ranked_gs.groupname == 'tobacco')&(sbd_ranked_gs['rank'] == 1)].loc_date.nunique()/sbd_ranked_gs.loc_date.nunique())*100,0)}% of the surveys.\")\n",
    "print(F\"\\nThe number of locations that tobaco is rank one: {sbd_ranked_gs[(sbd_ranked_gs.groupname == 'tobacco')&(sbd_ranked_gs['rank'] == 1)].location.nunique()}\\n\")\n",
    "print(F\"The objects labeled tobacco:\\n{sbd_ranked[sbd_ranked.groupname == 'tobacco'].code.unique()}\")"
   ]
  },
  {
   "cell_type": "code",
   "execution_count": null,
   "metadata": {
    "jupyter": {
     "source_hidden": true
    }
   },
   "outputs": [],
   "source": [
    "f = sbd_ranked_gs.groupby(['rank','groupname','location'], as_index=False).loc_date.nunique()\n",
    "fx = f[f['rank'] == 1].groupby('groupname').loc_date.sum()\n",
    "print(F\"\\nThe number of samples: {fx.sum()}\\n\")\n",
    "print(F\"Other groups and the number of times they have been the most prevalent item:\\n{fx.sort_values(ascending=False)}\\n\")"
   ]
  },
  {
   "cell_type": "code",
   "execution_count": null,
   "metadata": {
    "jupyter": {
     "source_hidden": true
    }
   },
   "outputs": [],
   "source": [
    "# get the pass fail rate for each water feature\n",
    "\n",
    "# the total number of tries:\n",
    "tries_t = som_bassin_data.groupby(['water_name', 'code']).loc_date.nunique()\n",
    "\n",
    "# the total number of times that the object was found for a particular water feature\n",
    "fails_b = som_bassin_data.groupby(['water_name','code']).fail.sum()\n",
    "\n",
    "# the total number of samples:\n",
    "n_samps_b = som_bassin_data.groupby(['water_name']).loc_date.nunique()"
   ]
  },
  {
   "cell_type": "code",
   "execution_count": null,
   "metadata": {
    "jupyter": {
     "source_hidden": true
    }
   },
   "outputs": [],
   "source": [
    "# get all values greater than zero for each code and LOCATION\n",
    "grtr_than_zero = som_bassin_data[(som_bassin_data.quantity > 0)].groupby(['code', 'location'], as_index=False).loc_date.count()\n",
    "\n",
    "# weight the result by the sum of the loc_date column\n",
    "grtr_than_zero['weight'] = grtr_than_zero.loc_date/grtr_than_zero.loc_date.sum()\n",
    "\n",
    "# housekeeping\n",
    "som_data = som_bassin_data.copy()\n",
    "\n",
    "# get a list of the codes that were found at least once\n",
    "codes_in_use = grtr_than_zero.code.unique()"
   ]
  },
  {
   "cell_type": "code",
   "execution_count": null,
   "metadata": {
    "jupyter": {
     "source_hidden": true
    }
   },
   "outputs": [],
   "source": [
    "# combine the tries and fails dfs for each water feature\n",
    "tries_fails_b = pd.concat([tries_t, fails_b], axis=1)\n",
    "tries_fails_b.reset_index(inplace=True)"
   ]
  },
  {
   "cell_type": "code",
   "execution_count": null,
   "metadata": {
    "jupyter": {
     "source_hidden": true
    }
   },
   "outputs": [],
   "source": [
    "tries_fails_b.iloc[:3]"
   ]
  },
  {
   "cell_type": "code",
   "execution_count": null,
   "metadata": {
    "jupyter": {
     "source_hidden": true
    }
   },
   "outputs": [],
   "source": [
    "# get the ratio of total tries per code and location to total number of samples for that feature\n",
    "for a_b in tries_fails_b.water_name.unique():\n",
    "    tries_fails_b.loc[tries_fails_b.water_name==a_b, 'rate'] = tries_fails_b.fail/n_samps_b.loc[a_b]\n",
    "\n",
    "tries_fails_b.iloc[:3]"
   ]
  },
  {
   "cell_type": "code",
   "execution_count": null,
   "metadata": {
    "jupyter": {
     "source_hidden": true
    }
   },
   "outputs": [],
   "source": [
    "# the minimum rate is 1/ the current sample number + 1\n",
    "# we are assuming that if the object has never been found before there\n",
    "# is always a chance that we may find it on the next sample\n",
    "# the longer we go without finding it the less likely it is to find in the river basin\n",
    "# which means that once it has been identified this should be considered a significant event.\n",
    "rate_min = 1/(len(a.processed.loc_date.unique())+1)\n",
    "rate_min"
   ]
  },
  {
   "cell_type": "code",
   "execution_count": null,
   "metadata": {
    "jupyter": {
     "source_hidden": true
    }
   },
   "outputs": [],
   "source": [
    "tries_fails_b.loc[tries_fails_b.fail==0, 'min_rate'] = rate_min\n",
    "tries_fails_b.loc[tries_fails_b.fail>0, 'min_rate'] = tries_fails_b.rate\n",
    "tries_fails_b.iloc[:3]"
   ]
  },
  {
   "cell_type": "code",
   "execution_count": null,
   "metadata": {
    "jupyter": {
     "source_hidden": true
    }
   },
   "outputs": [],
   "source": [
    "# get the ratio samples-per-location/number-samples-catchment-area\n",
    "weights = tries_fails_b[['water_name', 'loc_date']].drop_duplicates().set_index('water_name', drop=True)\n",
    "weights['location_weight'] = weights.loc_date/len(locs)\n",
    "nsamps = weights.loc['Aare', :]\n",
    "\n",
    "# now the number of samples and the weight is available\n",
    "nsamps"
   ]
  },
  {
   "cell_type": "code",
   "execution_count": null,
   "metadata": {
    "jupyter": {
     "source_hidden": true
    }
   },
   "outputs": [],
   "source": [
    "# pull some samples from one river basin feature\n",
    "feature = 'Aare'\n",
    "n = weights.loc['Aare', 'loc_date']\n",
    "rates = tries_fails_b.loc[tries_fails_b.water_name == 'Aare'][['code','min_rate']].set_index('code')\n",
    "\n",
    "# store the samples here\n",
    "theta_samples_feature = pd.DataFrame(index=codes_in_use)"
   ]
  },
  {
   "cell_type": "code",
   "execution_count": null,
   "metadata": {
    "jupyter": {
     "source_hidden": true
    }
   },
   "outputs": [],
   "source": [
    "rates.loc['G27'].values"
   ]
  },
  {
   "cell_type": "code",
   "execution_count": null,
   "metadata": {
    "jupyter": {
     "source_hidden": true
    }
   },
   "outputs": [],
   "source": [
    "# determine wehter or not an object was found at a survey\n",
    "# use the rates for the parameter of a bernouli trial for each code\n",
    "\n",
    "k=0\n",
    "for j in np.arange(n):\n",
    "    k+=1\n",
    "    col_name = F\"s_{int(k)}\"\n",
    "    for a_code in codes_in_use:\n",
    "        theta_samples_feature.loc[a_code, col_name ] = bernoulli.rvs(rates.loc[a_code], size=1)\n",
    "\n",
    "\n",
    "found_feature = theta_samples_feature > 0\n",
    "codes_found_feature = [found_feature[found_feature[s_one] == True][s_one].index for s_one in found_feature.columns]\n",
    "codes_found_len_feature = [len(x) for x in codes_found_feature]"
   ]
  },
  {
   "cell_type": "code",
   "execution_count": null,
   "metadata": {
    "jupyter": {
     "source_hidden": true
    }
   },
   "outputs": [],
   "source": [
    "d_samps_aare = b.bassin_data[(b.bassin_data.quantity>0)&(b.bassin_data.water_name == \"Aare\")][['loc_date', 'code']].groupby('loc_date').code.unique().to_numpy()"
   ]
  },
  {
   "cell_type": "code",
   "execution_count": null,
   "metadata": {
    "jupyter": {
     "source_hidden": true
    }
   },
   "outputs": [],
   "source": [
    "# get the number of times each code was found\n",
    "def count_occurences(an_array):\n",
    "    wiw = {}\n",
    "    for a_list in an_array:\n",
    "        for code in a_list:\n",
    "            if code in wiw.keys():\n",
    "                wiw[code] += 1\n",
    "            else:\n",
    "                wiw[code] = 1\n",
    "    return [{'code':k, 'inst':v} for k,v in wiw.items()]\n",
    "theta_codes_count = count_occurences(codes_found_feature)\n",
    "dsamp_aare_count = pd.DataFrame(count_occurences(d_samps_aare)).set_index('code')"
   ]
  },
  {
   "cell_type": "code",
   "execution_count": null,
   "metadata": {
    "jupyter": {
     "source_hidden": true
    }
   },
   "outputs": [],
   "source": [
    "dsamp_aare_count.loc['G7', 'inst']"
   ]
  },
  {
   "cell_type": "code",
   "execution_count": null,
   "metadata": {
    "jupyter": {
     "source_hidden": true
    }
   },
   "outputs": [],
   "source": [
    "# combine the counts in to one dataframe and compare results\n",
    "\n",
    "def combine_code_counts(x):\n",
    "    try:\n",
    "        data = dsamp_aare_count.loc[x, 'inst']\n",
    "    except:\n",
    "        data = 0\n",
    "    return data\n",
    "        \n",
    "theta_codes = pd.DataFrame(theta_codes_count)\n",
    "theta_codes['s_inst'] = theta_codes.code.map(lambda x: combine_code_counts(x))\n",
    "theta_codes['inst_dif'] = theta_codes.inst - theta_codes.s_inst\n",
    "\n",
    "# check the diffference between the two sets\n",
    "print(theta_codes['s_inst'].sum())\n",
    "print(theta_codes['inst'].sum())\n",
    "print(theta_codes.inst_dif.sum())\n",
    "print(len(theta_codes))"
   ]
  },
  {
   "cell_type": "code",
   "execution_count": null,
   "metadata": {
    "jupyter": {
     "source_hidden": true
    }
   },
   "outputs": [],
   "source": [
    "theta_codes[theta_codes.code.isin([x for x in theta_codes.code.unique() if x not in dsamp_aare_count.index])]"
   ]
  },
  {
   "cell_type": "code",
   "execution_count": null,
   "metadata": {
    "jupyter": {
     "source_hidden": true
    }
   },
   "outputs": [],
   "source": [
    "fig, axs = plt.subplots(2,1, figsize=(12,8))\n",
    "sns.barplot(data=theta_codes.sort_values(by='s_inst', ascending=False), x='code', y='s_inst', ax=axs[0])\n",
    "sns.barplot(data=theta_codes.sort_values(by='inst', ascending=False), x='code', y='inst', ax=axs[1])\n",
    "axs[0].tick_params(axis='x', labelrotation=90, labelsize=8)\n",
    "axs[1].tick_params(axis='x', labelrotation=90, labelsize=8)\n",
    "plt.show()\n",
    "plt.close()"
   ]
  },
  {
   "cell_type": "code",
   "execution_count": null,
   "metadata": {
    "jupyter": {
     "source_hidden": true
    }
   },
   "outputs": [],
   "source": [
    "theta_samples_all = pd.DataFrame(index=codes_in_use)\n",
    "tries = som_bassin_data.groupby(['code']).loc_date.nunique()\n",
    "fails = som_bassin_data.groupby('code').fail.sum()\n",
    "# tries_fails by water body\n",
    "\n",
    "# for one body of water\n",
    "#fails_b = som_bassin_data.groupby(['water_name','code']).fail.sum()\n",
    "\n",
    "tries_fails = pd.concat([tries, fails], axis=1)\n",
    "tries_fails['rate'] = tries_fails.fail/tries_fails.loc_date\n",
    "\n",
    "code_weights = grtr_than_zero.groupby('code').weight.sum()"
   ]
  },
  {
   "cell_type": "code",
   "execution_count": null,
   "metadata": {
    "jupyter": {
     "source_hidden": true
    }
   },
   "outputs": [],
   "source": [
    "k = 0\n",
    "for body in weights.index:\n",
    "#     print(body)\n",
    "#     print(tries_fails_b.loc[body].min_rate.sum())\n",
    "    these_rates =tries_fails_b.loc[tries_fails_b.water_name == body][['code','min_rate']].set_index('code')\n",
    "    \n",
    "\n",
    "    for j in np.arange(weights.loc[body]['loc_date']):\n",
    "        k+=1\n",
    "        #print(j, k)\n",
    "        col_name = F\"s_{int(k)} {body}\"\n",
    "        for a_code in codes_in_use:\n",
    "            theta_samples_all.loc[a_code, col_name ] = bernoulli.rvs(these_rates.loc[a_code], size=1)\n",
    "#             theta_samples_all.loc[a_code, col_name ] = binom.rvs(1,these_rates.loc[a_code], size=1)\n",
    "            "
   ]
  },
  {
   "cell_type": "code",
   "execution_count": null,
   "metadata": {
    "jupyter": {
     "source_hidden": true
    }
   },
   "outputs": [],
   "source": [
    "found = theta_samples_all > 0\n",
    "codes_found = [found[found[s_one] == True][s_one].index for s_one in found.columns]\n",
    "codes_found_len = [len(x) for x in codes_found]\n",
    "\n",
    "print(len(codes_found[0]))\n",
    "print(codes_found_len[0])\n",
    "print(len(codes_found))"
   ]
  },
  {
   "cell_type": "code",
   "execution_count": null,
   "metadata": {
    "jupyter": {
     "source_hidden": true
    }
   },
   "outputs": [],
   "source": [
    "tries_fails.iloc[:3]"
   ]
  },
  {
   "cell_type": "code",
   "execution_count": null,
   "metadata": {
    "jupyter": {
     "source_hidden": true
    }
   },
   "outputs": [],
   "source": [
    "# the number of unique codes per sample in the project data:\n",
    "d_samps = b.bassin_data[b.bassin_data.quantity>0][['loc_date', 'code']].groupby('loc_date').code.nunique()\n",
    "\n",
    "# the list of codes found at each survey in the project data:\n",
    "d_samps_c = b.bassin_data[b.bassin_data.quantity>0][['loc_date', 'code']].groupby('loc_date').code.unique().to_numpy()"
   ]
  },
  {
   "cell_type": "code",
   "execution_count": null,
   "metadata": {
    "jupyter": {
     "source_hidden": true
    }
   },
   "outputs": [],
   "source": [
    "def count_occurences(an_array):\n",
    "    wiw = {}\n",
    "    for a_list in an_array:\n",
    "        for code in a_list:\n",
    "            if code in wiw.keys():\n",
    "                wiw[code] += 1\n",
    "            else:\n",
    "                wiw[code] = 1\n",
    "    return [{'code':k, 'inst':v} for k,v in wiw.items()]\n",
    "samp_codes = pd.DataFrame(count_occurences(d_samps_c)).set_index('code')\n"
   ]
  },
  {
   "cell_type": "code",
   "execution_count": null,
   "metadata": {
    "jupyter": {
     "source_hidden": true
    }
   },
   "outputs": [],
   "source": [
    "# a_list_o_list = [value for k, value in samples.items()]\n",
    "# the_list_o_list = [*a_list_o_list]\n",
    "theta_codes = pd.DataFrame(count_occurences(codes_found))\n",
    "theta_codes['s_inst'] = theta_codes.code.map(lambda x: samp_codes.loc[x, 'inst'])\n",
    "theta_codes['inst_dif'] = theta_codes.inst - theta_codes.s_inst"
   ]
  },
  {
   "cell_type": "code",
   "execution_count": null,
   "metadata": {
    "jupyter": {
     "source_hidden": true
    }
   },
   "outputs": [],
   "source": [
    "print(theta_codes['inst_dif'].sum())\n",
    "print(len(theta_codes))\n",
    "print(theta_codes.inst.sum(), theta_codes.s_inst.sum())"
   ]
  },
  {
   "cell_type": "code",
   "execution_count": null,
   "metadata": {
    "jupyter": {
     "source_hidden": true
    }
   },
   "outputs": [],
   "source": [
    "fig, axs = plt.subplots(figsize=(18,8))\n",
    "sns.barplot(data=theta_codes[theta_codes.inst >=20].sort_values(by='s_inst', ascending=False), x='code', y='s_inst', color='red', alpha=.6, ax=axs)\n",
    "sns.barplot(data=theta_codes[theta_codes.inst >=20].sort_values(by='inst', ascending=False), x='code', y='inst', color='blue',alpha=.6, ax=axs)\n",
    "axs.tick_params(axis='x', labelrotation=90, labelsize=10)\n",
    "# axs[1].tick_params(axis='x', labelrotation=90, labelsize=8)\n",
    "plt.show()\n",
    "plt.close()"
   ]
  },
  {
   "cell_type": "code",
   "execution_count": null,
   "metadata": {
    "jupyter": {
     "source_hidden": true
    }
   },
   "outputs": [],
   "source": [
    "\n",
    "fig, axs = plt.subplots(1,2)\n",
    "sns.histplot(codes_found_len, ax=axs[0], binwidth=3)\n",
    "sns.histplot(d_samps.values, ax=axs[1], binwidth=3)\n",
    "plt.show()\n",
    "plt.close()"
   ]
  },
  {
   "cell_type": "code",
   "execution_count": null,
   "metadata": {
    "jupyter": {
     "source_hidden": true
    }
   },
   "outputs": [],
   "source": [
    "# found.rename(columns={x:x.split(\" \")[-1] for x in found.columns}, inplace=True)\n",
    "codes_found = [{'label':s_one.split(\" \")[-1] , 'codes':found[found[s_one] == True][s_one].index.to_numpy()} for s_one in found.columns]\n",
    "# codes_found_len = [len(x) for x in codes_found_feature]\n",
    "a_label = codes_found[1]['label']\n",
    "a_code = codes_found[1]['codes'][0]"
   ]
  },
  {
   "cell_type": "code",
   "execution_count": null,
   "metadata": {
    "jupyter": {
     "source_hidden": true
    }
   },
   "outputs": [],
   "source": [
    "location_weight = som_bassin_data.groupby('water_name', as_index=False).l_weight.median()\n",
    "location_weight.loc[4, 'water_name'] = \"Thièle\""
   ]
  },
  {
   "cell_type": "code",
   "execution_count": null,
   "metadata": {
    "jupyter": {
     "source_hidden": true
    }
   },
   "outputs": [],
   "source": [
    "agg_results_feature = som_bassin_data[som_bassin_data.pcs_m > 0].groupby(['water_name','code']).agg({'pcs_m':['mean', 'min', 'median', 'max']})\n",
    "agg_results_feature.columns = agg_results_feature.columns.get_level_values(1)\n",
    "agg_results_bassin = som_bassin_data[som_bassin_data.pcs_m > 0].groupby(['code']).agg({'pcs_m':['mean', 'min', 'median', 'max']})\n",
    "agg_results_bassin.columns = agg_results_bassin.columns.get_level_values(1)\n",
    "# get the parameters for one code at one sample:\n",
    "this_data = agg_results_feature.loc[a_label,codes_found[1]['codes'][0]]\n",
    "print(this_data['mean'])\n",
    "print(codes_found[1]['codes'][0])\n",
    "print(a_label)\n",
    "loc = this_data['mean']\n",
    "alpha=this_data['min']\n",
    "beta = 1/alpha\n",
    "print(\"\\n the parameters \\n\")\n",
    "print(loc, alpha, beta)\n",
    "\n",
    "print(\"\\nthe predicted result \\n\")\n",
    "print(gamma.rvs(alpha, loc=loc, scale=beta))"
   ]
  },
  {
   "cell_type": "code",
   "execution_count": null,
   "metadata": {
    "jupyter": {
     "source_hidden": true
    }
   },
   "outputs": [],
   "source": [
    "agg_results_feature.loc['Aare','G101']['min']"
   ]
  },
  {
   "cell_type": "code",
   "execution_count": null,
   "metadata": {
    "jupyter": {
     "source_hidden": true
    }
   },
   "outputs": [],
   "source": [
    "# hmm = pd.DataFrame(codes_found).explode('codes').copy()\n",
    "# hmm.drop_duplicates(inplace=True)\n",
    "# print(hmm.isnull().values.any())\n",
    "# hmm.reset_index(inplace=True, drop=True)"
   ]
  },
  {
   "cell_type": "code",
   "execution_count": null,
   "metadata": {
    "jupyter": {
     "source_hidden": true
    }
   },
   "outputs": [],
   "source": [
    "def assign_params(a_label, a_code, a_param, params):\n",
    "    default_params = agg_results_bassin\n",
    "    try:\n",
    "        this_param = params.loc[a_label,a_code][a_param]\n",
    "    except:\n",
    "        this_param = default_params.loc[a_code][a_param]\n",
    "    return this_param\n",
    "    "
   ]
  },
  {
   "cell_type": "code",
   "execution_count": null,
   "metadata": {
    "jupyter": {
     "source_hidden": true
    }
   },
   "outputs": [],
   "source": [
    "o_samps_d = b.bassin_pcsm_day[['water_name', 'pcs_m']].sort_values(by='pcs_m')\n",
    "o_samps_d.reset_index(inplace=True, drop=True)\n",
    "o_samps_d"
   ]
  },
  {
   "cell_type": "code",
   "execution_count": null,
   "metadata": {
    "jupyter": {
     "source_hidden": true
    }
   },
   "outputs": [],
   "source": [
    "location_weight.set_index('water_name', drop=True, inplace=True)\n"
   ]
  },
  {
   "cell_type": "code",
   "execution_count": null,
   "metadata": {
    "jupyter": {
     "source_hidden": true
    }
   },
   "outputs": [],
   "source": [
    "location_weight"
   ]
  },
  {
   "cell_type": "code",
   "execution_count": null,
   "metadata": {
    "jupyter": {
     "source_hidden": true
    }
   },
   "outputs": [],
   "source": [
    "sim_surveys = []\n",
    "for i,sample in enumerate(codes_found):\n",
    "    a_label = sample['label']\n",
    "    som_codes = sample['codes']\n",
    "    loc_weight = location_weight.loc[a_label]\n",
    "    for a_code in som_codes:\n",
    "        alpha = assign_params(a_label, a_code, 'median', agg_results_feature)\n",
    "        loc = assign_params(a_label, a_code, 'min', agg_results_feature)\n",
    "        scale = assign_params(a_label, a_code, 'max', agg_results_feature)+(5*alpha)       \n",
    "        pcs_m = gamma.rvs(alpha+(loc_weight*alpha), loc=loc, scale=scale)\n",
    "        sim_surveys.append({'code':a_code, 'label':a_label, 'survey':i, 'pcs_m':pcs_m})\n",
    "    \n",
    "new_surveys = pd.DataFrame(sim_surveys)\n",
    "new_surveys_d = new_surveys.groupby(['survey','label'], as_index=False).pcs_m.sum().copy()\n",
    "\n",
    "new_surveys_d.sort_values(by='pcs_m', inplace=True)\n",
    "ns_d = new_surveys_d[['label', 'pcs_m']].reset_index(drop=True).copy()\n",
    "ns_d.rename(columns={'label':'water_name'}, inplace=True)\n",
    "ns_d['label'] = 'sim'\n",
    "o_samps_d['label'] = 'odata'\n",
    "o_samps_d['survey'] = o_samps_d.index\n",
    "ns_d['survey'] =ns_d.index"
   ]
  },
  {
   "cell_type": "code",
   "execution_count": null,
   "metadata": {
    "jupyter": {
     "source_hidden": true
    }
   },
   "outputs": [],
   "source": [
    "o_samps_d['label'] = 'odata'\n",
    "\n",
    "combined = pd.concat([ns_d, o_samps_d])"
   ]
  },
  {
   "cell_type": "code",
   "execution_count": null,
   "metadata": {
    "jupyter": {
     "source_hidden": true
    }
   },
   "outputs": [],
   "source": [
    "combined"
   ]
  },
  {
   "cell_type": "code",
   "execution_count": null,
   "metadata": {
    "jupyter": {
     "source_hidden": true
    }
   },
   "outputs": [],
   "source": [
    "fig, axs = plt.subplots(figsize=(14,8))\n",
    "sns.scatterplot(data=combined, x='survey', y='pcs_m', style='label', hue='water_name', palette='husl', s=40, ax=axs)\n",
    "# sns.scatterplot(data=o_samps_d, x=o_samps_d.index, y=o_samps_d.pcs_m, hue=o_samps_d.water_name, palette='viridis', ax=axs)\n",
    "plt.legend(bbox_to_anchor=(1.05, 1), loc=2, borderaxespad=0.)\n",
    "plt.show()\n",
    "plt.close()"
   ]
  },
  {
   "cell_type": "code",
   "execution_count": null,
   "metadata": {
    "jupyter": {
     "source_hidden": true
    }
   },
   "outputs": [],
   "source": [
    "# get the values for one survey:\n",
    "fig, axs = plt.subplots(figsize=(14,8))\n",
    "sns.boxplot(data=combined, x='water_name', y='pcs_m', hue='label', palette='flare', ax=axs, dodge=True)\n",
    "sns.stripplot(data=combined, x='water_name', y='pcs_m', hue='label', palette='husl', ax=axs)\n",
    "plt.legend(bbox_to_anchor=(1.05, 1), loc=2, borderaxespad=0.)\n",
    "plt.show()\n",
    "plt.close()\n"
   ]
  },
  {
   "cell_type": "code",
   "execution_count": null,
   "metadata": {
    "jupyter": {
     "source_hidden": true
    }
   },
   "outputs": [],
   "source": [
    "hmm"
   ]
  },
  {
   "cell_type": "code",
   "execution_count": null,
   "metadata": {
    "jupyter": {
     "source_hidden": true
    }
   },
   "outputs": [],
   "source": [
    "these_params = []\n",
    "\n",
    "# get some paramaters from the data.\n",
    "print(\"The codes and the number of samples that the parameters are being drawn from\\n\")\n",
    "for code in samples[0]:\n",
    "    samp_data = som_params[som_params.code == code].pcs_m\n",
    "    # check how many samples there are for this region/district\n",
    "    # if less than minsamps grab the results from the next highest level\n",
    "    minsamps = 65\n",
    "    if len(samp_data) < minsamps:\n",
    "        samp_data = a.processed[(a.processed.code == code)&(a.processed.quantity > 0)].pcs_m\n",
    "        loc = samp_data.min()\n",
    "        alpha = samp_data.mean()\n",
    "        scale = 1/alpha\n",
    "    else:\n",
    "        loc = samp_data.min()\n",
    "        alpha = samp_data.mean()\n",
    "        scale = 1/alpha\n",
    "    print(code, len(samp_data))\n",
    "    these_params.append(dict(code=code, loc=loc, alpha=alpha, scale=scale, data=samp_data))\n"
   ]
  },
  {
   "cell_type": "code",
   "execution_count": null,
   "metadata": {
    "jupyter": {
     "source_hidden": true
    }
   },
   "outputs": [],
   "source": [
    "these_params[2]['data'].sum()"
   ]
  },
  {
   "cell_type": "markdown",
   "metadata": {},
   "source": [
    "#### Hopefully that just worked for you\n",
    "\n",
    "if not contact analyst@hammerdirt.ch"
   ]
  },
  {
   "cell_type": "code",
   "execution_count": null,
   "metadata": {
    "collapsed": true,
    "jupyter": {
     "outputs_hidden": true,
     "source_hidden": true
    }
   },
   "outputs": [],
   "source": []
  },
  {
   "cell_type": "code",
   "execution_count": null,
   "metadata": {
    "collapsed": true,
    "jupyter": {
     "outputs_hidden": true,
     "source_hidden": true
    }
   },
   "outputs": [],
   "source": []
  }
 ],
 "metadata": {
  "kernelspec": {
   "display_name": "Python 3",
   "language": "python",
   "name": "python3"
  },
  "language_info": {
   "codemirror_mode": {
    "name": "ipython",
    "version": 3
   },
   "file_extension": ".py",
   "mimetype": "text/x-python",
   "name": "python",
   "nbconvert_exporter": "python",
   "pygments_lexer": "ipython3",
   "version": "3.8.3"
  }
 },
 "nbformat": 4,
 "nbformat_minor": 4
}
