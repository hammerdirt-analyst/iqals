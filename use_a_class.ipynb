{
 "cells": [
  {
   "cell_type": "code",
   "execution_count": 1,
   "metadata": {},
   "outputs": [
    {
     "data": {
      "text/html": [
       "\n",
       "<style>\n",
       ".output {\n",
       "    display: flex;\n",
       "    align-items: center;\n",
       "    text-align: center;\n",
       "}\n",
       "</style>\n"
      ],
      "text/plain": [
       "<IPython.core.display.HTML object>"
      ]
     },
     "metadata": {},
     "output_type": "display_data"
    }
   ],
   "source": [
    "# sys, file and nav packages:\n",
    "import os\n",
    "import datetime as dt\n",
    "import csv\n",
    "import json\n",
    "\n",
    "# math packages:\n",
    "import pandas as pd\n",
    "import numpy as np\n",
    "from scipy import stats\n",
    "\n",
    "import datetime as dt \n",
    "from scipy.stats import kendalltau, pearsonr, spearmanr\n",
    "import math\n",
    "from scipy.stats import gamma\n",
    "from scipy.stats import beta\n",
    "from scipy.stats import binom\n",
    "from scipy.stats import bernoulli\n",
    "import statsmodels.api as sm\n",
    "from statsmodels.graphics.gofplots import qqplot_2samples\n",
    "from statsmodels.distributions.empirical_distribution import ECDF\n",
    "# charting:\n",
    "import matplotlib as mpl\n",
    "import matplotlib.pyplot as plt\n",
    "import matplotlib.dates as mdates\n",
    "from matplotlib import ticker\n",
    "import matplotlib.ticker as mtick\n",
    "import seaborn as sns\n",
    "from matplotlib.gridspec import GridSpec\n",
    "from IPython.display import display, Markdown, Latex, HTML\n",
    "from matplotlib import cm\n",
    "from matplotlib.colors import ListedColormap, LinearSegmentedColormap, Colormap\n",
    "\n",
    "# mapping\n",
    "import geopandas as gpd\n",
    "\n",
    "# home brew utitilties\n",
    "import utilities.utility_functions as ut\n",
    "import utilities.abundance_classes as ac\n",
    "\n",
    "# documenting\n",
    "from IPython.display import Markdown as md\n",
    "\n",
    "\n",
    "# returns the p_value for each test\n",
    "def kendall_pval(x,y):\n",
    "    return kendalltau(x,y)[1]\n",
    "\n",
    "def pearsonr_pval(x,y):\n",
    "    return pearsonr(x,y)[1]\n",
    "\n",
    "def spearmanr_pval(x,y):\n",
    "    return spearmanr(x,y)[1]\n",
    "\n",
    "def use_this_key(x, key, column='no column'):\n",
    "    this_type = type(key)\n",
    "    if type(x) == tuple:\n",
    "        x = [x]\n",
    "    else:\n",
    "        pass\n",
    "    if this_type == dict:\n",
    "        try:\n",
    "            data = key[x]\n",
    "        except:\n",
    "            data = 'no data'\n",
    "    elif this_type == pd.core.series.Series:\n",
    "        try:\n",
    "            data =key.loc[x]\n",
    "        except:\n",
    "            data='no data'\n",
    "    else:\n",
    "        try:\n",
    "            data = key.loc[x, column][0]        \n",
    "        except:\n",
    "            data='no data'\n",
    "    \n",
    "    return data\n",
    "    \n",
    "\n",
    "# table kwargs\n",
    "table_k = dict(loc=\"top left\", bbox=(0,0,1,1), colWidths=[.5, .5], cellLoc='center')\n",
    "tablecenter_k = dict(loc=\"top left\", bbox=(0,0,1,1), cellLoc='center')\n",
    "tabtickp_k = dict(axis='both', which='both', bottom=False, top=False, left=False, right=False, labelleft=False, labelbottom=False)\n",
    "\n",
    "# chart kwargs\n",
    "title_k = {'loc':'left', 'pad':14, 'linespacing':1.5, 'fontsize':12}\n",
    "title_k14 = {'loc':'left', 'pad':16, 'linespacing':1.5, 'fontsize':14}\n",
    "xlab_k = {'labelpad':10, 'fontsize':12}\n",
    "xlab_k14 = {'labelpad':14, 'fontsize':14}\n",
    "\n",
    "\n",
    "# # use these to format date axis in charts\n",
    "# weeks = mdates.WeekdayLocator(byweekday=1, interval=4)\n",
    "# # onedayweek = mdates.DayLocator(bymonthday=1, interval=1)\n",
    "# # everytwoweeks = mdates.WeekdayLocator(byweekday=1, interval=4)\n",
    "\n",
    "# months = mdates.MonthLocator(bymonth=[3,6,9,12])\n",
    "# bimonthly = mdates.MonthLocator(bymonth=[1,3,5,7,9,11])\n",
    "# allmonths = mdates.MonthLocator()\n",
    "# wks_fmt = mdates.DateFormatter('%d')\n",
    "# mths_fmt = mdates.DateFormatter('%b')\n",
    "\n",
    "display(HTML(\"\"\"\n",
    "<style>\n",
    ".output {\n",
    "    display: flex;\n",
    "    align-items: center;\n",
    "    text-align: center;\n",
    "}\n",
    "</style>\n",
    "\"\"\"))\n",
    "\n",
    "# map marker size:\n",
    "\n",
    "survey_data, location_data, code_defs, stat_ent, geo_data, output = ut.make_local_paths()"
   ]
  },
  {
   "cell_type": "code",
   "execution_count": 2,
   "metadata": {},
   "outputs": [],
   "source": [
    "# set some parameters:\n",
    "start_date = '2020-04-01'\n",
    "end_date ='2021-04-01'\n",
    "\n",
    "startyearmonth = '{}/{}'.format(start_date[5:7], start_date[:4])\n",
    "endyearmonth = '{}/{}'.format(end_date[5:7], end_date[:4]) \n",
    "\n",
    "\n",
    "# define a significant event:\n",
    "sig = .9\n",
    "one_minus_sig = (1-sig)\n",
    "\n",
    "# define explanatory variables:\n",
    "# expv = ['population','streets','buildings','rivs']\n",
    "\n",
    "# name the folder:\n",
    "name_of_project = 'bielsummary'\n",
    "save_output = False\n",
    "\n",
    "# use this to store things:\n",
    "project_directory = ut.make_project_folder(output, name_of_project)\n",
    "\n",
    "\n",
    "# keep track of output\n",
    "files_generated = []\n",
    "figure_num = 1\n",
    "data_num = 1\n",
    "def make_a_group_summary(adf, groups={}, aggs={}):\n",
    "    som_data = adf.groupby(groups['columns'], as_index=False).agg(aggs)\n",
    "    a_quantity = som_data.groupby(groups['quantity_level']).quantity.sum()\n",
    "    return som_data, a_quantity\n",
    "\n",
    "def calculate_rates(adf, feature_total_map=None, feature_map=None, groups=None, aggs=None, rates=None, products=None, methods=None):\n",
    "    fgs=adf.copy()\n",
    "    if groups != None:\n",
    "        fgs = adf.groupby(groups['columns'], as_index=False).agg(aggs)\n",
    "        a_list_of_features = adf[groups['quantity_level']].unique()\n",
    "        for this_feature in a_list_of_features:\n",
    "            fgs.loc[fgs[groups['quantity_level']]==this_feature, 'feature_total'] = feature_total_map(this_feature, feature_map)\n",
    "    if rates:\n",
    "        for rate in rates:\n",
    "            fgs[rate['rate_name']] = fgs[rate['columns']['this']]/fgs[rate['columns']['over_that']]\n",
    "    if products:\n",
    "        for product in products:\n",
    "            fgs[product['rate_name']]= fgs[product['columns']['this']]*fgs[product['columns']['times_that']]\n",
    "            \n",
    "    return fgs\n",
    "def make_heat_map_data(data, cols=[], columns=[], index=None, sort_values=None):\n",
    "    new_data = data[cols].pivot(index=index, columns=columns, values=cols[-1])\n",
    "    if sort_values != None:\n",
    "        new_data.sort_values(by=sort_values, inplace=True, ascending=False)\n",
    "    if isinstance(new_data.columns, pd.MultiIndex) == True:\n",
    "        new_data.columns = new_data.columns.get_level_values(1)\n",
    "    \n",
    "    return new_data.astype(float)\n",
    "\n",
    "def add_output(**kwargs):\n",
    "    files_generated.append({'tag':kwargs['tag'], 'number':kwargs['figure_num'], 'file':kwargs['file'],'type':kwargs['a_type']})\n",
    "    if kwargs['a_type'] == 'data':\n",
    "        kwargs['data'].to_csv(F\"{kwargs['file']}.csv\", index=False)\n",
    "    else:\n",
    "        plt.savefig(F\"{kwargs['file']}.jpeg\", dpi=300)\n"
   ]
  },
  {
   "cell_type": "code",
   "execution_count": 3,
   "metadata": {},
   "outputs": [
    {
     "name": "stdout",
     "output_type": "stream",
     "text": [
      "\n",
      "These are the project beaches:\n",
      "\n",
      "['neuenburgersee_cudrefin_mattera', 'la-petite-plage', 'evole-plage', 'plage-de-cheyres', 'mullermatte', 'bielersee_vinelz_fankhausers', 'baby-plage-geneva', 'baye-de-montreux-g', 'grand-clos', 'preverenges', 'quai-maria-belgia', 'zurichsee_wollishofen_langendorfm', 'zurichsee_kusnachterhorn_thirkell-whitej', 'zuerichsee_richterswil_benkoem_2', 'rastplatz-stampf', 'weissenau-neuhaus', 'thunersee_spiez_meierd_1', 'walensee_walenstadt_wysse', 'gasi-strand', 'vira-gambarogno', 'sentiero-giro-del-golf-spiaggia', 'maladaire']\n",
      "\n",
      "\n",
      "These are the project lakes:\n",
      "\n",
      "['Bielersee', 'Walensee', 'Zurichsee', 'Lac Léman', 'Thunersee', 'Neuenburgersee', 'Lago Maggiore']\n",
      "\n"
     ]
    }
   ],
   "source": [
    "# non aggregated survey data\n",
    "# Zero values are assigned for all codes not identified at a survey, for each survey\n",
    "dfSurveys = pd.read_csv(F\"{survey_data}/results_with_zeroes.csv\")\n",
    "\n",
    "# house keeping\n",
    "dfSurveys = dfSurveys[(dfSurveys.date >= start_date)&(dfSurveys.date <= end_date)]\n",
    "dfSurveys['date'] = pd.to_datetime(dfSurveys['date'], format=\"%Y-%m-%d\")\n",
    "\n",
    "# river bassin labels\n",
    "with open(F\"{location_data}/river_basins.json\", \"r\") as a_file:\n",
    "    river_bassins=json.load(a_file)\n",
    "\n",
    "# beach data\n",
    "dfBeaches = pd.read_csv(F\"{location_data}/beaches_with_ranks.csv\")\n",
    "dfBeaches.set_index('slug', inplace=True)\n",
    "\n",
    "# assign river bassin labels to locations:\n",
    "for k,v in river_bassins.items():\n",
    "    dfBeaches.loc[dfBeaches.water_name_slug.isin(v), 'river_bassin'] = k\n",
    "\n",
    "# code definitions\n",
    "dfCodes = pd.read_csv(F\"{code_defs}/mlw_codes.csv\", index_col='code')\n",
    "\n",
    "# dimensional data\n",
    "dfDims = pd.read_csv(F\"{survey_data}/dims_data.csv\")\n",
    "\n",
    "# project lakes and beaches:\n",
    "with open(F\"{location_data}/project_lakes.json\", \"r\") as a_file:\n",
    "    project_lakes = json.load(a_file)\n",
    "\n",
    "with open(F\"{location_data}/project_beaches.json\", \"r\") as a_file:\n",
    "    project_beaches = json.load(a_file)\n",
    "    \n",
    "print(F\"\\nThese are the project beaches:\\n\\n{project_beaches}\\n\")\n",
    "print(F\"\\nThese are the project lakes:\\n\\n{project_lakes}\\n\")"
   ]
  },
  {
   "cell_type": "code",
   "execution_count": 4,
   "metadata": {},
   "outputs": [
    {
     "data": {
      "text/plain": [
       "array(['zurichsee', 'aare', 'aarenidau-buren-kanal', 'lac-leman', 'arve',\n",
       "       'lago-maggiore', 'thunersee', 'untersee', 'bielersee', 'birs',\n",
       "       'bodensee', 'ticino', 'chriesbach', 'neuenburgersee', 'emme',\n",
       "       'walensee', 'glatt', 'goldach', 'greifensee', 'grandelbach',\n",
       "       'brienzersee', 'inn', 'jona', 'katzensee', 'dorfbach', 'la-thiele',\n",
       "       'langeten', 'rhone', 'limmat', 'linthkanal', 'escherkanal',\n",
       "       'lorze', 'lotschebach', 'murg', 'ognonnaz', 'pfaffnern', 'reuss',\n",
       "       'rhein', 'maggia', 'schiffenensee', 'schuss', 'seez', 'sempachsee',\n",
       "       'sense', 'sihlsee', 'sihl', 'sitter', 'thur', 'ti12ss', 'urnasch',\n",
       "       'quatre-cantons', 'vorderrhein', 'zugersee', 'zulg'], dtype=object)"
      ]
     },
     "execution_count": 4,
     "metadata": {},
     "output_type": "execute_result"
    }
   ],
   "source": [
    "dfBeaches.water_name_slug.unique()"
   ]
  },
  {
   "cell_type": "code",
   "execution_count": 5,
   "metadata": {},
   "outputs": [],
   "source": [
    "group_names_locations = {\n",
    "    \"waste water\": \"wastewater.json\" ,\n",
    "    \"less than 5mm\":\"codeListMicros.json\",\n",
    "    \"construction\":\"construction.json\",\n",
    "    \"food\":\"foodstuff.json\",\n",
    "    \"agg-con-trans\":\"cat.json\",\n",
    "    \"agriculture\":\"ag.json\",\n",
    "    \"tobacco\":\"tobac.json\",\n",
    "    \"recreation\":\"recreation.json\",    \n",
    "    \"packaging non food\":\"packaging.json\",\n",
    "    \"personal items\":\"pi.json\",    \n",
    "}\n",
    "\n",
    "\n",
    "frag_plas = {\"fragmented plastics\":[\"G79\", \"G78\", \"G75\"]}\n",
    "\n",
    "these_cols = ['loc_date', 'location', 'water_name_slug','type', 'date']\n",
    "catchment_cols = ['region','water_name_slug','type','city','loc_date', 'location', 'date']\n",
    "\n",
    "# the foam codes are automatically aggregated to the parent code for all data\n",
    "foams={'G82':['G82', 'G912'], 'G81':['G81', 'G911'], 'G74':['G74', 'G910', 'G909']}"
   ]
  },
  {
   "cell_type": "code",
   "execution_count": 6,
   "metadata": {},
   "outputs": [
    {
     "name": "stdout",
     "output_type": "stream",
     "text": [
      "\n",
      "There are 0 records that were not classified as either lake or river:\n",
      "\n",
      "Empty DataFrame\n",
      "Columns: [date, code, pcs_m, quantity, location, loc_date, water_name_slug, type]\n",
      "Index: []\n",
      "\n"
     ]
    }
   ],
   "source": [
    "# make a copy of the survye data and tag the records as either lake or river:\n",
    "data = dfSurveys.copy()\n",
    "\n",
    "# map lake or river from dfBeaches\n",
    "lakes = dfBeaches[dfBeaches.water == 'l'].water_name_slug.unique()\n",
    "rivers = dfBeaches[dfBeaches.water == 'r'].water_name_slug.unique()\n",
    "\n",
    "# map values to new column t:\n",
    "data['type'] = 't'\n",
    "for a_place in data.water_name_slug.unique():\n",
    "    data.loc[data.water_name_slug.isin(lakes), 'type'] = 'l'\n",
    "    data.loc[data.water_name_slug.isin(rivers), 'type'] = 'r'\n",
    "\n",
    "# check if there any un categorized records:\n",
    "\n",
    "print(F\"\\nThere are {len(data[data['type']=='t'])} records that were not classified as either lake or river:\\n\\n{data[data['type']=='t']}\\n\")"
   ]
  },
  {
   "cell_type": "markdown",
   "metadata": {},
   "source": [
    "## <span style=\"color:#008891\">Description of survey results</span>\n",
    "\n",
    "### <span style=\"color:#008891\"> Total number of surveys and observations, total number of objects found, number of cities and total population concerned</span>"
   ]
  },
  {
   "cell_type": "code",
   "execution_count": 7,
   "metadata": {},
   "outputs": [],
   "source": [
    "# data.reset_index(inplace=True)\n",
    "\n",
    "a_class_kwargs = dict(\n",
    "    code_group_data=group_names_locations,\n",
    "    new_code_group=frag_plas,\n",
    "    levels=['river_bassin', 'water_name_slug', 'city'],\n",
    "    river_bassins=river_bassins,\n",
    "    exp_variables=['population','buildings', 'streets', 'intersects', 'pop_group_proj', 'pop_group_rip', 'streets_rank', 'buildings_rank'],\n",
    "    code_group_loc=output,\n",
    "    these_cols=these_cols,\n",
    "    foams=foams\n",
    ")\n",
    "a = ac.PreprocessData(data, dfBeaches,**a_class_kwargs)"
   ]
  },
  {
   "cell_type": "code",
   "execution_count": 8,
   "metadata": {},
   "outputs": [],
   "source": [
    "# define the final data set here:\n",
    "a_data = a.survey_data[a.survey_data.river_bassin != 'reuss'].copy()\n",
    "\n",
    "# describe the data set:\n",
    "num_obs = len(a_data)\n",
    "num_samps = len(a_data.loc_date.unique())\n",
    "num_obj = a_data.quantity.sum()\n",
    "num_locs = len(a_data.location.unique())\n",
    "\n",
    "# number of municipalities\n",
    "a_map = dfBeaches['city']\n",
    "munis = [a_map[x] for x in a_data.location.unique()]\n",
    "munis = list(set(munis))\n",
    "num_munis = len(munis)\n",
    "\n",
    "# population\n",
    "total_pop_d = dfBeaches.loc[a_data.location.unique()][['city', 'population']]\n",
    "total_pop_c = total_pop_d.drop_duplicates('city')\n",
    "total_pop = total_pop_c.population.sum()"
   ]
  },
  {
   "cell_type": "code",
   "execution_count": 9,
   "metadata": {},
   "outputs": [
    {
     "name": "stdout",
     "output_type": "stream",
     "text": [
      "There are 76,024 observations from 344 surveys.\n",
      "\n",
      "There were 50,197 objects collected from 120 different locations\n",
      "\n",
      "The survey concerns 67 municipalities with a total population of ~1,575,802\n",
      "\n",
      "This data is valid for surveys surveys between 2020-04-01 and 2021-04-01\n",
      "\n",
      "The municpalities where the surveys were conducted:\n",
      "\n",
      "['Zürich', 'Locarno', 'Küsnacht (ZH)', 'Yverdon-les-Bains', 'Bern', 'La Tour-de-Peilz', 'Schmerikon', 'Solothurn', 'Bellinzona', 'Thun', 'Cudrefin', 'Ascona', 'Richterswil', 'Unterengstringen', 'Glarus Nord', 'Tolochenaz', 'Gebenstorf', 'Estavayer', 'Port', 'Brugg', 'Weesen', 'Luterbach', 'Grandson', 'Brienz (BE)', 'Riddes', 'Leuk', 'Sion', 'Le Landeron', 'Freienbach', 'Boudry', 'Brügg', 'Spiez', 'Unterseen', 'Neuchâtel', 'Rapperswil-Jona', 'Biel/Bienne', 'Saint-Sulpice (VD)', 'Versoix', 'Minusio', 'Stäfa', 'Genève', 'Allaman', 'Köniz', 'Bönigen', 'Gals', 'Lavey-Morcles', 'Gland', 'Lausanne', 'Walperswil', 'Préverenges', 'Lüscherz', 'Quarten', 'Bourg-en-Lavaux', 'Vinelz', 'Hauterive (NE)', 'Kallnach', 'Gambarogno', 'Walenstadt', 'Cheyres-Châbles', 'Nidau', 'Aarau', 'Beatenberg', 'Ligerz', 'Montreux', 'Salgesch', 'Vevey', 'Saint-Gingolph']\n",
      "\n"
     ]
    }
   ],
   "source": [
    "print(F\"There are {'{:,}'.format(num_obs)} observations from {num_samps} surveys.\\n\\nThere were {'{:,}'.format(num_obj)} objects collected from {num_locs} different locations\")\n",
    "print(F\"\\nThe survey concerns {num_munis} municipalities with a total population of ~{'{:,}'.format(total_pop)}\")\n",
    "print(F\"\\nThis data is valid for surveys surveys between {start_date} and {end_date}\")\n",
    "print(F\"\\nThe municpalities where the surveys were conducted:\\n\\n{munis}\\n\")"
   ]
  },
  {
   "cell_type": "markdown",
   "metadata": {},
   "source": [
    "### <span style=\"color:#008891\">Total length, area, weight, weight of plastic objects and field time</span>\n",
    "\n",
    "Dimensional data is kept for all surveys. This includes:\n",
    "\n",
    "1. Length of survey area\n",
    "2. Surface area\n",
    "3. Weight of all objects\n",
    "4. Weight of all plastics\n",
    "5. Weight of all plastics < 5mm\n",
    "6. Time to complete a survey"
   ]
  },
  {
   "cell_type": "code",
   "execution_count": 10,
   "metadata": {},
   "outputs": [
    {
     "name": "stdout",
     "output_type": "stream",
     "text": [
      "\n",
      "The cumulative results: time in the field, meters surveyed, m² surveyed, the total weight removed, the total plastic weight, the number of samples and number of objects found:\n",
      "\n",
      "total_time      1361.94\n",
      "length         17628.00\n",
      "area           86549.35\n",
      "total_w          986.34\n",
      "mac_plast_w       84.11\n",
      "loc_date         342.00\n",
      "n_samples        343.00\n",
      "quantity       50188.00\n",
      "dtype: float64\n",
      "\n",
      "\n",
      "Per river basin: time in the field, meters surveyed, m² surveyed, the total weight removed, the total plastic weight, the number of samples and number of objects found\n",
      "\n",
      "\n"
     ]
    },
    {
     "data": {
      "text/html": [
       "<div>\n",
       "<style scoped>\n",
       "    .dataframe tbody tr th:only-of-type {\n",
       "        vertical-align: middle;\n",
       "    }\n",
       "\n",
       "    .dataframe tbody tr th {\n",
       "        vertical-align: top;\n",
       "    }\n",
       "\n",
       "    .dataframe thead th {\n",
       "        text-align: right;\n",
       "    }\n",
       "</style>\n",
       "<table border=\"1\" class=\"dataframe\">\n",
       "  <thead>\n",
       "    <tr style=\"text-align: right;\">\n",
       "      <th></th>\n",
       "      <th>total_time</th>\n",
       "      <th>quantity</th>\n",
       "      <th>length</th>\n",
       "      <th>area</th>\n",
       "      <th>total_w</th>\n",
       "      <th>mac_plast_w</th>\n",
       "      <th>n_samples</th>\n",
       "    </tr>\n",
       "    <tr>\n",
       "      <th>river_bassin</th>\n",
       "      <th></th>\n",
       "      <th></th>\n",
       "      <th></th>\n",
       "      <th></th>\n",
       "      <th></th>\n",
       "      <th></th>\n",
       "      <th></th>\n",
       "    </tr>\n",
       "  </thead>\n",
       "  <tbody>\n",
       "    <tr>\n",
       "      <th>aare</th>\n",
       "      <td>527.72</td>\n",
       "      <td>12875</td>\n",
       "      <td>7457</td>\n",
       "      <td>34682.80</td>\n",
       "      <td>68.27</td>\n",
       "      <td>28.52</td>\n",
       "      <td>128</td>\n",
       "    </tr>\n",
       "    <tr>\n",
       "      <th>linth</th>\n",
       "      <td>381.15</td>\n",
       "      <td>8796</td>\n",
       "      <td>4980</td>\n",
       "      <td>24239.80</td>\n",
       "      <td>363.64</td>\n",
       "      <td>12.41</td>\n",
       "      <td>99</td>\n",
       "    </tr>\n",
       "    <tr>\n",
       "      <th>rhone</th>\n",
       "      <td>388.49</td>\n",
       "      <td>27087</td>\n",
       "      <td>4136</td>\n",
       "      <td>22638.25</td>\n",
       "      <td>520.66</td>\n",
       "      <td>41.35</td>\n",
       "      <td>99</td>\n",
       "    </tr>\n",
       "    <tr>\n",
       "      <th>ticino</th>\n",
       "      <td>64.58</td>\n",
       "      <td>1430</td>\n",
       "      <td>1055</td>\n",
       "      <td>4988.50</td>\n",
       "      <td>33.77</td>\n",
       "      <td>1.83</td>\n",
       "      <td>17</td>\n",
       "    </tr>\n",
       "  </tbody>\n",
       "</table>\n",
       "</div>"
      ],
      "text/plain": [
       "              total_time  quantity  length      area  total_w  mac_plast_w  \\\n",
       "river_bassin                                                                 \n",
       "aare              527.72     12875    7457  34682.80    68.27        28.52   \n",
       "linth             381.15      8796    4980  24239.80   363.64        12.41   \n",
       "rhone             388.49     27087    4136  22638.25   520.66        41.35   \n",
       "ticino             64.58      1430    1055   4988.50    33.77         1.83   \n",
       "\n",
       "             n_samples  \n",
       "river_bassin            \n",
       "aare               128  \n",
       "linth               99  \n",
       "rhone               99  \n",
       "ticino              17  "
      ]
     },
     "execution_count": 10,
     "metadata": {},
     "output_type": "execute_result"
    }
   ],
   "source": [
    "# gather the dimensional data for this river basin\n",
    "som_dims = dfDims[dfDims.date <= end_date].copy()\n",
    "\n",
    "# get a map of the number of samples per water feature:\n",
    "samples_feature = a_data.groupby('water_name_slug').loc_date.nunique()\n",
    "samples_bassin = a_data.groupby('river_bassin').loc_date.nunique()\n",
    "\n",
    "# get the number of objects per water feature:\n",
    "qty_bassin = a_data.groupby('river_bassin').quantity.sum()\n",
    "\n",
    "\n",
    "# the loc date key needs updating:\n",
    "som_dims['new_loc_date'] = list(zip(som_dims.location, som_dims.date))\n",
    "\n",
    "\n",
    "# add travel and incidental time:\n",
    "som_dims['total_time'] = som_dims.time_minutes+120\n",
    "som_dims['total_time'] = som_dims.total_time/60\n",
    "som_dims['total_time'] = som_dims.total_time.round(2)\n",
    "\n",
    "location_wname_key = dfBeaches[['water_name_slug']]\n",
    "som_dims['water_name_slug'] = som_dims.location.map(lambda x: location_wname_key.loc[x][0])\n",
    "for k,v in river_bassins.items():\n",
    "    som_dims.loc[som_dims.water_name_slug.isin(v), 'river_bassin'] = k\n",
    "\n",
    "# dims data summary stats:\n",
    "dims_summary_stats = som_dims.groupby('river_bassin').agg({'total_time':'sum', 'length':'sum', 'area':'sum', 'total_w':'sum', 'mac_plast_w':'sum', 'loc_date':'nunique'})\n",
    "dims_summary_stats['n_samples'] = dims_summary_stats.index.map(lambda x: use_this_key(x, samples_bassin, column='loc_date'))\n",
    "dims_summary_stats = dims_summary_stats[dims_summary_stats.n_samples != 'no data'].copy()\n",
    "dims_summary_stats['mac_plast_w'] = dims_summary_stats.mac_plast_w/1000\n",
    "dims_summary_stats['quantity'] = dims_summary_stats.index.map(lambda x: use_this_key(x, qty_bassin))\n",
    "\n",
    "print(F\"\\nThe cumulative results: time in the field, meters surveyed, m² surveyed, the total weight removed, the total plastic weight, the number of samples and number of objects found:\\n\\n{dims_summary_stats.sum().round(2)}\\n\")\n",
    "\n",
    "print(F\"\\nPer river basin: time in the field, meters surveyed, m² surveyed, the total weight removed, the total plastic weight, the number of samples and number of objects found\\n\\n\")\n",
    "\n",
    "dims_summary_stats[['total_time','quantity', 'length', 'area', 'total_w', 'mac_plast_w', 'n_samples']].round(2)"
   ]
  },
  {
   "cell_type": "markdown",
   "metadata": {},
   "source": [
    "#### <span style=\"color:#008891\">Identify dimensional data records that do not have a matching daily survey total or have an extreme weight value and identify survey dates that do not have a dims record:</span>"
   ]
  },
  {
   "cell_type": "code",
   "execution_count": 12,
   "metadata": {},
   "outputs": [
    {
     "name": "stdout",
     "output_type": "stream",
     "text": [
      "\n",
      "These are the dims records that did not get tagged with a quantity:\n",
      "\n",
      "                                     location        date water_name_slug\n",
      "112                  lacleman_gland_lecoanets  2020-11-27       lac-leman\n",
      "134                            luscherz-plage  2021-01-26       bielersee\n",
      "151                               mullermatte  2020-01-26       bielersee\n",
      "173                          plage-de-cheyres  2020-03-15  neuenburgersee\n",
      "230          schiffenensee_duedingen_hirschij  2020-07-11   schiffenensee\n",
      "246                                strandbeiz  2020-03-20       zurichsee\n",
      "253                  thunersee_spiez_meierd_1  2020-03-08       thunersee\n",
      "290                 walensee_walenstadt_wysse  2020-03-17        walensee\n",
      "334  zurichsee_kusnachterhorn_thirkell-whitej  2020-03-20       zurichsee\n",
      "335  zurichsee_kusnachterhorn_thirkell-whitej  2020-03-20       zurichsee\n",
      "347         zurichsee_wollishofen_langendorfm  2020-03-11       zurichsee\n",
      "\n",
      "These are the surveys that do not have dimensional data:\n",
      "\n",
      "[('baby-plage-geneva', '2021-03-10'), ('baby-plage-geneva', '2021-02-10'), ('baby-plage-geneva', '2020-12-16'), ('baby-plage-geneva', '2020-11-18'), ('baby-plage-geneva', '2020-08-18'), ('quai-maria-belgia', '2021-02-28'), ('quai-maria-belgia', '2021-01-31'), ('zuerichsee_richterswil_benkoem_2', '2020-11-21'), ('zurichsee_wollishofen_langendorfm', '2020-11-12'), ('luscherz-plage', '2020-12-26'), ('lacleman_gland_lecoanets', '2020-10-27')]\n",
      "\n"
     ]
    }
   ],
   "source": [
    "# map loc_date to quantity from all surveys        \n",
    "some_q = a.daily_totals_all[['loc_date', 'quantity']].copy()\n",
    "some_q.set_index('loc_date', inplace=True)\n",
    "\n",
    "ldu = a_data.loc_date.unique()\n",
    "ddu = som_dims.new_loc_date.unique()\n",
    "\n",
    "# map quantity per survey to the dims data\n",
    "som_dims['quantity'] = som_dims.new_loc_date.map(lambda x: use_this_key(x,some_q, column='quantity'))\n",
    "print(F\"\\nThese are the dims records that did not get tagged with a quantity:\\n\\n{som_dims[som_dims.quantity == 'no data'][['location', 'date', 'water_name_slug']]}\\n\")\n",
    "print(F\"These are the surveys that do not have dimensional data:\\n\\n{[x for x in list(ldu) if x not in list(ddu)]}\\n\")"
   ]
  },
  {
   "cell_type": "code",
   "execution_count": 13,
   "metadata": {},
   "outputs": [
    {
     "name": "stdout",
     "output_type": "stream",
     "text": [
      "\n",
      "These are the dims records that have a weight greater than 50:\n",
      "\n",
      "              location        date water_name_slug  total_w\n",
      "114  lavey-les-bains-2  2021-02-24           rhone     80.0\n",
      "139          maladaire  2020-07-29       lac-leman    147.0\n",
      "164           murg-bad  2020-10-23        walensee    330.0\n",
      "193        preverenges  2020-09-08       lac-leman    230.0\n",
      "\n"
     ]
    }
   ],
   "source": [
    "print(F\"\\nThese are the dims records that have a weight greater than 50:\\n\\n{som_dims[som_dims.total_w > 50][['location', 'date', 'water_name_slug', 'total_w']]}\\n\")"
   ]
  },
  {
   "cell_type": "markdown",
   "metadata": {},
   "source": [
    "#### <span style=\"color:#008891\">The time to complete a survey versus the number of objects found</span>"
   ]
  },
  {
   "cell_type": "code",
   "execution_count": 14,
   "metadata": {},
   "outputs": [
    {
     "data": {
      "image/png": "[encoded data removed]",
      "text/plain": [
       "<Figure size 576x432 with 1 Axes>"
      ]
     },
     "metadata": {
      "needs_background": "light"
     },
     "output_type": "display_data"
    }
   ],
   "source": [
    "fig, ax = plt.subplots(figsize=(8,6))\n",
    "sns.scatterplot(data=som_dims[som_dims.quantity != 'no data'], x='total_time', y='quantity', hue='water_name_slug', palette='husl', ax=ax)\n",
    "ax.get_legend().remove()\n",
    "ax.set_xlabel(\"Time in hours to complete the survey\", **xlab_k14 )\n",
    "ax.set_ylabel(\"Number of objects identified\", **xlab_k14)\n",
    "plt.tight_layout()\n",
    "plt.show()"
   ]
  },
  {
   "cell_type": "code",
   "execution_count": 15,
   "metadata": {},
   "outputs": [],
   "source": [
    "# create an intermediary group\n",
    "# \n",
    "with open(F\"{code_defs}/all_foams.json\", \"r\") as a_file:\n",
    "    foams_bg = json.load(a_file)\n",
    "with open(F\"{code_defs}/sheeting.json\", \"r\") as a_file:\n",
    "    sheeting_bg = json.load(a_file)\n",
    "with open(F\"{code_defs}/fragmented_plastics.json\", \"r\") as a_file:\n",
    "    fragplas_bg = json.load(a_file)\n",
    "\n",
    "the_big_group = ['G27','G30', *foams_bg, *sheeting_bg, *fragplas_bg]\n",
    "\n",
    "# map codes to descriptions to:\n",
    "material_map = dfCodes.material\n",
    "desc_map = dfCodes.description\n",
    "\n",
    "# make an intermediary group\n",
    "a_data['big_group'] = 'no group'\n",
    "a_data.loc[a_data.code.isin(foams_bg), 'big_group'] = 'foams'\n",
    "a_data.loc[a_data.code.isin(sheeting_bg), 'big_group'] = 'sheeting'\n",
    "a_data.loc[a_data.code.isin(fragplas_bg), 'big_group'] = 'frag plastic'\n",
    "a_data.loc[a_data.code.isin(['G27']), 'big_group'] = 'cigarette ends'\n",
    "a_data.loc[a_data.code.isin(['G30']), 'big_group'] = 'snack wrapper'\n",
    "for code in [x for x in a_data.code.unique() if x not in the_big_group]:\n",
    "    a_data.loc[a_data.code==code, 'big_group'] = code\n"
   ]
  },
  {
   "cell_type": "markdown",
   "metadata": {},
   "source": [
    "## <span style=\"color:#008891\">The top ten objects identified</span>"
   ]
  },
  {
   "cell_type": "code",
   "execution_count": 16,
   "metadata": {},
   "outputs": [
    {
     "name": "stdout",
     "output_type": "stream",
     "text": [
      "\n",
      "The top ten objects are 59.44% of all objects identified\n",
      "\n"
     ]
    },
    {
     "data": {
      "text/html": [
       "<div>\n",
       "<style scoped>\n",
       "    .dataframe tbody tr th:only-of-type {\n",
       "        vertical-align: middle;\n",
       "    }\n",
       "\n",
       "    .dataframe tbody tr th {\n",
       "        vertical-align: top;\n",
       "    }\n",
       "\n",
       "    .dataframe thead th {\n",
       "        text-align: right;\n",
       "    }\n",
       "</style>\n",
       "<table border=\"1\" class=\"dataframe\">\n",
       "  <thead>\n",
       "    <tr style=\"text-align: right;\">\n",
       "      <th></th>\n",
       "      <th>quantity</th>\n",
       "    </tr>\n",
       "    <tr>\n",
       "      <th>description</th>\n",
       "      <th></th>\n",
       "    </tr>\n",
       "  </thead>\n",
       "  <tbody>\n",
       "    <tr>\n",
       "      <th>Cigarette butts and filters</th>\n",
       "      <td>7556</td>\n",
       "    </tr>\n",
       "    <tr>\n",
       "      <th>Foamed polystyrene pieces 0.5cm - 2.5cm</th>\n",
       "      <td>3627</td>\n",
       "    </tr>\n",
       "    <tr>\n",
       "      <th>Plastic pieces 0.5cm - 2.5cm</th>\n",
       "      <td>3447</td>\n",
       "    </tr>\n",
       "    <tr>\n",
       "      <th>Food wrappers; candy, snack packaging</th>\n",
       "      <td>3086</td>\n",
       "    </tr>\n",
       "    <tr>\n",
       "      <th>Plastic pieces 2.5cm - 50cm</th>\n",
       "      <td>2894</td>\n",
       "    </tr>\n",
       "    <tr>\n",
       "      <th>Industrial sheeting</th>\n",
       "      <td>2388</td>\n",
       "    </tr>\n",
       "    <tr>\n",
       "      <th>Glass or ceramic drink bottles, pieces</th>\n",
       "      <td>1828</td>\n",
       "    </tr>\n",
       "    <tr>\n",
       "      <th>Foam polystyrene; expanded beads/balls  2.5cm - 50cm</th>\n",
       "      <td>1717</td>\n",
       "    </tr>\n",
       "    <tr>\n",
       "      <th>Industrial pellets (nurdles)</th>\n",
       "      <td>1664</td>\n",
       "    </tr>\n",
       "    <tr>\n",
       "      <th>Foamed plastic  for thermal insulation or packing material</th>\n",
       "      <td>1632</td>\n",
       "    </tr>\n",
       "  </tbody>\n",
       "</table>\n",
       "</div>"
      ],
      "text/plain": [
       "                                                    quantity\n",
       "description                                                 \n",
       "Cigarette butts and filters                             7556\n",
       "Foamed polystyrene pieces 0.5cm - 2.5cm                 3627\n",
       "Plastic pieces 0.5cm - 2.5cm                            3447\n",
       "Food wrappers; candy, snack packaging                   3086\n",
       "Plastic pieces 2.5cm - 50cm                             2894\n",
       "Industrial sheeting                                     2388\n",
       "Glass or ceramic drink bottles, pieces                  1828\n",
       "Foam polystyrene; expanded beads/balls  2.5cm -...      1717\n",
       "Industrial pellets (nurdles)                            1664\n",
       "Foamed plastic  for thermal insulation or packi...      1632"
      ]
     },
     "execution_count": 16,
     "metadata": {},
     "output_type": "execute_result"
    }
   ],
   "source": [
    "# note all records where quantity is > 0\n",
    "a_data['fail'] = a_data.quantity > 0\n",
    "w_bassin_total = a_data.groupby('river_bassin').quantity.sum()\n",
    "\n",
    "# get the list of codes by quantity\n",
    "national_topten= a.code_totals.sort_values(ascending=False)\n",
    "\n",
    "# take first ten records after sorting\n",
    "national_topten_codes = national_topten.index[:10]\n",
    "\n",
    "# grab the data from the survey results:\n",
    "top_ten_national = a_data[a_data.code.isin(national_topten_codes)][['code', 'quantity', 'fail', 'pcs_m', 'loc_date']].copy()\n",
    "\n",
    "# add descriptive and categorical variables:\n",
    "top_ten_national['material'] = top_ten_national.code.map(lambda x: material_map.loc[x])\n",
    "top_ten_national['description'] = top_ten_national.code.map(lambda x: desc_map.loc[x])\n",
    "\n",
    "\n",
    "# agg the values from the survey data\n",
    "# there is a convenience method for this\n",
    "# the groups and the level where quantity is calculated:\n",
    "groups = {'quantity_level':'code', 'columns':['code', 'description']}\n",
    "\n",
    "# the columns to aggregate\n",
    "aggs = {'pcs_m':'mean', 'quantity':'sum', 'fail':'sum', 'loc_date':'nunique'}\n",
    "\n",
    "# columns divided by other columns\n",
    "rates = [\n",
    "    {'rate_name':'fail rate','columns':{'this':'fail', 'over_that':'loc_date'}},\n",
    "    {'rate_name':'% of total', 'columns':{'this':'quantity', 'over_that':'feature_total'}},\n",
    "]\n",
    "\n",
    "# product of two columns\n",
    "products = [\n",
    "     {'rate_name':'rating', 'columns':{'this':'pcs_m', 'times_that':'fail rate'}}    \n",
    "]\n",
    "\n",
    "# method that returns the project total total:\n",
    "def get_the_project_total(x , adf):\n",
    "    return  adf.quantity.sum()\n",
    "\n",
    "# calculate the fail rate and % of total for each code:\n",
    "top_ten_agg = calculate_rates(top_ten_national, feature_total_map=get_the_project_total, feature_map=a_data,groups=groups, aggs=aggs, rates=rates, products=products)\n",
    "\n",
    "# for display purposes make the description the index\n",
    "top_ten_agg.set_index('description', inplace=True)\n",
    "print(F\"\\nThe top ten objects are {round((top_ten_agg.quantity.sum()/num_obj)*100, 2)}% of all objects identified\\n\")\n",
    "\n",
    "# print(F\"\\nthe top ten objects identified from all survey data, by quantity:\\n\\n\")\n",
    "tt_agg = top_ten_agg[['quantity']].sort_values(by='quantity', ascending=False).round(2)\n",
    "tt_agg"
   ]
  },
  {
   "cell_type": "markdown",
   "metadata": {},
   "source": [
    "#### <span style=\"color:#008891\">Survey results: consolidating object categories</span>"
   ]
  },
  {
   "cell_type": "markdown",
   "metadata": {},
   "source": [
    "The top ten list gives a very high level summary of the survey results. Based entirely on the total amount of an object found. It is a good indicator of overall abundance of an object in the ecosystem. Using this method we can account for ~60% of objects identified and very quickly identify the most abundant objects.\n",
    "\n",
    "The top ten list can be improved to account for a greater percentage of the objects found. Currently, polystyrene is present in three forms in the top ten list, extruded polystyrene and two size variants of expanded polystyrene. Fragmented plastics are also present twice in the top ten list. The survey method was designed to get a maximum amount of detail for each survey. Grouping like objects by size is a common way to differentiate observations.\n",
    "\n",
    "Some of the objects in the top ten list that can be consolidated:\n",
    "\n",
    "1. There are three objects that are made from expanded or extruded polystyrene\n",
    "2. Fragmented plastics are present in two different size ranges.\n",
    "\n",
    "By combining like objects or objects that have the same or similar origin the impact of that group can be better appreciated. When the foam and the fragmented plastics are combined, that liberates three new places in the top ten list. Foams replace cigarette ends as the most abundant (pcs/m and quantity) but cigarette ends still retain the title as most frequently found (fail rate). The top ten list now accounts for ~70% of the objects identified."
   ]
  },
  {
   "cell_type": "markdown",
   "metadata": {},
   "source": [
    "#### <span style=\"color:#008891\"> There is more room at the top: a consolidated top ten list</span>"
   ]
  },
  {
   "cell_type": "code",
   "execution_count": 17,
   "metadata": {},
   "outputs": [
    {
     "name": "stdout",
     "output_type": "stream",
     "text": [
      "\n",
      "The consolidated top ten objects are 67.72% of all objects identified\n",
      "\n"
     ]
    },
    {
     "data": {
      "text/html": [
       "<div>\n",
       "<style scoped>\n",
       "    .dataframe tbody tr th:only-of-type {\n",
       "        vertical-align: middle;\n",
       "    }\n",
       "\n",
       "    .dataframe tbody tr th {\n",
       "        vertical-align: top;\n",
       "    }\n",
       "\n",
       "    .dataframe thead th {\n",
       "        text-align: right;\n",
       "    }\n",
       "</style>\n",
       "<table border=\"1\" class=\"dataframe\">\n",
       "  <thead>\n",
       "    <tr style=\"text-align: right;\">\n",
       "      <th></th>\n",
       "      <th>quantity</th>\n",
       "      <th>% of total</th>\n",
       "      <th>pcs_m</th>\n",
       "      <th>fail rate</th>\n",
       "    </tr>\n",
       "    <tr>\n",
       "      <th>description</th>\n",
       "      <th></th>\n",
       "      <th></th>\n",
       "      <th></th>\n",
       "      <th></th>\n",
       "    </tr>\n",
       "  </thead>\n",
       "  <tbody>\n",
       "    <tr>\n",
       "      <th>foams</th>\n",
       "      <td>8130</td>\n",
       "      <td>0.16</td>\n",
       "      <td>0.71</td>\n",
       "      <td>0.80</td>\n",
       "    </tr>\n",
       "    <tr>\n",
       "      <th>cigarette ends</th>\n",
       "      <td>7555</td>\n",
       "      <td>0.15</td>\n",
       "      <td>0.53</td>\n",
       "      <td>0.88</td>\n",
       "    </tr>\n",
       "    <tr>\n",
       "      <th>frag plastic</th>\n",
       "      <td>6341</td>\n",
       "      <td>0.13</td>\n",
       "      <td>0.52</td>\n",
       "      <td>0.87</td>\n",
       "    </tr>\n",
       "    <tr>\n",
       "      <th>snack wrapper</th>\n",
       "      <td>3085</td>\n",
       "      <td>0.06</td>\n",
       "      <td>0.25</td>\n",
       "      <td>0.86</td>\n",
       "    </tr>\n",
       "    <tr>\n",
       "      <th>sheeting</th>\n",
       "      <td>2387</td>\n",
       "      <td>0.05</td>\n",
       "      <td>0.20</td>\n",
       "      <td>0.71</td>\n",
       "    </tr>\n",
       "    <tr>\n",
       "      <th>Glass or ceramic drink bottles, pieces</th>\n",
       "      <td>1828</td>\n",
       "      <td>0.04</td>\n",
       "      <td>0.16</td>\n",
       "      <td>0.65</td>\n",
       "    </tr>\n",
       "    <tr>\n",
       "      <th>Industrial pellets (nurdles)</th>\n",
       "      <td>1664</td>\n",
       "      <td>0.03</td>\n",
       "      <td>0.13</td>\n",
       "      <td>0.33</td>\n",
       "    </tr>\n",
       "    <tr>\n",
       "      <th>Cotton bud/swab sticks</th>\n",
       "      <td>1324</td>\n",
       "      <td>0.03</td>\n",
       "      <td>0.11</td>\n",
       "      <td>0.52</td>\n",
       "    </tr>\n",
       "    <tr>\n",
       "      <th>Plastic construction waste</th>\n",
       "      <td>905</td>\n",
       "      <td>0.02</td>\n",
       "      <td>0.07</td>\n",
       "      <td>0.52</td>\n",
       "    </tr>\n",
       "    <tr>\n",
       "      <th>Packaging plastic nonfood or unknown</th>\n",
       "      <td>772</td>\n",
       "      <td>0.02</td>\n",
       "      <td>0.06</td>\n",
       "      <td>0.37</td>\n",
       "    </tr>\n",
       "  </tbody>\n",
       "</table>\n",
       "</div>"
      ],
      "text/plain": [
       "                                        quantity  % of total  pcs_m  fail rate\n",
       "description                                                                   \n",
       "foams                                       8130        0.16   0.71       0.80\n",
       "cigarette ends                              7555        0.15   0.53       0.88\n",
       "frag plastic                                6341        0.13   0.52       0.87\n",
       "snack wrapper                               3085        0.06   0.25       0.86\n",
       "sheeting                                    2387        0.05   0.20       0.71\n",
       "Glass or ceramic drink bottles, pieces      1828        0.04   0.16       0.65\n",
       "Industrial pellets (nurdles)                1664        0.03   0.13       0.33\n",
       "Cotton bud/swab sticks                      1324        0.03   0.11       0.52\n",
       "Plastic construction waste                   905        0.02   0.07       0.52\n",
       "Packaging plastic nonfood or unknown         772        0.02   0.06       0.37"
      ]
     },
     "execution_count": 17,
     "metadata": {},
     "output_type": "execute_result"
    }
   ],
   "source": [
    "fts = a_data.groupby(['river_bassin','big_group','loc_date'], as_index=False).agg({'pcs_m':'sum', 'quantity':'sum'})\n",
    "fts['fail'] = fts.quantity > 0\n",
    "\n",
    "# assign a description to results:\n",
    "\n",
    "def assign_descriptions(x, **kwargs):\n",
    "    if x in kwargs['exclude']:\n",
    "        data = x\n",
    "    else:\n",
    "        data = kwargs['som_keys'][x]\n",
    "    return data\n",
    "\n",
    "\n",
    "groups = {'quantity_level':'big_group', 'columns':['big_group']}\n",
    "# aggs = {'pcs_m':'mean', 'quantity':'sum', 'fail':'sum', 'loc_date':'nunique'}\n",
    "\n",
    "ftsx = calculate_rates(fts, feature_total_map=get_the_project_total, feature_map=a_data,groups=groups, aggs=aggs, rates=rates, products=products)\n",
    "\n",
    "bg_desc = ['foams', 'cigarette ends', 'frag plastic', 'snack wrapper', 'sheeting']\n",
    "som_kwargs = dict(exclude=bg_desc, som_keys=desc_map)\n",
    "\n",
    "ftsx['description'] = ftsx.big_group.map(lambda x: assign_descriptions(x, **som_kwargs))\n",
    "#ftsx.drop('big_group', inplace=True)\n",
    "ftsx = ftsx[['description','quantity', '% of total', 'pcs_m','fail rate']].set_index('description').sort_values(by='quantity', ascending=False)[:10].round(2)\n",
    "print(F\"\\nThe consolidated top ten objects are {round((ftsx.quantity.sum()/num_obj)*100, 2)}% of all objects identified\\n\")\n",
    "ftsx"
   ]
  },
  {
   "cell_type": "markdown",
   "metadata": {},
   "source": [
    "The *fail rate* is a **key indicator** as well as *% of total* and *pieces per meter*. Each indicator can be used to understand different aspects of the survey results. "
   ]
  },
  {
   "cell_type": "markdown",
   "metadata": {},
   "source": [
    "## <span style=\"color:#008891\">Using the survey results: key indicators of the top ten objects</span>\n",
    "\n",
    "### <span style=\"color:#008891\">Key indicators for the most frequent questions:</span>\n",
    "\n",
    "1. What do you find?\n",
    "2. How often do you find it?\n",
    "3. Do you find alot of it?\n",
    "4. What else do you find?\n",
    "5. Where do you find the most? \n",
    "\n",
    "The key indicators provide reasonable answwers to those questions using parameters that are taken directly from the survey data. The key indicators are used throughout the report. In this section we explain the key indicators and use them to answer some common questions about the national results.  There is a detailed example of each calculation in annex A."
   ]
  },
  {
   "cell_type": "markdown",
   "metadata": {},
   "source": [
    "### <span style=\"color:#008891\">Key indicators definition and use</span>\n",
    "\n",
    "\n",
    "#### **Fail rate:** How often at least one of a particular item was found at a survey\n",
    "\n",
    "There are 76,466 observations from 346 surveys or 221 observations per survey. Observations that have a quantity greater than 0 for a survey are scored with a 1, if the quantity is 0 it is scored with a zero. The sum of the score is the number of times that an object was identified. \n",
    "\n",
    "_The fail rate is the number of times that an object was found divided by the number of samples taken._\n",
    "\n",
    "__what does it mean:__ The fail rate describes how likely you are to find at least one of an object in the course of the survey\n",
    "\n",
    "__how to use it:__ The objects with a high fail rate are those that are most likely to be found at a particular aggregation level\n",
    "\n",
    "__Why is this important?__ The fail rate alerts us to the presence of items that are identified regularly even though they may not be found in large quantities or the inverse.\n",
    "<br/><br />\n",
    "\n",
    "#### **Pieces per meter:** How many objects were found within a defined distance\n",
    "\n",
    "The pieces per meter ratio is the total number of objects found divided by the length in meters of the survey. This ratio is calculated for each record in the survey. Objects that were not identified durring a survey have a pcs/m ratio of 0.\n",
    "\n",
    "_Pieces per meter is the number of objects found divided by the number of samples taken._\n",
    "\n",
    "__what does it mean:__ The pcs-m ratio describes the average amount of an object you are likely to find if you mulitply pcs/m by the survey length\n",
    "\n",
    "__how to use it:__ Objects with a high pcs/m ratio have a higher minimum value per survey (if they are found: see fail rate)\n",
    "\n",
    "__Why is this is important?__ A high pcs/m ration indicates either proximity to a source or a zone of accumulation\n",
    "<br/><br />\n",
    "\n",
    "#### **% of total** The amount of an object relative to the other objects indeitififed\n",
    "\n",
    "The percent of total describes the value of an object when all the other objects are considered.\n",
    "\n",
    "__what does it mean:__ The % of total describes how much of the problem can be attributed to an object or group of objects\n",
    "\n",
    "__how to use it:__ The % of total is the often the first indicator used to prioritize mitigation campaigns\n",
    "\n",
    "__Why is this important:__ This helps define the problem at different levels\n",
    "<br/><br />"
   ]
  },
  {
   "cell_type": "markdown",
   "metadata": {},
   "source": [
    "#### <span style=\"color:#008891\">Key indicators of the top ten objects for each river basin</span>"
   ]
  },
  {
   "cell_type": "code",
   "execution_count": 18,
   "metadata": {},
   "outputs": [],
   "source": [
    "# define the groups and aggregationg level:\n",
    "groups = {'quantity_level':'river_bassin', 'columns':['river_bassin', 'big_group']}\n",
    "# get the remaining key indicators\n",
    "rg_tt = calculate_rates(fts, feature_total_map=use_this_key, feature_map=w_bassin_total, groups=groups, aggs=aggs, rates=rates, products=products, methods=None)\n",
    "rg_tt['description'] = rg_tt.big_group.map(lambda x: assign_descriptions(x, **som_kwargs))\n",
    "rg_tt = rg_tt[rg_tt.description.isin(ftsx.index)]\n",
    "\n",
    "\n",
    "# make heat map data\n",
    "cols = ['description', 'river_bassin', '% of total']\n",
    "columns = 'river_bassin'\n",
    "index = 'description'\n",
    "sort_values = 'aare'\n",
    "\n",
    "rg_fr= make_heat_map_data(rg_tt, cols=cols, columns=columns, index=index, sort_values=sort_values)\n",
    "\n",
    "cols = ['description', 'river_bassin', 'pcs_m']\n",
    "columns = 'river_bassin'\n",
    "index = 'description'\n",
    "sort_values = 'aare'\n",
    "\n",
    "# apply to data\n",
    "rg_fpcs= make_heat_map_data(rg_tt, cols=cols, columns=columns, index=index)\n",
    "rg_fpcs = rg_fpcs.reindex(rg_fr.index)\n",
    "# define the map\n",
    "cols = ['description', 'river_bassin', 'fail rate']\n",
    "columns = 'river_bassin'\n",
    "index = 'description'\n",
    "sort_values = 'aare'\n",
    "\n",
    "# apply to data\n",
    "rg_fpct= make_heat_map_data(rg_tt, cols=cols, columns=columns, index=index)\n",
    "rg_fpct = rg_fpct.reindex(rg_fr.index)"
   ]
  },
  {
   "cell_type": "code",
   "execution_count": 19,
   "metadata": {},
   "outputs": [
    {
     "data": {
      "image/png": "[encoded data removed]",
      "text/plain": [
       "<Figure size 1152x648 with 3 Axes>"
      ]
     },
     "metadata": {
      "needs_background": "light"
     },
     "output_type": "display_data"
    }
   ],
   "source": [
    "fig, axs = plt.subplots(1,3, figsize=(16,9))\n",
    "\n",
    "sns.heatmap(rg_fr, ax = axs[0], cmap='YlOrRd', linewidth=.01, linecolor='white', annot=True, square=True, fmt=\".0%\", cbar=False)\n",
    "sns.heatmap(rg_fpcs, ax = axs[1], cmap='YlOrRd', linewidth=.01, linecolor='white', annot=True, square=True, fmt=\".2\", yticklabels=False, cbar=False)\n",
    "sns.heatmap(rg_fpct, ax = axs[2], cmap='YlOrRd', linewidth=.01, linecolor='white', annot=True, square=True, fmt=\".0%\", yticklabels=False, cbar=False)\n",
    "axs[0].set_ylabel(\"\")\n",
    "axs[0].set_xlabel(\"\", loc='left', labelpad=50)\n",
    "axs[0].set_title(\"% of total\", **title_k14)\n",
    "axs[1].set_title(\"pieces per meter\", **title_k14)\n",
    "axs[2].set_title(\"fail rate\", **title_k14)\n",
    "axs[1].set_ylabel(\"\")\n",
    "axs[1].set_xlabel(\"\")\n",
    "axs[2].set_ylabel(\"\")\n",
    "axs[2].set_xlabel(\"\")\n",
    "plt.tight_layout()\n",
    "\n",
    "plt.show()\n",
    "plt.close()"
   ]
  },
  {
   "cell_type": "markdown",
   "metadata": {},
   "source": [
    "#### <span style=\"color:#008891\">Six object catgories make up ~55-65% of all the objects found</span>\n",
    "\n",
    "This is true for all river bassins in the study. However, the relative amounts vary from one region to another: \n",
    "\n",
    "1. foam products: expanded polystyrene\n",
    "2. cigarette ends\n",
    "3. fragemented plastics\n",
    "4. snack wrappers\n",
    "5. industrial sheeting\n",
    "6. glass or ceramic drink bottles\n",
    "\n",
    "The fail rates for the first three objects in the consolidated top ten list remain conssistent accross the river basins surveyed. The difference between the highest and lowest values is no more than 17 for any of the top three and all have a fail rate betwen 77% and 100% depending on the river bassin.\n",
    "\n",
    "After the first three objects the fail rate range increases for each object, up to 39% in the case of cotton swabs. Consider the fail rate of cotton swabs and GPI in the heat map below and compare that value to the values in the % of total chart above and the national results for the consolidated top ten.\n",
    "\n",
    "#### <span style=\"color:#008891\">Some objects are found regularly and from many locations others are found less frequently but at higher quantities</span>\n",
    "\n",
    "The surveys results are cumulative values. Consider these two scenarios:\n",
    "\n",
    "1. Objects are found regularly at **many locations** but at lower quantities than other objects\n",
    "2. Objects are found regularly at **fewer locations** but at higher quantities than other objects\n",
    "\n",
    "It is important to tell the difference between the two. The key indicators can help identify objects and locations that fit in to one of the two criteria. \n",
    "\n",
    "If an object was found regularly and in higher quantities than other objects (cigarette ends, foam etc...) it will place in the top ten list. The inverse is also true, if an object is found less often but in larger quantities relative to other objects it will also place in the top ten list.\n",
    "\n",
    "#### <span style=\"color:#008891\">Objects are found regulary but at lower quantities than other objects: cotton swabs</span>\n",
    "\n",
    "Cotton swabs are a general purpose hygiene item that is commonplace in most households. GPI are a specialized product used in the manufacturing industry. In most cases cotton swabs are introduced into the river bassin by users flushing them down the toilet. GPI are introduced because of mishandling during transport or use.\n",
    "\n",
    "\n",
    "An elevated fail rate is the key indicator for determining how often an object is found. Cotton swabs are found more often than GPI, both nationally and in all river bassins surveyed, but the % of total of GPI is greater nationally and in 3/4 of the river bassins surveyed (with the exception of Ticino).\n",
    "An elevated fail rate is the key indicator for determining how often an object is found. Cotton swabs are found more often than GPI, both nationally and in all river bassins surveyed, but the % of total of GPI is greater nationally and in 3/4 of the river bassins surveyed (with the exception of Ticino).\n",
    "\n"
   ]
  },
  {
   "cell_type": "code",
   "execution_count": null,
   "metadata": {},
   "outputs": [],
   "source": []
  },
  {
   "cell_type": "code",
   "execution_count": 20,
   "metadata": {},
   "outputs": [
    {
     "ename": "NameError",
     "evalue": "name 'heat_map_data' is not defined",
     "output_type": "error",
     "traceback": [
      "\u001b[0;31m---------------------------------------------------------------------------\u001b[0m",
      "\u001b[0;31mNameError\u001b[0m                                 Traceback (most recent call last)",
      "\u001b[0;32m<ipython-input-20-5cfeafe29730>\u001b[0m in \u001b[0;36m<module>\u001b[0;34m\u001b[0m\n\u001b[1;32m      1\u001b[0m \u001b[0mfig\u001b[0m\u001b[0;34m,\u001b[0m \u001b[0max\u001b[0m \u001b[0;34m=\u001b[0m \u001b[0mplt\u001b[0m\u001b[0;34m.\u001b[0m\u001b[0msubplots\u001b[0m\u001b[0;34m(\u001b[0m\u001b[0mfigsize\u001b[0m\u001b[0;34m=\u001b[0m\u001b[0;34m(\u001b[0m\u001b[0;36m9\u001b[0m\u001b[0;34m,\u001b[0m\u001b[0;36m9\u001b[0m\u001b[0;34m)\u001b[0m\u001b[0;34m)\u001b[0m\u001b[0;34m\u001b[0m\u001b[0;34m\u001b[0m\u001b[0m\n\u001b[1;32m      2\u001b[0m \u001b[0;34m\u001b[0m\u001b[0m\n\u001b[0;32m----> 3\u001b[0;31m \u001b[0msns\u001b[0m\u001b[0;34m.\u001b[0m\u001b[0mheatmap\u001b[0m\u001b[0;34m(\u001b[0m\u001b[0mdata\u001b[0m\u001b[0;34m=\u001b[0m\u001b[0mheat_map_data\u001b[0m\u001b[0;34m,\u001b[0m \u001b[0max\u001b[0m \u001b[0;34m=\u001b[0m \u001b[0max\u001b[0m\u001b[0;34m,\u001b[0m \u001b[0mcmap\u001b[0m\u001b[0;34m=\u001b[0m\u001b[0;34m'YlOrRd'\u001b[0m\u001b[0;34m,\u001b[0m \u001b[0mlinewidth\u001b[0m\u001b[0;34m=\u001b[0m\u001b[0;36m.01\u001b[0m\u001b[0;34m,\u001b[0m \u001b[0mlinecolor\u001b[0m\u001b[0;34m=\u001b[0m\u001b[0;34m'white'\u001b[0m\u001b[0;34m,\u001b[0m \u001b[0mannot\u001b[0m\u001b[0;34m=\u001b[0m\u001b[0;32mTrue\u001b[0m\u001b[0;34m,\u001b[0m \u001b[0msquare\u001b[0m\u001b[0;34m=\u001b[0m\u001b[0;32mTrue\u001b[0m\u001b[0;34m,\u001b[0m \u001b[0mfmt\u001b[0m\u001b[0;34m=\u001b[0m\u001b[0;34m\".0%\"\u001b[0m\u001b[0;34m,\u001b[0m \u001b[0mcbar\u001b[0m\u001b[0;34m=\u001b[0m\u001b[0;32mFalse\u001b[0m\u001b[0;34m)\u001b[0m\u001b[0;34m\u001b[0m\u001b[0;34m\u001b[0m\u001b[0m\n\u001b[0m\u001b[1;32m      4\u001b[0m \u001b[0;34m\u001b[0m\u001b[0m\n\u001b[1;32m      5\u001b[0m \u001b[0max\u001b[0m\u001b[0;34m.\u001b[0m\u001b[0mset_ylabel\u001b[0m\u001b[0;34m(\u001b[0m\u001b[0;34m\"\"\u001b[0m\u001b[0;34m)\u001b[0m\u001b[0;34m\u001b[0m\u001b[0;34m\u001b[0m\u001b[0m\n",
      "\u001b[0;31mNameError\u001b[0m: name 'heat_map_data' is not defined"
     ]
    },
    {
     "data": {
      "image/png": "[encoded data removed]",
      "text/plain": [
       "<Figure size 648x648 with 1 Axes>"
      ]
     },
     "metadata": {
      "needs_background": "light"
     },
     "output_type": "display_data"
    }
   ],
   "source": [
    "fig, ax = plt.subplots(figsize=(9,9))\n",
    "\n",
    "sns.heatmap(data=heat_map_data, ax = ax, cmap='YlOrRd', linewidth=.01, linecolor='white', annot=True, square=True, fmt=\".0%\", cbar=False)\n",
    "\n",
    "ax.set_ylabel(\"\")\n",
    "ax.set_xlabel(\"\", loc='left', labelpad=50)\n",
    "labels = [a_label.get_text().split('-') for a_label in ax.get_xticklabels()]\n",
    "new_labels = [x[-1] for x in labels]\n",
    "ax.set_xticklabels(new_labels)\n",
    "\n",
    "plt.tight_layout()\n",
    "\n",
    "plt.show()\n",
    "plt.close()"
   ]
  },
  {
   "cell_type": "code",
   "execution_count": null,
   "metadata": {},
   "outputs": [],
   "source": [
    "# make heat map data\n",
    "# print(cc_feat_bg.columns)\n",
    "heat_map_data = cc_feat_bg[['river_bassin', 'code', 'pcs_m']].pivot(index='code', columns='river_bassin').sort_values(by=\"code\", ascending=False)\n",
    "\n",
    "# flatten columns\n",
    "heat_map_data.columns = heat_map_data.columns.get_level_values(1)\n",
    "\n",
    "# apply the index order\n",
    "heat_map_data = heat_map_data.reindex(index_order)"
   ]
  },
  {
   "cell_type": "code",
   "execution_count": null,
   "metadata": {},
   "outputs": [],
   "source": [
    "\n",
    "\n",
    "fig, ax = plt.subplots(figsize=(9,9))\n",
    "\n",
    "sns.heatmap(data=heat_map_data, ax = ax, cmap='YlOrRd', linewidth=.01, linecolor='white', annot=True, square=True, fmt=\".2\", cbar=False)\n",
    "\n",
    "ax.set_ylabel(\"\")\n",
    "ax.set_xlabel(\"\", loc='left', labelpad=50)\n",
    "labels = [a_label.get_text().split('-') for a_label in ax.get_xticklabels()]\n",
    "new_labels = [x[-1] for x in labels]\n",
    "ax.set_xticklabels(new_labels)\n",
    "\n",
    "plt.tight_layout()\n",
    "\n",
    "plt.show()\n",
    "plt.close()\n"
   ]
  },
  {
   "cell_type": "markdown",
   "metadata": {},
   "source": [
    "### <span style=\"color:#008891\">The major code groups</span>\n",
    "\n",
    "The code groups were based on the objects found, the experience of surveyors and discussions with stakeholders from the federal government and NGOS with a long history of monitoring and removing trash from a variety of environments.\n",
    "\n",
    "__What do code groups mean:__ They describe the __probable__ source activity of an object\n",
    "\n",
    "__How to use them:__ Identify areas or zones of land use that encourage use of the object\n",
    "\n",
    "__Why is this important:__ Helps identify sectors or groups that could benefit from outreach"
   ]
  },
  {
   "cell_type": "markdown",
   "metadata": {},
   "source": [
    "### <span style=\"color:#008891\">Key indicators of the major code groups</span>\n",
    "\n",
    "Objects related to food consumption replace tobacco products and foams as the most abundant objects. Foams, folded into the construction category, are in 2nd followed by tobacco.\n",
    "\n",
    "For these larger groups the pcs range (.003 - 0.2) is greater greater than the top ten list ( but the find rates for each group are more consolididated. is remains very similar to the \n",
    "\n",
    "\n"
   ]
  },
  {
   "cell_type": "code",
   "execution_count": null,
   "metadata": {},
   "outputs": [],
   "source": [
    "# calculate the fail rates at this aggregation level\n",
    "group_fail_rates = a_data.groupby(['loc_date', 'groupname'], as_index=False).quantity.sum()\n",
    "group_fail_rates['found'] = group_fail_rates.quantity > 0 \n",
    "group_fail_rates = group_fail_rates.groupby('groupname').found.sum()\n",
    "\n",
    "# make a group summary\n",
    "group_summary = a_data.groupby('groupname').agg({'pcs_m':'mean', 'quantity':'sum',  'loc_date':'nunique'})\n",
    "group_summary['found'] = group_summary.index.map(lambda x:group_fail_rates.loc[x] )\n",
    "group_summary['find rate'] = group_summary.found/group_summary.loc_date\n",
    "group_summary['% of total'] = group_summary.quantity/group_summary.quantity.sum()\n",
    "group_summary = group_summary[['quantity', 'pcs_m', '% of total', 'find rate']].sort_values(by='quantity',ascending=False)\n",
    "\n",
    "\n",
    "print(\"\\nThis is the survey results aggregated to groupname for each survey, all locations:\\n\\n\")\n",
    "group_summary.round(3)"
   ]
  },
  {
   "cell_type": "markdown",
   "metadata": {},
   "source": [
    "#### <span style=\"color:#008891\"> Fail rate: how often the major code groups were indentified at each lake</span>\n",
    "\n",
    "Compare the fail rate at the lake level to that of the national level."
   ]
  },
  {
   "cell_type": "code",
   "execution_count": null,
   "metadata": {},
   "outputs": [],
   "source": [
    "aggs = {'pcs_m':'sum', 'quantity':'sum'}\n",
    "groups = {'quantity_level':'river_bassin', 'columns': ['river_bassin','loc_date', 'groupname']}\n",
    "\n",
    "\n",
    "# def make_a_group_summary(adf, groups={}, aggs={}):\n",
    "#     som_data = adf.groupby(groups['columns'], as_index=False).agg(aggs)\n",
    "#     som_data['fail'] = som_data.quantity > 0\n",
    "#     a_quantity = som_data.groupby(groups['quantity_level']).quantity.sum()\n",
    "#     return som_data, a_quantity\n",
    "\n",
    "feature_group_summary, a_quantity = make_a_group_summary(a_data, groups=groups, aggs=aggs)\n",
    "# feature_group_summary"
   ]
  },
  {
   "cell_type": "code",
   "execution_count": null,
   "metadata": {},
   "outputs": [],
   "source": [
    "# sum up failures, tries and quantity, get the mean value for pcs_m\n",
    "aggs = {'pcs_m':'mean', 'quantity':'sum', 'loc_date':'nunique', 'fail':'sum'}\n",
    "groups = {'quantity_level':'river_bassin', 'columns': ['river_bassin','groupname']}\n",
    "rates = [\n",
    "    {'rate_name':'fail rate','columns':{'this':'fail', 'over_that':'loc_date'}},\n",
    "    {'rate_name':'% of total', 'columns':{'this':'quantity', 'over_that':'feature_total'}},\n",
    "]\n",
    "\n",
    "products = [\n",
    "     {'rate_name':'rating', 'columns':{'this':'pcs_m', 'times_that':'fail rate'}}    \n",
    "]\n",
    "\n",
    "# def calculate_rates(adf, groups={}, aggs={}, rates={}, products={}):\n",
    "#     fgs = adf.groupby(groups['columns'], as_index=False).agg(aggs)\n",
    "#     fgs['feature_total'] = fgs[groups['quantity_level']].map(lambda x: a_quantity.loc[x])\n",
    "#     for rate in rates:\n",
    "#         fgs[rate['rate_name']] = fgs[rate['columns']['this']]/fgs[rate['columns']['over_that']]\n",
    "#     for product in products:\n",
    "#         fgs[product['rate_name']]= fgs[product['columns']['this']]*fgs[product['columns']['times_that']]\n",
    "#     return fgs\n",
    "\n",
    "fgs = calculate_rates(feature_group_summary, groups=groups, aggs=aggs, rates=rates)\n",
    "\n",
    "fgs_rating = fgs[['river_bassin','groupname','% of total']].round(3).pivot(index='groupname', columns='river_bassin')\n",
    "fgs_rating.columns = fgs_rating.columns.get_level_values(1)"
   ]
  },
  {
   "cell_type": "code",
   "execution_count": null,
   "metadata": {},
   "outputs": [],
   "source": [
    "fig, ax = plt.subplots(figsize=(9,11))\n",
    "sns.heatmap(data=fgs_rating, ax = ax, cmap='YlOrRd', linewidth=.01, linecolor='white', annot=True, square=True, fmt=\".0%\", cbar=False)\n",
    "\n",
    "ax.set_ylabel(\"\")\n",
    "ax.set_xlabel(\"\", loc='left', labelpad=50)\n",
    "labels = [a_label.get_text().split('-') for a_label in ax.get_xticklabels()]\n",
    "new_labels = [x[-1] for x in labels]\n",
    "ax.set_xticklabels(new_labels)\n",
    "\n",
    "\n",
    "plt.tight_layout()\n",
    "\n",
    "plt.show()\n",
    "plt.close()"
   ]
  },
  {
   "cell_type": "markdown",
   "metadata": {},
   "source": [
    "#### <span style=\"color:#008891\">Pieces per meter: the density of the major code groups for each lake</span>\n",
    "\n",
    "Compare the fail rate at the lake level to that of the national level."
   ]
  },
  {
   "cell_type": "code",
   "execution_count": null,
   "metadata": {},
   "outputs": [],
   "source": [
    "# format for the heat map\n",
    "fgs_rating = fgs[['river_bassin','groupname','pcs_m']].round(3).pivot(index='groupname', columns='river_bassin')\n",
    "fgs_rating.columns = fgs_rating.columns.get_level_values(1)\n",
    "\n",
    "fig, ax = plt.subplots(figsize=(9,11))\n",
    "sns.heatmap(data=fgs_rating, ax = ax, cmap='YlOrRd', linewidth=.01, linecolor='white', annot=True, square=True, fmt=\".2\", cbar=False)\n",
    "\n",
    "ax.set_ylabel(\"\")\n",
    "ax.set_xlabel(\"\", loc='left', labelpad=50)\n",
    "labels = [a_label.get_text().split('-') for a_label in ax.get_xticklabels()]\n",
    "new_labels = [x[-1] for x in labels]\n",
    "ax.set_xticklabels(new_labels)\n",
    "\n",
    "\n",
    "plt.tight_layout()\n",
    "\n",
    "plt.show()\n",
    "plt.close()"
   ]
  },
  {
   "cell_type": "markdown",
   "metadata": {},
   "source": [
    "#### <span style=\"color:#008891\">The top ten results for each water feature</span>"
   ]
  },
  {
   "cell_type": "code",
   "execution_count": null,
   "metadata": {},
   "outputs": [],
   "source": []
  },
  {
   "cell_type": "code",
   "execution_count": null,
   "metadata": {},
   "outputs": [],
   "source": [
    "a_group_summary = a_data.groupby('groupname', as_index=False).agg({\"quantity\":\"sum\", \"pcs_m\":\"mean\"})\n",
    "a_group_summary['% of total'] = a_group_summary.quantity/a_group_summary.quantity.sum()*100\n",
    "\n",
    "a_group_summary.round(2)"
   ]
  },
  {
   "cell_type": "markdown",
   "metadata": {},
   "source": [
    "## <span style=\"color:#008891\">For the catchment area: assign code groups, regional labels and daily totals for survey data from the catchment area:</span>"
   ]
  },
  {
   "cell_type": "code",
   "execution_count": null,
   "metadata": {},
   "outputs": [],
   "source": [
    "river_bassins['linth']"
   ]
  },
  {
   "cell_type": "code",
   "execution_count": null,
   "metadata": {},
   "outputs": [],
   "source": [
    "dfBeaches['river_bassin']"
   ]
  },
  {
   "cell_type": "code",
   "execution_count": null,
   "metadata": {},
   "outputs": [],
   "source": [
    "a_name='linth'\n",
    "clas_kwargs = dict(\n",
    "    code_group_data=group_names_locations,\n",
    "    new_code_group=frag_plas,\n",
    "    levels=['river_bassin', 'water_name_slug', 'city'],\n",
    "    catchment_features = river_bassins[a_name],\n",
    "    catchment_name=a_name,\n",
    "    end_date=end_date,\n",
    "    start_date=start_date,\n",
    "    code_group_loc=output,\n",
    "    catchment_cols=['river_bassin','water_name_slug','type','city','loc_date', 'location', 'date']\n",
    ")\n",
    "\n",
    "\n",
    "\n",
    "b = ac.CatchmentArea(a.processed, dfBeaches, **clas_kwargs)"
   ]
  },
  {
   "cell_type": "code",
   "execution_count": null,
   "metadata": {},
   "outputs": [],
   "source": [
    "b.bassin_data[b.bassin_data.river_bassin == 'no data']"
   ]
  },
  {
   "cell_type": "code",
   "execution_count": null,
   "metadata": {},
   "outputs": [],
   "source": [
    "for a_name in river_bassins:\n",
    "    print(a_name)"
   ]
  },
  {
   "cell_type": "code",
   "execution_count": null,
   "metadata": {},
   "outputs": [],
   "source": [
    "rbDfs = {}\n",
    "for a_name in river_bassins:\n",
    "    catchment_features = river_bassins[k]\n",
    "    levels = ['river_bassin', 'water_name_slug', 'city']\n",
    "    catchment_cols = ['river_bassin','water_name_slug','type','city','loc_date', 'location', 'date']\n",
    "    catchment_name = a_name\n",
    "    clas_kwargs.update({'catchement_featrures':catchment_features, 'levels':levels, \"catchment_cols\":catchment_cols,\"catchment_name\":catchment_name})\n",
    "    rbDfs.update({a_name:ac.CatchmentArea(a.processed, dfBeaches, **clas_kwargs)})"
   ]
  },
  {
   "cell_type": "code",
   "execution_count": null,
   "metadata": {},
   "outputs": [],
   "source": [
    "rbDfs['ticino'].bassin_data"
   ]
  },
  {
   "cell_type": "code",
   "execution_count": null,
   "metadata": {},
   "outputs": [],
   "source": [
    "som_bassin_data = b.bassin_data.copy()\n",
    "\n",
    "# mark all the records that have quantity > 0\n",
    "som_bassin_data['fail'] = som_bassin_data.quantity > 0\n",
    "som_bassin_data = som_bassin_data[som_bassin_data.columns[1:]]\n",
    "print(F\"\\nThe columns from the survey data:\\n\\n{som_bassin_data.columns}\\n\")"
   ]
  },
  {
   "cell_type": "markdown",
   "metadata": {},
   "source": [
    "#### <span style=\"color:#008891\">Get the dimensional data for the catchment area:</span>"
   ]
  },
  {
   "cell_type": "markdown",
   "metadata": {},
   "source": [
    "### <span style=\"color:#008891\"> Get sample rates at the code level:</span>"
   ]
  },
  {
   "cell_type": "code",
   "execution_count": null,
   "metadata": {},
   "outputs": [],
   "source": [
    "# map number of samples per location and sample total to each record\n",
    "\n",
    "def add_attribute(x, a_map={}):\n",
    "    try:\n",
    "        num_samps = a_map[x]\n",
    "    except:\n",
    "        num_samps = 0\n",
    "    return num_samps\n",
    "\n",
    "# conut the number of samples per location\n",
    "num_samp_location = b.bassin_pcsm_day.groupby('location').loc_date.count()\n",
    "\n",
    "# retrieve the total quantity per sample\n",
    "qty_sample = b.bassin_pcsm_day.groupby('loc_date').quantity.sum()"
   ]
  },
  {
   "cell_type": "code",
   "execution_count": null,
   "metadata": {},
   "outputs": [],
   "source": [
    "# map values to bassin data\n",
    "\n",
    "# the number of samples at a location\n",
    "for beach in som_bassin_data.location.unique():\n",
    "    som_bassin_data.loc[som_bassin_data.location==beach, 'nsamps'] = add_attribute(beach, a_map=num_samp_location)\n",
    "\n",
    "# the number of samples at a location divided by the total number of samples\n",
    "# som_bassin_data['l_weight'] = som_bassin_data.nsamps/len(som_bassin_data.loc_date.unique())\n",
    "\n",
    "# the survey total for the corresponding loc_date variable\n",
    "for loc_date in som_bassin_data.loc_date.unique():\n",
    "    som_bassin_data.loc[som_bassin_data.loc_date==loc_date, 'samp_total'] = qty_sample[[loc_date]][0]\n",
    "\n",
    "# the % of total for that object for the survey defined by loc_date\n",
    "som_bassin_data['sample_% _of_total'] = som_bassin_data.quantity/som_bassin_data.samp_total"
   ]
  },
  {
   "cell_type": "code",
   "execution_count": null,
   "metadata": {},
   "outputs": [],
   "source": [
    "def save_describe(x):\n",
    "    data=x.describe()\n",
    "    return data.values\n",
    "\n",
    "# save the key values from the original data:\n",
    "q_before = save_describe(som_bassin_data.quantity)\n",
    "pc_befor = save_describe(som_bassin_data.pcs_m)\n",
    "print(som_bassin_data.quantity.sum())"
   ]
  },
  {
   "cell_type": "code",
   "execution_count": null,
   "metadata": {},
   "outputs": [],
   "source": [
    "# rank the quantity found of each code in each survey for all locations\n",
    "ranked = []\n",
    "\n",
    "# the loc_date values to aggregate:\n",
    "locs = som_bassin_data.loc_date.unique()\n",
    "\n",
    "# for each value in loc_date:\n",
    "sbd = som_bassin_data.copy()\n",
    "for a_samp in locs:\n",
    "    # sort the values for each survey by \n",
    "    sbdl = sbd[sbd.loc_date == a_samp].sort_values(by='quantity', ascending=False)\n",
    "    sbdl = sbdl.set_index(np.arange(1, len(sbdl)+1), drop=True)\n",
    "    sbdl['sample_rank'] = sbdl.index\n",
    "    ranked.append(sbdl)\n",
    "    \n",
    "# new data with amplitude rankings for each record\n",
    "sbd = pd.concat(ranked, ignore_index=True)\n",
    "\n",
    "# check the key values before and after:\n",
    "print(q_before == sbd.quantity.describe().values)\n",
    "print(sbd.quantity.sum())\n",
    "print(pc_befor == sbd.pcs_m.describe().values)\n"
   ]
  },
  {
   "cell_type": "code",
   "execution_count": null,
   "metadata": {},
   "outputs": [],
   "source": [
    "sbd.columns"
   ]
  },
  {
   "cell_type": "code",
   "execution_count": null,
   "metadata": {},
   "outputs": [],
   "source": [
    "sbd.head()"
   ]
  },
  {
   "cell_type": "code",
   "execution_count": null,
   "metadata": {},
   "outputs": [],
   "source": [
    "# the top ten for the catchment area:\n",
    "catchment_top_ten = sbd.groupby('code').quantity.sum().sort_values(ascending=False)\n",
    "print(F\"\\n objects grouped by code and sorted by quantity found:\\n\\n{catchment_top_ten[:10]}\\n\")"
   ]
  },
  {
   "cell_type": "code",
   "execution_count": null,
   "metadata": {},
   "outputs": [],
   "source": [
    "print(\"\\n objects grouped by code and sorted by median pcs-m: \\n\\n\")\n",
    "sbd[sbd.quantity > 0].groupby(['code']).pcs_m.median().sort_values(ascending=False)[:10]"
   ]
  },
  {
   "cell_type": "code",
   "execution_count": null,
   "metadata": {},
   "outputs": [],
   "source": [
    "print(\"\\n objects grouped by code and sorted by quantity found: \\n\\n\")\n",
    "sbd[sbd.quantity > 0].groupby(['code']).quantity.sum().sort_values(ascending=False)[:10]"
   ]
  },
  {
   "cell_type": "code",
   "execution_count": null,
   "metadata": {},
   "outputs": [],
   "source": [
    "print(\"\\n objects grouped by code and sorted by number of times at least one was found: \\n\\n\")\n",
    "sbd[sbd.quantity > 0].groupby(['code']).fail.sum().sort_values(ascending=False)[:10]"
   ]
  },
  {
   "cell_type": "markdown",
   "metadata": {},
   "source": [
    "### Sample rank: how much of the sample total was taken up by this object analogous to % of sample total"
   ]
  },
  {
   "cell_type": "code",
   "execution_count": null,
   "metadata": {},
   "outputs": [],
   "source": [
    "print(\"\\n objects grouped by water feature and code, sorted by frequency of sample ranking: \\n\\n\")\n",
    "sbd[sbd.quantity > 0].groupby(['water_name_slug','code', 'sample_rank'], as_index=False).loc_date.nunique().sort_values(by='loc_date', ascending=False)"
   ]
  },
  {
   "cell_type": "code",
   "execution_count": null,
   "metadata": {},
   "outputs": [],
   "source": [
    "print(\"\\n objects grouped by water feature and code, sorted by quantity found: \\n\\n\")\n",
    "sbd[sbd.quantity > 0].groupby(['water_name_slug','code'], as_index=False).quantity.sum().sort_values(by='quantity', ascending=False)"
   ]
  },
  {
   "cell_type": "code",
   "execution_count": null,
   "metadata": {},
   "outputs": [],
   "source": [
    "print(\"\\n objects grouped by water feature and code, sorted by median pcs_m: \\n\\n\")\n",
    "sbd[sbd.quantity > 0].groupby(['water_name_slug','code'], as_index=False).pcs_m.median().sort_values(by='pcs_m', ascending=False)"
   ]
  },
  {
   "cell_type": "markdown",
   "metadata": {},
   "source": [
    "### Get sample rates at the group level:"
   ]
  },
  {
   "cell_type": "code",
   "execution_count": null,
   "metadata": {},
   "outputs": [],
   "source": [
    "def calculate_fail(x):\n",
    "    a_q = x.sum()\n",
    "    if a_q > 0:\n",
    "        data = True\n",
    "    else:\n",
    "        data = False\n",
    "    return data"
   ]
  },
  {
   "cell_type": "code",
   "execution_count": null,
   "metadata": {},
   "outputs": [],
   "source": [
    "sbd_g = sbd.groupby(['water_name_slug', 'type', 'loc_date', 'date', 'location', 'groupname', 'nsamps', 'samp_total'], as_index=False).agg({'quantity':'sum', 'pcs_m':'sum', 'fail':calculate_fail})\n",
    "\n",
    "sbd_g_ranked = []\n",
    "for a_samp in locs:\n",
    "    # sort the values for each survey by \n",
    "    sbdl = sbd_g.loc[sbd_g.loc_date==a_samp].sort_values(by='quantity', ascending=False)\n",
    "    sbdl = sbdl.set_index(np.arange(1, len(sbdl)+1), drop=True)\n",
    "    sbdl['sample_rank'] = sbdl.index\n",
    "    sbd_g_ranked.append(sbdl)\n",
    "sbd_g_ranked[0]\n",
    "sbd_gr = pd.concat(sbd_g_ranked, ignore_index=True)\n",
    "sbd_gr.head()"
   ]
  },
  {
   "cell_type": "code",
   "execution_count": null,
   "metadata": {},
   "outputs": [],
   "source": [
    "fd = sbd_gr[(sbd_gr.water_name_slug=='Bielersee')&(sbd_gr.sample_rank==1)].groupby('groupname').sample_rank.sum()\n",
    "fd.sum()\n",
    "print(fd)"
   ]
  },
  {
   "cell_type": "code",
   "execution_count": null,
   "metadata": {},
   "outputs": [],
   "source": [
    "sbd_gr[sbd_gr.water_name_slug == 'Aare'].groupby(['water_name_slug','groupname', 'sample_rank'], as_index=False).loc_date.nunique()"
   ]
  },
  {
   "cell_type": "code",
   "execution_count": null,
   "metadata": {},
   "outputs": [],
   "source": [
    "other_number_one_ranks = rank_and_code[rank_and_code['rank'] == 1].groupby(['code','location'], as_index=False).n_times.sum()\n",
    "print(F\"Codes and the number of times that they have been the number one item at a survey\\n{other_number_one_ranks.groupby('code').n_times.sum().sort_values(ascending=False)}\")"
   ]
  },
  {
   "cell_type": "code",
   "execution_count": null,
   "metadata": {},
   "outputs": [],
   "source": [
    "# project directory is 'output/bielsummary'\n",
    "sbd_ranked.to_csv(F\"{project_directory}/aare_codes_ranked.csv\")"
   ]
  },
  {
   "cell_type": "code",
   "execution_count": null,
   "metadata": {},
   "outputs": [],
   "source": [
    "these_codes = ['G27', 'G30','G25', 'G81', 'G95', 'G67','G82']"
   ]
  },
  {
   "cell_type": "code",
   "execution_count": null,
   "metadata": {},
   "outputs": [],
   "source": [
    "# grouped by survey and code group\n",
    "sbd_ranked_gs = som_bassin_data.groupby(['loc_date','groupname','location', 'population'], as_index=False).agg({'pcs_m':'sum', 'quantity':'sum'})\n",
    "\n",
    "sbd_ranked_gs['% of total'] = sbd_ranked_gs.apply(lambda x: x.quantity/qty_sample[x.loc_date], axis=1)\n",
    "# save the key values from the original data:\n",
    "q_before = save_describe(sbd_ranked_gs.quantity)\n",
    "pc_befor = save_describe(sbd_ranked_gs.pcs_m)\n",
    "print(sbd_ranked_gs.quantity.sum())"
   ]
  },
  {
   "cell_type": "code",
   "execution_count": null,
   "metadata": {},
   "outputs": [],
   "source": [
    "ranked = []\n",
    "for a_samp in locs:\n",
    "    sbdl = sbd_ranked_gs[sbd_ranked_gs.loc_date == a_samp].sort_values(by='% of total', ascending=False)\n",
    "    sbdl = sbdl.set_index(np.arange(1, len(sbdl)+1), drop=True)\n",
    "    sbdl['rank'] = sbdl.index\n",
    "    ranked.append(sbdl)\n",
    "    \n",
    "sbd_ranked_gs = pd.concat(ranked, ignore_index=True)\n",
    "\n",
    "# check the key values before and after:\n",
    "print(\"Check that the survey values have not been altered:\\n\")\n",
    "print(q_before == sbd_ranked_gs.quantity.describe().values)\n",
    "print(pc_befor == sbd_ranked_gs.pcs_m.describe().values)\n",
    "\n",
    "# check the % of total\n",
    "print(F\"\\nCheck % of total: {sbd_ranked_gs.groupby('loc_date')['% of total'].sum().sum()}\\n\")\n",
    "print(F\"The number of SURVEYS where ALL TOBACCO items combined are rank one: {sbd_ranked_gs[(sbd_ranked_gs.groupname == 'tobacco')&(sbd_ranked_gs['rank'] == 1)].loc_date.nunique()}\\n\")\n",
    "\n",
    "print(F\"All TOBACCO items combined were number one in {np.round((sbd_ranked_gs[(sbd_ranked_gs.groupname == 'tobacco')&(sbd_ranked_gs['rank'] == 1)].loc_date.nunique()/sbd_ranked_gs.loc_date.nunique())*100,0)}% of the surveys.\")\n",
    "print(F\"\\nThe number of locations that tobaco is rank one: {sbd_ranked_gs[(sbd_ranked_gs.groupname == 'tobacco')&(sbd_ranked_gs['rank'] == 1)].location.nunique()}\\n\")\n",
    "print(F\"The objects labeled tobacco:\\n{sbd_ranked[sbd_ranked.groupname == 'tobacco'].code.unique()}\")"
   ]
  },
  {
   "cell_type": "code",
   "execution_count": null,
   "metadata": {},
   "outputs": [],
   "source": [
    "f = sbd_ranked_gs.groupby(['rank','groupname','location'], as_index=False).loc_date.nunique()\n",
    "fx = f[f['rank'] == 1].groupby('groupname').loc_date.sum()\n",
    "print(F\"\\nThe number of samples: {fx.sum()}\\n\")\n",
    "print(F\"Other groups and the number of times they have been the most prevalent item:\\n{fx.sort_values(ascending=False)}\\n\")"
   ]
  },
  {
   "cell_type": "code",
   "execution_count": null,
   "metadata": {},
   "outputs": [],
   "source": [
    "# get the pass fail rate for each water feature\n",
    "\n",
    "# the total number of tries:\n",
    "tries_t = som_bassin_data.groupby(['water_name_slug', 'code']).loc_date.nunique()\n",
    "\n",
    "# the total number of times that the object was found for a particular water feature\n",
    "fails_b = som_bassin_data.groupby(['water_name_slug','code']).fail.sum()\n",
    "\n",
    "# the total number of samples:\n",
    "n_samps_b = som_bassin_data.groupby(['water_name_slug']).loc_date.nunique()"
   ]
  },
  {
   "cell_type": "code",
   "execution_count": null,
   "metadata": {},
   "outputs": [],
   "source": [
    "# get all values greater than zero for each code and LOCATION\n",
    "grtr_than_zero = som_bassin_data[(som_bassin_data.quantity > 0)].groupby(['code', 'location'], as_index=False).loc_date.count()\n",
    "\n",
    "# weight the result by the sum of the loc_date column\n",
    "grtr_than_zero['weight'] = grtr_than_zero.loc_date/grtr_than_zero.loc_date.sum()\n",
    "\n",
    "# housekeeping\n",
    "som_data = som_bassin_data.copy()\n",
    "\n",
    "# get a list of the codes that were found at least once\n",
    "codes_in_use = grtr_than_zero.code.unique()"
   ]
  },
  {
   "cell_type": "code",
   "execution_count": null,
   "metadata": {},
   "outputs": [],
   "source": [
    "# combine the tries and fails dfs for each water feature\n",
    "tries_fails_b = pd.concat([tries_t, fails_b], axis=1)\n",
    "tries_fails_b.reset_index(inplace=True)"
   ]
  },
  {
   "cell_type": "code",
   "execution_count": null,
   "metadata": {},
   "outputs": [],
   "source": [
    "tries_fails_b.iloc[:3]"
   ]
  },
  {
   "cell_type": "code",
   "execution_count": null,
   "metadata": {},
   "outputs": [],
   "source": [
    "# get the ratio of total tries per code and location to total number of samples for that feature\n",
    "for a_b in tries_fails_b.water_name_slug.unique():\n",
    "    tries_fails_b.loc[tries_fails_b.water_name_slug==a_b, 'rate'] = tries_fails_b.fail/n_samps_b.loc[a_b]\n",
    "\n",
    "tries_fails_b.iloc[:3]"
   ]
  },
  {
   "cell_type": "code",
   "execution_count": null,
   "metadata": {},
   "outputs": [],
   "source": [
    "# the minimum rate is 1/ the current sample number + 1\n",
    "# we are assuming that if the object has never been found before there\n",
    "# is always a chance that we may find it on the next sample\n",
    "# the longer we go without finding it the less likely it is to find in the river basin\n",
    "# which means that once it has been identified this should be considered a significant event.\n",
    "rate_min = 1/(len(a.processed.loc_date.unique())+1)\n",
    "rate_min"
   ]
  },
  {
   "cell_type": "code",
   "execution_count": null,
   "metadata": {},
   "outputs": [],
   "source": [
    "tries_fails_b.loc[tries_fails_b.fail==0, 'min_rate'] = rate_min\n",
    "tries_fails_b.loc[tries_fails_b.fail>0, 'min_rate'] = tries_fails_b.rate\n",
    "tries_fails_b.iloc[:3]"
   ]
  },
  {
   "cell_type": "code",
   "execution_count": null,
   "metadata": {},
   "outputs": [],
   "source": [
    "# get the ratio samples-per-location/number-samples-catchment-area\n",
    "weights = tries_fails_b[['water_name_slug', 'loc_date']].drop_duplicates().set_index('water_name_slug', drop=True)\n",
    "weights['location_weight'] = weights.loc_date/len(locs)\n",
    "nsamps = weights.loc['Aare', :]\n",
    "\n",
    "# now the number of samples and the weight is available\n",
    "nsamps"
   ]
  },
  {
   "cell_type": "code",
   "execution_count": null,
   "metadata": {},
   "outputs": [],
   "source": [
    "# pull some samples from one river basin feature\n",
    "feature = 'Aare'\n",
    "n = weights.loc['Aare', 'loc_date']\n",
    "rates = tries_fails_b.loc[tries_fails_b.water_name_slug == 'Aare'][['code','min_rate']].set_index('code')\n",
    "\n",
    "# store the samples here\n",
    "theta_samples_feature = pd.DataFrame(index=codes_in_use)"
   ]
  },
  {
   "cell_type": "code",
   "execution_count": null,
   "metadata": {},
   "outputs": [],
   "source": [
    "rates.loc['G27'].values"
   ]
  },
  {
   "cell_type": "code",
   "execution_count": null,
   "metadata": {},
   "outputs": [],
   "source": [
    "# determine wehter or not an object was found at a survey\n",
    "# use the rates for the parameter of a bernouli trial for each code\n",
    "\n",
    "k=0\n",
    "for j in np.arange(n):\n",
    "    k+=1\n",
    "    col_name = F\"s_{int(k)}\"\n",
    "    for a_code in codes_in_use:\n",
    "        theta_samples_feature.loc[a_code, col_name ] = bernoulli.rvs(rates.loc[a_code], size=1)\n",
    "\n",
    "\n",
    "found_feature = theta_samples_feature > 0\n",
    "codes_found_feature = [found_feature[found_feature[s_one] == True][s_one].index for s_one in found_feature.columns]\n",
    "codes_found_len_feature = [len(x) for x in codes_found_feature]"
   ]
  },
  {
   "cell_type": "code",
   "execution_count": null,
   "metadata": {},
   "outputs": [],
   "source": [
    "d_samps_aare = b.bassin_data[(b.bassin_data.quantity>0)&(b.bassin_data.water_name_slug == \"Aare\")][['loc_date', 'code']].groupby('loc_date').code.unique().to_numpy()"
   ]
  },
  {
   "cell_type": "code",
   "execution_count": null,
   "metadata": {},
   "outputs": [],
   "source": [
    "# get the number of times each code was found\n",
    "def count_occurences(an_array):\n",
    "    wiw = {}\n",
    "    for a_list in an_array:\n",
    "        for code in a_list:\n",
    "            if code in wiw.keys():\n",
    "                wiw[code] += 1\n",
    "            else:\n",
    "                wiw[code] = 1\n",
    "    return [{'code':k, 'inst':v} for k,v in wiw.items()]\n",
    "theta_codes_count = count_occurences(codes_found_feature)\n",
    "dsamp_aare_count = pd.DataFrame(count_occurences(d_samps_aare)).set_index('code')"
   ]
  },
  {
   "cell_type": "code",
   "execution_count": null,
   "metadata": {},
   "outputs": [],
   "source": [
    "dsamp_aare_count.loc['G7', 'inst']"
   ]
  },
  {
   "cell_type": "code",
   "execution_count": null,
   "metadata": {},
   "outputs": [],
   "source": [
    "# combine the counts in to one dataframe and compare results\n",
    "\n",
    "def combine_code_counts(x):\n",
    "    try:\n",
    "        data = dsamp_aare_count.loc[x, 'inst']\n",
    "    except:\n",
    "        data = 0\n",
    "    return data\n",
    "        \n",
    "theta_codes = pd.DataFrame(theta_codes_count)\n",
    "theta_codes['s_inst'] = theta_codes.code.map(lambda x: combine_code_counts(x))\n",
    "theta_codes['inst_dif'] = theta_codes.inst - theta_codes.s_inst\n",
    "\n",
    "# check the diffference between the two sets\n",
    "print(theta_codes['s_inst'].sum())\n",
    "print(theta_codes['inst'].sum())\n",
    "print(theta_codes.inst_dif.sum())\n",
    "print(len(theta_codes))"
   ]
  },
  {
   "cell_type": "code",
   "execution_count": null,
   "metadata": {},
   "outputs": [],
   "source": [
    "theta_codes[theta_codes.code.isin([x for x in theta_codes.code.unique() if x not in dsamp_aare_count.index])]"
   ]
  },
  {
   "cell_type": "code",
   "execution_count": null,
   "metadata": {},
   "outputs": [],
   "source": [
    "fig, axs = plt.subplots(2,1, figsize=(12,8))\n",
    "sns.barplot(data=theta_codes.sort_values(by='s_inst', ascending=False), x='code', y='s_inst', ax=axs[0])\n",
    "sns.barplot(data=theta_codes.sort_values(by='inst', ascending=False), x='code', y='inst', ax=axs[1])\n",
    "axs[0].tick_params(axis='x', labelrotation=90, labelsize=8)\n",
    "axs[1].tick_params(axis='x', labelrotation=90, labelsize=8)\n",
    "plt.show()\n",
    "plt.close()"
   ]
  },
  {
   "cell_type": "code",
   "execution_count": null,
   "metadata": {},
   "outputs": [],
   "source": [
    "theta_samples_all = pd.DataFrame(index=codes_in_use)\n",
    "tries = som_bassin_data.groupby(['code']).loc_date.nunique()\n",
    "fails = som_bassin_data.groupby('code').fail.sum()\n",
    "# tries_fails by water body\n",
    "\n",
    "# for one body of water\n",
    "#fails_b = som_bassin_data.groupby(['water_name_slug','code']).fail.sum()\n",
    "\n",
    "tries_fails = pd.concat([tries, fails], axis=1)\n",
    "tries_fails['rate'] = tries_fails.fail/tries_fails.loc_date\n",
    "\n",
    "code_weights = grtr_than_zero.groupby('code').weight.sum()"
   ]
  },
  {
   "cell_type": "code",
   "execution_count": null,
   "metadata": {},
   "outputs": [],
   "source": [
    "k = 0\n",
    "for body in weights.index:\n",
    "#     print(body)\n",
    "#     print(tries_fails_b.loc[body].min_rate.sum())\n",
    "    these_rates =tries_fails_b.loc[tries_fails_b.water_name_slug == body][['code','min_rate']].set_index('code')\n",
    "    \n",
    "\n",
    "    for j in np.arange(weights.loc[body]['loc_date']):\n",
    "        k+=1\n",
    "        #print(j, k)\n",
    "        col_name = F\"s_{int(k)} {body}\"\n",
    "        for a_code in codes_in_use:\n",
    "            theta_samples_all.loc[a_code, col_name ] = bernoulli.rvs(these_rates.loc[a_code], size=1)\n",
    "#             theta_samples_all.loc[a_code, col_name ] = binom.rvs(1,these_rates.loc[a_code], size=1)\n",
    "            "
   ]
  },
  {
   "cell_type": "code",
   "execution_count": null,
   "metadata": {},
   "outputs": [],
   "source": [
    "found = theta_samples_all > 0\n",
    "codes_found = [found[found[s_one] == True][s_one].index for s_one in found.columns]\n",
    "codes_found_len = [len(x) for x in codes_found]\n",
    "\n",
    "print(len(codes_found[0]))\n",
    "print(codes_found_len[0])\n",
    "print(len(codes_found))"
   ]
  },
  {
   "cell_type": "code",
   "execution_count": null,
   "metadata": {},
   "outputs": [],
   "source": [
    "tries_fails.iloc[:3]"
   ]
  },
  {
   "cell_type": "code",
   "execution_count": null,
   "metadata": {},
   "outputs": [],
   "source": [
    "# the number of unique codes per sample in the project data:\n",
    "d_samps = b.bassin_data[b.bassin_data.quantity>0][['loc_date', 'code']].groupby('loc_date').code.nunique()\n",
    "\n",
    "# the list of codes found at each survey in the project data:\n",
    "d_samps_c = b.bassin_data[b.bassin_data.quantity>0][['loc_date', 'code']].groupby('loc_date').code.unique().to_numpy()"
   ]
  },
  {
   "cell_type": "code",
   "execution_count": null,
   "metadata": {},
   "outputs": [],
   "source": [
    "def count_occurences(an_array):\n",
    "    wiw = {}\n",
    "    for a_list in an_array:\n",
    "        for code in a_list:\n",
    "            if code in wiw.keys():\n",
    "                wiw[code] += 1\n",
    "            else:\n",
    "                wiw[code] = 1\n",
    "    return [{'code':k, 'inst':v} for k,v in wiw.items()]\n",
    "samp_codes = pd.DataFrame(count_occurences(d_samps_c)).set_index('code')\n"
   ]
  },
  {
   "cell_type": "code",
   "execution_count": null,
   "metadata": {},
   "outputs": [],
   "source": [
    "# a_list_o_list = [value for k, value in samples.items()]\n",
    "# the_list_o_list = [*a_list_o_list]\n",
    "theta_codes = pd.DataFrame(count_occurences(codes_found))\n",
    "theta_codes['s_inst'] = theta_codes.code.map(lambda x: samp_codes.loc[x, 'inst'])\n",
    "theta_codes['inst_dif'] = theta_codes.inst - theta_codes.s_inst"
   ]
  },
  {
   "cell_type": "code",
   "execution_count": null,
   "metadata": {},
   "outputs": [],
   "source": [
    "print(theta_codes['inst_dif'].sum())\n",
    "print(len(theta_codes))\n",
    "print(theta_codes.inst.sum(), theta_codes.s_inst.sum())"
   ]
  },
  {
   "cell_type": "code",
   "execution_count": null,
   "metadata": {},
   "outputs": [],
   "source": [
    "fig, axs = plt.subplots(figsize=(18,8))\n",
    "sns.barplot(data=theta_codes[theta_codes.inst >=20].sort_values(by='s_inst', ascending=False), x='code', y='s_inst', color='red', alpha=.6, ax=axs)\n",
    "sns.barplot(data=theta_codes[theta_codes.inst >=20].sort_values(by='inst', ascending=False), x='code', y='inst', color='blue',alpha=.6, ax=axs)\n",
    "axs.tick_params(axis='x', labelrotation=90, labelsize=10)\n",
    "# axs[1].tick_params(axis='x', labelrotation=90, labelsize=8)\n",
    "plt.show()\n",
    "plt.close()"
   ]
  },
  {
   "cell_type": "code",
   "execution_count": null,
   "metadata": {},
   "outputs": [],
   "source": [
    "\n",
    "fig, axs = plt.subplots(1,2)\n",
    "sns.histplot(codes_found_len, ax=axs[0], binwidth=3)\n",
    "sns.histplot(d_samps.values, ax=axs[1], binwidth=3)\n",
    "plt.show()\n",
    "plt.close()"
   ]
  },
  {
   "cell_type": "code",
   "execution_count": null,
   "metadata": {},
   "outputs": [],
   "source": [
    "# found.rename(columns={x:x.split(\" \")[-1] for x in found.columns}, inplace=True)\n",
    "codes_found = [{'label':s_one.split(\" \")[-1] , 'codes':found[found[s_one] == True][s_one].index.to_numpy()} for s_one in found.columns]\n",
    "# codes_found_len = [len(x) for x in codes_found_feature]\n",
    "a_label = codes_found[1]['label']\n",
    "a_code = codes_found[1]['codes'][0]"
   ]
  },
  {
   "cell_type": "code",
   "execution_count": null,
   "metadata": {},
   "outputs": [],
   "source": [
    "location_weight = som_bassin_data.groupby('water_name_slug', as_index=False).l_weight.median()\n",
    "location_weight.loc[4, 'water_name_slug'] = \"Thièle\""
   ]
  },
  {
   "cell_type": "code",
   "execution_count": null,
   "metadata": {},
   "outputs": [],
   "source": [
    "agg_results_feature = som_bassin_data[som_bassin_data.pcs_m > 0].groupby(['water_name_slug','code']).agg({'pcs_m':['mean', 'min', 'median', 'max']})\n",
    "agg_results_feature.columns = agg_results_feature.columns.get_level_values(1)\n",
    "agg_results_bassin = som_bassin_data[som_bassin_data.pcs_m > 0].groupby(['code']).agg({'pcs_m':['mean', 'min', 'median', 'max']})\n",
    "agg_results_bassin.columns = agg_results_bassin.columns.get_level_values(1)\n",
    "# get the parameters for one code at one sample:\n",
    "this_data = agg_results_feature.loc[a_label,codes_found[1]['codes'][0]]\n",
    "print(this_data['mean'])\n",
    "print(codes_found[1]['codes'][0])\n",
    "print(a_label)\n",
    "loc = this_data['mean']\n",
    "alpha=this_data['min']\n",
    "beta = 1/alpha\n",
    "print(\"\\n the parameters \\n\")\n",
    "print(loc, alpha, beta)\n",
    "\n",
    "print(\"\\nthe predicted result \\n\")\n",
    "print(gamma.rvs(alpha, loc=loc, scale=beta))"
   ]
  },
  {
   "cell_type": "code",
   "execution_count": null,
   "metadata": {},
   "outputs": [],
   "source": [
    "agg_results_feature.loc['Aare','G101']['min']"
   ]
  },
  {
   "cell_type": "code",
   "execution_count": null,
   "metadata": {},
   "outputs": [],
   "source": [
    "# hmm = pd.DataFrame(codes_found).explode('codes').copy()\n",
    "# hmm.drop_duplicates(inplace=True)\n",
    "# print(hmm.isnull().values.any())\n",
    "# hmm.reset_index(inplace=True, drop=True)"
   ]
  },
  {
   "cell_type": "code",
   "execution_count": null,
   "metadata": {},
   "outputs": [],
   "source": [
    "def assign_params(a_label, a_code, a_param, params):\n",
    "    default_params = agg_results_bassin\n",
    "    try:\n",
    "        this_param = params.loc[a_label,a_code][a_param]\n",
    "    except:\n",
    "        this_param = default_params.loc[a_code][a_param]\n",
    "    return this_param\n",
    "    "
   ]
  },
  {
   "cell_type": "code",
   "execution_count": null,
   "metadata": {},
   "outputs": [],
   "source": [
    "o_samps_d = b.bassin_pcsm_day[['water_name_slug', 'pcs_m']].sort_values(by='pcs_m')\n",
    "o_samps_d.reset_index(inplace=True, drop=True)\n",
    "o_samps_d"
   ]
  },
  {
   "cell_type": "code",
   "execution_count": null,
   "metadata": {},
   "outputs": [],
   "source": [
    "location_weight.set_index('water_name_slug', drop=True, inplace=True)\n"
   ]
  },
  {
   "cell_type": "code",
   "execution_count": null,
   "metadata": {},
   "outputs": [],
   "source": [
    "location_weight"
   ]
  },
  {
   "cell_type": "code",
   "execution_count": null,
   "metadata": {},
   "outputs": [],
   "source": [
    "sim_surveys = []\n",
    "for i,sample in enumerate(codes_found):\n",
    "    a_label = sample['label']\n",
    "    som_codes = sample['codes']\n",
    "    loc_weight = location_weight.loc[a_label]\n",
    "    for a_code in som_codes:\n",
    "        alpha = assign_params(a_label, a_code, 'median', agg_results_feature)\n",
    "        loc = assign_params(a_label, a_code, 'min', agg_results_feature)\n",
    "        scale = assign_params(a_label, a_code, 'max', agg_results_feature)+(5*alpha)       \n",
    "        pcs_m = gamma.rvs(alpha+(loc_weight*alpha), loc=loc, scale=scale)\n",
    "        sim_surveys.append({'code':a_code, 'label':a_label, 'survey':i, 'pcs_m':pcs_m})\n",
    "    \n",
    "new_surveys = pd.DataFrame(sim_surveys)\n",
    "new_surveys_d = new_surveys.groupby(['survey','label'], as_index=False).pcs_m.sum().copy()\n",
    "\n",
    "new_surveys_d.sort_values(by='pcs_m', inplace=True)\n",
    "ns_d = new_surveys_d[['label', 'pcs_m']].reset_index(drop=True).copy()\n",
    "ns_d.rename(columns={'label':'water_name_slug'}, inplace=True)\n",
    "ns_d['label'] = 'sim'\n",
    "o_samps_d['label'] = 'odata'\n",
    "o_samps_d['survey'] = o_samps_d.index\n",
    "ns_d['survey'] =ns_d.index"
   ]
  },
  {
   "cell_type": "code",
   "execution_count": null,
   "metadata": {},
   "outputs": [],
   "source": [
    "o_samps_d['label'] = 'odata'\n",
    "\n",
    "combined = pd.concat([ns_d, o_samps_d])"
   ]
  },
  {
   "cell_type": "code",
   "execution_count": null,
   "metadata": {},
   "outputs": [],
   "source": [
    "combined"
   ]
  },
  {
   "cell_type": "code",
   "execution_count": null,
   "metadata": {},
   "outputs": [],
   "source": [
    "fig, axs = plt.subplots(figsize=(14,8))\n",
    "sns.scatterplot(data=combined, x='survey', y='pcs_m', style='label', hue='water_name_slug', palette='husl', s=40, ax=axs)\n",
    "# sns.scatterplot(data=o_samps_d, x=o_samps_d.index, y=o_samps_d.pcs_m, hue=o_samps_d.water_name_slug, palette='viridis', ax=axs)\n",
    "plt.legend(bbox_to_anchor=(1.05, 1), loc=2, borderaxespad=0.)\n",
    "plt.show()\n",
    "plt.close()"
   ]
  },
  {
   "cell_type": "code",
   "execution_count": null,
   "metadata": {},
   "outputs": [],
   "source": [
    "# get the values for one survey:\n",
    "fig, axs = plt.subplots(figsize=(14,8))\n",
    "sns.boxplot(data=combined, x='water_name_slug', y='pcs_m', hue='label', palette='flare', ax=axs, dodge=True)\n",
    "sns.stripplot(data=combined, x='water_name_slug', y='pcs_m', hue='label', palette='husl', ax=axs)\n",
    "plt.legend(bbox_to_anchor=(1.05, 1), loc=2, borderaxespad=0.)\n",
    "plt.show()\n",
    "plt.close()\n"
   ]
  },
  {
   "cell_type": "code",
   "execution_count": null,
   "metadata": {},
   "outputs": [],
   "source": [
    "hmm"
   ]
  },
  {
   "cell_type": "code",
   "execution_count": null,
   "metadata": {},
   "outputs": [],
   "source": [
    "these_params = []\n",
    "\n",
    "# get some paramaters from the data.\n",
    "print(\"The codes and the number of samples that the parameters are being drawn from\\n\")\n",
    "for code in samples[0]:\n",
    "    samp_data = som_params[som_params.code == code].pcs_m\n",
    "    # check how many samples there are for this region/district\n",
    "    # if less than minsamps grab the results from the next highest level\n",
    "    minsamps = 65\n",
    "    if len(samp_data) < minsamps:\n",
    "        samp_data = a.processed[(a.processed.code == code)&(a.processed.quantity > 0)].pcs_m\n",
    "        loc = samp_data.min()\n",
    "        alpha = samp_data.mean()\n",
    "        scale = 1/alpha\n",
    "    else:\n",
    "        loc = samp_data.min()\n",
    "        alpha = samp_data.mean()\n",
    "        scale = 1/alpha\n",
    "    print(code, len(samp_data))\n",
    "    these_params.append(dict(code=code, loc=loc, alpha=alpha, scale=scale, data=samp_data))\n"
   ]
  },
  {
   "cell_type": "code",
   "execution_count": null,
   "metadata": {},
   "outputs": [],
   "source": [
    "these_params[2]['data'].sum()"
   ]
  },
  {
   "cell_type": "markdown",
   "metadata": {},
   "source": [
    "#### Hopefully that just worked for you\n",
    "\n",
    "if not contact analyst@hammerdirt.ch"
   ]
  },
  {
   "cell_type": "code",
   "execution_count": null,
   "metadata": {},
   "outputs": [],
   "source": []
  },
  {
   "cell_type": "code",
   "execution_count": null,
   "metadata": {},
   "outputs": [],
   "source": []
  }
 ],
 "metadata": {
  "kernelspec": {
   "display_name": "Python 3",
   "language": "python",
   "name": "python3"
  },
  "language_info": {
   "codemirror_mode": {
    "name": "ipython",
    "version": 3
   },
   "file_extension": ".py",
   "mimetype": "text/x-python",
   "name": "python",
   "nbconvert_exporter": "python",
   "pygments_lexer": "ipython3",
   "version": "3.8.3"
  }
 },
 "nbformat": 4,
 "nbformat_minor": 4
}
