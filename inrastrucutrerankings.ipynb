{
 "cells": [
  {
   "cell_type": "markdown",
   "metadata": {},
   "source": [
    "## <span style=\"color:blue\">Attaching geo data to survey locations</span>\n",
    "\n",
    "### <span style=\"color:#008891\">The geo data is calculated weekly*</span>\n",
    "\n",
    "__What this does:__ This notebook produces the population and infrastructure attribute rankings for each survey location.\n",
    "\n",
    "__When to use it:__ After running 'getdataforrepo' run this notebook, the .csv file is used to map rankings and values to survey results.\n",
    "\n",
    "\n",
    "#### Tasks:\n",
    "\n",
    "1. Define the ranking boundaries for different geographic and demographic attributes at each survey location\n",
    "2. Exports a file to resources/location_data directory:\n",
    "   1. A .csv file with survey location data, attribute rankings and attribute values\n",
    "\n",
    "The method used to create the rankings can be changed, right now everything is split along 20% increments of the measured value.   \n",
    "   \n",
    "\\*This function will be automated in the future. For now this the responsibility of the lead analyst.\n",
    "\n",
    "questions or comments: analyst@hammerdirt.ch"
   ]
  },
  {
   "cell_type": "code",
   "execution_count": 1,
   "metadata": {},
   "outputs": [
    {
     "data": {
      "text/html": [
       "\n",
       "<style>\n",
       ".output {\n",
       "    display: flex;\n",
       "    align-items: center;\n",
       "    text-align: center;\n",
       "}\n",
       "</style>\n"
      ],
      "text/plain": [
       "<IPython.core.display.HTML object>"
      ]
     },
     "metadata": {},
     "output_type": "display_data"
    }
   ],
   "source": [
    "# sys, file and nav packages:\n",
    "import os\n",
    "import datetime as dt\n",
    "import csv\n",
    "\n",
    "# math packages:\n",
    "import pandas as pd\n",
    "import numpy as np\n",
    "from scipy import stats\n",
    "import datetime as dt \n",
    "\n",
    "\n",
    "# charting:\n",
    "import matplotlib as mpl\n",
    "import matplotlib.pyplot as plt\n",
    "import matplotlib.dates as mdates\n",
    "from matplotlib import ticker\n",
    "import seaborn as sns\n",
    "import matplotlib.gridspec as gridspec\n",
    "from IPython.display import display, HTML\n",
    "\n",
    "\n",
    "# home brew utitilties\n",
    "import utilities.utility_functions as ut\n",
    "\n",
    "# documenting\n",
    "from IPython.display import Markdown as md\n",
    "\n",
    "display(HTML(\"\"\"\n",
    "<style>\n",
    ".output {\n",
    "    display: flex;\n",
    "    align-items: center;\n",
    "    text-align: center;\n",
    "}\n",
    "</style>\n",
    "\"\"\"))"
   ]
  },
  {
   "cell_type": "code",
   "execution_count": 2,
   "metadata": {},
   "outputs": [],
   "source": [
    "# the local file structure. The resources are located in the corresponding directory.\n",
    "# the purpose and date should be included in the filename when saving results to output\n",
    "survey_data, location_data, code_defs, stat_ent, geo_data, output = ut.make_local_paths()"
   ]
  },
  {
   "cell_type": "code",
   "execution_count": 3,
   "metadata": {},
   "outputs": [],
   "source": [
    "# variables/arrays that are frequently used:\n",
    "# project lakes\n",
    "the_lakes = [\n",
    "    \"Bielersee\",\n",
    "    \"Walensee\",\n",
    "    \"Lac Léman\",\n",
    "    \"Zurichsee\",\n",
    "    \"Neuenburgersee\",\n",
    "    \"Thunersee\",\n",
    "    \"Lago Maggiore\",\n",
    "    \"Brienzersee\",\n",
    "    \n",
    "]\n",
    "\n",
    "the_rivs = [\n",
    "    'Aare',\n",
    "    'Rhône',\n",
    "    'Limmat',\n",
    "    'Linth',\n",
    "    'Ticino',\n",
    "]\n",
    "# project beaches\n",
    "poi = [\n",
    "    \"neuenburgersee_cudrefin_mattera\",\n",
    "    \"la-petite-plage\",\n",
    "    \"evole-plage\",\n",
    "    \"plage-de-cheyres\",\n",
    "    \"mullermatte\",\n",
    "    \"bielersee_vinelz_fankhausers\",\n",
    "    \"baby-plage-geneva\",\n",
    "    \"baye-de-montreux-g\",\n",
    "    \"grand-clos\",\n",
    "    \"preverenges\",\n",
    "    \"quai-maria-belgia\",\n",
    "    \"zurichsee_wollishofen_langendorfm\",\n",
    "    \"zurichsee_kusnachterhorn_thirkell-whitej\",\n",
    "    \"zuerichsee_richterswil_benkoem_2\",     \n",
    "    \"rastplatz-stampf\",\n",
    "    \"weissenau-neuhaus\",\n",
    "    \"thunersee_spiez_meierd_1\",\n",
    "    \"walensee_walenstadt_wysse\",\n",
    "    \"gasi-strand\",\n",
    "    \"vira-gambarogno\",\n",
    "    \"sentiero-giro-del-golf-spiaggia\",\n",
    "    \"maladaire\"\n",
    "   \n",
    "]"
   ]
  },
  {
   "cell_type": "code",
   "execution_count": 4,
   "metadata": {},
   "outputs": [],
   "source": [
    "# standard formats already in use for charts \n",
    "# you can just apply these as kwargs to different elements...\n",
    "table_k = dict(loc=\"top left\", bbox=(0,0,1,1), colWidths=[.5, .5], cellLoc='center')\n",
    "tablecenter_k = dict(loc=\"top left\", bbox=(0,0,1,1), cellLoc='center')\n",
    "tabtickp_k = dict(axis='both', which='both', bottom=False, top=False, left=False, right=False, labelleft=False, labelbottom=False)\n",
    "title_k = {'loc':'left', 'pad':10, 'linespacing':1.5, 'fontsize':12}\n",
    "title_k20 = {'loc':'left', 'pad':10, 'linespacing':1.5, 'fontsize':12, 'color':'dodgerblue'}\n",
    "title_k17 = {'loc':'left', 'pad':10, 'linespacing':1.5, 'fontsize':12, 'color':'salmon'}\n",
    "titler_k20 = {'loc':'right', 'pad':10, 'linespacing':1.5, 'fontsize':12, 'color':'dodgerblue'}\n",
    "titler_k17 = {'loc':'right', 'pad':10, 'linespacing':1.5, 'fontsize':12, 'color':'salmon'}\n",
    "xlab_k = {'labelpad':10, 'fontsize':12}\n",
    "ylab_k = {'labelpad':14, 'fontsize':14}\n",
    "titler_k = {'loc':'right', 'pad':10, 'linespacing':1.5, 'fontsize':12}\n",
    "\n",
    "# use these to format date axis in charts\n",
    "weeks = mdates.WeekdayLocator(byweekday=1, interval=4)\n",
    "days = mdates.DayLocator(bymonthday=1, interval=1)\n",
    "months = mdates.MonthLocator(bymonth=[3,6,9,12])\n",
    "wks_fmt = mdates.DateFormatter('%d')\n",
    "mths_fmt = mdates.DateFormatter('%b')"
   ]
  },
  {
   "cell_type": "code",
   "execution_count": 5,
   "metadata": {},
   "outputs": [],
   "source": [
    "geo_data = pd.read_csv(F\"{geo_data}/exp_variables/all_1500m.csv\")"
   ]
  },
  {
   "cell_type": "code",
   "execution_count": 6,
   "metadata": {},
   "outputs": [],
   "source": [
    "geo_data.rename(columns={'LENGTH':'streets', 'NUMPOINTS':'intersection'}, inplace=True)\n",
    "geo_data.set_index('slug', inplace=True)\n",
    "blds = geo_data['area']\n",
    "streets = geo_data['streets']\n",
    "intersects = geo_data['intersection']"
   ]
  },
  {
   "cell_type": "code",
   "execution_count": 7,
   "metadata": {},
   "outputs": [
    {
     "data": {
      "text/plain": [
       "66012.57577681185"
      ]
     },
     "execution_count": 7,
     "metadata": {},
     "output_type": "execute_result"
    }
   ],
   "source": [
    "streets['veveyse']"
   ]
  },
  {
   "cell_type": "code",
   "execution_count": 8,
   "metadata": {},
   "outputs": [],
   "source": [
    "# aggregated survey data\n",
    "dfAgg = pd.read_csv(F\"{survey_data}/results_with_zeroes_aggregated_parent.csv\")\n",
    "dfAgg['date'] = pd.to_datetime(dfAgg['date'])\n",
    "\n",
    "# non aggregated survey data\n",
    "dfSurveys = pd.read_csv(F\"{survey_data}/results_with_zeroes.csv\")\n",
    "dfSurveys['date'] = pd.to_datetime(dfSurveys['date'])\n",
    "\n",
    "# beach data\n",
    "dfBeaches = pd.read_csv(F\"{location_data}/beaches_pop_bfs.csv\")\n",
    "\n",
    "# population data\n",
    "popdata = pd.read_csv(F\"{stat_ent}/STATPOP2018_GMDE.csv\")\n",
    "popdata.set_index('GDENR', inplace=True, drop=True)\n",
    "\n",
    "# bfs number and commune keys\n",
    "popkeys = pd.read_csv(F\"{stat_ent}/bfs_num.csv\")\n",
    "# popkeys.set_index('GDENR', inplace=True, drop=True)\n",
    "\n",
    "# the list of riparian communities\n",
    "riparian = pd.read_csv(F\"{stat_ent}/riparian_communities.csv\")\n",
    "\n",
    "# code definitions\n",
    "dfCodes = pd.read_csv(F\"{code_defs}/mlw_codes.csv\")"
   ]
  },
  {
   "cell_type": "code",
   "execution_count": 9,
   "metadata": {},
   "outputs": [
    {
     "data": {
      "text/plain": [
       "Index(['date', 'code', 'pcs_m', 'quantity', 'location', 'loc_date',\n",
       "       'water_name'],\n",
       "      dtype='object')"
      ]
     },
     "execution_count": 9,
     "metadata": {},
     "output_type": "execute_result"
    }
   ],
   "source": [
    "dfSurveys.columns"
   ]
  },
  {
   "cell_type": "code",
   "execution_count": 10,
   "metadata": {},
   "outputs": [],
   "source": [
    "project_directory = ut.make_project_folder(location_data, 'infrastructure_rankings')"
   ]
  },
  {
   "cell_type": "markdown",
   "metadata": {},
   "source": [
    "### <span style=\"color:#008891\">Map GIS data to beach data</span>\n",
    "\n",
    "When the attributes surounding each survey location are calculated in QGIS the data is keyed to the survey location 'slug'. Therefore the 'slug' column of the beach data can be used to map the results from the GIS data to the beach data."
   ]
  },
  {
   "cell_type": "code",
   "execution_count": 11,
   "metadata": {},
   "outputs": [
    {
     "name": "stdout",
     "output_type": "stream",
     "text": [
      "These are the locations that have no geo data:\n",
      "['greifensee_fallanden_simmenc', 'toss_winterthur-2', 'langete_langenthal_geiserm', 'sitter_stgallen_steinbrunnerf', 'reuss', 'berlingen-swisslitterreport', 'sihlsee_einsiedeln_schilligerllacherl', 'urnaesch_urnaesch_meierr', 'rhein_basel', 'murg_waengi_strickerr', 'unterdsee_ermatingen_brunkem', 'sorne_birse_wwfjura', 'rhein_basel_hungerbuehlern', 'sempachersee_sempach_tampec', 'birskopfli-rusco', 'birs_basel_grunern', 'bodensee_horn_huberm', 'greifensee_uster_fischerb_-2', 'emme_utzenstorf_gruttert', 'rhein_eglisau_gomringerp', 'vierwaldstattersee_weggis_schoberls_1', 'thur_schoenenberg_schaera', 'jona_tann_nusslin', 'plage-de-serriere', 'toss_bauma_kurthe', 'birs_basel_laderachs', 'zugersee_immensee_guedesd', 'lorze_baar_blarere', 'thur_schwarzenbach_meiliw', 'greifensee_maur_simmenc', 'vierwaldstattersee_weggis_schoberls_3', 'rhein_hemishofen_stolll', 'bodensee_steinach_dolder_a', 'pont-sous-terre', 'sitter_stgallen_jennya', 'goldach_goldach_schlachterj', 'reuss_ottenbach_schoenenbergerl', 'bodensee_altenrhein_caluoria', 'toss_kollbrunn_burgid', 'greifensee_uster_fischerb_1', 'bodensee_thal_schlachterj_1', 'greifensee_greifensee_simmenc', 'vorderrhein_disentis_schmidn', 'bodensee_arbon_moslis', 'vierwaldstattersee_weggis_schoberls_2', 'zugerseecholler_cham_blarerm', 'reuss_stkarli_linigersimhofy', 'rhein-beach-tinguely', 'erlach-camping-strand', 'rhein_domatems_foppa_f', 'grendelbach_effretikon_dambonec', 'inn_pradella_kohlt', 'mammern-swisslitterreport', 'greifensee_fallanden_meistery', 'sitter_gaiserwald_buehlerf', 'schiffenensee_duedingen_hirschij', 'reuss_hunenberg_eberhardy']\n"
     ]
    }
   ],
   "source": [
    "def check_values(df, x):\n",
    "    if x in df.index:\n",
    "        package = df.loc[x]\n",
    "    else:\n",
    "        package = 'none'\n",
    "    return package\n",
    "    \n",
    "dfBeaches['buildings'] = dfBeaches.slug.map(lambda x:check_values(blds, x))\n",
    "no_buildings = dfBeaches[dfBeaches.buildings == 'none']\n",
    "\n",
    "dfBeaches['streets'] = dfBeaches.slug.map(lambda x:check_values(streets, x,))\n",
    "no_streets = dfBeaches[dfBeaches.streets == 'none']\n",
    "\n",
    "dfBeaches['intersects'] = dfBeaches.slug.map(lambda x:check_values(intersects, x))\n",
    "no_intersects = dfBeaches[dfBeaches.intersects == 'none']\n",
    "\n",
    "no_geo_data = list(set(no_intersects.slug.unique())|set(no_streets.slug.unique())|set(no_buildings.slug.unique()))\n",
    "\n",
    "print(F\"These are the locations that have no geo data:\\n{no_geo_data}\")"
   ]
  },
  {
   "cell_type": "code",
   "execution_count": 12,
   "metadata": {},
   "outputs": [
    {
     "name": "stdout",
     "output_type": "stream",
     "text": [
      "These are the project locations that have no geo data:\n",
      "['plage-de-serriere', 'vierwaldstattersee_weggis_schoberls_1', 'vierwaldstattersee_weggis_schoberls_2', 'vierwaldstattersee_weggis_schoberls_3', 'zugerseecholler_cham_blarerm', 'pont-sous-terre', 'reuss_hunenberg_eberhardy', 'reuss_ottenbach_schoenenbergerl']\n"
     ]
    }
   ],
   "source": [
    "project_locs = dfSurveys[dfSurveys.date >= '2020-04-01'].location.unique()\n",
    "print(F\"These are the project locations that have no geo data:\\n{[x for x in project_locs if x in no_geo_data]}\")"
   ]
  },
  {
   "cell_type": "code",
   "execution_count": 13,
   "metadata": {},
   "outputs": [
    {
     "data": {
      "text/html": [
       "<div>\n",
       "<style scoped>\n",
       "    .dataframe tbody tr th:only-of-type {\n",
       "        vertical-align: middle;\n",
       "    }\n",
       "\n",
       "    .dataframe tbody tr th {\n",
       "        vertical-align: top;\n",
       "    }\n",
       "\n",
       "    .dataframe thead th {\n",
       "        text-align: right;\n",
       "    }\n",
       "</style>\n",
       "<table border=\"1\" class=\"dataframe\">\n",
       "  <thead>\n",
       "    <tr style=\"text-align: right;\">\n",
       "      <th></th>\n",
       "      <th>slug</th>\n",
       "      <th>location</th>\n",
       "      <th>latitude</th>\n",
       "      <th>longitude</th>\n",
       "      <th>post</th>\n",
       "      <th>country</th>\n",
       "      <th>water</th>\n",
       "      <th>water_name</th>\n",
       "      <th>city_slug</th>\n",
       "      <th>water_name_slug</th>\n",
       "      <th>is_2020</th>\n",
       "      <th>city</th>\n",
       "      <th>bfsnum</th>\n",
       "      <th>population</th>\n",
       "      <th>buildings</th>\n",
       "      <th>streets</th>\n",
       "      <th>intersects</th>\n",
       "    </tr>\n",
       "  </thead>\n",
       "  <tbody>\n",
       "    <tr>\n",
       "      <th>94</th>\n",
       "      <td>les-glariers</td>\n",
       "      <td>Les Glariers</td>\n",
       "      <td>46.176736</td>\n",
       "      <td>7.228925</td>\n",
       "      <td>6139</td>\n",
       "      <td>CH</td>\n",
       "      <td>r</td>\n",
       "      <td>Rhône</td>\n",
       "      <td>riddes</td>\n",
       "      <td>rhone</td>\n",
       "      <td>True</td>\n",
       "      <td>Riddes</td>\n",
       "      <td>6139</td>\n",
       "      <td>3133</td>\n",
       "      <td>141010</td>\n",
       "      <td>107013.287762</td>\n",
       "      <td>0</td>\n",
       "    </tr>\n",
       "  </tbody>\n",
       "</table>\n",
       "</div>"
      ],
      "text/plain": [
       "            slug      location   latitude  longitude  post country water  \\\n",
       "94  les-glariers  Les Glariers  46.176736   7.228925  6139      CH     r   \n",
       "\n",
       "   water_name city_slug water_name_slug  is_2020    city  bfsnum  population  \\\n",
       "94      Rhône    riddes           rhone     True  Riddes    6139        3133   \n",
       "\n",
       "   buildings        streets intersects  \n",
       "94    141010  107013.287762          0  "
      ]
     },
     "execution_count": 13,
     "metadata": {},
     "output_type": "execute_result"
    }
   ],
   "source": [
    "dfBeaches[dfBeaches.slug == 'les-glariers']"
   ]
  },
  {
   "cell_type": "markdown",
   "metadata": {},
   "source": [
    "#### <span style=\"color:#008891\">Rank the locations by attribute value</span>"
   ]
  },
  {
   "cell_type": "code",
   "execution_count": 14,
   "metadata": {},
   "outputs": [
    {
     "name": "stdout",
     "output_type": "stream",
     "text": [
      "[9150, 9711, 9152, 293]\n"
     ]
    }
   ],
   "source": [
    "rip_bns = riparian.BFS_NUMMER.unique()\n",
    "pop_bns = popdata.index\n",
    "\n",
    "missing = [x for x in rip_bns if x not in pop_bns]\n",
    "\n",
    "print(missing)"
   ]
  },
  {
   "cell_type": "markdown",
   "metadata": {},
   "source": [
    "We are missing the population data from 4 of the 402 riparian communities inlcuded in this analysis. Make sure that none of those municipalities have a survey."
   ]
  },
  {
   "cell_type": "code",
   "execution_count": 15,
   "metadata": {},
   "outputs": [
    {
     "name": "stdout",
     "output_type": "stream",
     "text": [
      "[]\n"
     ]
    }
   ],
   "source": [
    "# look for beaches that in the missing data array\n",
    "print([x for x in dfBeaches.bfsnum if x in missing])"
   ]
  },
  {
   "cell_type": "code",
   "execution_count": 16,
   "metadata": {},
   "outputs": [
    {
     "name": "stdout",
     "output_type": "stream",
     "text": [
      "This is the summary data of the riparian municipalities of the study:\n",
      "count       398.000000\n",
      "mean       7469.213568\n",
      "std       25601.489087\n",
      "min          33.000000\n",
      "25%        1065.750000\n",
      "50%        2891.500000\n",
      "75%        6170.500000\n",
      "max      415367.000000\n",
      "Name: B18BTOT, dtype: float64\n",
      "\n",
      "\n",
      "This is the boundaries by 20th percentile of the project beaches:\n",
      "[(0, 3583.4), (3583.4, 5919.600000000002), (5919.600000000002, 15029.400000000005), (43322.80000000001, 0)]\n"
     ]
    }
   ],
   "source": [
    "# get the 400 remaining populations from the riparian communities\n",
    "rip_pop = popdata.loc[popdata.index.isin([x for x in rip_bns if x not in missing])]\n",
    "print(F\"This is the summary data of the riparian municipalities of the study:\\n{rip_pop['B18BTOT'].describe()}\\n\")\n",
    "\n",
    "# break up the population by percentiles\n",
    "boundaries_rip = np.percentile(rip_pop['B18BTOT'], [20,40,60,80])\n",
    "boundaries_proj = np.percentile(dfBeaches['population'], [20,40,60,80])\n",
    "\n",
    "# make boundary pairs of the percentile\n",
    "def make_boundaries(percentiles):\n",
    "    i = len(percentiles)\n",
    "    end = i-1\n",
    "    package = []\n",
    "    for j,limit in enumerate(percentiles):\n",
    "        if j == 0:\n",
    "            this_limit = (0, limit)\n",
    "        elif j == end:\n",
    "            this_limit = (limit, 0)\n",
    "        else:\n",
    "            this_limit = (percentiles[j-1], limit)\n",
    "        package.append(this_limit)\n",
    "    return package\n",
    "bound_tuples_rip = make_boundaries(boundaries_rip)\n",
    "bound_tuples_proj = make_boundaries(boundaries_proj)\n",
    "\n",
    "print(F\"\\nThis is the boundaries by 20th percentile of the project beaches:\\n{bound_tuples_proj}\")"
   ]
  },
  {
   "cell_type": "code",
   "execution_count": 17,
   "metadata": {},
   "outputs": [],
   "source": [
    "# apply those boundaries to the beach data:\n",
    "# print(boundaries)\n",
    "def apply_boundaries(the_tuples, x):\n",
    "    groups = np.arange(1, len(the_tuples))\n",
    "    end = len(the_tuples)-1\n",
    "    group = 0\n",
    "    if type(x) == str:\n",
    "        group = 'none'\n",
    "        return group\n",
    "        \n",
    "    for i,a_tuple in enumerate(the_tuples):\n",
    "        if i == end:\n",
    "            group = i\n",
    "            break\n",
    "        elif x >= a_tuple[0] and x < a_tuple[1]:\n",
    "            group = i\n",
    "            break\n",
    "    return group\n",
    "\n",
    "dfBeaches['pop_group_proj'] = dfBeaches.population.map(lambda x: apply_boundaries(bound_tuples_proj, x))\n",
    "dfBeaches['pop_group_rip'] = dfBeaches.population.map(lambda x: apply_boundaries(bound_tuples_rip, x))"
   ]
  },
  {
   "cell_type": "code",
   "execution_count": 18,
   "metadata": {},
   "outputs": [
    {
     "data": {
      "image/png": "[encoded data removed]",
      "text/plain": [
       "<Figure size 432x288 with 1 Axes>"
      ]
     },
     "metadata": {
      "needs_background": "light"
     },
     "output_type": "display_data"
    }
   ],
   "source": [
    "data = dfBeaches[dfBeaches.water_name.isin(the_lakes)].groupby(['water_name','pop_group_proj'], as_index=False).slug.count()\n",
    "fig, ax = plt.subplots()\n",
    "\n",
    "g = sns.barplot(data=data, x='water_name', y='slug', hue='pop_group_proj', ax=ax)\n",
    "ax.tick_params(axis='x', rotation=45)\n",
    "ax.set_ylabel(\"Number of locations\", **ylab_k)\n",
    "ax.set_xlabel(\"\",)\n",
    "\n",
    "plt.show()"
   ]
  },
  {
   "cell_type": "markdown",
   "metadata": {},
   "source": [
    "#### <span style=\"color:#008891\">Rank the geo data</span>\n",
    "\n",
    "The total length of streets and the surface area allocated to buildings can be grouped like population. The river intersects are already in a count format ie.. number of river intersections within 1500m of the survey location."
   ]
  },
  {
   "cell_type": "code",
   "execution_count": 19,
   "metadata": {},
   "outputs": [
    {
     "ename": "TypeError",
     "evalue": "'>' not supported between instances of 'numpy.ndarray' and 'str'",
     "output_type": "error",
     "traceback": [
      "\u001b[1;31m---------------------------------------------------------------------------\u001b[0m",
      "\u001b[1;31mTypeError\u001b[0m                                 Traceback (most recent call last)",
      "\u001b[1;32m<ipython-input-19-f232cce3a30b>\u001b[0m in \u001b[0;36m<module>\u001b[1;34m\u001b[0m\n\u001b[0;32m      3\u001b[0m \u001b[0mpercents\u001b[0m \u001b[1;33m=\u001b[0m \u001b[1;33m[\u001b[0m\u001b[1;36m20\u001b[0m\u001b[1;33m,\u001b[0m\u001b[1;36m40\u001b[0m\u001b[1;33m,\u001b[0m\u001b[1;36m60\u001b[0m\u001b[1;33m,\u001b[0m\u001b[1;36m80\u001b[0m\u001b[1;33m]\u001b[0m\u001b[1;33m\u001b[0m\u001b[1;33m\u001b[0m\u001b[0m\n\u001b[0;32m      4\u001b[0m \u001b[1;33m\u001b[0m\u001b[0m\n\u001b[1;32m----> 5\u001b[1;33m \u001b[0mstreetsp\u001b[0m \u001b[1;33m=\u001b[0m \u001b[0mnp\u001b[0m\u001b[1;33m.\u001b[0m\u001b[0mpercentile\u001b[0m\u001b[1;33m(\u001b[0m\u001b[0mdfBeaches\u001b[0m\u001b[1;33m[\u001b[0m\u001b[0mdfBeaches\u001b[0m\u001b[1;33m.\u001b[0m\u001b[0mwater_name\u001b[0m\u001b[1;33m.\u001b[0m\u001b[0misin\u001b[0m\u001b[1;33m(\u001b[0m\u001b[0mthe_lakes\u001b[0m\u001b[1;33m)\u001b[0m\u001b[1;33m]\u001b[0m\u001b[1;33m[\u001b[0m\u001b[1;34m'streets'\u001b[0m\u001b[1;33m]\u001b[0m\u001b[1;33m,\u001b[0m \u001b[0mpercents\u001b[0m\u001b[1;33m)\u001b[0m\u001b[1;33m\u001b[0m\u001b[1;33m\u001b[0m\u001b[0m\n\u001b[0m\u001b[0;32m      6\u001b[0m \u001b[0mbldsp\u001b[0m \u001b[1;33m=\u001b[0m \u001b[0mnp\u001b[0m\u001b[1;33m.\u001b[0m\u001b[0mpercentile\u001b[0m\u001b[1;33m(\u001b[0m\u001b[0mdfBeaches\u001b[0m\u001b[1;33m[\u001b[0m\u001b[0mdfBeaches\u001b[0m\u001b[1;33m.\u001b[0m\u001b[0mwater_name\u001b[0m\u001b[1;33m.\u001b[0m\u001b[0misin\u001b[0m\u001b[1;33m(\u001b[0m\u001b[0mthe_lakes\u001b[0m\u001b[1;33m)\u001b[0m\u001b[1;33m]\u001b[0m\u001b[1;33m[\u001b[0m\u001b[1;34m'buildings'\u001b[0m\u001b[1;33m]\u001b[0m\u001b[1;33m,\u001b[0m \u001b[0mpercents\u001b[0m\u001b[1;33m)\u001b[0m\u001b[1;33m\u001b[0m\u001b[1;33m\u001b[0m\u001b[0m\n\u001b[0;32m      7\u001b[0m \u001b[1;33m\u001b[0m\u001b[0m\n",
      "\u001b[1;32m<__array_function__ internals>\u001b[0m in \u001b[0;36mpercentile\u001b[1;34m(*args, **kwargs)\u001b[0m\n",
      "\u001b[1;32m~\\Anaconda3\\envs\\myenv\\lib\\site-packages\\numpy\\lib\\function_base.py\u001b[0m in \u001b[0;36mpercentile\u001b[1;34m(a, q, axis, out, overwrite_input, interpolation, keepdims)\u001b[0m\n\u001b[0;32m   3730\u001b[0m     \u001b[1;32mif\u001b[0m \u001b[1;32mnot\u001b[0m \u001b[0m_quantile_is_valid\u001b[0m\u001b[1;33m(\u001b[0m\u001b[0mq\u001b[0m\u001b[1;33m)\u001b[0m\u001b[1;33m:\u001b[0m\u001b[1;33m\u001b[0m\u001b[1;33m\u001b[0m\u001b[0m\n\u001b[0;32m   3731\u001b[0m         \u001b[1;32mraise\u001b[0m \u001b[0mValueError\u001b[0m\u001b[1;33m(\u001b[0m\u001b[1;34m\"Percentiles must be in the range [0, 100]\"\u001b[0m\u001b[1;33m)\u001b[0m\u001b[1;33m\u001b[0m\u001b[1;33m\u001b[0m\u001b[0m\n\u001b[1;32m-> 3732\u001b[1;33m     return _quantile_unchecked(\n\u001b[0m\u001b[0;32m   3733\u001b[0m         a, q, axis, out, overwrite_input, interpolation, keepdims)\n\u001b[0;32m   3734\u001b[0m \u001b[1;33m\u001b[0m\u001b[0m\n",
      "\u001b[1;32m~\\Anaconda3\\envs\\myenv\\lib\\site-packages\\numpy\\lib\\function_base.py\u001b[0m in \u001b[0;36m_quantile_unchecked\u001b[1;34m(a, q, axis, out, overwrite_input, interpolation, keepdims)\u001b[0m\n\u001b[0;32m   3849\u001b[0m                         interpolation='linear', keepdims=False):\n\u001b[0;32m   3850\u001b[0m     \u001b[1;34m\"\"\"Assumes that q is in [0, 1], and is an ndarray\"\"\"\u001b[0m\u001b[1;33m\u001b[0m\u001b[1;33m\u001b[0m\u001b[0m\n\u001b[1;32m-> 3851\u001b[1;33m     r, k = _ureduce(a, func=_quantile_ureduce_func, q=q, axis=axis, out=out,\n\u001b[0m\u001b[0;32m   3852\u001b[0m                     \u001b[0moverwrite_input\u001b[0m\u001b[1;33m=\u001b[0m\u001b[0moverwrite_input\u001b[0m\u001b[1;33m,\u001b[0m\u001b[1;33m\u001b[0m\u001b[1;33m\u001b[0m\u001b[0m\n\u001b[0;32m   3853\u001b[0m                     interpolation=interpolation)\n",
      "\u001b[1;32m~\\Anaconda3\\envs\\myenv\\lib\\site-packages\\numpy\\lib\\function_base.py\u001b[0m in \u001b[0;36m_ureduce\u001b[1;34m(a, func, **kwargs)\u001b[0m\n\u001b[0;32m   3427\u001b[0m         \u001b[0mkeepdim\u001b[0m \u001b[1;33m=\u001b[0m \u001b[1;33m(\u001b[0m\u001b[1;36m1\u001b[0m\u001b[1;33m,\u001b[0m\u001b[1;33m)\u001b[0m \u001b[1;33m*\u001b[0m \u001b[0ma\u001b[0m\u001b[1;33m.\u001b[0m\u001b[0mndim\u001b[0m\u001b[1;33m\u001b[0m\u001b[1;33m\u001b[0m\u001b[0m\n\u001b[0;32m   3428\u001b[0m \u001b[1;33m\u001b[0m\u001b[0m\n\u001b[1;32m-> 3429\u001b[1;33m     \u001b[0mr\u001b[0m \u001b[1;33m=\u001b[0m \u001b[0mfunc\u001b[0m\u001b[1;33m(\u001b[0m\u001b[0ma\u001b[0m\u001b[1;33m,\u001b[0m \u001b[1;33m**\u001b[0m\u001b[0mkwargs\u001b[0m\u001b[1;33m)\u001b[0m\u001b[1;33m\u001b[0m\u001b[1;33m\u001b[0m\u001b[0m\n\u001b[0m\u001b[0;32m   3430\u001b[0m     \u001b[1;32mreturn\u001b[0m \u001b[0mr\u001b[0m\u001b[1;33m,\u001b[0m \u001b[0mkeepdim\u001b[0m\u001b[1;33m\u001b[0m\u001b[1;33m\u001b[0m\u001b[0m\n\u001b[0;32m   3431\u001b[0m \u001b[1;33m\u001b[0m\u001b[0m\n",
      "\u001b[1;32m~\\Anaconda3\\envs\\myenv\\lib\\site-packages\\numpy\\lib\\function_base.py\u001b[0m in \u001b[0;36m_quantile_ureduce_func\u001b[1;34m(a, q, axis, out, overwrite_input, interpolation, keepdims)\u001b[0m\n\u001b[0;32m   3952\u001b[0m         \u001b[0mweights_above\u001b[0m\u001b[1;33m.\u001b[0m\u001b[0mshape\u001b[0m \u001b[1;33m=\u001b[0m \u001b[0mweights_shape\u001b[0m\u001b[1;33m\u001b[0m\u001b[1;33m\u001b[0m\u001b[0m\n\u001b[0;32m   3953\u001b[0m \u001b[1;33m\u001b[0m\u001b[0m\n\u001b[1;32m-> 3954\u001b[1;33m         \u001b[0map\u001b[0m\u001b[1;33m.\u001b[0m\u001b[0mpartition\u001b[0m\u001b[1;33m(\u001b[0m\u001b[0mconcatenate\u001b[0m\u001b[1;33m(\u001b[0m\u001b[1;33m(\u001b[0m\u001b[0mindices_below\u001b[0m\u001b[1;33m,\u001b[0m \u001b[0mindices_above\u001b[0m\u001b[1;33m)\u001b[0m\u001b[1;33m)\u001b[0m\u001b[1;33m,\u001b[0m \u001b[0maxis\u001b[0m\u001b[1;33m=\u001b[0m\u001b[0maxis\u001b[0m\u001b[1;33m)\u001b[0m\u001b[1;33m\u001b[0m\u001b[1;33m\u001b[0m\u001b[0m\n\u001b[0m\u001b[0;32m   3955\u001b[0m \u001b[1;33m\u001b[0m\u001b[0m\n\u001b[0;32m   3956\u001b[0m         \u001b[1;31m# ensure axis with q-th is first\u001b[0m\u001b[1;33m\u001b[0m\u001b[1;33m\u001b[0m\u001b[1;33m\u001b[0m\u001b[0m\n",
      "\u001b[1;31mTypeError\u001b[0m: '>' not supported between instances of 'numpy.ndarray' and 'str'"
     ]
    }
   ],
   "source": [
    "# use the same percentiles as population:\n",
    "\n",
    "percents = [20,40,60,80]\n",
    "\n",
    "streetsp = np.percentile(dfBeaches[dfBeaches.water_name.isin(the_lakes)]['streets'], percents)\n",
    "bldsp = np.percentile(dfBeaches[dfBeaches.water_name.isin(the_lakes)]['buildings'], percents)\n",
    "\n",
    "bound_tuples_streets = make_boundaries(streetsp)\n",
    "bound_tuples_builds = make_boundaries(bldsp)\n",
    "\n",
    "dfBeaches['streets_rank'] = dfBeaches.streets.map(lambda x: apply_boundaries(bound_tuples_streets, x))\n",
    "dfBeaches['buildings_rank'] = dfBeaches.buildings.map(lambda x: apply_boundaries(bound_tuples_builds, x))\n",
    "print(bound_tuples_builds )\n",
    "print(bound_tuples_streets)"
   ]
  },
  {
   "cell_type": "code",
   "execution_count": null,
   "metadata": {},
   "outputs": [],
   "source": [
    "data_streets = dfBeaches[dfBeaches.water_name.isin(the_lakes)].groupby(['water_name','streets_rank'], as_index=False).slug.count()\n",
    "data_builds = dfBeaches[dfBeaches.water_name.isin(the_lakes)].groupby(['water_name','buildings_rank'], as_index=False).slug.count()\n",
    "fig, axs = plt.subplots(1,2, figsize=(10,4), sharey=True)\n",
    "\n",
    "ax1 = sns.barplot(data=data_streets, x='water_name', y='slug', hue='streets_rank', ax=axs[0])\n",
    "ax2 = sns.barplot(data=data_builds, x='water_name', y='slug', hue='buildings_rank', ax=axs[1])\n",
    "ax1.set_ylabel(\"Number of locations\", **ylab_k)\n",
    "ax2.set_ylabel(\"\")\n",
    "ax1.set_xlabel(\"\")\n",
    "ax2.set_xlabel(\"\")\n",
    "ax1.tick_params(axis='x', rotation=45)\n",
    "ax2.tick_params(axis='x', rotation=45, labelright=True)\n",
    "plt.tight_layout()\n",
    "plt.show()"
   ]
  },
  {
   "cell_type": "code",
   "execution_count": null,
   "metadata": {},
   "outputs": [],
   "source": [
    "dfBeaches[dfBeaches.slug == 'les-glariers']"
   ]
  },
  {
   "cell_type": "code",
   "execution_count": null,
   "metadata": {},
   "outputs": [],
   "source": [
    "dfBeaches[dfBeaches.water_name == 'Aare']"
   ]
  },
  {
   "cell_type": "markdown",
   "metadata": {},
   "source": [
    "#### <span style=\"color:#008891\">Export the data</span>"
   ]
  },
  {
   "cell_type": "code",
   "execution_count": null,
   "metadata": {},
   "outputs": [],
   "source": [
    "filename = F\"{location_data}/beaches_with_ranks.csv\"\n",
    "dfBeaches.to_csv(filename, index=False)"
   ]
  },
  {
   "cell_type": "markdown",
   "metadata": {},
   "source": [
    "#### Hopefully that just worked for you\n",
    "\n",
    "if not contact analyst@hammerdirt.ch"
   ]
  },
  {
   "cell_type": "code",
   "execution_count": null,
   "metadata": {},
   "outputs": [],
   "source": []
  }
 ],
 "metadata": {
  "kernelspec": {
   "display_name": "Python 3",
   "language": "python",
   "name": "python3"
  },
  "language_info": {
   "codemirror_mode": {
    "name": "ipython",
    "version": 3
   },
   "file_extension": ".py",
   "mimetype": "text/x-python",
   "name": "python",
   "nbconvert_exporter": "python",
   "pygments_lexer": "ipython3",
   "version": "3.8.5"
  }
 },
 "nbformat": 4,
 "nbformat_minor": 4
}
