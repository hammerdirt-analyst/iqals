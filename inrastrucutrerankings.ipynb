{
 "cells": [
  {
   "cell_type": "markdown",
   "metadata": {},
   "source": [
    "## <span style=\"color:blue\">Attaching geo data to survey locations</span>\n",
    "\n",
    "### <span style=\"color:#008891\">The geo data is calculated weekly*</span>\n",
    "\n",
    "__What this does:__ This notebook produces the population and infrastructure attribute rankings for each survey location.\n",
    "\n",
    "__When to use it:__ After running 'getdataforrepo' run this notebook, the .csv file is used to map rankings and values to survey results.\n",
    "\n",
    "\n",
    "#### Tasks:\n",
    "\n",
    "1. Define the ranking boundaries for different geographic and demographic attributes at each survey location\n",
    "2. Exports a file to resources/location_data directory:\n",
    "   1. A .csv file with survey location data, attribute rankings and attribute values\n",
    "\n",
    "The method used to create the rankings can be changed, right now everything is split along 20% increments of the measured value.   \n",
    "   \n",
    "\\*This function will be automated in the future. For now this the responsibility of the lead analyst.\n",
    "\n",
    "questions or comments: analyst@hammerdirt.ch"
   ]
  },
  {
   "cell_type": "code",
   "execution_count": 1,
   "metadata": {},
   "outputs": [
    {
     "data": {
      "text/html": [
       "\n",
       "<style>\n",
       ".output {\n",
       "    display: flex;\n",
       "    align-items: center;\n",
       "    text-align: center;\n",
       "}\n",
       "</style>\n"
      ],
      "text/plain": [
       "<IPython.core.display.HTML object>"
      ]
     },
     "metadata": {},
     "output_type": "display_data"
    }
   ],
   "source": [
    "# sys, file and nav packages:\n",
    "import os\n",
    "import datetime as dt\n",
    "import csv\n",
    "import json\n",
    "\n",
    "# math packages:\n",
    "import pandas as pd\n",
    "import numpy as np\n",
    "from scipy import stats\n",
    "import datetime as dt \n",
    "\n",
    "\n",
    "# charting:\n",
    "import matplotlib as mpl\n",
    "import matplotlib.pyplot as plt\n",
    "import matplotlib.dates as mdates\n",
    "from matplotlib import ticker\n",
    "import seaborn as sns\n",
    "import matplotlib.gridspec as gridspec\n",
    "from IPython.display import display, HTML\n",
    "\n",
    "\n",
    "# home brew utitilties\n",
    "import utilities.utility_functions as ut\n",
    "\n",
    "# documenting\n",
    "from IPython.display import Markdown as md\n",
    "\n",
    "display(HTML(\"\"\"\n",
    "<style>\n",
    ".output {\n",
    "    display: flex;\n",
    "    align-items: center;\n",
    "    text-align: center;\n",
    "}\n",
    "</style>\n",
    "\"\"\"))"
   ]
  },
  {
   "cell_type": "code",
   "execution_count": 2,
   "metadata": {},
   "outputs": [],
   "source": [
    "# the local file structure. The resources are located in the corresponding directory.\n",
    "# the purpose and date should be included in the filename when saving results to output\n",
    "most_recent, survey_data, location_data, code_defs, stat_ent, geo_data, output = ut.make_local_paths()"
   ]
  },
  {
   "cell_type": "code",
   "execution_count": 3,
   "metadata": {},
   "outputs": [],
   "source": [
    "# variables/arrays that are frequently used:\n",
    "# project lakes\n",
    "the_lakes = [\n",
    "    \"Bielersee\",\n",
    "    \"Walensee\",\n",
    "    \"Lac Léman\",\n",
    "    \"Zurichsee\",\n",
    "    \"Neuenburgersee\",\n",
    "    \"Thunersee\",\n",
    "    \"Lago Maggiore\",\n",
    "    \"Brienzersee\",\n",
    "    \n",
    "]\n",
    "\n",
    "with open(F\"{location_data}/project_lakes.json\", \"r\") as a_file:\n",
    "    project_lakes = json.load(a_file)\n",
    "\n",
    "the_rivs = [\n",
    "    'Aare',\n",
    "    'Rhône',\n",
    "    'Limmat',\n",
    "    'Linth',\n",
    "    'Ticino',\n",
    "]\n",
    "# project beaches\n",
    "poi = [\n",
    "    \"neuenburgersee_cudrefin_mattera\",\n",
    "    \"la-petite-plage\",\n",
    "    \"evole-plage\",\n",
    "    \"plage-de-cheyres\",\n",
    "    \"mullermatte\",\n",
    "    \"bielersee_vinelz_fankhausers\",\n",
    "    \"baby-plage-geneva\",\n",
    "    \"baye-de-montreux-g\",\n",
    "    \"grand-clos\",\n",
    "    \"preverenges\",\n",
    "    \"quai-maria-belgia\",\n",
    "    \"zurichsee_wollishofen_langendorfm\",\n",
    "    \"zurichsee_kusnachterhorn_thirkell-whitej\",\n",
    "    \"zuerichsee_richterswil_benkoem_2\",     \n",
    "    \"rastplatz-stampf\",\n",
    "    \"weissenau-neuhaus\",\n",
    "    \"thunersee_spiez_meierd_1\",\n",
    "    \"walensee_walenstadt_wysse\",\n",
    "    \"gasi-strand\",\n",
    "    \"vira-gambarogno\",\n",
    "    \"sentiero-giro-del-golf-spiaggia\",\n",
    "    \"maladaire\"\n",
    "   \n",
    "]"
   ]
  },
  {
   "cell_type": "code",
   "execution_count": 4,
   "metadata": {},
   "outputs": [],
   "source": [
    "# standard formats already in use for charts \n",
    "# you can just apply these as kwargs to different elements...\n",
    "table_k = dict(loc=\"top left\", bbox=(0,0,1,1), colWidths=[.5, .5], cellLoc='center')\n",
    "tablecenter_k = dict(loc=\"top left\", bbox=(0,0,1,1), cellLoc='center')\n",
    "tabtickp_k = dict(axis='both', which='both', bottom=False, top=False, left=False, right=False, labelleft=False, labelbottom=False)\n",
    "title_k = {'loc':'left', 'pad':10, 'linespacing':1.5, 'fontsize':12}\n",
    "title_k20 = {'loc':'left', 'pad':10, 'linespacing':1.5, 'fontsize':12, 'color':'dodgerblue'}\n",
    "title_k17 = {'loc':'left', 'pad':10, 'linespacing':1.5, 'fontsize':12, 'color':'salmon'}\n",
    "titler_k20 = {'loc':'right', 'pad':10, 'linespacing':1.5, 'fontsize':12, 'color':'dodgerblue'}\n",
    "titler_k17 = {'loc':'right', 'pad':10, 'linespacing':1.5, 'fontsize':12, 'color':'salmon'}\n",
    "xlab_k = {'labelpad':10, 'fontsize':12}\n",
    "ylab_k = {'labelpad':14, 'fontsize':14}\n",
    "titler_k = {'loc':'right', 'pad':10, 'linespacing':1.5, 'fontsize':12}\n",
    "\n",
    "today = dt.datetime.now().date().strftime(\"%Y-%m-%d\")\n",
    "\n",
    "# use these to format date axis in charts\n",
    "weeks = mdates.WeekdayLocator(byweekday=1, interval=4)\n",
    "days = mdates.DayLocator(bymonthday=1, interval=1)\n",
    "months = mdates.MonthLocator(bymonth=[3,6,9,12])\n",
    "wks_fmt = mdates.DateFormatter('%d')\n",
    "mths_fmt = mdates.DateFormatter('%b')"
   ]
  },
  {
   "cell_type": "code",
   "execution_count": 5,
   "metadata": {},
   "outputs": [
    {
     "data": {
      "text/plain": [
       "Index(['slug', 'location', 'latitude', 'longitude', 'post', 'country', 'water',\n",
       "       'water_name', 'city_slug', 'water_na_1', 'is_2020', 'city', 'bfsnum',\n",
       "       'population', 'intersects', 'length'],\n",
       "      dtype='object')"
      ]
     },
     "execution_count": 5,
     "metadata": {},
     "output_type": "execute_result"
    }
   ],
   "source": [
    "geo_data = pd.read_csv(F\"{location_data}/beaches_no_buildings_data.csv\")\n",
    "blds_data = pd.read_csv(F\"{location_data}/beaches_buildings.csv\")\n",
    "blds_data.set_index('slug', inplace=True)\n",
    "geo_data.columns"
   ]
  },
  {
   "cell_type": "code",
   "execution_count": 6,
   "metadata": {},
   "outputs": [],
   "source": [
    "geo_data.rename(columns={'length':'streets', 'intersecti':'intersection'}, inplace=True)\n",
    "geo_data.set_index('slug', inplace=True)\n",
    "blds = blds_data['area']\n",
    "streets = geo_data['streets']\n",
    "intersects = geo_data['intersects']"
   ]
  },
  {
   "cell_type": "code",
   "execution_count": 7,
   "metadata": {},
   "outputs": [
    {
     "data": {
      "text/plain": [
       "530985"
      ]
     },
     "execution_count": 7,
     "metadata": {},
     "output_type": "execute_result"
    }
   ],
   "source": [
    "blds['veveyse']"
   ]
  },
  {
   "cell_type": "code",
   "execution_count": 8,
   "metadata": {},
   "outputs": [],
   "source": [
    "# aggregated survey data\n",
    "dfAgg = pd.read_csv(F\"{survey_data}/results_with_zeroes_aggregated_parent.csv\")\n",
    "dfAgg['date'] = pd.to_datetime(dfAgg['date'])\n",
    "\n",
    "# non aggregated survey data\n",
    "dfSurveys = pd.read_csv(F\"{survey_data}/results_with_zeroes.csv\")\n",
    "dfSurveys['date'] = pd.to_datetime(dfSurveys['date'])\n",
    "\n",
    "# beach data\n",
    "dfBeaches = pd.read_csv(F\"{location_data}/beaches_pop_bfs.csv\")\n",
    "\n",
    "# population data\n",
    "popdata = pd.read_csv(F\"{stat_ent}/STATPOP2018_GMDE.csv\")\n",
    "popdata.set_index('GDENR', inplace=True, drop=True)\n",
    "\n",
    "# bfs number and commune keys\n",
    "popkeys = pd.read_csv(F\"{stat_ent}/bfs_num.csv\")\n",
    "# popkeys.set_index('GDENR', inplace=True, drop=True)\n",
    "\n",
    "# the list of riparian communities\n",
    "riparian = pd.read_csv(F\"{stat_ent}/riparian_communities.csv\")\n",
    "\n",
    "# code definitions\n",
    "dfCodes = pd.read_csv(F\"{code_defs}/mlw_codes.csv\")"
   ]
  },
  {
   "cell_type": "code",
   "execution_count": 9,
   "metadata": {},
   "outputs": [
    {
     "data": {
      "text/plain": [
       "Index(['date', 'code', 'pcs_m', 'quantity', 'location', 'loc_date',\n",
       "       'water_name_slug'],\n",
       "      dtype='object')"
      ]
     },
     "execution_count": 9,
     "metadata": {},
     "output_type": "execute_result"
    }
   ],
   "source": [
    "dfSurveys.columns"
   ]
  },
  {
   "cell_type": "code",
   "execution_count": 10,
   "metadata": {},
   "outputs": [],
   "source": [
    "project_directory = ut.make_project_folder(location_data, 'infrastructure_rankings')"
   ]
  },
  {
   "cell_type": "code",
   "execution_count": 11,
   "metadata": {},
   "outputs": [
    {
     "data": {
      "text/plain": [
       "Index(['lacleman_gland_lecoanets', 'magadino-lido', 'seez',\n",
       "       'oberi-chlihochstetten', 'glatt_oerlikon_covosn',\n",
       "       'mammern-swisslitterreport', 'aare-limmatspitz',\n",
       "       'greifensee_greifensee_simmenc', 'sihl_zuerich_eggerskoehlingera',\n",
       "       'zulg_steffisburg_schmassmanne',\n",
       "       ...\n",
       "       'kusnachter-dorfbach-tobelweg-1-4', 'lavey-la-source',\n",
       "       'sitter_gaiserwald_buehlerf', 'mullermatte', 'pointe-dareuse',\n",
       "       'sitter_stgallen_steinbrunnerf', 'vira-spiaggia-left-of-river',\n",
       "       'jardin-botanique', 'grendelbach_effretikon_dambonec',\n",
       "       'sempachersee_sempach_tampec'],\n",
       "      dtype='object', name='slug', length=228)"
      ]
     },
     "execution_count": 11,
     "metadata": {},
     "output_type": "execute_result"
    }
   ],
   "source": [
    "geo_data.index"
   ]
  },
  {
   "cell_type": "markdown",
   "metadata": {},
   "source": [
    "### <span style=\"color:#008891\">Map GIS data to beach data</span>\n",
    "\n",
    "When the attributes surounding each survey location are calculated in QGIS the data is keyed to the survey location 'slug'. Therefore the 'slug' column of the beach data can be used to map the results from the GIS data to the beach data."
   ]
  },
  {
   "cell_type": "code",
   "execution_count": 12,
   "metadata": {},
   "outputs": [
    {
     "name": "stdout",
     "output_type": "stream",
     "text": [
      "These are the locations that have no geo data:\n",
      "[]\n"
     ]
    }
   ],
   "source": [
    "def check_values(df, x):\n",
    "    if x in df.index:\n",
    "        package = df.loc[x]\n",
    "    else:\n",
    "        package = 'none'\n",
    "    return package\n",
    "    \n",
    "dfBeaches['buildings'] = dfBeaches.slug.map(lambda x:check_values(blds, x))\n",
    "no_buildings = dfBeaches[dfBeaches.buildings == 'none']\n",
    "\n",
    "dfBeaches['streets'] = dfBeaches.slug.map(lambda x:check_values(streets, x,))\n",
    "no_streets = dfBeaches[dfBeaches.streets == 'none']\n",
    "\n",
    "dfBeaches['intersects'] = dfBeaches.slug.map(lambda x:check_values(intersects, x))\n",
    "no_intersects = dfBeaches[dfBeaches.intersects == 'none']\n",
    "\n",
    "no_geo_data = list(set(no_intersects.slug.unique())|set(no_streets.slug.unique())|set(no_buildings.slug.unique()))\n",
    "\n",
    "print(F\"These are the locations that have no geo data:\\n{no_geo_data}\")"
   ]
  },
  {
   "cell_type": "code",
   "execution_count": 13,
   "metadata": {},
   "outputs": [
    {
     "name": "stdout",
     "output_type": "stream",
     "text": [
      "These are the project locations that have no geo data:\n",
      "[]\n"
     ]
    }
   ],
   "source": [
    "project_locs = dfSurveys[dfSurveys.date >= '2020-04-01'].location.unique()\n",
    "print(F\"These are the project locations that have no geo data:\\n{[x for x in project_locs if x in no_geo_data]}\")"
   ]
  },
  {
   "cell_type": "code",
   "execution_count": 14,
   "metadata": {},
   "outputs": [
    {
     "data": {
      "text/html": [
       "<div>\n",
       "<style scoped>\n",
       "    .dataframe tbody tr th:only-of-type {\n",
       "        vertical-align: middle;\n",
       "    }\n",
       "\n",
       "    .dataframe tbody tr th {\n",
       "        vertical-align: top;\n",
       "    }\n",
       "\n",
       "    .dataframe thead th {\n",
       "        text-align: right;\n",
       "    }\n",
       "</style>\n",
       "<table border=\"1\" class=\"dataframe\">\n",
       "  <thead>\n",
       "    <tr style=\"text-align: right;\">\n",
       "      <th></th>\n",
       "      <th>slug</th>\n",
       "      <th>location</th>\n",
       "      <th>latitude</th>\n",
       "      <th>longitude</th>\n",
       "      <th>post</th>\n",
       "      <th>country</th>\n",
       "      <th>water</th>\n",
       "      <th>water_name</th>\n",
       "      <th>city_slug</th>\n",
       "      <th>water_name_slug</th>\n",
       "      <th>is_2020</th>\n",
       "      <th>city</th>\n",
       "      <th>bfsnum</th>\n",
       "      <th>population</th>\n",
       "      <th>buildings</th>\n",
       "      <th>streets</th>\n",
       "      <th>intersects</th>\n",
       "    </tr>\n",
       "  </thead>\n",
       "  <tbody>\n",
       "    <tr>\n",
       "      <th>95</th>\n",
       "      <td>les-glariers</td>\n",
       "      <td>Les Glariers</td>\n",
       "      <td>46.176736</td>\n",
       "      <td>7.228925</td>\n",
       "      <td>6139</td>\n",
       "      <td>CH</td>\n",
       "      <td>r</td>\n",
       "      <td>Rhône</td>\n",
       "      <td>riddes</td>\n",
       "      <td>rhone</td>\n",
       "      <td>True</td>\n",
       "      <td>Riddes</td>\n",
       "      <td>6139</td>\n",
       "      <td>3133</td>\n",
       "      <td>278886</td>\n",
       "      <td>105251</td>\n",
       "      <td>0</td>\n",
       "    </tr>\n",
       "  </tbody>\n",
       "</table>\n",
       "</div>"
      ],
      "text/plain": [
       "            slug      location   latitude  longitude  post country water  \\\n",
       "95  les-glariers  Les Glariers  46.176736   7.228925  6139      CH     r   \n",
       "\n",
       "   water_name city_slug water_name_slug  is_2020    city  bfsnum  population  \\\n",
       "95      Rhône    riddes           rhone     True  Riddes    6139        3133   \n",
       "\n",
       "    buildings  streets  intersects  \n",
       "95     278886   105251           0  "
      ]
     },
     "execution_count": 14,
     "metadata": {},
     "output_type": "execute_result"
    }
   ],
   "source": [
    "dfBeaches[dfBeaches.slug == 'les-glariers']"
   ]
  },
  {
   "cell_type": "markdown",
   "metadata": {},
   "source": [
    "#### <span style=\"color:#008891\">Rank the locations by attribute value</span>"
   ]
  },
  {
   "cell_type": "code",
   "execution_count": 15,
   "metadata": {},
   "outputs": [
    {
     "name": "stdout",
     "output_type": "stream",
     "text": [
      "[9150, 9711, 9152, 293]\n",
      "[6645, 4801, 2766, 2701, 3237, 4401, 4421, 3217, 191, 552, 66, 3213, 193, 194, 195, 198, 296, 3762, 113, 329, 1701, 363, 4864, 4781, 4063, 1703, 4234, 1061, 3722, 55, 2962, 2293, 404, 1102, 1301, 131, 1704, 3203, 6711, 4501, 3427, 297, 231, 230, 4646, 3002, 1069, 3982, 1711, 1064]\n"
     ]
    }
   ],
   "source": [
    "rip_bns = riparian.BFS_NUMMER.unique()\n",
    "pop_bns = popdata.index\n",
    "\n",
    "missing = [x for x in rip_bns if x not in pop_bns]\n",
    "missingx = [x for x in dfBeaches.bfsnum.unique() if x not in rip_bns]\n",
    "\n",
    "print(missing)\n",
    "print(missingx)"
   ]
  },
  {
   "cell_type": "code",
   "execution_count": 16,
   "metadata": {},
   "outputs": [
    {
     "data": {
      "text/plain": [
       "[9150, 9711, 9152, 293]"
      ]
     },
     "execution_count": 16,
     "metadata": {},
     "output_type": "execute_result"
    }
   ],
   "source": [
    "[x for x in rip_bns if x not in pop_bns]"
   ]
  },
  {
   "cell_type": "markdown",
   "metadata": {},
   "source": [
    "We are missing the population data from 4 of the 402 riparian communities inlcuded in this analysis. Make sure that none of those municipalities have a survey."
   ]
  },
  {
   "cell_type": "code",
   "execution_count": 17,
   "metadata": {},
   "outputs": [
    {
     "name": "stdout",
     "output_type": "stream",
     "text": [
      "[]\n"
     ]
    }
   ],
   "source": [
    "# look for beaches that in the missing data array\n",
    "print([x for x in dfBeaches.bfsnum if x in missing])"
   ]
  },
  {
   "cell_type": "code",
   "execution_count": 18,
   "metadata": {},
   "outputs": [],
   "source": [
    "def get_population_rank(x, keys):\n",
    "    try:\n",
    "        data = keys.loc[x]\n",
    "    except:\n",
    "        data = 'no_data'\n",
    "    return data\n",
    "        \n",
    "        "
   ]
  },
  {
   "cell_type": "code",
   "execution_count": 19,
   "metadata": {},
   "outputs": [
    {
     "name": "stdout",
     "output_type": "stream",
     "text": [
      "This is the summary data of the riparian municipalities of the study:\n",
      "count       398.000000\n",
      "mean       7469.213568\n",
      "std       25601.489087\n",
      "min          33.000000\n",
      "25%        1065.750000\n",
      "50%        2891.500000\n",
      "75%        6170.500000\n",
      "max      415367.000000\n",
      "Name: B18BTOT, dtype: float64\n",
      "\n"
     ]
    }
   ],
   "source": [
    "# get the 400 remaining populations from the riparian communities\n",
    "rip_pop = popdata.loc[popdata.index.isin([x for x in rip_bns if x not in missing])].copy()\n",
    "\n",
    "# the ranking of the beaches in the project only\n",
    "proj_pop = dfBeaches.loc[dfBeaches.water_name.isin(project_lakes)][['bfsnum','population']].drop_duplicates().set_index('bfsnum')\n",
    "proj_pop = proj_pop.population.rank(method='max', ascending=False)\n",
    "\n",
    "\n",
    "print(F\"This is the summary data of the riparian municipalities of the study:\\n{rip_pop['B18BTOT'].describe()}\\n\")\n",
    "\n",
    "# rank all the municipalities in that have are on the shore of each waterbody:\n",
    "rip_pop['rip_rank'] = rip_pop.B18BTOT.rank(method='max', ascending=False).copy()\n",
    "\n",
    "dfBeaches['pop_group_proj'] = dfBeaches.bfsnum.map(lambda x: get_population_rank(x, proj_pop))\n",
    "dfBeaches['pop_group_rip'] = dfBeaches.bfsnum.map(lambda x: get_population_rank(x,rip_pop['rip_rank']))\n",
    "\n",
    "# break up the population by percentiles\n",
    "# boundaries_rip = np.percentile(rip_pop['B18BTOT'], [20,40,60,80])\n",
    "# boundaries_proj = np.percentile(dfBeaches['population'], [20,40,60,80])\n",
    "\n",
    "# make boundary pairs of the percentile\n",
    "def make_boundaries(percentiles):\n",
    "    i = len(percentiles)\n",
    "    end = i-1\n",
    "    package = []\n",
    "    for j,limit in enumerate(percentiles):\n",
    "        if j == 0:\n",
    "            this_limit = (0, limit)\n",
    "        elif j == end:\n",
    "            this_limit = (limit, 0)\n",
    "        else:\n",
    "            this_limit = (percentiles[j-1], limit)\n",
    "        package.append(this_limit)\n",
    "    return package\n",
    "# bound_tuples_rip = make_boundaries(boundaries_rip)\n",
    "# bound_tuples_proj = make_boundaries(boundaries_proj)\n",
    "\n"
   ]
  },
  {
   "cell_type": "code",
   "execution_count": 20,
   "metadata": {},
   "outputs": [
    {
     "data": {
      "text/html": [
       "<div>\n",
       "<style scoped>\n",
       "    .dataframe tbody tr th:only-of-type {\n",
       "        vertical-align: middle;\n",
       "    }\n",
       "\n",
       "    .dataframe tbody tr th {\n",
       "        vertical-align: top;\n",
       "    }\n",
       "\n",
       "    .dataframe thead th {\n",
       "        text-align: right;\n",
       "    }\n",
       "</style>\n",
       "<table border=\"1\" class=\"dataframe\">\n",
       "  <thead>\n",
       "    <tr style=\"text-align: right;\">\n",
       "      <th></th>\n",
       "      <th>slug</th>\n",
       "      <th>location</th>\n",
       "      <th>latitude</th>\n",
       "      <th>longitude</th>\n",
       "      <th>post</th>\n",
       "      <th>country</th>\n",
       "      <th>water</th>\n",
       "      <th>water_name</th>\n",
       "      <th>city_slug</th>\n",
       "      <th>water_name_slug</th>\n",
       "      <th>is_2020</th>\n",
       "      <th>city</th>\n",
       "      <th>bfsnum</th>\n",
       "      <th>population</th>\n",
       "      <th>buildings</th>\n",
       "      <th>streets</th>\n",
       "      <th>intersects</th>\n",
       "      <th>pop_group_proj</th>\n",
       "      <th>pop_group_rip</th>\n",
       "    </tr>\n",
       "  </thead>\n",
       "  <tbody>\n",
       "  </tbody>\n",
       "</table>\n",
       "</div>"
      ],
      "text/plain": [
       "Empty DataFrame\n",
       "Columns: [slug, location, latitude, longitude, post, country, water, water_name, city_slug, water_name_slug, is_2020, city, bfsnum, population, buildings, streets, intersects, pop_group_proj, pop_group_rip]\n",
       "Index: []"
      ]
     },
     "execution_count": 20,
     "metadata": {},
     "output_type": "execute_result"
    }
   ],
   "source": [
    "dfBeaches.loc[(dfBeaches.water_name.isin(project_lakes))&(dfBeaches.pop_group_proj == 'no data')]"
   ]
  },
  {
   "cell_type": "code",
   "execution_count": 21,
   "metadata": {},
   "outputs": [],
   "source": [
    "# apply those boundaries to the beach data:\n",
    "# print(boundaries)\n",
    "def apply_boundaries(the_tuples, x):\n",
    "    groups = np.arange(1, len(the_tuples))\n",
    "    end = len(the_tuples)-1\n",
    "    group = 0\n",
    "    if type(x) == str:\n",
    "        group = 'none'\n",
    "        return group\n",
    "        \n",
    "    for i,a_tuple in enumerate(the_tuples):\n",
    "        if i == end:\n",
    "            group = i\n",
    "            break\n",
    "        elif x >= a_tuple[0] and x < a_tuple[1]:\n",
    "            group = i\n",
    "            break\n",
    "    return group\n",
    "\n"
   ]
  },
  {
   "cell_type": "code",
   "execution_count": 22,
   "metadata": {},
   "outputs": [],
   "source": [
    "# data = dfBeaches[dfBeaches.water_name.isin(project_lakes)].groupby(['pop_group_rip'], as_index=False).slug.count()\n",
    "# fig, ax = plt.subplots()\n",
    "\n",
    "# g = sns.barplot(data=data[data.pop_group_rip != 'no data'], x='pop_group_rip', y='slug',  ax=ax)\n",
    "# ax.tick_params(axis='x', rotation=45)\n",
    "# # ax.set_ylabel(\"Number of locations\", **ylab_k)\n",
    "# # ax.set_xlabel(\"\",)\n",
    "\n",
    "# plt.show()"
   ]
  },
  {
   "cell_type": "markdown",
   "metadata": {},
   "source": [
    "#### <span style=\"color:#008891\">Rank the geo data</span>\n",
    "\n",
    "The total length of streets and the surface area allocated to buildings can be grouped like population. The river intersects are already in a count format ie.. number of river intersections within 1500m of the survey location."
   ]
  },
  {
   "cell_type": "code",
   "execution_count": 23,
   "metadata": {},
   "outputs": [
    {
     "name": "stdout",
     "output_type": "stream",
     "text": [
      "[(0, 119967.00000000001), (119967.00000000001, 238931.6), (238931.6, 414438.4), (561025.6, 0)]\n",
      "[(0, 51276.2), (51276.2, 72542.20000000001), (72542.20000000001, 95722.6), (119718.59999999999, 0)]\n"
     ]
    }
   ],
   "source": [
    "# use the same percentiles as population:\n",
    "\n",
    "percents = [20,40,60,80]\n",
    "\n",
    "streetsp = np.percentile(dfBeaches[dfBeaches.water_name.isin(the_lakes)]['streets'], percents)\n",
    "bldsp = np.percentile(dfBeaches[dfBeaches.water_name.isin(the_lakes)]['buildings'], percents)\n",
    "\n",
    "bound_tuples_streets = make_boundaries(streetsp)\n",
    "bound_tuples_builds = make_boundaries(bldsp)\n",
    "\n",
    "dfBeaches['streets_rank'] = dfBeaches.streets.map(lambda x: apply_boundaries(bound_tuples_streets, x))\n",
    "dfBeaches['buildings_rank'] = dfBeaches.buildings.map(lambda x: apply_boundaries(bound_tuples_builds, x))\n",
    "print(bound_tuples_builds )\n",
    "print(bound_tuples_streets)"
   ]
  },
  {
   "cell_type": "code",
   "execution_count": 24,
   "metadata": {},
   "outputs": [
    {
     "data": {
      "image/png": "[encoded data removed]",
      "text/plain": [
       "<Figure size 720x288 with 2 Axes>"
      ]
     },
     "metadata": {
      "needs_background": "light"
     },
     "output_type": "display_data"
    }
   ],
   "source": [
    "data_streets = dfBeaches[dfBeaches.water_name.isin(the_lakes)].groupby(['water_name','streets_rank'], as_index=False).slug.count()\n",
    "data_builds = dfBeaches[dfBeaches.water_name.isin(the_lakes)].groupby(['water_name','buildings_rank'], as_index=False).slug.count()\n",
    "fig, axs = plt.subplots(1,2, figsize=(10,4), sharey=True)\n",
    "\n",
    "ax1 = sns.barplot(data=data_streets, x='water_name', y='slug', hue='streets_rank', ax=axs[0])\n",
    "ax2 = sns.barplot(data=data_builds, x='water_name', y='slug', hue='buildings_rank', ax=axs[1])\n",
    "ax1.set_ylabel(\"Number of locations\", **ylab_k)\n",
    "ax2.set_ylabel(\"\")\n",
    "ax1.set_xlabel(\"\")\n",
    "ax2.set_xlabel(\"\")\n",
    "ax1.tick_params(axis='x', rotation=45)\n",
    "ax2.tick_params(axis='x', rotation=45, labelright=True)\n",
    "plt.tight_layout()\n",
    "plt.show()"
   ]
  },
  {
   "cell_type": "markdown",
   "metadata": {},
   "source": [
    "#### <span style=\"color:#008891\">Export the data</span>"
   ]
  },
  {
   "cell_type": "code",
   "execution_count": 25,
   "metadata": {},
   "outputs": [],
   "source": [
    "filename = F\"{location_data}/beaches_with_ranks.csv\"\n",
    "dfBeaches.to_csv(filename, index=False)"
   ]
  },
  {
   "cell_type": "markdown",
   "metadata": {},
   "source": [
    "#### Hopefully that just worked for you\n",
    "\n",
    "if not contact analyst@hammerdirt.ch"
   ]
  },
  {
   "cell_type": "code",
   "execution_count": 26,
   "metadata": {},
   "outputs": [
    {
     "name": "stdout",
     "output_type": "stream",
     "text": [
      "\n",
      "Produced by: roger@hammerdirt.ch\n",
      "Date: 2021-04-28\n",
      "\n",
      "Statistics is fun when you do it outside\n"
     ]
    }
   ],
   "source": [
    "author = \"roger@hammerdirt.ch\"\n",
    "my_message = \"Statistics is fun when you do it outside\"\n",
    "print(F\"\\nProduced by: {author}\\nDate: {today}\\n\\n{my_message}\")"
   ]
  }
 ],
 "metadata": {
  "kernelspec": {
   "display_name": "Python 3",
   "language": "python",
   "name": "python3"
  },
  "language_info": {
   "codemirror_mode": {
    "name": "ipython",
    "version": 3
   },
   "file_extension": ".py",
   "mimetype": "text/x-python",
   "name": "python",
   "nbconvert_exporter": "python",
   "pygments_lexer": "ipython3",
   "version": "3.8.3"
  }
 },
 "nbformat": 4,
 "nbformat_minor": 4
}
