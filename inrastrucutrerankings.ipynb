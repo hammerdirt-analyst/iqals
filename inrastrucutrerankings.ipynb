{
 "cells": [
  {
   "cell_type": "markdown",
   "metadata": {},
   "source": [
    "## <span style=\"color:blue\">Attaching geo data to survey locations</span>\n",
    "\n",
    "### <span style=\"color:#008891\">The geo data is calculated weekly*</span>\n",
    "\n",
    "__What this does:__ Maps values from GIS data to survey data for each location. Alerts for locations with no GIS data\n",
    "\n",
    "__When to use it:__ After running 'getdataforrepo' run this notebook.\n",
    "\n",
    "The GIS data is updated weekly. \n",
    "\n",
    "\n",
    "#### Tasks:\n",
    "\n",
    "1. Define the ranking boundaries for different geographic and demographic attributes at each survey location\n",
    "2. Exports a file to resources/location_data directory:\n",
    "   1. A .csv file with survey location data, attribute rankings and attribute values\n",
    "\n",
    "questions or comments: analyst@hammerdirt.ch"
   ]
  },
  {
   "cell_type": "code",
   "execution_count": 1,
   "metadata": {},
   "outputs": [
    {
     "data": {
      "text/html": [
       "\n",
       "<style>\n",
       ".output {\n",
       "    display: flex;\n",
       "    align-items: center;\n",
       "    text-align: center;\n",
       "}\n",
       "</style>\n"
      ],
      "text/plain": [
       "<IPython.core.display.HTML object>"
      ]
     },
     "metadata": {},
     "output_type": "display_data"
    }
   ],
   "source": [
    "# sys, file and nav packages:\n",
    "import os\n",
    "import datetime as dt\n",
    "import csv\n",
    "import json\n",
    "\n",
    "# math packages:\n",
    "import pandas as pd\n",
    "import numpy as np\n",
    "from scipy import stats\n",
    "import datetime as dt \n",
    "\n",
    "\n",
    "# charting:\n",
    "import matplotlib as mpl\n",
    "import matplotlib.pyplot as plt\n",
    "import matplotlib.dates as mdates\n",
    "from matplotlib import ticker\n",
    "import seaborn as sns\n",
    "import matplotlib.gridspec as gridspec\n",
    "from IPython.display import display, HTML\n",
    "\n",
    "\n",
    "# home brew utitilties\n",
    "import utilities.utility_functions as ut\n",
    "\n",
    "# documenting\n",
    "from IPython.display import Markdown as md\n",
    "\n",
    "display(HTML(\"\"\"\n",
    "<style>\n",
    ".output {\n",
    "    display: flex;\n",
    "    align-items: center;\n",
    "    text-align: center;\n",
    "}\n",
    "</style>\n",
    "\"\"\"))"
   ]
  },
  {
   "cell_type": "code",
   "execution_count": 2,
   "metadata": {},
   "outputs": [],
   "source": [
    "# the local file structure. The resources are located in the corresponding directory.\n",
    "# the purpose and date should be included in the filename when saving results to output\n",
    "most_recent, survey_data, location_data, code_defs, stat_ent, geo_data, output = ut.make_local_paths()"
   ]
  },
  {
   "cell_type": "code",
   "execution_count": 3,
   "metadata": {},
   "outputs": [],
   "source": [
    "today = dt.datetime.now().date().strftime(\"%Y-%m-%d\")"
   ]
  },
  {
   "cell_type": "code",
   "execution_count": 4,
   "metadata": {},
   "outputs": [],
   "source": [
    "# this is qgis output with aggregated values for meters of streets and number of river intersects\n",
    "# within 1500 meters of the survey location\n",
    "geo_data = pd.read_csv(F\"{location_data}/beaches_no_buildings_data.csv\")\n",
    "geo_data.rename(columns={'length':'streets', 'water_na_1':'water_name_slug'}, inplace=True)\n",
    "geo_data.set_index('slug', inplace=True)\n",
    "\n",
    "# the surface area of buildings within 1500 meters of the survey site\n",
    "blds_data = pd.read_csv(F\"{location_data}/beaches_buildings.csv\")\n",
    "blds_data.set_index('slug', inplace=True)\n",
    "\n",
    "# make map to results using the index as key(slug)\n",
    "blds = blds_data['area']\n",
    "streets = geo_data['streets']\n",
    "intersects = geo_data['NUMPOINTS']"
   ]
  },
  {
   "cell_type": "code",
   "execution_count": 5,
   "metadata": {},
   "outputs": [
    {
     "data": {
      "text/plain": [
       "146320"
      ]
     },
     "execution_count": 5,
     "metadata": {},
     "output_type": "execute_result"
    }
   ],
   "source": [
    "blds.loc['jardin-botanique']"
   ]
  },
  {
   "cell_type": "code",
   "execution_count": 6,
   "metadata": {},
   "outputs": [],
   "source": [
    "# aggregated survey data\n",
    "dfAgg = pd.read_csv(F\"{survey_data}/results_with_zeroes_aggregated_parent.csv\")\n",
    "dfAgg['date'] = pd.to_datetime(dfAgg['date'])\n",
    "\n",
    "# non aggregated survey data\n",
    "dfSurveys = pd.read_csv(F\"{survey_data}/results_with_zeroes.csv\")\n",
    "dfSurveys['date'] = pd.to_datetime(dfSurveys['date'])\n",
    "\n",
    "# beach data\n",
    "dfBeaches = pd.read_csv(F\"{location_data}/beaches_pop_bfs.csv\")\n",
    "\n",
    "# population data\n",
    "popdata = pd.read_csv(F\"{stat_ent}/STATPOP2018_GMDE.csv\")\n",
    "popdata.set_index('GDENR', inplace=True, drop=True)\n",
    "\n",
    "# bfs number and commune keys\n",
    "popkeys = pd.read_csv(F\"{stat_ent}/bfs_num.csv\")"
   ]
  },
  {
   "cell_type": "code",
   "execution_count": 7,
   "metadata": {},
   "outputs": [],
   "source": [
    "project_directory = ut.make_project_folder(location_data, 'infrastructure_rankings')"
   ]
  },
  {
   "cell_type": "markdown",
   "metadata": {},
   "source": [
    "### <span style=\"color:#008891\">Map GIS data to beach data</span>\n",
    "\n",
    "When the attributes surounding each survey location are calculated in QGIS the data is keyed to the survey location 'slug'. Therefore the 'slug' column of the beach data can be used to map the results from the GIS data to the beach data."
   ]
  },
  {
   "cell_type": "code",
   "execution_count": 8,
   "metadata": {},
   "outputs": [
    {
     "name": "stdout",
     "output_type": "stream",
     "text": [
      "These are the locations that have no geo data:\n",
      "\n",
      "['clean-up-tour-les-diablerets']\n",
      "\n",
      "                            slug                      location   latitude  \\\n",
      "50  clean-up-tour-les-diablerets  Clean up tour les Diablerets  46.345678   \n",
      "\n",
      "    longitude  post country water           water_name city_slug  \\\n",
      "50   7.155103  1800      CH     r  Clean up tour vevey     vevey   \n",
      "\n",
      "        water_name_slug  is_2020   city  bfsnum  population buildings streets  \\\n",
      "50  clean-up-tour-vevey     True  Vevey    5890       19891      none    none   \n",
      "\n",
      "   intersects  \n",
      "50       none  \n",
      "\n",
      "                            slug                      location   latitude  \\\n",
      "50  clean-up-tour-les-diablerets  Clean up tour les Diablerets  46.345678   \n",
      "\n",
      "    longitude  post country water           water_name city_slug  \\\n",
      "50   7.155103  1800      CH     r  Clean up tour vevey     vevey   \n",
      "\n",
      "        water_name_slug  is_2020   city  bfsnum  population buildings streets  \n",
      "50  clean-up-tour-vevey     True  Vevey    5890       19891      none    none  \n",
      "\n",
      "                            slug                      location   latitude  \\\n",
      "50  clean-up-tour-les-diablerets  Clean up tour les Diablerets  46.345678   \n",
      "\n",
      "    longitude  post country water           water_name city_slug  \\\n",
      "50   7.155103  1800      CH     r  Clean up tour vevey     vevey   \n",
      "\n",
      "        water_name_slug  is_2020   city  bfsnum  population buildings  \n",
      "50  clean-up-tour-vevey     True  Vevey    5890       19891      none  \n",
      "\n"
     ]
    }
   ],
   "source": [
    "def check_values(df, x):\n",
    "    try:\n",
    "        package = df.loc[x]\n",
    "    except:\n",
    "        package = 'none'\n",
    "    return package\n",
    "    \n",
    "dfBeaches['buildings'] = dfBeaches.slug.map(lambda x:check_values(blds, x))\n",
    "no_buildings = dfBeaches[dfBeaches.buildings == 'none']\n",
    "\n",
    "dfBeaches['streets'] = dfBeaches.slug.map(lambda x:check_values(streets, x,))\n",
    "no_streets = dfBeaches[dfBeaches.streets == 'none']\n",
    "\n",
    "dfBeaches['intersects'] = dfBeaches.slug.map(lambda x:check_values(intersects, x))\n",
    "no_intersects = dfBeaches[dfBeaches.intersects == 'none']\n",
    "\n",
    "no_geo_data = list(set(no_intersects.slug.unique()) | set(no_streets.slug.unique()) | set(no_buildings.slug.unique()))\n",
    "\n",
    "print(F\"These are the locations that have no geo data:\\n\\n{no_geo_data}\\n\")\n",
    "\n",
    "print(F\"{no_intersects}\\n\")\n",
    "print(F\"{no_streets}\\n\")\n",
    "print(F\"{no_buildings}\\n\")"
   ]
  },
  {
   "cell_type": "code",
   "execution_count": 9,
   "metadata": {},
   "outputs": [
    {
     "data": {
      "text/plain": [
       "0      65297.9\n",
       "1       111924\n",
       "2       120308\n",
       "3      86254.8\n",
       "4       167120\n",
       "        ...   \n",
       "236     130101\n",
       "237     156577\n",
       "238     118203\n",
       "239      57824\n",
       "240      94586\n",
       "Name: streets, Length: 241, dtype: object"
      ]
     },
     "execution_count": 9,
     "metadata": {},
     "output_type": "execute_result"
    }
   ],
   "source": [
    "dfBeaches.streets"
   ]
  },
  {
   "cell_type": "markdown",
   "metadata": {},
   "source": [
    "#### <span style=\"color:#008891\">Export the data</span>"
   ]
  },
  {
   "cell_type": "code",
   "execution_count": 10,
   "metadata": {},
   "outputs": [],
   "source": [
    "filename = F\"{location_data}/beaches_with_gis.csv\"\n",
    "dfBeaches.to_csv(filename, index=False)"
   ]
  },
  {
   "cell_type": "markdown",
   "metadata": {},
   "source": [
    "#### Hopefully that just worked for you\n",
    "\n",
    "if not contact analyst@hammerdirt.ch"
   ]
  },
  {
   "cell_type": "code",
   "execution_count": 11,
   "metadata": {},
   "outputs": [
    {
     "name": "stdout",
     "output_type": "stream",
     "text": [
      "\n",
      "Produced by: roger@hammerdirt.ch\n",
      "Date: 2021-05-26\n",
      "\n",
      "Statistics is fun when you do it outside\n"
     ]
    }
   ],
   "source": [
    "author = \"roger@hammerdirt.ch\"\n",
    "my_message = \"Statistics is fun when you do it outside\"\n",
    "print(F\"\\nProduced by: {author}\\nDate: {today}\\n\\n{my_message}\")"
   ]
  }
 ],
 "metadata": {
  "kernelspec": {
   "display_name": "Python 3",
   "language": "python",
   "name": "python3"
  },
  "language_info": {
   "codemirror_mode": {
    "name": "ipython",
    "version": 3
   },
   "file_extension": ".py",
   "mimetype": "text/x-python",
   "name": "python",
   "nbconvert_exporter": "python",
   "pygments_lexer": "ipython3",
   "version": "3.8.3"
  }
 },
 "nbformat": 4,
 "nbformat_minor": 4
}
