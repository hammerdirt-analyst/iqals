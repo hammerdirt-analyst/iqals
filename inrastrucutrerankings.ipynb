{
 "cells": [
  {
   "cell_type": "markdown",
   "metadata": {},
   "source": [
    "## <span style=\"color:blue\">Attaching geo data to survey locations</span>\n",
    "\n",
    "### <span style=\"color:#008891\">The geo data is calculated weekly*</span>\n",
    "\n",
    "__What this does:__ This notebook produces the population and infrastructure attribute rankings for each survey location.\n",
    "\n",
    "__When to use it:__ After running 'getdataforrepo' run this notebook, the .csv file is used to map rankings and values to survey results.\n",
    "\n",
    "\n",
    "#### Tasks:\n",
    "\n",
    "1. Define the ranking boundaries for different geographic and demographic attributes at each survey location\n",
    "2. Exports a file to resources/location_data directory:\n",
    "   1. A .csv file with survey location data, attribute rankings and attribute values\n",
    "\n",
    "The method used to create the rankings can be changed, right now everything is split along 20% increments of the measured value.   \n",
    "   \n",
    "\\*This function will be automated in the future. For now this the responsibility of the lead analyst.\n",
    "\n",
    "questions or comments: analyst@hammerdirt.ch"
   ]
  },
  {
   "cell_type": "code",
   "execution_count": 1,
   "metadata": {},
   "outputs": [
    {
     "data": {
      "text/html": [
       "\n",
       "<style>\n",
       ".output {\n",
       "    display: flex;\n",
       "    align-items: center;\n",
       "    text-align: center;\n",
       "}\n",
       "</style>\n"
      ],
      "text/plain": [
       "<IPython.core.display.HTML object>"
      ]
     },
     "metadata": {},
     "output_type": "display_data"
    }
   ],
   "source": [
    "# sys, file and nav packages:\n",
    "import os\n",
    "import datetime as dt\n",
    "import csv\n",
    "\n",
    "# math packages:\n",
    "import pandas as pd\n",
    "import numpy as np\n",
    "from scipy import stats\n",
    "import datetime as dt \n",
    "\n",
    "\n",
    "# charting:\n",
    "import matplotlib as mpl\n",
    "import matplotlib.pyplot as plt\n",
    "import matplotlib.dates as mdates\n",
    "from matplotlib import ticker\n",
    "import seaborn as sns\n",
    "import matplotlib.gridspec as gridspec\n",
    "from IPython.display import display, HTML\n",
    "\n",
    "\n",
    "# home brew utitilties\n",
    "import utilities.utility_functions as ut\n",
    "\n",
    "# documenting\n",
    "from IPython.display import Markdown as md\n",
    "\n",
    "display(HTML(\"\"\"\n",
    "<style>\n",
    ".output {\n",
    "    display: flex;\n",
    "    align-items: center;\n",
    "    text-align: center;\n",
    "}\n",
    "</style>\n",
    "\"\"\"))"
   ]
  },
  {
   "cell_type": "code",
   "execution_count": 2,
   "metadata": {},
   "outputs": [],
   "source": [
    "# the local file structure. The resources are located in the corresponding directory.\n",
    "# the purpose and date should be included in the filename when saving results to output\n",
    "survey_data, location_data, code_defs, stat_ent, geo_data, output = ut.make_local_paths()"
   ]
  },
  {
   "cell_type": "code",
   "execution_count": 3,
   "metadata": {},
   "outputs": [],
   "source": [
    "# variables/arrays that are frequently used:\n",
    "# project lakes\n",
    "the_lakes = [\n",
    "    \"Bielersee\",\n",
    "    \"Walensee\",\n",
    "    \"Lac Léman\",\n",
    "    \"Zurichsee\",\n",
    "    \"Neuenburgersee\",\n",
    "    \"Thunersee\",\n",
    "    \"Lago Maggiore\",\n",
    "    \"Brienzersee\",\n",
    "    \n",
    "]\n",
    "\n",
    "the_rivs = [\n",
    "    'Aare',\n",
    "    'Rhône',\n",
    "    'Limmat',\n",
    "    'Linth',\n",
    "    'Ticino',\n",
    "]\n",
    "# project beaches\n",
    "poi = [\n",
    "    \"neuenburgersee_cudrefin_mattera\",\n",
    "    \"la-petite-plage\",\n",
    "    \"evole-plage\",\n",
    "    \"plage-de-cheyres\",\n",
    "    \"mullermatte\",\n",
    "    \"bielersee_vinelz_fankhausers\",\n",
    "    \"baby-plage-geneva\",\n",
    "    \"baye-de-montreux-g\",\n",
    "    \"grand-clos\",\n",
    "    \"preverenges\",\n",
    "    \"quai-maria-belgia\",\n",
    "    \"zurichsee_wollishofen_langendorfm\",\n",
    "    \"zurichsee_kusnachterhorn_thirkell-whitej\",\n",
    "    \"zuerichsee_richterswil_benkoem_2\",     \n",
    "    \"rastplatz-stampf\",\n",
    "    \"weissenau-neuhaus\",\n",
    "    \"thunersee_spiez_meierd_1\",\n",
    "    \"walensee_walenstadt_wysse\",\n",
    "    \"gasi-strand\",\n",
    "    \"vira-gambarogno\",\n",
    "    \"sentiero-giro-del-golf-spiaggia\",\n",
    "    \"maladaire\"\n",
    "   \n",
    "]"
   ]
  },
  {
   "cell_type": "code",
   "execution_count": 4,
   "metadata": {},
   "outputs": [],
   "source": [
    "# standard formats already in use for charts \n",
    "# you can just apply these as kwargs to different elements...\n",
    "table_k = dict(loc=\"top left\", bbox=(0,0,1,1), colWidths=[.5, .5], cellLoc='center')\n",
    "tablecenter_k = dict(loc=\"top left\", bbox=(0,0,1,1), cellLoc='center')\n",
    "tabtickp_k = dict(axis='both', which='both', bottom=False, top=False, left=False, right=False, labelleft=False, labelbottom=False)\n",
    "title_k = {'loc':'left', 'pad':10, 'linespacing':1.5, 'fontsize':12}\n",
    "title_k20 = {'loc':'left', 'pad':10, 'linespacing':1.5, 'fontsize':12, 'color':'dodgerblue'}\n",
    "title_k17 = {'loc':'left', 'pad':10, 'linespacing':1.5, 'fontsize':12, 'color':'salmon'}\n",
    "titler_k20 = {'loc':'right', 'pad':10, 'linespacing':1.5, 'fontsize':12, 'color':'dodgerblue'}\n",
    "titler_k17 = {'loc':'right', 'pad':10, 'linespacing':1.5, 'fontsize':12, 'color':'salmon'}\n",
    "xlab_k = {'labelpad':10, 'fontsize':12}\n",
    "ylab_k = {'labelpad':14, 'fontsize':14}\n",
    "titler_k = {'loc':'right', 'pad':10, 'linespacing':1.5, 'fontsize':12}\n",
    "\n",
    "# use these to format date axis in charts\n",
    "weeks = mdates.WeekdayLocator(byweekday=1, interval=4)\n",
    "days = mdates.DayLocator(bymonthday=1, interval=1)\n",
    "months = mdates.MonthLocator(bymonth=[3,6,9,12])\n",
    "wks_fmt = mdates.DateFormatter('%d')\n",
    "mths_fmt = mdates.DateFormatter('%b')"
   ]
  },
  {
   "cell_type": "code",
   "execution_count": 5,
   "metadata": {},
   "outputs": [],
   "source": [
    "# aggregated survey data\n",
    "dfAgg = pd.read_csv(F\"{survey_data}/results_with_zeroes_aggregated_parent.csv\")\n",
    "dfAgg['date'] = pd.to_datetime(dfAgg['date'])\n",
    "\n",
    "# non aggregated survey data\n",
    "dfSurveys = pd.read_csv(F\"{survey_data}/results_with_zeroes.csv\")\n",
    "dfSurveys['date'] = pd.to_datetime(dfSurveys['date'])\n",
    "\n",
    "# beach data\n",
    "dfBeaches = pd.read_csv(F\"{location_data}/beaches_pop_bfs.csv\")\n",
    "\n",
    "# population data\n",
    "popdata = pd.read_csv(F\"{stat_ent}/STATPOP2018_GMDE.csv\")\n",
    "popdata.set_index('GDENR', inplace=True, drop=True)\n",
    "\n",
    "# bfs number and commune keys\n",
    "popkeys = pd.read_csv(F\"{stat_ent}/bfs_num.csv\")\n",
    "# popkeys.set_index('GDENR', inplace=True, drop=True)\n",
    "\n",
    "# the list of riparian communities\n",
    "riparian = pd.read_csv(F\"{stat_ent}/riparian_communities.csv\")\n",
    "\n",
    "# gis data, set the index to slug and get rid of the old index:\n",
    "blds = pd.read_csv(F\"{geo_data}/exp_variables/builds_500.csv\")\n",
    "blds.set_index('slug', inplace=True, drop=True)\n",
    "streets = pd.read_csv(F\"{geo_data}/exp_variables/strasse_1000.csv\")\n",
    "streets.set_index('slug', inplace=True, drop=True)\n",
    "intersects = pd.read_csv(F\"{geo_data}/exp_variables/riparian_intersects.csv\")\n",
    "intersects.set_index('slug', inplace=True, drop=True)\n",
    "\n",
    "# code definitions\n",
    "dfCodes = pd.read_csv(F\"{code_defs}/mlw_codes.csv\")"
   ]
  },
  {
   "cell_type": "code",
   "execution_count": 6,
   "metadata": {},
   "outputs": [
    {
     "data": {
      "text/html": [
       "<div>\n",
       "<style scoped>\n",
       "    .dataframe tbody tr th:only-of-type {\n",
       "        vertical-align: middle;\n",
       "    }\n",
       "\n",
       "    .dataframe tbody tr th {\n",
       "        vertical-align: top;\n",
       "    }\n",
       "\n",
       "    .dataframe thead th {\n",
       "        text-align: right;\n",
       "    }\n",
       "</style>\n",
       "<table border=\"1\" class=\"dataframe\">\n",
       "  <thead>\n",
       "    <tr style=\"text-align: right;\">\n",
       "      <th></th>\n",
       "      <th>location</th>\n",
       "      <th>latitude</th>\n",
       "      <th>longitude</th>\n",
       "      <th>post</th>\n",
       "      <th>country</th>\n",
       "      <th>water</th>\n",
       "      <th>water_name</th>\n",
       "      <th>city_slug</th>\n",
       "      <th>water_na_1</th>\n",
       "      <th>is_2020</th>\n",
       "      <th>city</th>\n",
       "      <th>bfsnum</th>\n",
       "      <th>population</th>\n",
       "      <th>length</th>\n",
       "    </tr>\n",
       "    <tr>\n",
       "      <th>slug</th>\n",
       "      <th></th>\n",
       "      <th></th>\n",
       "      <th></th>\n",
       "      <th></th>\n",
       "      <th></th>\n",
       "      <th></th>\n",
       "      <th></th>\n",
       "      <th></th>\n",
       "      <th></th>\n",
       "      <th></th>\n",
       "      <th></th>\n",
       "      <th></th>\n",
       "      <th></th>\n",
       "      <th></th>\n",
       "    </tr>\n",
       "  </thead>\n",
       "  <tbody>\n",
       "    <tr>\n",
       "      <th>limmat_zurich_mortensena_meiera</th>\n",
       "      <td>limmat_zürich_mortensena_meiera</td>\n",
       "      <td>47.400252</td>\n",
       "      <td>8.485411</td>\n",
       "      <td>8064</td>\n",
       "      <td>CH</td>\n",
       "      <td>r</td>\n",
       "      <td>Limmat</td>\n",
       "      <td>zurich</td>\n",
       "      <td>limmat</td>\n",
       "      <td>True</td>\n",
       "      <td>Zürich</td>\n",
       "      <td>261</td>\n",
       "      <td>415367</td>\n",
       "      <td>74734.557</td>\n",
       "    </tr>\n",
       "    <tr>\n",
       "      <th>seemuhlestrasse-strand</th>\n",
       "      <td>Seemühlestrasse Strand</td>\n",
       "      <td>47.128640</td>\n",
       "      <td>9.295100</td>\n",
       "      <td>8880</td>\n",
       "      <td>CH</td>\n",
       "      <td>l</td>\n",
       "      <td>Walensee</td>\n",
       "      <td>walenstadt</td>\n",
       "      <td>walensee</td>\n",
       "      <td>True</td>\n",
       "      <td>Walenstadt</td>\n",
       "      <td>3298</td>\n",
       "      <td>5679</td>\n",
       "      <td>74734.557</td>\n",
       "    </tr>\n",
       "    <tr>\n",
       "      <th>rhein-beach-tinguely</th>\n",
       "      <td>Rhein Beach Tinguely</td>\n",
       "      <td>47.558644</td>\n",
       "      <td>7.612154</td>\n",
       "      <td>4058</td>\n",
       "      <td>CH</td>\n",
       "      <td>r</td>\n",
       "      <td>Rhein</td>\n",
       "      <td>basel</td>\n",
       "      <td>rhein</td>\n",
       "      <td>False</td>\n",
       "      <td>Basel</td>\n",
       "      <td>2701</td>\n",
       "      <td>172258</td>\n",
       "      <td>19371.290</td>\n",
       "    </tr>\n",
       "    <tr>\n",
       "      <th>sihl_zuerich_eggerskoehlingera</th>\n",
       "      <td>sihl_zuerich_eggerskoehlingera</td>\n",
       "      <td>47.381898</td>\n",
       "      <td>8.538328</td>\n",
       "      <td>8005</td>\n",
       "      <td>CH</td>\n",
       "      <td>r</td>\n",
       "      <td>Sihl</td>\n",
       "      <td>zurich</td>\n",
       "      <td>sihl</td>\n",
       "      <td>False</td>\n",
       "      <td>Zürich</td>\n",
       "      <td>261</td>\n",
       "      <td>415367</td>\n",
       "      <td>82713.282</td>\n",
       "    </tr>\n",
       "    <tr>\n",
       "      <th>san-nazzaro-gambarogno</th>\n",
       "      <td>san nazzaro-gambarogno</td>\n",
       "      <td>46.130443</td>\n",
       "      <td>8.798657</td>\n",
       "      <td>6575</td>\n",
       "      <td>CH</td>\n",
       "      <td>l</td>\n",
       "      <td>Lago Maggiore</td>\n",
       "      <td>gambarogno</td>\n",
       "      <td>lago-maggiore</td>\n",
       "      <td>True</td>\n",
       "      <td>Gambarogno</td>\n",
       "      <td>5398</td>\n",
       "      <td>5192</td>\n",
       "      <td>82847.267</td>\n",
       "    </tr>\n",
       "    <tr>\n",
       "      <th>...</th>\n",
       "      <td>...</td>\n",
       "      <td>...</td>\n",
       "      <td>...</td>\n",
       "      <td>...</td>\n",
       "      <td>...</td>\n",
       "      <td>...</td>\n",
       "      <td>...</td>\n",
       "      <td>...</td>\n",
       "      <td>...</td>\n",
       "      <td>...</td>\n",
       "      <td>...</td>\n",
       "      <td>...</td>\n",
       "      <td>...</td>\n",
       "      <td>...</td>\n",
       "    </tr>\n",
       "    <tr>\n",
       "      <th>goldach_goldach_schlachterj</th>\n",
       "      <td>goldach_goldach_schlachterj</td>\n",
       "      <td>47.473911</td>\n",
       "      <td>9.459309</td>\n",
       "      <td>9403</td>\n",
       "      <td>CH</td>\n",
       "      <td>r</td>\n",
       "      <td>Goldach</td>\n",
       "      <td>goldach</td>\n",
       "      <td>goldach</td>\n",
       "      <td>False</td>\n",
       "      <td>Goldach</td>\n",
       "      <td>3213</td>\n",
       "      <td>9269</td>\n",
       "      <td>20728.474</td>\n",
       "    </tr>\n",
       "    <tr>\n",
       "      <th>aabach</th>\n",
       "      <td>Aabach</td>\n",
       "      <td>47.220989</td>\n",
       "      <td>8.940365</td>\n",
       "      <td>8716</td>\n",
       "      <td>CH</td>\n",
       "      <td>l</td>\n",
       "      <td>Zurichsee</td>\n",
       "      <td>schmerikon</td>\n",
       "      <td>zurichsee</td>\n",
       "      <td>True</td>\n",
       "      <td>Schmerikon</td>\n",
       "      <td>3338</td>\n",
       "      <td>3710</td>\n",
       "      <td>51512.887</td>\n",
       "    </tr>\n",
       "    <tr>\n",
       "      <th>sihl_menzingen_kucharska_magdalena</th>\n",
       "      <td>Sihl_Menzingen_Kucharska_Magdalena</td>\n",
       "      <td>47.191501</td>\n",
       "      <td>8.618421</td>\n",
       "      <td>6313</td>\n",
       "      <td>CH</td>\n",
       "      <td>r</td>\n",
       "      <td>Sihl</td>\n",
       "      <td>menzingen</td>\n",
       "      <td>sihl</td>\n",
       "      <td>False</td>\n",
       "      <td>Menzingen</td>\n",
       "      <td>1704</td>\n",
       "      <td>4539</td>\n",
       "      <td>25191.464</td>\n",
       "    </tr>\n",
       "    <tr>\n",
       "      <th>gerra-gambarogno</th>\n",
       "      <td>gerra-gambarogno</td>\n",
       "      <td>46.123366</td>\n",
       "      <td>8.785786</td>\n",
       "      <td>6576</td>\n",
       "      <td>CH</td>\n",
       "      <td>l</td>\n",
       "      <td>Lago Maggiore</td>\n",
       "      <td>gambarogno</td>\n",
       "      <td>lago-maggiore</td>\n",
       "      <td>True</td>\n",
       "      <td>Gambarogno</td>\n",
       "      <td>5398</td>\n",
       "      <td>5192</td>\n",
       "      <td>18750.957</td>\n",
       "    </tr>\n",
       "    <tr>\n",
       "      <th>zurcher-strand</th>\n",
       "      <td>Zürcher Strand</td>\n",
       "      <td>47.364200</td>\n",
       "      <td>8.537420</td>\n",
       "      <td>8002</td>\n",
       "      <td>CH</td>\n",
       "      <td>l</td>\n",
       "      <td>Zurichsee</td>\n",
       "      <td>zurich</td>\n",
       "      <td>zurichsee</td>\n",
       "      <td>True</td>\n",
       "      <td>Zürich</td>\n",
       "      <td>261</td>\n",
       "      <td>415367</td>\n",
       "      <td>15690.375</td>\n",
       "    </tr>\n",
       "  </tbody>\n",
       "</table>\n",
       "<p>214 rows × 14 columns</p>\n",
       "</div>"
      ],
      "text/plain": [
       "                                                              location  \\\n",
       "slug                                                                     \n",
       "limmat_zurich_mortensena_meiera        limmat_zürich_mortensena_meiera   \n",
       "seemuhlestrasse-strand                          Seemühlestrasse Strand   \n",
       "rhein-beach-tinguely                              Rhein Beach Tinguely   \n",
       "sihl_zuerich_eggerskoehlingera          sihl_zuerich_eggerskoehlingera   \n",
       "san-nazzaro-gambarogno                          san nazzaro-gambarogno   \n",
       "...                                                                ...   \n",
       "goldach_goldach_schlachterj                goldach_goldach_schlachterj   \n",
       "aabach                                                          Aabach   \n",
       "sihl_menzingen_kucharska_magdalena  Sihl_Menzingen_Kucharska_Magdalena   \n",
       "gerra-gambarogno                                      gerra-gambarogno   \n",
       "zurcher-strand                                          Zürcher Strand   \n",
       "\n",
       "                                     latitude  longitude  post country water  \\\n",
       "slug                                                                           \n",
       "limmat_zurich_mortensena_meiera     47.400252   8.485411  8064      CH     r   \n",
       "seemuhlestrasse-strand              47.128640   9.295100  8880      CH     l   \n",
       "rhein-beach-tinguely                47.558644   7.612154  4058      CH     r   \n",
       "sihl_zuerich_eggerskoehlingera      47.381898   8.538328  8005      CH     r   \n",
       "san-nazzaro-gambarogno              46.130443   8.798657  6575      CH     l   \n",
       "...                                       ...        ...   ...     ...   ...   \n",
       "goldach_goldach_schlachterj         47.473911   9.459309  9403      CH     r   \n",
       "aabach                              47.220989   8.940365  8716      CH     l   \n",
       "sihl_menzingen_kucharska_magdalena  47.191501   8.618421  6313      CH     r   \n",
       "gerra-gambarogno                    46.123366   8.785786  6576      CH     l   \n",
       "zurcher-strand                      47.364200   8.537420  8002      CH     l   \n",
       "\n",
       "                                       water_name   city_slug     water_na_1  \\\n",
       "slug                                                                           \n",
       "limmat_zurich_mortensena_meiera            Limmat      zurich         limmat   \n",
       "seemuhlestrasse-strand                   Walensee  walenstadt       walensee   \n",
       "rhein-beach-tinguely                        Rhein       basel          rhein   \n",
       "sihl_zuerich_eggerskoehlingera               Sihl      zurich           sihl   \n",
       "san-nazzaro-gambarogno              Lago Maggiore  gambarogno  lago-maggiore   \n",
       "...                                           ...         ...            ...   \n",
       "goldach_goldach_schlachterj               Goldach     goldach        goldach   \n",
       "aabach                                  Zurichsee  schmerikon      zurichsee   \n",
       "sihl_menzingen_kucharska_magdalena           Sihl   menzingen           sihl   \n",
       "gerra-gambarogno                    Lago Maggiore  gambarogno  lago-maggiore   \n",
       "zurcher-strand                          Zurichsee      zurich      zurichsee   \n",
       "\n",
       "                                    is_2020        city  bfsnum  population  \\\n",
       "slug                                                                          \n",
       "limmat_zurich_mortensena_meiera        True      Zürich     261      415367   \n",
       "seemuhlestrasse-strand                 True  Walenstadt    3298        5679   \n",
       "rhein-beach-tinguely                  False       Basel    2701      172258   \n",
       "sihl_zuerich_eggerskoehlingera        False      Zürich     261      415367   \n",
       "san-nazzaro-gambarogno                 True  Gambarogno    5398        5192   \n",
       "...                                     ...         ...     ...         ...   \n",
       "goldach_goldach_schlachterj           False     Goldach    3213        9269   \n",
       "aabach                                 True  Schmerikon    3338        3710   \n",
       "sihl_menzingen_kucharska_magdalena    False   Menzingen    1704        4539   \n",
       "gerra-gambarogno                       True  Gambarogno    5398        5192   \n",
       "zurcher-strand                         True      Zürich     261      415367   \n",
       "\n",
       "                                       length  \n",
       "slug                                           \n",
       "limmat_zurich_mortensena_meiera     74734.557  \n",
       "seemuhlestrasse-strand              74734.557  \n",
       "rhein-beach-tinguely                19371.290  \n",
       "sihl_zuerich_eggerskoehlingera      82713.282  \n",
       "san-nazzaro-gambarogno              82847.267  \n",
       "...                                       ...  \n",
       "goldach_goldach_schlachterj         20728.474  \n",
       "aabach                              51512.887  \n",
       "sihl_menzingen_kucharska_magdalena  25191.464  \n",
       "gerra-gambarogno                    18750.957  \n",
       "zurcher-strand                      15690.375  \n",
       "\n",
       "[214 rows x 14 columns]"
      ]
     },
     "execution_count": 6,
     "metadata": {},
     "output_type": "execute_result"
    }
   ],
   "source": [
    "streets"
   ]
  },
  {
   "cell_type": "code",
   "execution_count": 7,
   "metadata": {},
   "outputs": [
    {
     "data": {
      "text/plain": [
       "1475"
      ]
     },
     "execution_count": 7,
     "metadata": {},
     "output_type": "execute_result"
    }
   ],
   "source": [
    "dfSurveys.loc[(dfSurveys.date =='2020-07-07')&(dfSurveys.location == 'grand-clos')].quantity.sum()"
   ]
  },
  {
   "cell_type": "code",
   "execution_count": 8,
   "metadata": {},
   "outputs": [],
   "source": [
    "project_directory = ut.make_project_folder(location_data, 'infrastructure_rankings')"
   ]
  },
  {
   "cell_type": "markdown",
   "metadata": {},
   "source": [
    "### <span style=\"color:#008891\">Map GIS data to beach data</span>\n",
    "\n",
    "When the attributes surounding each survey location are calculated in QGIS the data is keyed to the survey location 'slug'. Therefore the 'slug' column of the beach data can be used to map the results from the GIS data to the beach data."
   ]
  },
  {
   "cell_type": "code",
   "execution_count": 9,
   "metadata": {},
   "outputs": [],
   "source": [
    "def check_values(df, x, column):\n",
    "    if x in df.index:\n",
    "        package = df.loc[x][column]\n",
    "    else:\n",
    "        package = 0\n",
    "    return package\n",
    "    \n",
    "dfBeaches['buildings'] = dfBeaches.slug.map(lambda x:check_values(blds, x, \"surface\"))\n",
    "no_buildings = dfBeaches[dfBeaches.buildings == 0]\n",
    "\n",
    "dfBeaches['streets'] = dfBeaches.slug.map(lambda x:check_values(streets, x, \"length\"))\n",
    "no_streets = dfBeaches[dfBeaches.streets == 0]\n",
    "\n",
    "dfBeaches['intersects'] = dfBeaches.slug.map(lambda x:check_values(intersects, x, \"NUMPOINTS\"))\n",
    "no_intersects = dfBeaches[dfBeaches.intersects == 0]"
   ]
  },
  {
   "cell_type": "markdown",
   "metadata": {},
   "source": [
    "#### <span style=\"color:#008891\">Rank the locations by attribute value</span>"
   ]
  },
  {
   "cell_type": "code",
   "execution_count": 10,
   "metadata": {},
   "outputs": [
    {
     "name": "stdout",
     "output_type": "stream",
     "text": [
      "[9150, 9711, 9152, 293]\n"
     ]
    }
   ],
   "source": [
    "rip_bns = riparian.BFS_NUMMER.unique()\n",
    "pop_bns = popdata.index\n",
    "\n",
    "missing = [x for x in rip_bns if x not in pop_bns]\n",
    "\n",
    "print(missing)"
   ]
  },
  {
   "cell_type": "markdown",
   "metadata": {},
   "source": [
    "We are missing the population data from 4 of the 402 riparian communities inlcuded in this analysis. Make sure that none of those municipalities have a survey."
   ]
  },
  {
   "cell_type": "code",
   "execution_count": 11,
   "metadata": {},
   "outputs": [
    {
     "name": "stdout",
     "output_type": "stream",
     "text": [
      "[]\n"
     ]
    }
   ],
   "source": [
    "# look for beaches that in the missing data array\n",
    "print([x for x in dfBeaches.bfsnum.values if x in missing])"
   ]
  },
  {
   "cell_type": "code",
   "execution_count": 12,
   "metadata": {},
   "outputs": [
    {
     "name": "stdout",
     "output_type": "stream",
     "text": [
      "This is the summary data of the riparian municipalities of the study:\n",
      "count       398.000000\n",
      "mean       7469.213568\n",
      "std       25601.489087\n",
      "min          33.000000\n",
      "25%        1065.750000\n",
      "50%        2891.500000\n",
      "75%        6170.500000\n",
      "max      415367.000000\n",
      "Name: B18BTOT, dtype: float64\n",
      "\n",
      "\n",
      "This is the boundaries by 20th percentile of the project beaches:\n",
      "[(0, 2937.0), (2937.0, 5413.800000000001), (5413.800000000001, 12812.0), (26796.00000000001, 0)]\n"
     ]
    }
   ],
   "source": [
    "# get the 400 remaining populations from the riparian communities\n",
    "rip_pop = popdata.loc[popdata.index.isin([x for x in rip_bns if x not in missing])]\n",
    "print(F\"This is the summary data of the riparian municipalities of the study:\\n{rip_pop['B18BTOT'].describe()}\\n\")\n",
    "\n",
    "# break up the population by percentiles\n",
    "boundaries_rip = np.percentile(rip_pop['B18BTOT'], [12.5, 25, 37.5,50,62.5,75,87.5])\n",
    "boundaries_proj = np.percentile(dfBeaches[dfBeaches.water_name.isin(the_lakes)]['population'], [20,40,60,80])\n",
    "\n",
    "# make boundary pairs of the percentile\n",
    "def make_boundaries(percentiles):\n",
    "    i = len(percentiles)\n",
    "    end = i-1\n",
    "    package = []\n",
    "    for j,limit in enumerate(percentiles):\n",
    "        if j == 0:\n",
    "            this_limit = (0, limit)\n",
    "        elif j == end:\n",
    "            this_limit = (limit, 0)\n",
    "        else:\n",
    "            this_limit = (percentiles[j-1], limit)\n",
    "        package.append(this_limit)\n",
    "    return package\n",
    "bound_tuples_rip = make_boundaries(boundaries_rip)\n",
    "bound_tuples_proj = make_boundaries(boundaries_proj)\n",
    "\n",
    "print(F\"\\nThis is the boundaries by 20th percentile of the project beaches:\\n{bound_tuples_proj}\")"
   ]
  },
  {
   "cell_type": "code",
   "execution_count": 13,
   "metadata": {},
   "outputs": [],
   "source": [
    "# apply those boundaries to the beach data:\n",
    "# print(boundaries)\n",
    "def apply_boundaries(the_tuples, x):\n",
    "    groups = np.arange(1, len(the_tuples))\n",
    "    end = len(the_tuples)-1\n",
    "    group = 0\n",
    "    for i,a_tuple in enumerate(the_tuples):\n",
    "        if i == end:\n",
    "            group = i\n",
    "            break\n",
    "        elif x >= a_tuple[0] and x < a_tuple[1]:\n",
    "            group = i\n",
    "            break\n",
    "    return group\n",
    "\n",
    "dfBeaches['pop_group_proj'] = dfBeaches.population.map(lambda x: apply_boundaries(bound_tuples_proj, x))\n",
    "dfBeaches['pop_group_rip'] = dfBeaches.population.map(lambda x: apply_boundaries(bound_tuples_rip, x))"
   ]
  },
  {
   "cell_type": "code",
   "execution_count": 14,
   "metadata": {},
   "outputs": [
    {
     "data": {
      "image/png": "[encoded data removed]",
      "text/plain": [
       "<Figure size 432x288 with 1 Axes>"
      ]
     },
     "metadata": {
      "needs_background": "light"
     },
     "output_type": "display_data"
    }
   ],
   "source": [
    "data = dfBeaches[dfBeaches.water_name.isin(the_lakes)].groupby(['water_name','pop_group_proj'], as_index=False).slug.count()\n",
    "fig, ax = plt.subplots()\n",
    "\n",
    "g = sns.barplot(data=data, x='water_name', y='slug', hue='pop_group_proj', ax=ax)\n",
    "ax.tick_params(axis='x', rotation=45)\n",
    "ax.set_ylabel(\"Number of locations\", **ylab_k)\n",
    "ax.set_xlabel(\"\",)\n",
    "\n",
    "plt.show()"
   ]
  },
  {
   "cell_type": "markdown",
   "metadata": {},
   "source": [
    "#### <span style=\"color:#008891\">Rank the geo data</span>\n",
    "\n",
    "The total length of streets and the surface area allocated to buildings can be grouped like population. The river intersects are already in a count format ie.. number of river intersections within 1500m of the survey location."
   ]
  },
  {
   "cell_type": "code",
   "execution_count": 15,
   "metadata": {},
   "outputs": [
    {
     "name": "stdout",
     "output_type": "stream",
     "text": [
      "[(0, 9640.197400000001), (9640.197400000001, 22917.449800000002), (22917.449800000002, 33859.9708), (67110.27220000002, 0)]\n"
     ]
    }
   ],
   "source": [
    "# use the same percentiles as population:\n",
    "\n",
    "percents = [20,40,60,80]\n",
    "\n",
    "streetsp = np.percentile(dfBeaches[dfBeaches.water_name.isin(the_lakes)]['streets'], percents)\n",
    "bldsp = np.percentile(dfBeaches[dfBeaches.water_name.isin(the_lakes)]['buildings'], percents)\n",
    "\n",
    "bound_tuples_streets = make_boundaries(streetsp)\n",
    "bound_tuples_builds = make_boundaries(bldsp)\n",
    "\n",
    "dfBeaches['streets_rank'] = dfBeaches.population.map(lambda x: apply_boundaries(bound_tuples_streets, x))\n",
    "dfBeaches['buildings_rank'] = dfBeaches.population.map(lambda x: apply_boundaries(bound_tuples_builds, x))\n",
    "print(bound_tuples_builds )"
   ]
  },
  {
   "cell_type": "code",
   "execution_count": 16,
   "metadata": {},
   "outputs": [
    {
     "data": {
      "image/png": "[encoded data removed]",
      "text/plain": [
       "<Figure size 720x288 with 2 Axes>"
      ]
     },
     "metadata": {
      "needs_background": "light"
     },
     "output_type": "display_data"
    }
   ],
   "source": [
    "data_streets = dfBeaches[dfBeaches.water_name.isin(the_lakes)].groupby(['water_name','streets_rank'], as_index=False).slug.count()\n",
    "data_builds = dfBeaches[dfBeaches.water_name.isin(the_lakes)].groupby(['water_name','buildings_rank'], as_index=False).slug.count()\n",
    "fig, axs = plt.subplots(1,2, figsize=(10,4), sharey=True)\n",
    "\n",
    "ax1 = sns.barplot(data=data_streets, x='water_name', y='slug', hue='streets_rank', ax=axs[0])\n",
    "ax2 = sns.barplot(data=data_builds, x='water_name', y='slug', hue='buildings_rank', ax=axs[1])\n",
    "ax1.set_ylabel(\"Number of locations\", **ylab_k)\n",
    "ax2.set_ylabel(\"\")\n",
    "ax1.set_xlabel(\"\")\n",
    "ax2.set_xlabel(\"\")\n",
    "ax1.tick_params(axis='x', rotation=45)\n",
    "ax2.tick_params(axis='x', rotation=45, labelright=True)\n",
    "plt.tight_layout()\n",
    "plt.show()"
   ]
  },
  {
   "cell_type": "markdown",
   "metadata": {},
   "source": [
    "#### <span style=\"color:#008891\">Export the data</span>"
   ]
  },
  {
   "cell_type": "code",
   "execution_count": 17,
   "metadata": {},
   "outputs": [],
   "source": [
    "filename = F\"{location_data}/beaches_with_ranks.csv\"\n",
    "dfBeaches.to_csv(filename, index=False)"
   ]
  },
  {
   "cell_type": "markdown",
   "metadata": {},
   "source": [
    "#### Hopefully that just worked for you\n",
    "\n",
    "if not contact analyst@hammerdirt.ch"
   ]
  },
  {
   "cell_type": "code",
   "execution_count": null,
   "metadata": {},
   "outputs": [],
   "source": []
  }
 ],
 "metadata": {
  "kernelspec": {
   "display_name": "Python 3",
   "language": "python",
   "name": "python3"
  },
  "language_info": {
   "codemirror_mode": {
    "name": "ipython",
    "version": 3
   },
   "file_extension": ".py",
   "mimetype": "text/x-python",
   "name": "python",
   "nbconvert_exporter": "python",
   "pygments_lexer": "ipython3",
   "version": "3.8.3"
  }
 },
 "nbformat": 4,
 "nbformat_minor": 4
}
