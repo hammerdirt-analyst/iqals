{
 "cells": [
  {
   "cell_type": "markdown",
   "metadata": {},
   "source": [
    "## <span style=\"color:blue\">Attaching geo data to survey locations</span>\n",
    "\n",
    "### <span style=\"color:#008891\">The geo data is calculated weekly*</span>\n",
    "\n",
    "__What this does:__ This notebook produces the population and infrastructure attribute rankings for each survey location.\n",
    "\n",
    "__When to use it:__ After running 'getdataforrepo' run this notebook, the .csv file is used to map rankings and values to survey results.\n",
    "\n",
    "\n",
    "#### Tasks:\n",
    "\n",
    "1. Define the ranking boundaries for different geographic and demographic attributes at each survey location\n",
    "2. Exports a file to resources/location_data directory:\n",
    "   1. A .csv file with survey location data, attribute rankings and attribute values\n",
    "\n",
    "The method used to create the rankings can be changed, right now everything is split along 20% increments of the measured value.   \n",
    "   \n",
    "\\*This function will be automated in the future. For now this the responsibility of the lead analyst.\n",
    "\n",
    "questions or comments: analyst@hammerdirt.ch"
   ]
  },
  {
   "cell_type": "code",
   "execution_count": 1,
   "metadata": {},
   "outputs": [
    {
     "data": {
      "text/html": [
       "\n",
       "<style>\n",
       ".output {\n",
       "    display: flex;\n",
       "    align-items: center;\n",
       "    text-align: center;\n",
       "}\n",
       "</style>\n"
      ],
      "text/plain": [
       "<IPython.core.display.HTML object>"
      ]
     },
     "metadata": {},
     "output_type": "display_data"
    }
   ],
   "source": [
    "# sys, file and nav packages:\n",
    "import os\n",
    "import datetime as dt\n",
    "import csv\n",
    "\n",
    "# math packages:\n",
    "import pandas as pd\n",
    "import numpy as np\n",
    "from scipy import stats\n",
    "import datetime as dt \n",
    "\n",
    "\n",
    "# charting:\n",
    "import matplotlib as mpl\n",
    "import matplotlib.pyplot as plt\n",
    "import matplotlib.dates as mdates\n",
    "from matplotlib import ticker\n",
    "import seaborn as sns\n",
    "import matplotlib.gridspec as gridspec\n",
    "from IPython.display import display, HTML\n",
    "\n",
    "\n",
    "# home brew utitilties\n",
    "import utilities.utility_functions as ut\n",
    "\n",
    "# documenting\n",
    "from IPython.display import Markdown as md\n",
    "\n",
    "display(HTML(\"\"\"\n",
    "<style>\n",
    ".output {\n",
    "    display: flex;\n",
    "    align-items: center;\n",
    "    text-align: center;\n",
    "}\n",
    "</style>\n",
    "\"\"\"))"
   ]
  },
  {
   "cell_type": "code",
   "execution_count": 2,
   "metadata": {},
   "outputs": [],
   "source": [
    "# the local file structure. The resources are located in the corresponding directory.\n",
    "# the purpose and date should be included in the filename when saving results to output\n",
    "survey_data, location_data, code_defs, stat_ent, geo_data, output = ut.make_local_paths()"
   ]
  },
  {
   "cell_type": "code",
   "execution_count": 3,
   "metadata": {},
   "outputs": [],
   "source": [
    "# variables/arrays that are frequently used:\n",
    "# project lakes\n",
    "the_lakes = [\n",
    "    \"Bielersee\",\n",
    "    \"Walensee\",\n",
    "    \"Lac Léman\",\n",
    "    \"Zurichsee\",\n",
    "    \"Neuenburgersee\",\n",
    "    \"Thunersee\",\n",
    "    \"Lago Maggiore\",\n",
    "    \"Brienzersee\",\n",
    "    \n",
    "]\n",
    "\n",
    "the_rivs = [\n",
    "    'Aare',\n",
    "    'Rhône',\n",
    "    'Limmat',\n",
    "    'Linth',\n",
    "    'Ticino',\n",
    "]\n",
    "# project beaches\n",
    "poi = [\n",
    "    \"neuenburgersee_cudrefin_mattera\",\n",
    "    \"la-petite-plage\",\n",
    "    \"evole-plage\",\n",
    "    \"plage-de-cheyres\",\n",
    "    \"mullermatte\",\n",
    "    \"bielersee_vinelz_fankhausers\",\n",
    "    \"baby-plage-geneva\",\n",
    "    \"baye-de-montreux-g\",\n",
    "    \"grand-clos\",\n",
    "    \"preverenges\",\n",
    "    \"quai-maria-belgia\",\n",
    "    \"zurichsee_wollishofen_langendorfm\",\n",
    "    \"zurichsee_kusnachterhorn_thirkell-whitej\",\n",
    "    \"zuerichsee_richterswil_benkoem_2\",     \n",
    "    \"rastplatz-stampf\",\n",
    "    \"weissenau-neuhaus\",\n",
    "    \"thunersee_spiez_meierd_1\",\n",
    "    \"walensee_walenstadt_wysse\",\n",
    "    \"gasi-strand\",\n",
    "    \"vira-gambarogno\",\n",
    "    \"sentiero-giro-del-golf-spiaggia\",\n",
    "    \"maladaire\"\n",
    "   \n",
    "]"
   ]
  },
  {
   "cell_type": "code",
   "execution_count": 4,
   "metadata": {},
   "outputs": [],
   "source": [
    "# standard formats already in use for charts \n",
    "# you can just apply these as kwargs to different elements...\n",
    "table_k = dict(loc=\"top left\", bbox=(0,0,1,1), colWidths=[.5, .5], cellLoc='center')\n",
    "tablecenter_k = dict(loc=\"top left\", bbox=(0,0,1,1), cellLoc='center')\n",
    "tabtickp_k = dict(axis='both', which='both', bottom=False, top=False, left=False, right=False, labelleft=False, labelbottom=False)\n",
    "title_k = {'loc':'left', 'pad':10, 'linespacing':1.5, 'fontsize':12}\n",
    "title_k20 = {'loc':'left', 'pad':10, 'linespacing':1.5, 'fontsize':12, 'color':'dodgerblue'}\n",
    "title_k17 = {'loc':'left', 'pad':10, 'linespacing':1.5, 'fontsize':12, 'color':'salmon'}\n",
    "titler_k20 = {'loc':'right', 'pad':10, 'linespacing':1.5, 'fontsize':12, 'color':'dodgerblue'}\n",
    "titler_k17 = {'loc':'right', 'pad':10, 'linespacing':1.5, 'fontsize':12, 'color':'salmon'}\n",
    "xlab_k = {'labelpad':10, 'fontsize':12}\n",
    "ylab_k = {'labelpad':14, 'fontsize':14}\n",
    "titler_k = {'loc':'right', 'pad':10, 'linespacing':1.5, 'fontsize':12}\n",
    "\n",
    "# use these to format date axis in charts\n",
    "weeks = mdates.WeekdayLocator(byweekday=1, interval=4)\n",
    "days = mdates.DayLocator(bymonthday=1, interval=1)\n",
    "months = mdates.MonthLocator(bymonth=[3,6,9,12])\n",
    "wks_fmt = mdates.DateFormatter('%d')\n",
    "mths_fmt = mdates.DateFormatter('%b')"
   ]
  },
  {
   "cell_type": "code",
   "execution_count": 5,
   "metadata": {},
   "outputs": [],
   "source": [
    "# aggregated survey data\n",
    "dfAgg = pd.read_csv(F\"{survey_data}/results_with_zeroes_aggregated_parent.csv\")\n",
    "dfAgg['date'] = pd.to_datetime(dfAgg['date'])\n",
    "\n",
    "# non aggregated survey data\n",
    "dfSurveys = pd.read_csv(F\"{survey_data}/results_with_zeroes.csv\")\n",
    "dfSurveys['date'] = pd.to_datetime(dfSurveys['date'])\n",
    "\n",
    "# beach data\n",
    "dfBeaches = pd.read_csv(F\"{location_data}/beaches_with_pop_r.csv\")\n",
    "\n",
    "# population data\n",
    "popdata = pd.read_csv(F\"{stat_ent}/STATPOP2018_GMDE.csv\")\n",
    "popdata.set_index('GDENR', inplace=True, drop=True)\n",
    "\n",
    "# bfs number and commune keys\n",
    "popkeys = pd.read_csv(F\"{stat_ent}/bfs_num.csv\")\n",
    "# popkeys.set_index('GDENR', inplace=True, drop=True)\n",
    "\n",
    "# the list of riparian communities\n",
    "riparian = pd.read_csv(F\"{stat_ent}/riparian_communities.csv\")\n",
    "\n",
    "# gis data, set the index to slug and get rid of the old index:\n",
    "blds = pd.read_csv(F\"{geo_data}/exp_variables/builds_500.csv\")\n",
    "blds.set_index('slug', inplace=True, drop=True)\n",
    "streets = pd.read_csv(F\"{geo_data}/exp_variables/strasse_1000.csv\")\n",
    "streets.set_index('slug', inplace=True, drop=True)\n",
    "intersects = pd.read_csv(F\"{geo_data}/exp_variables/riparian_intersects.csv\")\n",
    "intersects.set_index('slug', inplace=True, drop=True)\n",
    "\n",
    "# code definitions\n",
    "dfCodes = pd.read_csv(F\"{code_defs}/mlw_codes.csv\")"
   ]
  },
  {
   "cell_type": "code",
   "execution_count": 6,
   "metadata": {},
   "outputs": [
    {
     "data": {
      "text/html": [
       "<div>\n",
       "<style scoped>\n",
       "    .dataframe tbody tr th:only-of-type {\n",
       "        vertical-align: middle;\n",
       "    }\n",
       "\n",
       "    .dataframe tbody tr th {\n",
       "        vertical-align: top;\n",
       "    }\n",
       "\n",
       "    .dataframe thead th {\n",
       "        text-align: right;\n",
       "    }\n",
       "</style>\n",
       "<table border=\"1\" class=\"dataframe\">\n",
       "  <thead>\n",
       "    <tr style=\"text-align: right;\">\n",
       "      <th></th>\n",
       "      <th>UUID</th>\n",
       "      <th>OBJEKTART</th>\n",
       "      <th>WANDERWEGE</th>\n",
       "      <th>RICHTUNGSG</th>\n",
       "      <th>KREISEL</th>\n",
       "      <th>water_name</th>\n",
       "      <th>city</th>\n",
       "      <th>bfsnum</th>\n",
       "      <th>length</th>\n",
       "    </tr>\n",
       "    <tr>\n",
       "      <th>slug</th>\n",
       "      <th></th>\n",
       "      <th></th>\n",
       "      <th></th>\n",
       "      <th></th>\n",
       "      <th></th>\n",
       "      <th></th>\n",
       "      <th></th>\n",
       "      <th></th>\n",
       "      <th></th>\n",
       "    </tr>\n",
       "  </thead>\n",
       "  <tbody>\n",
       "    <tr>\n",
       "      <th>thun-strandbad</th>\n",
       "      <td>{23490782-9837-499D-B57B-75043C35BDCE}</td>\n",
       "      <td>10m Strasse</td>\n",
       "      <td>NaN</td>\n",
       "      <td>Falsch</td>\n",
       "      <td>Falsch</td>\n",
       "      <td>Thunersee</td>\n",
       "      <td>Thun</td>\n",
       "      <td>942</td>\n",
       "      <td>35857.128</td>\n",
       "    </tr>\n",
       "    <tr>\n",
       "      <th>zulg_steffisburg_schmassmanne</th>\n",
       "      <td>{61F78CF3-29B2-407C-ADA8-3B627AF842F6}</td>\n",
       "      <td>Zufahrt</td>\n",
       "      <td>NaN</td>\n",
       "      <td>Falsch</td>\n",
       "      <td>k_W</td>\n",
       "      <td>Zulg</td>\n",
       "      <td>Steffisburg</td>\n",
       "      <td>939</td>\n",
       "      <td>58358.188</td>\n",
       "    </tr>\n",
       "    <tr>\n",
       "      <th>lotschebach_bern_scheurerk</th>\n",
       "      <td>{5B134D41-173F-45E4-853A-966F404BB079}</td>\n",
       "      <td>6m Strasse</td>\n",
       "      <td>NaN</td>\n",
       "      <td>Falsch</td>\n",
       "      <td>Falsch</td>\n",
       "      <td>Lötschebach</td>\n",
       "      <td>Ostermundigen</td>\n",
       "      <td>363</td>\n",
       "      <td>8292.832</td>\n",
       "    </tr>\n",
       "    <tr>\n",
       "      <th>rocky-plage</th>\n",
       "      <td>{F964F873-C727-477A-B4A8-8B923AF5E96E}</td>\n",
       "      <td>10m Strasse</td>\n",
       "      <td>NaN</td>\n",
       "      <td>Falsch</td>\n",
       "      <td>Falsch</td>\n",
       "      <td>Lac Léman</td>\n",
       "      <td>Genève</td>\n",
       "      <td>6621</td>\n",
       "      <td>44494.892</td>\n",
       "    </tr>\n",
       "    <tr>\n",
       "      <th>spackmatt</th>\n",
       "      <td>{70A2EFC6-0546-4BF3-899C-1635EDCD5071}</td>\n",
       "      <td>10m Strasse</td>\n",
       "      <td>NaN</td>\n",
       "      <td>Falsch</td>\n",
       "      <td>Falsch</td>\n",
       "      <td>Aare</td>\n",
       "      <td>Luterbach</td>\n",
       "      <td>2527</td>\n",
       "      <td>39824.889</td>\n",
       "    </tr>\n",
       "    <tr>\n",
       "      <th>...</th>\n",
       "      <td>...</td>\n",
       "      <td>...</td>\n",
       "      <td>...</td>\n",
       "      <td>...</td>\n",
       "      <td>...</td>\n",
       "      <td>...</td>\n",
       "      <td>...</td>\n",
       "      <td>...</td>\n",
       "      <td>...</td>\n",
       "    </tr>\n",
       "    <tr>\n",
       "      <th>mullermatte</th>\n",
       "      <td>{A6CEA352-B8C7-433B-AF9F-FBF2DDC601BE}</td>\n",
       "      <td>10m Strasse</td>\n",
       "      <td>Wanderweg</td>\n",
       "      <td>Falsch</td>\n",
       "      <td>Falsch</td>\n",
       "      <td>Bielersee</td>\n",
       "      <td>Biel/Bienne</td>\n",
       "      <td>371</td>\n",
       "      <td>44891.158</td>\n",
       "    </tr>\n",
       "    <tr>\n",
       "      <th>evole-plage</th>\n",
       "      <td>{3658045E-BC47-43E0-8209-B1AD9B3F2BF5}</td>\n",
       "      <td>Autobahn</td>\n",
       "      <td>NaN</td>\n",
       "      <td>Wahr</td>\n",
       "      <td>Falsch</td>\n",
       "      <td>Neuenburgersee</td>\n",
       "      <td>Neuchâtel</td>\n",
       "      <td>6458</td>\n",
       "      <td>55309.679</td>\n",
       "    </tr>\n",
       "    <tr>\n",
       "      <th>lavey-les-bains</th>\n",
       "      <td>{B4DD9FB4-1940-4694-8C9B-D893C52D63BF}</td>\n",
       "      <td>Autobahn</td>\n",
       "      <td>NaN</td>\n",
       "      <td>Wahr</td>\n",
       "      <td>Falsch</td>\n",
       "      <td>Rhône</td>\n",
       "      <td>Lavey-Morcles</td>\n",
       "      <td>5406</td>\n",
       "      <td>48412.450</td>\n",
       "    </tr>\n",
       "    <tr>\n",
       "      <th>limmat_zurich_mortensena_meiera</th>\n",
       "      <td>{087D9AC4-E653-4143-A2F5-41022FC40622}</td>\n",
       "      <td>Autobahn</td>\n",
       "      <td>NaN</td>\n",
       "      <td>Wahr</td>\n",
       "      <td>Falsch</td>\n",
       "      <td>Limmat</td>\n",
       "      <td>Zürich</td>\n",
       "      <td>261</td>\n",
       "      <td>74734.557</td>\n",
       "    </tr>\n",
       "    <tr>\n",
       "      <th>oyonne</th>\n",
       "      <td>{1430BB37-34D5-44C6-89E7-85D01410244C}</td>\n",
       "      <td>6m Strasse</td>\n",
       "      <td>NaN</td>\n",
       "      <td>Falsch</td>\n",
       "      <td>Falsch</td>\n",
       "      <td>Lac Léman</td>\n",
       "      <td>La Tour-de-Peilz</td>\n",
       "      <td>5889</td>\n",
       "      <td>49104.993</td>\n",
       "    </tr>\n",
       "  </tbody>\n",
       "</table>\n",
       "<p>158 rows × 9 columns</p>\n",
       "</div>"
      ],
      "text/plain": [
       "                                                                   UUID  \\\n",
       "slug                                                                      \n",
       "thun-strandbad                   {23490782-9837-499D-B57B-75043C35BDCE}   \n",
       "zulg_steffisburg_schmassmanne    {61F78CF3-29B2-407C-ADA8-3B627AF842F6}   \n",
       "lotschebach_bern_scheurerk       {5B134D41-173F-45E4-853A-966F404BB079}   \n",
       "rocky-plage                      {F964F873-C727-477A-B4A8-8B923AF5E96E}   \n",
       "spackmatt                        {70A2EFC6-0546-4BF3-899C-1635EDCD5071}   \n",
       "...                                                                 ...   \n",
       "mullermatte                      {A6CEA352-B8C7-433B-AF9F-FBF2DDC601BE}   \n",
       "evole-plage                      {3658045E-BC47-43E0-8209-B1AD9B3F2BF5}   \n",
       "lavey-les-bains                  {B4DD9FB4-1940-4694-8C9B-D893C52D63BF}   \n",
       "limmat_zurich_mortensena_meiera  {087D9AC4-E653-4143-A2F5-41022FC40622}   \n",
       "oyonne                           {1430BB37-34D5-44C6-89E7-85D01410244C}   \n",
       "\n",
       "                                   OBJEKTART WANDERWEGE RICHTUNGSG KREISEL  \\\n",
       "slug                                                                         \n",
       "thun-strandbad                   10m Strasse        NaN     Falsch  Falsch   \n",
       "zulg_steffisburg_schmassmanne        Zufahrt        NaN     Falsch     k_W   \n",
       "lotschebach_bern_scheurerk        6m Strasse        NaN     Falsch  Falsch   \n",
       "rocky-plage                      10m Strasse        NaN     Falsch  Falsch   \n",
       "spackmatt                        10m Strasse        NaN     Falsch  Falsch   \n",
       "...                                      ...        ...        ...     ...   \n",
       "mullermatte                      10m Strasse  Wanderweg     Falsch  Falsch   \n",
       "evole-plage                         Autobahn        NaN       Wahr  Falsch   \n",
       "lavey-les-bains                     Autobahn        NaN       Wahr  Falsch   \n",
       "limmat_zurich_mortensena_meiera     Autobahn        NaN       Wahr  Falsch   \n",
       "oyonne                            6m Strasse        NaN     Falsch  Falsch   \n",
       "\n",
       "                                     water_name              city  bfsnum  \\\n",
       "slug                                                                        \n",
       "thun-strandbad                        Thunersee              Thun     942   \n",
       "zulg_steffisburg_schmassmanne              Zulg       Steffisburg     939   \n",
       "lotschebach_bern_scheurerk          Lötschebach     Ostermundigen     363   \n",
       "rocky-plage                           Lac Léman            Genève    6621   \n",
       "spackmatt                                  Aare         Luterbach    2527   \n",
       "...                                         ...               ...     ...   \n",
       "mullermatte                           Bielersee       Biel/Bienne     371   \n",
       "evole-plage                      Neuenburgersee         Neuchâtel    6458   \n",
       "lavey-les-bains                           Rhône     Lavey-Morcles    5406   \n",
       "limmat_zurich_mortensena_meiera          Limmat            Zürich     261   \n",
       "oyonne                                Lac Léman  La Tour-de-Peilz    5889   \n",
       "\n",
       "                                    length  \n",
       "slug                                        \n",
       "thun-strandbad                   35857.128  \n",
       "zulg_steffisburg_schmassmanne    58358.188  \n",
       "lotschebach_bern_scheurerk        8292.832  \n",
       "rocky-plage                      44494.892  \n",
       "spackmatt                        39824.889  \n",
       "...                                    ...  \n",
       "mullermatte                      44891.158  \n",
       "evole-plage                      55309.679  \n",
       "lavey-les-bains                  48412.450  \n",
       "limmat_zurich_mortensena_meiera  74734.557  \n",
       "oyonne                           49104.993  \n",
       "\n",
       "[158 rows x 9 columns]"
      ]
     },
     "execution_count": 6,
     "metadata": {},
     "output_type": "execute_result"
    }
   ],
   "source": [
    "streets"
   ]
  },
  {
   "cell_type": "code",
   "execution_count": 7,
   "metadata": {},
   "outputs": [
    {
     "data": {
      "text/plain": [
       "1475"
      ]
     },
     "execution_count": 7,
     "metadata": {},
     "output_type": "execute_result"
    }
   ],
   "source": [
    "dfSurveys.loc[(dfSurveys.date =='2020-07-07')&(dfSurveys.location == 'grand-clos')].quantity.sum()"
   ]
  },
  {
   "cell_type": "code",
   "execution_count": 8,
   "metadata": {},
   "outputs": [],
   "source": [
    "project_directory = ut.make_project_folder(location_data, 'infrastructure_rankings')"
   ]
  },
  {
   "cell_type": "markdown",
   "metadata": {},
   "source": [
    "### <span style=\"color:#008891\">Map GIS data to beach data</span>\n",
    "\n",
    "When the attributes surounding each survey location are calculated in QGIS the data is keyed to the survey location 'slug'. Therefore the 'slug' column of the beach data can be used to map the results from the GIS data to the beach data."
   ]
  },
  {
   "cell_type": "code",
   "execution_count": 9,
   "metadata": {},
   "outputs": [],
   "source": [
    "def check_values(df, x, column):\n",
    "    if x in df.index:\n",
    "        package = df.loc[x][column]\n",
    "    else:\n",
    "        package = 0\n",
    "    return package\n",
    "    \n",
    "dfBeaches['buildings'] = dfBeaches.slug.map(lambda x:check_values(blds, x, \"area\"))\n",
    "no_buildings = dfBeaches[dfBeaches.buildings == 0]\n",
    "\n",
    "dfBeaches['streets'] = dfBeaches.slug.map(lambda x:check_values(streets, x, \"length\"))\n",
    "no_streets = dfBeaches[dfBeaches.streets == 0]\n",
    "\n",
    "dfBeaches['intersects'] = dfBeaches.slug.map(lambda x:check_values(intersects, x, \"NUMPOINTS\"))\n",
    "no_intersects = dfBeaches[dfBeaches.intersects == 0]"
   ]
  },
  {
   "cell_type": "markdown",
   "metadata": {},
   "source": [
    "#### <span style=\"color:#008891\">Rank the locations by attribute value</span>"
   ]
  },
  {
   "cell_type": "code",
   "execution_count": 10,
   "metadata": {},
   "outputs": [
    {
     "name": "stdout",
     "output_type": "stream",
     "text": [
      "[9150, 9711, 9152, 293]\n"
     ]
    }
   ],
   "source": [
    "rip_bns = riparian.BFS_NUMMER.unique()\n",
    "pop_bns = popdata.index\n",
    "\n",
    "missing = [x for x in rip_bns if x not in pop_bns]\n",
    "\n",
    "print(missing)"
   ]
  },
  {
   "cell_type": "markdown",
   "metadata": {},
   "source": [
    "We are missing the population data from 4 of the 402 riparian communities inlcuded in this analysis. Make sure that none of those municipalities have a survey."
   ]
  },
  {
   "cell_type": "code",
   "execution_count": 11,
   "metadata": {},
   "outputs": [
    {
     "name": "stdout",
     "output_type": "stream",
     "text": [
      "[]\n"
     ]
    }
   ],
   "source": [
    "# look for beaches that in the missing data array\n",
    "print([x for x in dfBeaches.bfsnum.values if x in missing])"
   ]
  },
  {
   "cell_type": "code",
   "execution_count": 12,
   "metadata": {},
   "outputs": [
    {
     "name": "stdout",
     "output_type": "stream",
     "text": [
      "This is the summary data of the riparian municipalities of the study:\n",
      "count       398.000000\n",
      "mean       7469.213568\n",
      "std       25601.489087\n",
      "min          33.000000\n",
      "25%        1065.750000\n",
      "50%        2891.500000\n",
      "75%        6170.500000\n",
      "max      415367.000000\n",
      "Name: B18BTOT, dtype: float64\n",
      "\n",
      "\n",
      "This is the boundaries by 20th percentile of the project beaches:\n",
      "[(0, 2937.0), (2937.0, 5481.0), (5481.0, 12812.0), (26999.0, 0)]\n"
     ]
    }
   ],
   "source": [
    "# get the 400 remaining populations from the riparian communities\n",
    "rip_pop = popdata.loc[popdata.index.isin([x for x in rip_bns if x not in missing])]\n",
    "print(F\"This is the summary data of the riparian municipalities of the study:\\n{rip_pop['B18BTOT'].describe()}\\n\")\n",
    "\n",
    "# break up the population by percentiles\n",
    "boundaries_rip = np.percentile(rip_pop['B18BTOT'], [12.5, 25, 37.5,50,62.5,75,87.5])\n",
    "boundaries_proj = np.percentile(dfBeaches[dfBeaches.water_name.isin(the_lakes)]['population'], [20,40,60,80])\n",
    "\n",
    "# make boundary pairs of the percentile\n",
    "def make_boundaries(percentiles):\n",
    "    i = len(percentiles)\n",
    "    end = i-1\n",
    "    package = []\n",
    "    for j,limit in enumerate(percentiles):\n",
    "        if j == 0:\n",
    "            this_limit = (0, limit)\n",
    "        elif j == end:\n",
    "            this_limit = (limit, 0)\n",
    "        else:\n",
    "            this_limit = (percentiles[j-1], limit)\n",
    "        package.append(this_limit)\n",
    "    return package\n",
    "bound_tuples_rip = make_boundaries(boundaries_rip)\n",
    "bound_tuples_proj = make_boundaries(boundaries_proj)\n",
    "\n",
    "print(F\"\\nThis is the boundaries by 20th percentile of the project beaches:\\n{bound_tuples_proj}\")"
   ]
  },
  {
   "cell_type": "code",
   "execution_count": 13,
   "metadata": {},
   "outputs": [],
   "source": [
    "# apply those boundaries to the beach data:\n",
    "# print(boundaries)\n",
    "def apply_boundaries(the_tuples, x):\n",
    "    groups = np.arange(1, len(the_tuples))\n",
    "    end = len(the_tuples)-1\n",
    "    group = 0\n",
    "    for i,a_tuple in enumerate(the_tuples):\n",
    "        if i == end:\n",
    "            group = i\n",
    "            break\n",
    "        elif x >= a_tuple[0] and x < a_tuple[1]:\n",
    "            group = i\n",
    "            break\n",
    "    return group\n",
    "\n",
    "dfBeaches['pop_group_proj'] = dfBeaches.population.map(lambda x: apply_boundaries(bound_tuples_proj, x))\n",
    "dfBeaches['pop_group_rip'] = dfBeaches.population.map(lambda x: apply_boundaries(bound_tuples_rip, x))"
   ]
  },
  {
   "cell_type": "code",
   "execution_count": 14,
   "metadata": {},
   "outputs": [
    {
     "data": {
      "image/png": "[encoded data removed]",
      "text/plain": [
       "<Figure size 432x288 with 1 Axes>"
      ]
     },
     "metadata": {
      "needs_background": "light"
     },
     "output_type": "display_data"
    }
   ],
   "source": [
    "data = dfBeaches[dfBeaches.water_name.isin(the_lakes)].groupby(['water_name','pop_group_proj'], as_index=False).slug.count()\n",
    "fig, ax = plt.subplots()\n",
    "\n",
    "g = sns.barplot(data=data, x='water_name', y='slug', hue='pop_group_proj', ax=ax)\n",
    "ax.tick_params(axis='x', rotation=45)\n",
    "ax.set_ylabel(\"Number of locations\", **ylab_k)\n",
    "ax.set_xlabel(\"\",)\n",
    "\n",
    "plt.show()"
   ]
  },
  {
   "cell_type": "markdown",
   "metadata": {},
   "source": [
    "#### <span style=\"color:#008891\">Rank the geo data</span>\n",
    "\n",
    "The total length of streets and the surface area allocated to buildings can be grouped like population. The river intersects are already in a count format ie.. number of river intersections within 1500m of the survey location."
   ]
  },
  {
   "cell_type": "code",
   "execution_count": 15,
   "metadata": {},
   "outputs": [
    {
     "name": "stdout",
     "output_type": "stream",
     "text": [
      "[(0, 7953.5426), (7953.5426, 22485.496), (22485.496, 33637.2342), (69288.60140000004, 0)]\n"
     ]
    }
   ],
   "source": [
    "# use the same percentiles as population:\n",
    "\n",
    "percents = [20,40,60,80]\n",
    "\n",
    "streetsp = np.percentile(dfBeaches[dfBeaches.water_name.isin(the_lakes)]['streets'], percents)\n",
    "bldsp = np.percentile(dfBeaches[dfBeaches.water_name.isin(the_lakes)]['buildings'], percents)\n",
    "\n",
    "bound_tuples_streets = make_boundaries(streetsp)\n",
    "bound_tuples_builds = make_boundaries(bldsp)\n",
    "\n",
    "dfBeaches['streets_rank'] = dfBeaches.population.map(lambda x: apply_boundaries(bound_tuples_streets, x))\n",
    "dfBeaches['buildings_rank'] = dfBeaches.population.map(lambda x: apply_boundaries(bound_tuples_builds, x))\n",
    "print(bound_tuples_builds )"
   ]
  },
  {
   "cell_type": "code",
   "execution_count": 16,
   "metadata": {},
   "outputs": [
    {
     "data": {
      "image/png": "[encoded data removed]",
      "text/plain": [
       "<Figure size 720x288 with 2 Axes>"
      ]
     },
     "metadata": {
      "needs_background": "light"
     },
     "output_type": "display_data"
    }
   ],
   "source": [
    "data_streets = dfBeaches[dfBeaches.water_name.isin(the_lakes)].groupby(['water_name','streets_rank'], as_index=False).slug.count()\n",
    "data_builds = dfBeaches[dfBeaches.water_name.isin(the_lakes)].groupby(['water_name','buildings_rank'], as_index=False).slug.count()\n",
    "fig, axs = plt.subplots(1,2, figsize=(10,4), sharey=True)\n",
    "\n",
    "ax1 = sns.barplot(data=data_streets, x='water_name', y='slug', hue='streets_rank', ax=axs[0])\n",
    "ax2 = sns.barplot(data=data_builds, x='water_name', y='slug', hue='buildings_rank', ax=axs[1])\n",
    "ax1.set_ylabel(\"Number of locations\", **ylab_k)\n",
    "ax2.set_ylabel(\"\")\n",
    "ax1.set_xlabel(\"\")\n",
    "ax2.set_xlabel(\"\")\n",
    "ax1.tick_params(axis='x', rotation=45)\n",
    "ax2.tick_params(axis='x', rotation=45, labelright=True)\n",
    "plt.tight_layout()\n",
    "plt.show()"
   ]
  },
  {
   "cell_type": "markdown",
   "metadata": {},
   "source": [
    "#### <span style=\"color:#008891\">Export the data</span>"
   ]
  },
  {
   "cell_type": "code",
   "execution_count": 17,
   "metadata": {},
   "outputs": [],
   "source": [
    "filename = F\"{location_data}/beaches_with_ranks.csv\"\n",
    "dfBeaches.to_csv(filename, index=False)"
   ]
  },
  {
   "cell_type": "markdown",
   "metadata": {},
   "source": [
    "#### Hopefully that just worked for you\n",
    "\n",
    "if not contact analyst@hammerdirt.ch"
   ]
  },
  {
   "cell_type": "code",
   "execution_count": null,
   "metadata": {},
   "outputs": [],
   "source": []
  }
 ],
 "metadata": {
  "kernelspec": {
   "display_name": "Python 3",
   "language": "python",
   "name": "python3"
  },
  "language_info": {
   "codemirror_mode": {
    "name": "ipython",
    "version": 3
   },
   "file_extension": ".py",
   "mimetype": "text/x-python",
   "name": "python",
   "nbconvert_exporter": "python",
   "pygments_lexer": "ipython3",
   "version": "3.7.6"
  }
 },
 "nbformat": 4,
 "nbformat_minor": 4
}
