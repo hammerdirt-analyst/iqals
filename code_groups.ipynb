{
 "cells": [
  {
   "cell_type": "markdown",
   "metadata": {},
   "source": [
    "## <span style=\"color:blue\">Code groups</span>\n",
    "\n",
    "### <span style=\"color:#008891\">Define what this is for</span>\n",
    "\n",
    "__What this does:__ This note book...\n",
    "\n",
    "__When to use it:__ Whenever you want to ...\n",
    "\n",
    "#### Tasks:\n",
    "\n",
    "hjkblkhvgljhvkj\n",
    "\n",
    "jkhvkjcvkjv\n",
    "\n",
    "\n",
    "\n",
    "questions or comments: shannon@hammerdirt.ch"
   ]
  },
  {
   "cell_type": "code",
   "execution_count": 1,
   "metadata": {
    "code_folding": [
     0
    ]
   },
   "outputs": [
    {
     "data": {
      "text/html": [
       "\n",
       "<style>\n",
       ".output {\n",
       "    display: flex;\n",
       "    align-items: center;\n",
       "    text-align: center;\n",
       "}\n",
       "</style>\n"
      ],
      "text/plain": [
       "<IPython.core.display.HTML object>"
      ]
     },
     "metadata": {},
     "output_type": "display_data"
    }
   ],
   "source": [
    "# sys, file and nav packages:\n",
    "import os\n",
    "import datetime as dt\n",
    "import csv\n",
    "\n",
    "# math packages:\n",
    "import pandas as pd\n",
    "import numpy as np\n",
    "from scipy import stats\n",
    "import datetime as dt \n",
    "\n",
    "\n",
    "# charting:\n",
    "import matplotlib as mpl\n",
    "import matplotlib.pyplot as plt\n",
    "import matplotlib.dates as mdates\n",
    "from matplotlib import ticker\n",
    "import seaborn as sns\n",
    "import matplotlib.gridspec as gridspec\n",
    "from IPython.display import display, HTML\n",
    "\n",
    "\n",
    "# home brew utitilties\n",
    "import utilities.utility_functions as ut\n",
    "\n",
    "# documenting\n",
    "from IPython.display import Markdown as md\n",
    "\n",
    "display(HTML(\"\"\"\n",
    "<style>\n",
    ".output {\n",
    "    display: flex;\n",
    "    align-items: center;\n",
    "    text-align: center;\n",
    "}\n",
    "</style>\n",
    "\"\"\"))"
   ]
  },
  {
   "cell_type": "code",
   "execution_count": 2,
   "metadata": {},
   "outputs": [],
   "source": [
    "# the local file structure. The resources are located in the corresponding directory.\n",
    "# the purpose and date should be included in the filename when saving results to output\n",
    "survey_data, location_data, code_defs, stat_ent, geo_data, output = ut.make_local_paths()"
   ]
  },
  {
   "cell_type": "code",
   "execution_count": 3,
   "metadata": {},
   "outputs": [],
   "source": [
    "# probably want to keep these... the works already done\n",
    "# aggregated survey data\n",
    "dfAgg = pd.read_csv(F\"{survey_data}/results_with_zeroes_aggregated_parent.csv\")\n",
    "dfAgg['date'] = pd.to_datetime(dfAgg['date'])\n",
    "\n",
    "# non aggregated survey data\n",
    "dfSurveys = pd.read_csv(F\"{survey_data}/results_with_zeroes.csv\")\n",
    "dfSurveys['date'] = pd.to_datetime(dfSurveys['date'])\n",
    "\n",
    "# beach data\n",
    "dfBeaches = pd.read_csv(F\"{location_data}/beaches_pop_bfs.csv\")\n",
    "\n",
    "# code definitions\n",
    "dfCodes = pd.read_csv(F\"{code_defs}/mlw_codes.csv\")"
   ]
  },
  {
   "cell_type": "code",
   "execution_count": 4,
   "metadata": {},
   "outputs": [
    {
     "name": "stdout",
     "output_type": "stream",
     "text": [
      "That project exists\n"
     ]
    }
   ],
   "source": [
    "project_dir = ut.make_project_folder(output, 'code_groups')"
   ]
  },
  {
   "cell_type": "markdown",
   "metadata": {},
   "source": [
    "### <span style=\"color:#008891\">Micro codes</span>\n",
    "\n",
    "describe micro codes"
   ]
  },
  {
   "cell_type": "code",
   "execution_count": 5,
   "metadata": {},
   "outputs": [
    {
     "name": "stdout",
     "output_type": "stream",
     "text": [
      "putting: output/code_groups/codeListMicros.json\n"
     ]
    }
   ],
   "source": [
    "codesmicro=[\"G112\", \"G106\", \"G117\", \"G103\", \"G104\", \"G105\", \"G107\", \"G108\", \"G109\", \"G110\", \"G111\", \"G113\", \"G114\", \"G115\", \"G116\", \"G118\", \"G119\", \"G120\", \"G121\", \"G122\", \"G123\"]\n",
    "ut.push_this_to_json(filename=F\"{project_dir}/codeListMicros.json\", data=codesmicro)"
   ]
  },
  {
   "cell_type": "markdown",
   "metadata": {},
   "source": [
    "### <span style=\"color:#008891\">Construction codes</span>\n",
    "\n",
    "describe construction codes"
   ]
  },
  {
   "cell_type": "code",
   "execution_count": 6,
   "metadata": {},
   "outputs": [
    {
     "name": "stdout",
     "output_type": "stream",
     "text": [
      "putting: output/code_groups/construction.json\n"
     ]
    }
   ],
   "source": [
    "\n",
    "construction=['G9',\n",
    "              'G17',\n",
    "              'G22',\n",
    "              'G66',\n",
    "              'G68',\n",
    "              'G69',\n",
    "              'G72',\n",
    "              'G73',\n",
    "              'G74',\n",
    "              'G81',\n",
    "              'G82',\n",
    "              'G83',\n",
    "              'G87',\n",
    "              'G89',\n",
    "              'G93',\n",
    "              'G160',\n",
    "              'G162',\n",
    "              'G169',\n",
    "              'G174',\n",
    "              'G186',\n",
    "              'G188',\n",
    "              'G189',\n",
    "              'G190',\n",
    "              'G194',\n",
    "              'G908',\n",
    "              'G921',\n",
    "              'G931']\n",
    "# saving to .json\n",
    "ut.push_this_to_json(filename=F\"{project_dir}/construction.json\", data=construction)"
   ]
  },
  {
   "cell_type": "markdown",
   "metadata": {},
   "source": [
    "### <span style=\"color:blue\">Codes no id</span>"
   ]
  },
  {
   "cell_type": "code",
   "execution_count": 7,
   "metadata": {},
   "outputs": [
    {
     "name": "stdout",
     "output_type": "stream",
     "text": [
      "putting: output/code_groups/codeNotfound.json\n"
     ]
    },
    {
     "data": {
      "text/plain": [
       "['G69', 'G72', 'G169', 'G189']"
      ]
     },
     "execution_count": 7,
     "metadata": {},
     "output_type": "execute_result"
    }
   ],
   "source": [
    "\n",
    "hmm = dfSurveys.copy()\n",
    "hmm = hmm[[\"code\",\"quantity\"]].groupby(\"code\", as_index=False).quantity.sum()\n",
    "\n",
    "found = hmm.code.unique()\n",
    "\n",
    "ahh=[code for code in dfCodes.code if code not in found]\n",
    "\n",
    "# saving to .json\n",
    "ut.push_this_to_json(filename=F\"{project_dir}/codeNotfound.json\", data=ahh)\n",
    "\n",
    "# construction codes that have not been identified\n",
    "[code for code in construction if code in ahh]"
   ]
  },
  {
   "cell_type": "markdown",
   "metadata": {},
   "source": [
    "#### Hopefully that just worked for you\n",
    "\n",
    "if not contact shannon@hammerdirt.ch"
   ]
  }
 ],
 "metadata": {
  "kernelspec": {
   "display_name": "Python 3",
   "language": "python",
   "name": "python3"
  },
  "language_info": {
   "codemirror_mode": {
    "name": "ipython",
    "version": 3
   },
   "file_extension": ".py",
   "mimetype": "text/x-python",
   "name": "python",
   "nbconvert_exporter": "python",
   "pygments_lexer": "ipython3",
   "version": "3.8.5"
  }
 },
 "nbformat": 4,
 "nbformat_minor": 4
}
