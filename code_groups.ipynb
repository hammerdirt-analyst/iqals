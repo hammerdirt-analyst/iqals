{
 "cells": [
  {
   "cell_type": "markdown",
   "metadata": {},
   "source": [
    "## <span style=\"color:blue\">Code groups</span>\n",
    "\n",
    "### <span style=\"color:#008891\">Define what this is for</span>\n",
    "\n",
    "__What this does:__ This note book...\n",
    "\n",
    "__When to use it:__ Whenever you want to ...\n",
    "\n",
    "#### Tasks:\n",
    "\n",
    "hjkblkhvgljhvkj\n",
    "\n",
    "jkhvkjcvkjv\n",
    "\n",
    "\n",
    "\n",
    "questions or comments: shannon@hammerdirt.ch"
   ]
  },
  {
   "cell_type": "code",
   "execution_count": 1,
   "metadata": {
    "code_folding": [
     0
    ]
   },
   "outputs": [
    {
     "data": {
      "text/html": [
       "\n",
       "<style>\n",
       ".output {\n",
       "    display: flex;\n",
       "    align-items: center;\n",
       "    text-align: center;\n",
       "}\n",
       "</style>\n"
      ],
      "text/plain": [
       "<IPython.core.display.HTML object>"
      ]
     },
     "metadata": {},
     "output_type": "display_data"
    }
   ],
   "source": [
    "# sys, file and nav packages:\n",
    "import os\n",
    "import datetime as dt\n",
    "import csv\n",
    "\n",
    "# math packages:\n",
    "import pandas as pd\n",
    "import numpy as np\n",
    "from scipy import stats\n",
    "import datetime as dt \n",
    "\n",
    "\n",
    "# charting:\n",
    "import matplotlib as mpl\n",
    "import matplotlib.pyplot as plt\n",
    "import matplotlib.dates as mdates\n",
    "from matplotlib import ticker\n",
    "import seaborn as sns\n",
    "import matplotlib.gridspec as gridspec\n",
    "from IPython.display import display, HTML\n",
    "\n",
    "\n",
    "# home brew utitilties\n",
    "import utilities.utility_functions as ut\n",
    "\n",
    "# documenting\n",
    "from IPython.display import Markdown as md\n",
    "\n",
    "display(HTML(\"\"\"\n",
    "<style>\n",
    ".output {\n",
    "    display: flex;\n",
    "    align-items: center;\n",
    "    text-align: center;\n",
    "}\n",
    "</style>\n",
    "\"\"\"))"
   ]
  },
  {
   "cell_type": "code",
   "execution_count": 2,
   "metadata": {},
   "outputs": [],
   "source": [
    "# the local file structure. The resources are located in the corresponding directory.\n",
    "# the purpose and date should be included in the filename when saving results to output\n",
    "survey_data, location_data, code_defs, stat_ent, geo_data, output = ut.make_local_paths()"
   ]
  },
  {
   "cell_type": "code",
   "execution_count": 3,
   "metadata": {},
   "outputs": [],
   "source": [
    "# probably want to keep these... the works already done\n",
    "# aggregated survey data\n",
    "dfAgg = pd.read_csv(F\"{survey_data}/results_with_zeroes_aggregated_parent.csv\")\n",
    "dfAgg['date'] = pd.to_datetime(dfAgg['date'])\n",
    "\n",
    "# non aggregated survey data\n",
    "dfSurveys = pd.read_csv(F\"{survey_data}/results_with_zeroes.csv\")\n",
    "dfSurveys['date'] = pd.to_datetime(dfSurveys['date'])\n",
    "\n",
    "# beach data\n",
    "dfBeaches = pd.read_csv(F\"{location_data}/beaches_pop_bfs.csv\")\n",
    "\n",
    "# code definitions\n",
    "dfCodes = pd.read_csv(F\"{code_defs}/mlw_codes.csv\")"
   ]
  },
  {
   "cell_type": "code",
   "execution_count": 4,
   "metadata": {},
   "outputs": [
    {
     "name": "stdout",
     "output_type": "stream",
     "text": [
      "That project exists\n"
     ]
    }
   ],
   "source": [
    "project_dir = ut.make_project_folder(output, 'code_groups')"
   ]
  },
  {
   "cell_type": "markdown",
   "metadata": {},
   "source": [
    "### <span style=\"color:#008891\">Micro codes</span>\n",
    "\n",
    "describe micro codes"
   ]
  },
  {
   "cell_type": "code",
   "execution_count": 5,
   "metadata": {},
   "outputs": [
    {
     "name": "stdout",
     "output_type": "stream",
     "text": [
      "putting: output/code_groups/codeListMicros.json\n"
     ]
    }
   ],
   "source": [
    "codesmicro=[\"G112\", \"G106\", \"G117\", \"G103\", \"G104\", \"G105\", \"G107\", \"G108\", \"G109\", \"G110\", \"G111\", \"G113\", \"G114\", \"G115\", \"G116\", \"G118\", \"G119\", \"G120\", \"G121\", \"G122\", \"G123\"]\n",
    "ut.push_this_to_json(filename=F\"{project_dir}/codeListMicros.json\", data=codesmicro)"
   ]
  },
  {
   "cell_type": "code",
   "execution_count": 9,
   "metadata": {},
   "outputs": [
    {
     "data": {
      "text/plain": [
       "'output/code_groups/codeListMicros.json'"
      ]
     },
     "execution_count": 9,
     "metadata": {},
     "output_type": "execute_result"
    }
   ],
   "source": [
    "F\"{project_dir}/codeListMicros.json\""
   ]
  },
  {
   "cell_type": "markdown",
   "metadata": {},
   "source": [
    "### <span style=\"color:#008891\">Construction codes</span>\n",
    "\n",
    "G9 Cleaner bottles & containers Artificial polymer materials\n",
    "\n",
    "G17 Injection gun containers Artificial polymer materials\n",
    "\n",
    "G22 Plastic caps/lids chemicals (non-food) Artificial polymer materials\n",
    "\n",
    "G66 Strapping bands Artificial polymer materials \n",
    "\n",
    "G68 Fiber glass/fragments Artificial polymer materials \n",
    "G73 Foam sponge Artificial polymer materials\n",
    "G74 Foam packaging/insulation/polyurethane Artificial polymer materials\n",
    "G81 Polystyrene pieces 0 - 2.5 cm Artificial polymer materials\n",
    "G82 Polystyrene pieces 2.5 cm > < 50cm Artificial polymer materials\n",
    "G83 Polystyrene pieces > 50 cm Artificial polymer materials\n",
    "G87 Masking tape Artificial polymer materials\n",
    "G89 Plastic construction waste Artificial polymer materials \n",
    "G93 Cable ties Artificial polymer materials\n",
    "G160 Pallets Processed/worked wood \n",
    "G162 Crates Processed/worked wood\n",
    "G174 Aerosol/Spray cans industry Metal\n",
    "G186 Industrial scrap Metal \n",
    "G188 Other cans (< 4 L) Metal \n",
    "G190 Paint tins Metal\n",
    "G194 Cables Metal\n",
    "G908 Tape electrical, duct (Parent code G124)\n",
    "G921 Ceramic tile and pieces (Parent code G204)\n",
    "G931 Tape-caution for barrier, police, construction etc. (Parent code G124)\n"
   ]
  },
  {
   "cell_type": "code",
   "execution_count": 6,
   "metadata": {},
   "outputs": [
    {
     "name": "stdout",
     "output_type": "stream",
     "text": [
      "putting: output/code_groups/construction.json\n"
     ]
    }
   ],
   "source": [
    "\n",
    "construction=['G9',\n",
    "              'G17',\n",
    "              'G22',\n",
    "              'G66',\n",
    "              'G68',\n",
    "              'G69',\n",
    "              'G72',\n",
    "              'G73',\n",
    "              'G74',\n",
    "              'G81',\n",
    "              'G82',\n",
    "              'G83',\n",
    "              'G87',\n",
    "              'G89',\n",
    "              'G93',\n",
    "              'G160',\n",
    "              'G162',\n",
    "              'G169',\n",
    "              'G174',\n",
    "              'G186',\n",
    "              'G188',\n",
    "              'G189',\n",
    "              'G190',\n",
    "              'G194',\n",
    "              'G908',\n",
    "              'G921',\n",
    "              'G931']\n",
    "# saving to .json\n",
    "ut.push_this_to_json(filename=F\"{project_dir}/construction.json\", data=construction)"
   ]
  },
  {
   "cell_type": "markdown",
   "metadata": {},
   "source": [
    "### <span style=\"color:#008891\">Wastewater treatment codes</span>\n",
    "\n",
    "describe wastewater treatment codes"
   ]
  },
  {
   "cell_type": "markdown",
   "metadata": {},
   "source": [
    "G91 Biomass holder from sewage treatment plants Artificial polymer materials\n",
    "\n",
    "G95 Cotton bud sticks Artificial polymer materials\n",
    "\n",
    "G96 Sanitary towels/panty liners/backing strips Artificial polymer materials\n",
    "\n",
    "G97 Toilet fresheners Artificial polymer materials\n",
    "\n",
    "*G98 Wipes/nappies Artificial polymer materials\n",
    "\n",
    "G100 Medical/Pharmaceuticals containers/tubes Artificial polymer materials\n",
    "\n",
    "G133 Condoms incl. packaging/Rubber\n",
    "\n",
    "G144 Tampons and tampon applicators Cloth/textile\n"
   ]
  },
  {
   "cell_type": "code",
   "execution_count": 7,
   "metadata": {},
   "outputs": [
    {
     "name": "stdout",
     "output_type": "stream",
     "text": [
      "putting: output/code_groups/wastewater.json\n"
     ]
    }
   ],
   "source": [
    "\n",
    "wastewater = [\n",
    "    'G91',\n",
    "    'G95',\n",
    "    'G96',\n",
    "    'G98',\n",
    "    'G97',\n",
    "    'G100',\n",
    "    'G133',\n",
    "    'G144'\n",
    "]\n",
    "# saving to .json\n",
    "ut.push_this_to_json(filename=F\"{project_dir}/wastewater.json\", data=wastewater)"
   ]
  },
  {
   "cell_type": "markdown",
   "metadata": {},
   "source": [
    "### <span style=\"color:blue\">Codes no id</span>"
   ]
  },
  {
   "cell_type": "code",
   "execution_count": 8,
   "metadata": {},
   "outputs": [
    {
     "name": "stdout",
     "output_type": "stream",
     "text": [
      "putting: output/code_groups/codeNotfound.json\n"
     ]
    },
    {
     "data": {
      "text/plain": [
       "['G69', 'G72', 'G169', 'G189']"
      ]
     },
     "execution_count": 8,
     "metadata": {},
     "output_type": "execute_result"
    }
   ],
   "source": [
    "\n",
    "hmm = dfSurveys.copy()\n",
    "hmm = hmm[[\"code\",\"quantity\"]].groupby(\"code\", as_index=False).quantity.sum()\n",
    "\n",
    "found = hmm.code.unique()\n",
    "\n",
    "ahh=[code for code in dfCodes.code if code not in found]\n",
    "\n",
    "# saving to .json\n",
    "ut.push_this_to_json(filename=F\"{project_dir}/codeNotfound.json\", data=ahh)\n",
    "\n",
    "# construction codes that have not been identified\n",
    "[code for code in construction if code in ahh]"
   ]
  },
  {
   "cell_type": "markdown",
   "metadata": {},
   "source": [
    "#### Hopefully that just worked for you\n",
    "\n",
    "if not contact shannon@hammerdirt.ch"
   ]
  },
  {
   "cell_type": "code",
   "execution_count": null,
   "metadata": {},
   "outputs": [],
   "source": []
  }
 ],
 "metadata": {
  "kernelspec": {
   "display_name": "Python 3",
   "language": "python",
   "name": "python3"
  },
  "language_info": {
   "codemirror_mode": {
    "name": "ipython",
    "version": 3
   },
   "file_extension": ".py",
   "mimetype": "text/x-python",
   "name": "python",
   "nbconvert_exporter": "python",
   "pygments_lexer": "ipython3",
   "version": "3.8.3"
  }
 },
 "nbformat": 4,
 "nbformat_minor": 4
}
