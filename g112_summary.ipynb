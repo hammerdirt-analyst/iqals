{
 "cells": [
  {
   "cell_type": "markdown",
   "metadata": {},
   "source": [
    "## <span style=\"color:blue\">G112 Summary</span>\n",
    "\n",
    "### <span style=\"color:#008891\">Incidence of industrial pellets by location, amplitude and frequency</span>\n",
    "\n",
    "Plastic industrial pellets or GPI have been found at all lakes in the present study. The quantity of pellets found and the frequency at which they are identified varies from one lake to another and from one location to another. \n",
    "\n",
    "Here we summarize the incidence of GPI nationally and regionally. We focus on the locations that have the geatest median value for GPI and the greatest frequency.\n",
    "\n",
    "#### <span style=\"color:#008891\">Discussion</span>\n",
    "\n",
    "questions or comments: analyst@hammerdirt.ch"
   ]
  },
  {
   "cell_type": "code",
   "execution_count": 1,
   "metadata": {},
   "outputs": [
    {
     "data": {
      "text/html": [
       "\n",
       "<style>\n",
       ".output {\n",
       "    display: flex;\n",
       "    align-items: center;\n",
       "    text-align: center;\n",
       "}\n",
       "</style>\n"
      ],
      "text/plain": [
       "<IPython.core.display.HTML object>"
      ]
     },
     "metadata": {},
     "output_type": "display_data"
    }
   ],
   "source": [
    "# sys, file and nav packages:\n",
    "import os\n",
    "import datetime as dt\n",
    "import csv\n",
    "\n",
    "# math packages:\n",
    "import pandas as pd\n",
    "import numpy as np\n",
    "from scipy import stats\n",
    "import datetime as dt \n",
    "\n",
    "\n",
    "# charting:\n",
    "import matplotlib as mpl\n",
    "import matplotlib.pyplot as plt\n",
    "import matplotlib.dates as mdates\n",
    "from matplotlib import ticker\n",
    "import seaborn as sns\n",
    "import matplotlib.gridspec as gridspec\n",
    "from IPython.display import display, HTML\n",
    "\n",
    "\n",
    "# home brew utitilties\n",
    "import utilities.utility_functions as ut\n",
    "\n",
    "# documenting\n",
    "from IPython.display import Markdown as md\n",
    "\n",
    "display(HTML(\"\"\"\n",
    "<style>\n",
    ".output {\n",
    "    display: flex;\n",
    "    align-items: center;\n",
    "    text-align: center;\n",
    "}\n",
    "</style>\n",
    "\"\"\"))"
   ]
  },
  {
   "cell_type": "code",
   "execution_count": 2,
   "metadata": {},
   "outputs": [],
   "source": [
    "# the local file structure. The resources are located in the corresponding directory.\n",
    "survey_data, location_data, code_defs, stat_ent, geo_data, output = ut.make_local_paths()"
   ]
  },
  {
   "cell_type": "code",
   "execution_count": 3,
   "metadata": {},
   "outputs": [],
   "source": [
    "# variables/arrays that are frequently used:\n",
    "# project lakes\n",
    "the_lakes = [\n",
    "    \"Bielersee\",\n",
    "    \"Walensee\",\n",
    "    \"Lac Léman\",\n",
    "    \"Zurichsee\",\n",
    "    \"Neuenburgersee\",\n",
    "    \"Thunersee\",\n",
    "    \"Lago Maggiore\",\n",
    "    \"Brienzersee\",\n",
    "    \"poi\"\n",
    "]\n",
    "\n",
    "the_rivs = [\n",
    "    'Aare',\n",
    "    'Rhône',\n",
    "    'Limmat',\n",
    "    'Linth',\n",
    "    'Ticino',\n",
    "]\n",
    "# project beaches\n",
    "poi = [\n",
    "    \"neuenburgersee_cudrefin_mattera\",\n",
    "    \"la-petite-plage\",\n",
    "    \"evole-plage\",\n",
    "    \"plage-de-cheyres\",\n",
    "    \"mullermatte\",\n",
    "    \"bielersee_vinelz_fankhausers\",\n",
    "    \"baby-plage-geneva\",\n",
    "    \"baye-de-montreux-g\",\n",
    "    \"grand-clos\",\n",
    "    \"preverenges\",\n",
    "    \"quai-maria-belgia\",\n",
    "    \"zurichsee_wollishofen_langendorfm\",\n",
    "    \"zurichsee_kusnachterhorn_thirkell-whitej\",\n",
    "    \"zuerichsee_richterswil_benkoem_2\",     \n",
    "    \"rastplatz-stampf\",\n",
    "    \"weissenau-neuhaus\",\n",
    "    \"thunersee_spiez_meierd_1\",\n",
    "    \"walensee_walenstadt_wysse\",\n",
    "    \"gasi-strand\",\n",
    "    \"vira-gambarogno\",\n",
    "    \"sentiero-giro-del-golf-spiaggia\",\n",
    "    \"maladaire\"\n",
    "    \n",
    "]"
   ]
  },
  {
   "cell_type": "code",
   "execution_count": 4,
   "metadata": {
    "jupyter": {
     "source_hidden": true
    }
   },
   "outputs": [],
   "source": [
    "# standard formats already in use for charts \n",
    "# you can just apply these as kwargs to different elements...\n",
    "table_k = dict(loc=\"top left\", bbox=(0,0,1,1), colWidths=[.5, .5], cellLoc='center')\n",
    "tablecenter_k = dict(loc=\"top left\", bbox=(0,0,1,1), cellLoc='center')\n",
    "tabtickp_k = dict(axis='both', which='both', bottom=False, top=False, left=False, right=False, labelleft=False, labelbottom=False)\n",
    "title_k = {'loc':'left', 'pad':10, 'linespacing':1.5, 'fontsize':12}\n",
    "title_k20 = {'loc':'left', 'pad':10, 'linespacing':1.5, 'fontsize':12, 'color':'dodgerblue'}\n",
    "title_k17 = {'loc':'left', 'pad':10, 'linespacing':1.5, 'fontsize':12, 'color':'salmon'}\n",
    "titler_k20 = {'loc':'right', 'pad':10, 'linespacing':1.5, 'fontsize':12, 'color':'dodgerblue'}\n",
    "titler_k17 = {'loc':'right', 'pad':10, 'linespacing':1.5, 'fontsize':12, 'color':'salmon'}\n",
    "xlab_k = {'labelpad':10, 'fontsize':12}\n",
    "ylab_k = {'labelpad':14, 'fontsize':14}\n",
    "titler_k = {'loc':'right', 'pad':10, 'linespacing':1.5, 'fontsize':12}\n",
    "\n",
    "# use thes to format date axis in charts\n",
    "weeks = mdates.WeekdayLocator(byweekday=1, interval=4)\n",
    "days = mdates.DayLocator(bymonthday=1, interval=1)\n",
    "months = mdates.MonthLocator(bymonth=[3,6,9,12])\n",
    "wks_fmt = mdates.DateFormatter('%d')\n",
    "mths_fmt = mdates.DateFormatter('%b')"
   ]
  },
  {
   "cell_type": "code",
   "execution_count": 5,
   "metadata": {},
   "outputs": [],
   "source": [
    "# probably want to keep these... the works already done\n",
    "# aggregated survey data\n",
    "dfAgg = pd.read_csv(F\"{survey_data}/results_with_zeroes_aggregated_parent.csv\")\n",
    "dfAgg = dfAgg[dfAgg.location != 'signalpain']\n",
    "dfAgg['date'] = pd.to_datetime(dfAgg['date'])\n",
    "\n",
    "# non aggregated survey data\n",
    "dfSurveys = pd.read_csv(F\"{survey_data}/results_with_zeroes.csv\")\n",
    "dfSurveys['date'] = pd.to_datetime(dfSurveys['date'])\n",
    "\n",
    "# beach data\n",
    "dfBeaches = pd.read_csv(F\"{location_data}/beaches_pop_bfs.csv\")\n",
    "dfSurveys = dfSurveys[dfSurveys.location != 'signalpain']\n",
    "dfBeaches = dfBeaches[dfBeaches.slug != 'signalpain']\n",
    "dfBeaches.set_index('slug', inplace=True)\n",
    "\n",
    "# code definitions\n",
    "dfCodes = pd.read_csv(F\"{code_defs}/mlw_codes.csv\")\n",
    "\n",
    "# geo date: explantory variables, index by slug and make a map:\n",
    "dfStreets = pd.read_csv(F\"{geo_data}/exp_variables/strts_1000m.csv\", index_col='slug')['length']\n",
    "dfBlds = pd.read_csv(F\"{geo_data}/exp_variables/bldgs_500m.csv\", index_col='slug')['area']\n",
    "dfRivs = pd.read_csv(F\"{geo_data}/exp_variables/rivs_1500m.csv\", index_col='slug')['NUMPOINTS']"
   ]
  },
  {
   "cell_type": "markdown",
   "metadata": {},
   "source": [
    "#### <span style=\"color:#008891\">Location of project folder</span>"
   ]
  },
  {
   "cell_type": "code",
   "execution_count": 6,
   "metadata": {},
   "outputs": [
    {
     "name": "stdout",
     "output_type": "stream",
     "text": [
      "That project exists\n"
     ]
    },
    {
     "data": {
      "text/markdown": [
       "### The project directory is: ../output/g112Summary"
      ],
      "text/plain": [
       "<IPython.core.display.Markdown object>"
      ]
     },
     "execution_count": 6,
     "metadata": {},
     "output_type": "execute_result"
    }
   ],
   "source": [
    "g112summary = ut.make_project_folder(output, 'g112Summary')\n",
    "md(F\"### The project directory is: ../{g112summary}\")"
   ]
  },
  {
   "cell_type": "markdown",
   "metadata": {},
   "source": [
    "### <span style=\"color:#008891\">Industrial pellets: summary</span>\n",
    "\n",
    "1. Locations where they have been found\n",
    "2. Frequency of identification\n",
    "3. Seasonal variation\n",
    "4. Correlation tables\n",
    "5. Median value per region"
   ]
  },
  {
   "cell_type": "markdown",
   "metadata": {},
   "source": [
    "### <span style=\"color:#1e90ff\">Method</span>\n",
    "\n",
    "**<span style=\"color:#008891\">Data source, time frame, geographic scope and collection methods </span>**\n",
    "\n",
    "The data for this analysis is the results from beach-litter surveys conducted in Switzerland from April 1, 2020 through January 18, 2021.\n",
    "\n",
    "All surveys that were conducted on Bielersee, Neuenburgersee, Thunersee, Walensee, Zurichsee, Lac Léman, Brienzersee and Lago Magiore were considered. \n",
    "\n",
    "The data was collected according to the protocol described here [https://www.plagespropres.ch/](https://www.plagespropres.ch/). In brief all visible data is collected along a beach within a measured distance from the waters edge. The width of the survey area depends on the terrain and the water level. The visible strand line or the nearest physical structure defines the width of a survey.\n",
    "\n",
    "Surveys were conducted by the following organizations:\n",
    "\n",
    "1. hammerdirt\n",
    "2. Association pour le Sauvegarde du leman\n",
    "3. Solid Waste Management Ecole Polytechnique Federal\n",
    "4. Ecole International de Geneve\n",
    "5. Precious plastic leman\n",
    "6. Why isn't your association here?\n",
    "\n",
    "This analysis is an open source document. The working note book is available in the repository located here [https://github.com/hammerdirt-analyst/iqals](https://github.com/hammerdirt-analyst/iqals). "
   ]
  },
  {
   "cell_type": "code",
   "execution_count": 14,
   "metadata": {},
   "outputs": [],
   "source": [
    "# set some parameters:\n",
    "start_date = '2020-04-01'\n",
    "end_date = dt.datetime.today().strftime('%Y-%m-%d')\n",
    "code = 'G112'\n",
    "\n",
    "# restrict to lakes only\n",
    "dfS = dfAgg.loc[(dfAgg.water_name.isin(the_lakes))&(dfAgg.date >= start_date)].copy()\n",
    "\n",
    "# map geo values to survey results:\n",
    "dfS['population']=dfS.location.map(lambda x: dfBeaches.loc[x]['population'])\n",
    "dfS['streets'] = dfS.location.map(lambda x: dfStreets.loc[x])\n",
    "dfS['buildings'] = dfS.location.map(lambda x: dfBlds.loc[x])\n",
    "dfS['rivs'] = dfS.location.map(lambda x: dfRivs.loc[x])\n",
    "\n",
    "# seperate out the codes of interest\n",
    "dfCode = dfS.loc[dfS.code == code].copy()\n",
    "\n",
    "# daily totals for each group, index to date\n",
    "allDf = dfS.groupby(['loc_date','location','water_name', 'date'], as_index=False).pcs_m.sum()\n",
    "allDf.set_index('date', inplace=True)\n",
    "\n",
    "g112Df = dfCode.groupby(['loc_date','location', 'water_name','date'], as_index=False).pcs_m.sum()\n",
    "g112Df.set_index('date', inplace=True)"
   ]
  },
  {
   "cell_type": "markdown",
   "metadata": {},
   "source": [
    "### <span style=\"color:#008891\">Surveys location, infrastructure and population</span>"
   ]
  },
  {
   "cell_type": "code",
   "execution_count": 17,
   "metadata": {},
   "outputs": [
    {
     "name": "stdout",
     "output_type": "stream",
     "text": [
      "\n",
      "Number of locations 73, number with: 34, without: 39\n",
      "\n",
      "The number of locations on each lake with GPI:\n",
      "                location\n",
      "water_name              \n",
      "Bielersee              5\n",
      "Brienzersee            2\n",
      "Lac Léman             12\n",
      "Lago Maggiore          2\n",
      "Neuenburgersee         3\n",
      "Thunersee              2\n",
      "Walensee               2\n",
      "Zurichsee              6\n"
     ]
    }
   ],
   "source": [
    "# locations with GPI\n",
    "dfCode['wname_loc'] = tuple(zip(dfCode.water_name, dfCode.location))\n",
    "qGpi = dfCode.groupby(['location', 'water_name'], as_index=False).quantity.sum()\n",
    "noGpi = qGpi[qGpi.quantity == 0]\n",
    "hasGpi = qGpi[qGpi.quantity > 0]\n",
    "lakes_with = hasGpi[['water_name', 'location']].groupby(['water_name']).nunique('location')\n",
    "\n",
    "print(F\"\\nNumber of locations {len(qGpi)}, number with: {len(hasGpi)}, without: {len(noGpi)}\\n\")\n",
    "print(F\"The number of locations on each lake with GPI:\\n{lakes_with}\")"
   ]
  },
  {
   "cell_type": "code",
   "execution_count": 18,
   "metadata": {},
   "outputs": [
    {
     "name": "stdout",
     "output_type": "stream",
     "text": [
      "does the number of succeses and fails add to total trys? True\n",
      "ratio success: 0.359504132231405\n",
      "ratio fail : 0.640495867768595\n"
     ]
    }
   ],
   "source": [
    "# Frequency  \n",
    "qGpiD = dfCode.groupby([ 'location', 'water_name','loc_date', 'date',], as_index=False).pcs_m.sum()\n",
    "number_trys = len(qGpiD)\n",
    "number_succ = sum(qGpiD.pcs_m == 0)\n",
    "number_succx = len(qGpiD[qGpiD.pcs_m > 0])\n",
    "\n",
    "print(F'does the number of succeses and fails add to total trys? {number_succ + number_succx == len(qGpiD)}')\n",
    "print(F\"ratio success: {number_succx/number_trys}\")\n",
    "print(F\"ratio fail : {number_succ/number_trys}\")"
   ]
  },
  {
   "cell_type": "markdown",
   "metadata": {},
   "source": [
    "### <span style=\"color:#008891\">Survey results</span>\n",
    "\n",
    "GPI have been identified on all lakes and 34 out of 73 survey locations. Out of the 242 surveys conducted 87 (~36%) reported at least one GPI. Compared to the total amount of objects found at each survey the range of GPI found is between less than 1% \\(Thunersee, Lago Maggiore\\) and 9% \\(Lac Léman\\) of the daily total.\n",
    "\n",
    "Of the lakes with 20 samples or more Bielersee has the highest median and frequency of all the project lakes. Lac Léman has the highest average value as well as greatest number of locations with at least one GPI. Brienzersee, with only 4 samples, leads all project lakes except in mean pcs/m."
   ]
  },
  {
   "cell_type": "markdown",
   "metadata": {},
   "source": [
    "**<span style=\"color:#008891\">survey results summary</span>**"
   ]
  },
  {
   "cell_type": "code",
   "execution_count": 19,
   "metadata": {},
   "outputs": [],
   "source": [
    "dtotal = allDf[['loc_date','water_name', 'pcs_m']].copy()\n",
    "dtotal.set_index('loc_date', drop=True, inplace=True)\n",
    "g112Dt = g112Df[['loc_date','water_name','pcs_m']].copy()\n",
    "g112Dt.set_index('loc_date', drop=True, inplace=True)\n",
    "survWith = g112Dt[g112Dt.pcs_m > 0].groupby('water_name').count()\n",
    "g112Df['p_total'] = g112Df.loc_date.map(lambda x: g112Dt.loc[x].pcs_m/dtotal.loc[x].pcs_m)"
   ]
  },
  {
   "cell_type": "code",
   "execution_count": 20,
   "metadata": {},
   "outputs": [
    {
     "data": {
      "text/html": [
       "<div>\n",
       "<style scoped>\n",
       "    .dataframe tbody tr th:only-of-type {\n",
       "        vertical-align: middle;\n",
       "    }\n",
       "\n",
       "    .dataframe tbody tr th {\n",
       "        vertical-align: top;\n",
       "    }\n",
       "\n",
       "    .dataframe thead th {\n",
       "        text-align: right;\n",
       "    }\n",
       "</style>\n",
       "<table border=\"1\" class=\"dataframe\">\n",
       "  <thead>\n",
       "    <tr style=\"text-align: right;\">\n",
       "      <th></th>\n",
       "      <th># samples</th>\n",
       "      <th># locations</th>\n",
       "      <th># with GPI</th>\n",
       "      <th>median pcs/m</th>\n",
       "      <th>mean pcs/m</th>\n",
       "      <th>% of daily total</th>\n",
       "      <th>frequency</th>\n",
       "    </tr>\n",
       "    <tr>\n",
       "      <th>water_name</th>\n",
       "      <th></th>\n",
       "      <th></th>\n",
       "      <th></th>\n",
       "      <th></th>\n",
       "      <th></th>\n",
       "      <th></th>\n",
       "      <th></th>\n",
       "    </tr>\n",
       "  </thead>\n",
       "  <tbody>\n",
       "    <tr>\n",
       "      <th>Bielersee</th>\n",
       "      <td>31</td>\n",
       "      <td>9</td>\n",
       "      <td>5</td>\n",
       "      <td>0.020</td>\n",
       "      <td>0.071613</td>\n",
       "      <td>0.019672</td>\n",
       "      <td>0.580645</td>\n",
       "    </tr>\n",
       "    <tr>\n",
       "      <th>Brienzersee</th>\n",
       "      <td>4</td>\n",
       "      <td>2</td>\n",
       "      <td>2</td>\n",
       "      <td>0.035</td>\n",
       "      <td>0.465000</td>\n",
       "      <td>0.092040</td>\n",
       "      <td>0.750000</td>\n",
       "    </tr>\n",
       "    <tr>\n",
       "      <th>Lac Léman</th>\n",
       "      <td>72</td>\n",
       "      <td>22</td>\n",
       "      <td>12</td>\n",
       "      <td>0.000</td>\n",
       "      <td>0.505139</td>\n",
       "      <td>0.038931</td>\n",
       "      <td>0.486111</td>\n",
       "    </tr>\n",
       "    <tr>\n",
       "      <th>Lago Maggiore</th>\n",
       "      <td>12</td>\n",
       "      <td>8</td>\n",
       "      <td>2</td>\n",
       "      <td>0.000</td>\n",
       "      <td>0.007500</td>\n",
       "      <td>0.001026</td>\n",
       "      <td>0.166667</td>\n",
       "    </tr>\n",
       "    <tr>\n",
       "      <th>Neuenburgersee</th>\n",
       "      <td>31</td>\n",
       "      <td>8</td>\n",
       "      <td>3</td>\n",
       "      <td>0.000</td>\n",
       "      <td>0.010645</td>\n",
       "      <td>0.011515</td>\n",
       "      <td>0.322581</td>\n",
       "    </tr>\n",
       "    <tr>\n",
       "      <th>Thunersee</th>\n",
       "      <td>25</td>\n",
       "      <td>7</td>\n",
       "      <td>2</td>\n",
       "      <td>0.000</td>\n",
       "      <td>0.002800</td>\n",
       "      <td>0.001289</td>\n",
       "      <td>0.120000</td>\n",
       "    </tr>\n",
       "    <tr>\n",
       "      <th>Walensee</th>\n",
       "      <td>24</td>\n",
       "      <td>8</td>\n",
       "      <td>2</td>\n",
       "      <td>0.000</td>\n",
       "      <td>0.012917</td>\n",
       "      <td>0.007718</td>\n",
       "      <td>0.250000</td>\n",
       "    </tr>\n",
       "    <tr>\n",
       "      <th>Zurichsee</th>\n",
       "      <td>43</td>\n",
       "      <td>9</td>\n",
       "      <td>6</td>\n",
       "      <td>0.000</td>\n",
       "      <td>0.028140</td>\n",
       "      <td>0.011374</td>\n",
       "      <td>0.232558</td>\n",
       "    </tr>\n",
       "  </tbody>\n",
       "</table>\n",
       "</div>"
      ],
      "text/plain": [
       "                # samples  # locations  # with GPI  median pcs/m  mean pcs/m  \\\n",
       "water_name                                                                     \n",
       "Bielersee              31            9           5         0.020    0.071613   \n",
       "Brienzersee             4            2           2         0.035    0.465000   \n",
       "Lac Léman              72           22          12         0.000    0.505139   \n",
       "Lago Maggiore          12            8           2         0.000    0.007500   \n",
       "Neuenburgersee         31            8           3         0.000    0.010645   \n",
       "Thunersee              25            7           2         0.000    0.002800   \n",
       "Walensee               24            8           2         0.000    0.012917   \n",
       "Zurichsee              43            9           6         0.000    0.028140   \n",
       "\n",
       "                % of daily total  frequency  \n",
       "water_name                                   \n",
       "Bielersee               0.019672   0.580645  \n",
       "Brienzersee             0.092040   0.750000  \n",
       "Lac Léman               0.038931   0.486111  \n",
       "Lago Maggiore           0.001026   0.166667  \n",
       "Neuenburgersee          0.011515   0.322581  \n",
       "Thunersee               0.001289   0.120000  \n",
       "Walensee                0.007718   0.250000  \n",
       "Zurichsee               0.011374   0.232558  "
      ]
     },
     "execution_count": 20,
     "metadata": {},
     "output_type": "execute_result"
    }
   ],
   "source": [
    "regional_summary = g112Df.groupby('water_name').agg({'loc_date':'count', 'location':'nunique', 'pcs_m':'median', 'p_total':'mean'})\n",
    "rs_mean = g112Df.groupby('water_name').pcs_m.mean()\n",
    "regional_summary['frequency'] = regional_summary.index.map(lambda x: survWith.loc[x].pcs_m/g112Df[g112Df.water_name == x].loc_date.nunique())\n",
    "regional_summary['locations with'] = regional_summary.index.map(lambda x: lakes_with.loc[x].location)\n",
    "regional_summary.rename(columns={'loc_date':'# samples',\"locations with\":\"# with GPI\",  'location':'# locations', \"pcs_m\":\"median pcs/m\",\"p_total\":\"% of daily total\"}, inplace=True)\n",
    "regional_summary['mean pcs/m'] = regional_summary.index.map(lambda x: rs_mean[x])\n",
    "regional_summary = regional_summary[[\"# samples\", \"# locations\", \"# with GPI\", \"median pcs/m\", \"mean pcs/m\", \"% of daily total\", \"frequency\"]]\n",
    "regional_summary"
   ]
  },
  {
   "cell_type": "code",
   "execution_count": 23,
   "metadata": {},
   "outputs": [
    {
     "data": {
      "image/png": "[encoded data removed]",
      "text/plain": [
       "<Figure size 576x432 with 1 Axes>"
      ]
     },
     "metadata": {
      "needs_background": "light"
     },
     "output_type": "display_data"
    }
   ],
   "source": [
    "fig, axs = plt.subplots(figsize=(8,6))\n",
    "ax = sns.scatterplot(data=g112Df, x=g112Df.index, y='pcs_m', hue='water_name', ax=axs)\n",
    "plt.tight_layout()\n",
    "plt.show()"
   ]
  },
  {
   "cell_type": "markdown",
   "metadata": {},
   "source": [
    "#### Hopefully that just worked for you\n",
    "\n",
    "if not contact analyst@hammerdirt.ch"
   ]
  }
 ],
 "metadata": {
  "kernelspec": {
   "display_name": "Python 3",
   "language": "python",
   "name": "python3"
  },
  "language_info": {
   "codemirror_mode": {
    "name": "ipython",
    "version": 3
   },
   "file_extension": ".py",
   "mimetype": "text/x-python",
   "name": "python",
   "nbconvert_exporter": "python",
   "pygments_lexer": "ipython3",
   "version": "3.8.3"
  }
 },
 "nbformat": 4,
 "nbformat_minor": 4
}
