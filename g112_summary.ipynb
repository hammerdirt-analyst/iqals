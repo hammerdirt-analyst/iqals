{
 "cells": [
  {
   "cell_type": "markdown",
   "metadata": {},
   "source": [
    "## <span style=\"color:blue\">G112 Summary</span>\n",
    "\n",
    "### <span style=\"color:#008891\">Incidence of industrial pellets by location, amplitude and frequency</span>\n",
    "\n",
    "Plastic industrial pellets or GPI have been found at all lakes in the present study. The quantity of pellets found and the frequency at which they are identified varies from one lake to another and from one location to another.\n",
    "\n",
    "Here we summarize the incidence of GPI nationally and regionally. We focus on the locations that have the geatest median value for GPI and the greatest frequency.\n",
    "\n",
    "#### <span style=\"color:#008891\">Discussion</span>\n",
    "\n",
    "questions or comments: analyst@hammerdirt.ch"
   ]
  },
  {
   "cell_type": "code",
   "execution_count": 41,
   "metadata": {
    "jupyter": {
     "source_hidden": true
    }
   },
   "outputs": [
    {
     "data": {
      "text/html": [
       "\n",
       "<style>\n",
       ".output {\n",
       "    display: flex;\n",
       "    align-items: center;\n",
       "    text-align: center;\n",
       "}\n",
       "</style>\n"
      ],
      "text/plain": [
       "<IPython.core.display.HTML object>"
      ]
     },
     "metadata": {},
     "output_type": "display_data"
    }
   ],
   "source": [
    "# sys, file and nav packages:\n",
    "import os\n",
    "import datetime as dt\n",
    "import csv\n",
    "\n",
    "# math packages:\n",
    "import pandas as pd\n",
    "import numpy as np\n",
    "from scipy import stats\n",
    "import datetime as dt \n",
    "\n",
    "\n",
    "# charting:\n",
    "import matplotlib as mpl\n",
    "import matplotlib.pyplot as plt\n",
    "import matplotlib.dates as mdates\n",
    "from matplotlib import ticker\n",
    "import seaborn as sns\n",
    "import matplotlib.gridspec as gridspec\n",
    "from IPython.display import display, HTML\n",
    "\n",
    "\n",
    "# home brew utitilties\n",
    "import utilities.utility_functions as ut\n",
    "\n",
    "# documenting\n",
    "from IPython.display import Markdown as md\n",
    "\n",
    "display(HTML(\"\"\"\n",
    "<style>\n",
    ".output {\n",
    "    display: flex;\n",
    "    align-items: center;\n",
    "    text-align: center;\n",
    "}\n",
    "</style>\n",
    "\"\"\"))"
   ]
  },
  {
   "cell_type": "code",
   "execution_count": 42,
   "metadata": {},
   "outputs": [],
   "source": [
    "# the local file structure. The resources are located in the corresponding directory.\n",
    "survey_data, location_data, code_defs, stat_ent, geo_data, output = ut.make_local_paths()"
   ]
  },
  {
   "cell_type": "code",
   "execution_count": 43,
   "metadata": {
    "jupyter": {
     "source_hidden": true
    }
   },
   "outputs": [],
   "source": [
    "# variables/arrays that are frequently used:\n",
    "# project lakes\n",
    "the_lakes = [\n",
    "    \"Bielersee\",\n",
    "    \"Walensee\",\n",
    "    \"Lac Léman\",\n",
    "    \"Zurichsee\",\n",
    "    \"Neuenburgersee\",\n",
    "    \"Thunersee\",\n",
    "    \"Lago Maggiore\",\n",
    "    \"Brienzersee\",\n",
    "    \"poi\"\n",
    "]\n",
    "\n",
    "the_rivs = [\n",
    "    'Aare',\n",
    "    'Rhône',\n",
    "    'Limmat',\n",
    "    'Linth',\n",
    "    'Ticino',\n",
    "]\n",
    "# project beaches\n",
    "poi = [\n",
    "    \"neuenburgersee_cudrefin_mattera\",\n",
    "    \"la-petite-plage\",\n",
    "    \"evole-plage\",\n",
    "    \"plage-de-cheyres\",\n",
    "    \"mullermatte\",\n",
    "    \"bielersee_vinelz_fankhausers\",\n",
    "    \"baby-plage-geneva\",\n",
    "    \"baye-de-montreux-g\",\n",
    "    \"grand-clos\",\n",
    "    \"preverenges\",\n",
    "    \"quai-maria-belgia\",\n",
    "    \"zurichsee_wollishofen_langendorfm\",\n",
    "    \"zurichsee_kusnachterhorn_thirkell-whitej\",\n",
    "    \"zuerichsee_richterswil_benkoem_2\",     \n",
    "    \"rastplatz-stampf\",\n",
    "    \"weissenau-neuhaus\",\n",
    "    \"thunersee_spiez_meierd_1\",\n",
    "    \"walensee_walenstadt_wysse\",\n",
    "    \"gasi-strand\",\n",
    "    \"vira-gambarogno\",\n",
    "    \"sentiero-giro-del-golf-spiaggia\",\n",
    "    \"maladaire\"\n",
    "    \n",
    "]"
   ]
  },
  {
   "cell_type": "code",
   "execution_count": 44,
   "metadata": {
    "jupyter": {
     "source_hidden": true
    }
   },
   "outputs": [],
   "source": [
    "# standard formats already in use for charts \n",
    "# you can just apply these as kwargs to different elements...\n",
    "table_k = dict(loc=\"top left\", bbox=(0,0,1,1), colWidths=[.5, .5], cellLoc='center')\n",
    "tablecenter_k = dict(loc=\"top left\", bbox=(0,0,1,1), cellLoc='center')\n",
    "tabtickp_k = dict(axis='both', which='both', bottom=False, top=False, left=False, right=False, labelleft=False, labelbottom=False)\n",
    "title_k = {'loc':'left', 'pad':10, 'linespacing':1.5, 'fontsize':12}\n",
    "title_k20 = {'loc':'left', 'pad':10, 'linespacing':1.5, 'fontsize':12, 'color':'dodgerblue'}\n",
    "title_k17 = {'loc':'left', 'pad':10, 'linespacing':1.5, 'fontsize':12, 'color':'salmon'}\n",
    "titler_k20 = {'loc':'right', 'pad':10, 'linespacing':1.5, 'fontsize':12, 'color':'dodgerblue'}\n",
    "titler_k17 = {'loc':'right', 'pad':10, 'linespacing':1.5, 'fontsize':12, 'color':'salmon'}\n",
    "xlab_k = {'labelpad':10, 'fontsize':12}\n",
    "ylab_k = {'labelpad':14, 'fontsize':14}\n",
    "titler_k = {'loc':'right', 'pad':10, 'linespacing':1.5, 'fontsize':12}\n",
    "\n",
    "# use thes to format date axis in charts\n",
    "weeks = mdates.WeekdayLocator(byweekday=1, interval=4)\n",
    "days = mdates.DayLocator(bymonthday=1, interval=1)\n",
    "months = mdates.MonthLocator(bymonth=[3,6,9,12])\n",
    "wks_fmt = mdates.DateFormatter('%d')\n",
    "mths_fmt = mdates.DateFormatter('%b')"
   ]
  },
  {
   "cell_type": "code",
   "execution_count": 45,
   "metadata": {},
   "outputs": [],
   "source": [
    "# probably want to keep these... the works already done\n",
    "# aggregated survey data\n",
    "dfAgg = pd.read_csv(F\"{survey_data}/results_with_zeroes_aggregated_parent.csv\")\n",
    "dfAgg = dfAgg[dfAgg.location != 'signalpain']\n",
    "dfAgg['date'] = pd.to_datetime(dfAgg['date'])\n",
    "\n",
    "# non aggregated survey data\n",
    "dfSurveys = pd.read_csv(F\"{survey_data}/results_with_zeroes.csv\")\n",
    "dfSurveys['date'] = pd.to_datetime(dfSurveys['date'])\n",
    "\n",
    "# beach data\n",
    "dfBeaches = pd.read_csv(F\"{location_data}/beaches_pop_bfs.csv\")\n",
    "dfSurveys = dfSurveys[dfSurveys.location != 'signalpain']\n",
    "dfBeaches = dfBeaches[dfBeaches.slug != 'signalpain']\n",
    "dfBeaches.set_index('slug', inplace=True)\n",
    "\n",
    "# code definitions\n",
    "dfCodes = pd.read_csv(F\"{code_defs}/mlw_codes.csv\")\n",
    "\n",
    "# geo date: explantory variables, index by slug and make a map:\n",
    "dfStreets = pd.read_csv(F\"{geo_data}/exp_variables/strts_1000m.csv\", index_col='slug')['length']\n",
    "dfBlds = pd.read_csv(F\"{geo_data}/exp_variables/bldgs_500m.csv\", index_col='slug')['area']\n",
    "dfRivs = pd.read_csv(F\"{geo_data}/exp_variables/rivs_1500m.csv\", index_col='slug')['NUMPOINTS']"
   ]
  },
  {
   "cell_type": "markdown",
   "metadata": {},
   "source": [
    "#### <span style=\"color:#008891\">Location of project folder</span>"
   ]
  },
  {
   "cell_type": "code",
   "execution_count": 46,
   "metadata": {},
   "outputs": [
    {
     "name": "stdout",
     "output_type": "stream",
     "text": [
      "That project exists\n"
     ]
    },
    {
     "data": {
      "text/markdown": [
       "### The project directory is: ../output/g112Summary"
      ],
      "text/plain": [
       "<IPython.core.display.Markdown object>"
      ]
     },
     "execution_count": 46,
     "metadata": {},
     "output_type": "execute_result"
    }
   ],
   "source": [
    "g112summary = ut.make_project_folder(output, 'g112Summary')\n",
    "md(F\"### The project directory is: ../{g112summary}\")"
   ]
  },
  {
   "cell_type": "markdown",
   "metadata": {},
   "source": [
    "### <span style=\"color:#008891\">Industrial pellets: summary</span>\n",
    "\n",
    "1. Locations where they have been found\n",
    "2. Frequency of identification\n",
    "3. Seasonal variation\n",
    "4. Correlation tables\n",
    "5. Median value per region"
   ]
  },
  {
   "cell_type": "code",
   "execution_count": 37,
   "metadata": {},
   "outputs": [],
   "source": [
    "# set some parameters:\n",
    "start_date = '2020-04-01'\n",
    "end_date = dt.datetime.today().strftime('%Y-%m-%d')\n",
    "code = 'G112'\n",
    "\n",
    "# restrict to lakes only\n",
    "dfS = dfAgg.loc[(dfAgg.water_name.isin(the_lakes))&(dfAgg.date >= start_date)].copy()\n",
    "\n",
    "# map geo values to survey results:\n",
    "dfS['population']=dfS.location.map(lambda x: dfBeaches.loc[x]['population'])\n",
    "dfS['streets'] = dfS.location.map(lambda x: dfStreets.loc[x])\n",
    "dfS['buildings'] = dfS.location.map(lambda x: dfBlds.loc[x])\n",
    "dfS['rivs'] = dfS.location.map(lambda x: dfRivs.loc[x])\n",
    "\n",
    "# seperate out the codes of interest\n",
    "dfCode = dfS.loc[dfS.code == code]\n",
    "\n",
    "# daily totals for each group, index to date\n",
    "allDf = dfS.groupby(['loc_date', 'date'], as_index=False).pcs_m.sum()\n",
    "allDf.set_index('date', inplace=True)\n",
    "\n",
    "g112Df = dfCode.groupby(['loc_date', 'date'], as_index=False).pcs_m.sum()\n",
    "g112Df.set_index('date', inplace=True)"
   ]
  },
  {
   "cell_type": "code",
   "execution_count": null,
   "metadata": {},
   "outputs": [],
   "source": [
    "# save some data\n",
    "# cone.to_csv(F\"{g112summary}/group_one_agg.csv\", index = False)"
   ]
  },
  {
   "cell_type": "markdown",
   "metadata": {},
   "source": [
    "#### Hopefully that just worked for you\n",
    "\n",
    "if not contact analyst@hammerdirt.ch"
   ]
  }
 ],
 "metadata": {
  "kernelspec": {
   "display_name": "Python 3",
   "language": "python",
   "name": "python3"
  },
  "language_info": {
   "codemirror_mode": {
    "name": "ipython",
    "version": 3
   },
   "file_extension": ".py",
   "mimetype": "text/x-python",
   "name": "python",
   "nbconvert_exporter": "python",
   "pygments_lexer": "ipython3",
   "version": "3.8.3"
  }
 },
 "nbformat": 4,
 "nbformat_minor": 4
}
