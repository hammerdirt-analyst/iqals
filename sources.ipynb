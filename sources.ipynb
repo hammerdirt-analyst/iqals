{
 "cells": [
  {
   "cell_type": "markdown",
   "metadata": {},
   "source": [
    "## <span style=\"color:blue\">This is a template or example workbook</span>\n",
    "\n",
    "### <span style=\"color:#008891\">Please read this if you want it to work</span>\n",
    "\n",
    "__What this does:__ This note book imports the processed data from the litter surveys and provides an example of the functionality.\n",
    "\n",
    "__When to use it:__ Whenever you want to start an analysis, this work book will save you some steps and provide a few convenience methods\n",
    "\n",
    "\n",
    "#### Tasks:\n",
    "\n",
    "1. Set the local path and provide variables for the subdirectories\n",
    "2. Retrieve data from repo\n",
    "3. Provide commonly used variables and formatting objects\n",
    "4. Provide a method to save objects locally\n",
    "\n",
    "\n",
    "questions or comments: analyst@hammerdirt.ch"
   ]
  },
  {
   "cell_type": "code",
   "execution_count": 1,
   "metadata": {
    "code_folding": [
     0
    ]
   },
   "outputs": [
    {
     "data": {
      "text/html": [
       "\n",
       "<style>\n",
       ".output {\n",
       "    display: flex;\n",
       "    align-items: center;\n",
       "    text-align: center;\n",
       "}\n",
       "</style>\n"
      ],
      "text/plain": [
       "<IPython.core.display.HTML object>"
      ]
     },
     "metadata": {},
     "output_type": "display_data"
    }
   ],
   "source": [
    "# sys, file and nav packages:\n",
    "import os\n",
    "import datetime as dt\n",
    "import csv\n",
    "\n",
    "# math packages:\n",
    "import pandas as pd\n",
    "import numpy as np\n",
    "from scipy import stats\n",
    "import datetime as dt \n",
    "\n",
    "\n",
    "# charting:\n",
    "import matplotlib as mpl\n",
    "import matplotlib.pyplot as plt\n",
    "import matplotlib.dates as mdates\n",
    "from matplotlib import ticker\n",
    "import seaborn as sns\n",
    "import matplotlib.gridspec as gridspec\n",
    "from IPython.display import display, HTML\n",
    "\n",
    "\n",
    "# home brew utitilties\n",
    "import utilities.utility_functions as ut\n",
    "\n",
    "# documenting\n",
    "from IPython.display import Markdown as md\n",
    "\n",
    "display(HTML(\"\"\"\n",
    "<style>\n",
    ".output {\n",
    "    display: flex;\n",
    "    align-items: center;\n",
    "    text-align: center;\n",
    "}\n",
    "</style>\n",
    "\"\"\"))"
   ]
  },
  {
   "cell_type": "markdown",
   "metadata": {},
   "source": [
    "### <span style=\"color:blue\">micro analysis.</span>\n",
    "\n",
    "Change as needed. Probably want to keep the local path reference though. Some common variables are established here:\n",
    "\n",
    "1. the_lakes\n",
    "2. poi\n",
    "3. the_rivs\n",
    "\n",
    "**poi** places of interest, project locations specified in the contract\n",
    "\n",
    "**the_lakes** lakes of interest to the project\n",
    "\n",
    "**the_rivs** the principal rivers."
   ]
  },
  {
   "cell_type": "code",
   "execution_count": 2,
   "metadata": {},
   "outputs": [],
   "source": [
    "# the local file structure. The resources are located in the corresponding directory.\n",
    "# the purpose and date should be included in the filename when saving results to output\n",
    "survey_data, location_data, code_defs, stat_ent, geo_data, output = ut.make_local_paths()"
   ]
  },
  {
   "cell_type": "code",
   "execution_count": 3,
   "metadata": {},
   "outputs": [
    {
     "name": "stdout",
     "output_type": "stream",
     "text": [
      "putting: output/codeListMicros.json\n"
     ]
    }
   ],
   "source": [
    "codesmicro=[\"G112\", \"G106\", \"G117\", \"G103\", \"G104\", \"G105\", \"G107\", \"G108\", \"G109\", \"G110\", \"G111\", \"G113\", \"G114\", \"G115\", \"G116\", \"G118\", \"G119\", \"G120\", \"G121\", \"G122\", \"G123\"]\n",
    "ut.push_this_to_json(filename=F\"{output}/codeListMicros.json\", data=codesmicro)"
   ]
  },
  {
   "cell_type": "code",
   "execution_count": 4,
   "metadata": {},
   "outputs": [
    {
     "name": "stdout",
     "output_type": "stream",
     "text": [
      "putting: output/codeListMacros.json\n"
     ]
    }
   ],
   "source": [
    "codes=[\"G82\", \"G78\"]\n",
    "ut.push_this_to_json(filename=F\"{output}/codeListMacros.json\", data=codes)"
   ]
  },
  {
   "cell_type": "code",
   "execution_count": 5,
   "metadata": {},
   "outputs": [],
   "source": [
    "# variables/arrays that are frequently used:\n",
    "# project lakes\n",
    "the_lakes = [\n",
    "    \"Bielersee\",\n",
    "    \"Walensee\",\n",
    "    \"Lac Léman\",\n",
    "    \"Zurichsee\",\n",
    "    \"Neuenburgersee\",\n",
    "    \"Thunersee\",\n",
    "    \"Lago Maggiore\",\n",
    "    \"Brienzersee\",\n",
    "    \"poi\"\n",
    "]\n",
    "\n",
    "the_rivs = [\n",
    "    'Aare',\n",
    "    'Rhône',\n",
    "    'Limmat',\n",
    "    'Linth',\n",
    "    'Ticino',\n",
    "]\n",
    "# project beaches\n",
    "poi = [\n",
    "    \"neuenburgersee_cudrefin_mattera\",\n",
    "    \"la-petite-plage\",\n",
    "    \"evole-plage\",\n",
    "    \"plage-de-cheyres\",\n",
    "    \"mullermatte\",\n",
    "    \"bielersee_vinelz_fankhausers\",\n",
    "    \"baby-plage-geneva\",\n",
    "    \"baye-de-montreux-g\",\n",
    "    \"grand-clos\",\n",
    "    \"preverenges\",\n",
    "    \"quai-maria-belgia\",\n",
    "    \"zurichsee_wollishofen_langendorfm\",\n",
    "    \"zurichsee_kusnachterhorn_thirkell-whitej\",\n",
    "    \"zuerichsee_richterswil_benkoem_2\",     \n",
    "    \"rastplatz-stampf\",\n",
    "    \"weissenau-neuhaus\",\n",
    "    \"thunersee_spiez_meierd_1\",\n",
    "    \"walensee_walenstadt_wysse\",\n",
    "    \"gasi-strand\",\n",
    "    \"vira-gambarogno\",\n",
    "    \"sentiero-giro-del-golf-spiaggia\",\n",
    "    \"maladaire\"\n",
    "   \n",
    "]"
   ]
  },
  {
   "cell_type": "code",
   "execution_count": 6,
   "metadata": {},
   "outputs": [],
   "source": [
    "# standard formats already in use for charts \n",
    "# you can just apply these as kwargs to different elements...\n",
    "table_k = dict(loc=\"top left\", bbox=(0,0,1,1), colWidths=[.5, .5], cellLoc='center')\n",
    "tablecenter_k = dict(loc=\"top left\", bbox=(0,0,1,1), cellLoc='center')\n",
    "tabtickp_k = dict(axis='both', which='both', bottom=False, top=False, left=False, right=False, labelleft=False, labelbottom=False)\n",
    "title_k = {'loc':'left', 'pad':10, 'linespacing':1.5, 'fontsize':12}\n",
    "title_k20 = {'loc':'left', 'pad':10, 'linespacing':1.5, 'fontsize':12, 'color':'dodgerblue'}\n",
    "title_k17 = {'loc':'left', 'pad':10, 'linespacing':1.5, 'fontsize':12, 'color':'salmon'}\n",
    "titler_k20 = {'loc':'right', 'pad':10, 'linespacing':1.5, 'fontsize':12, 'color':'dodgerblue'}\n",
    "titler_k17 = {'loc':'right', 'pad':10, 'linespacing':1.5, 'fontsize':12, 'color':'salmon'}\n",
    "xlab_k = {'labelpad':10, 'fontsize':12}\n",
    "ylab_k = {'labelpad':14, 'fontsize':14}\n",
    "titler_k = {'loc':'right', 'pad':10, 'linespacing':1.5, 'fontsize':12}\n",
    "\n",
    "# use these to format date axis in charts\n",
    "weeks = mdates.WeekdayLocator(byweekday=1, interval=4)\n",
    "days = mdates.DayLocator(bymonthday=1, interval=1)\n",
    "months = mdates.MonthLocator(bymonth=[3,6,9,12])\n",
    "wks_fmt = mdates.DateFormatter('%d')\n",
    "mths_fmt = mdates.DateFormatter('%b')"
   ]
  },
  {
   "cell_type": "code",
   "execution_count": 7,
   "metadata": {},
   "outputs": [],
   "source": [
    "# probably want to keep these... the works already done\n",
    "# aggregated survey data\n",
    "dfAgg = pd.read_csv(F\"{survey_data}/results_with_zeroes_aggregated_parent.csv\")\n",
    "dfAgg['date'] = pd.to_datetime(dfAgg['date'])\n",
    "\n",
    "# non aggregated survey data\n",
    "dfSurveys = pd.read_csv(F\"{survey_data}/results_with_zeroes.csv\")\n",
    "dfSurveys['date'] = pd.to_datetime(dfSurveys['date'])\n",
    "\n",
    "# beach data\n",
    "dfBeaches = pd.read_csv(F\"{location_data}/beaches_pop_bfs.csv\")\n",
    "\n",
    "# code definitions\n",
    "dfCodes = pd.read_csv(F\"{code_defs}/mlw_codes.csv\")"
   ]
  },
  {
   "cell_type": "markdown",
   "metadata": {},
   "source": [
    "### <span style=\"color:blue\">Codes not id</span>"
   ]
  },
  {
   "cell_type": "code",
   "execution_count": 8,
   "metadata": {},
   "outputs": [
    {
     "data": {
      "text/plain": [
       "Timestamp('2015-11-23 00:00:00')"
      ]
     },
     "execution_count": 8,
     "metadata": {},
     "output_type": "execute_result"
    }
   ],
   "source": [
    "hmm = dfSurveys.copy()\n",
    "hmm = hmm[[\"code\",\"quantity\"]].groupby(\"code\", as_index=False).quantity.sum()\n",
    "\n",
    "found = hmm.code.unique()\n",
    "\n",
    "ahh=[code for code in dfCodes.code if code not in found]\n",
    "dfSurveys.date.min()"
   ]
  },
  {
   "cell_type": "code",
   "execution_count": 9,
   "metadata": {},
   "outputs": [
    {
     "name": "stdout",
     "output_type": "stream",
     "text": [
      "['G212', 'G206', 'G207', 'G209', 'G183', 'G184', 'G187', 'G189', 'G192', 'G196', 'G110', 'G120', 'G121', 'G15', 'G16', 'G18', 'G42', 'G44', 'G45', 'G46', 'G47', 'G51', 'G54', 'G57', 'G58', 'G69', 'G72', 'G77', 'G85', 'G86', 'G127', 'G130', 'G132', 'G998', 'G163', 'G164', 'G168', 'G169']\n"
     ]
    }
   ],
   "source": [
    "print(ahh)"
   ]
  },
  {
   "cell_type": "code",
   "execution_count": 10,
   "metadata": {},
   "outputs": [
    {
     "data": {
      "text/html": [
       "<div>\n",
       "<style scoped>\n",
       "    .dataframe tbody tr th:only-of-type {\n",
       "        vertical-align: middle;\n",
       "    }\n",
       "\n",
       "    .dataframe tbody tr th {\n",
       "        vertical-align: top;\n",
       "    }\n",
       "\n",
       "    .dataframe thead th {\n",
       "        text-align: right;\n",
       "    }\n",
       "</style>\n",
       "<table border=\"1\" class=\"dataframe\">\n",
       "  <thead>\n",
       "    <tr style=\"text-align: right;\">\n",
       "      <th></th>\n",
       "      <th>date</th>\n",
       "      <th>code</th>\n",
       "      <th>pcs_m</th>\n",
       "      <th>quantity</th>\n",
       "      <th>location</th>\n",
       "      <th>loc_date</th>\n",
       "      <th>water_name</th>\n",
       "    </tr>\n",
       "  </thead>\n",
       "  <tbody>\n",
       "    <tr>\n",
       "      <th>62604</th>\n",
       "      <td>2020-12-19</td>\n",
       "      <td>G999</td>\n",
       "      <td>0.05</td>\n",
       "      <td>1</td>\n",
       "      <td>reuss_ottenbach_schoenenbergerl</td>\n",
       "      <td>('reuss_ottenbach_schoenenbergerl', '2020-12-19')</td>\n",
       "      <td>Reuss</td>\n",
       "    </tr>\n",
       "    <tr>\n",
       "      <th>62605</th>\n",
       "      <td>2020-12-19</td>\n",
       "      <td>G904</td>\n",
       "      <td>0.00</td>\n",
       "      <td>0</td>\n",
       "      <td>reuss_ottenbach_schoenenbergerl</td>\n",
       "      <td>('reuss_ottenbach_schoenenbergerl', '2020-12-19')</td>\n",
       "      <td>Reuss</td>\n",
       "    </tr>\n",
       "    <tr>\n",
       "      <th>62606</th>\n",
       "      <td>2020-12-19</td>\n",
       "      <td>G117</td>\n",
       "      <td>0.00</td>\n",
       "      <td>0</td>\n",
       "      <td>reuss_ottenbach_schoenenbergerl</td>\n",
       "      <td>('reuss_ottenbach_schoenenbergerl', '2020-12-19')</td>\n",
       "      <td>Reuss</td>\n",
       "    </tr>\n",
       "    <tr>\n",
       "      <th>62607</th>\n",
       "      <td>2020-12-19</td>\n",
       "      <td>G95</td>\n",
       "      <td>0.00</td>\n",
       "      <td>0</td>\n",
       "      <td>reuss_ottenbach_schoenenbergerl</td>\n",
       "      <td>('reuss_ottenbach_schoenenbergerl', '2020-12-19')</td>\n",
       "      <td>Reuss</td>\n",
       "    </tr>\n",
       "    <tr>\n",
       "      <th>62608</th>\n",
       "      <td>2020-12-19</td>\n",
       "      <td>G178</td>\n",
       "      <td>0.00</td>\n",
       "      <td>0</td>\n",
       "      <td>reuss_ottenbach_schoenenbergerl</td>\n",
       "      <td>('reuss_ottenbach_schoenenbergerl', '2020-12-19')</td>\n",
       "      <td>Reuss</td>\n",
       "    </tr>\n",
       "    <tr>\n",
       "      <th>...</th>\n",
       "      <td>...</td>\n",
       "      <td>...</td>\n",
       "      <td>...</td>\n",
       "      <td>...</td>\n",
       "      <td>...</td>\n",
       "      <td>...</td>\n",
       "      <td>...</td>\n",
       "    </tr>\n",
       "    <tr>\n",
       "      <th>62821</th>\n",
       "      <td>2020-12-19</td>\n",
       "      <td>G180</td>\n",
       "      <td>0.00</td>\n",
       "      <td>0</td>\n",
       "      <td>reuss_ottenbach_schoenenbergerl</td>\n",
       "      <td>('reuss_ottenbach_schoenenbergerl', '2020-12-19')</td>\n",
       "      <td>Reuss</td>\n",
       "    </tr>\n",
       "    <tr>\n",
       "      <th>62822</th>\n",
       "      <td>2020-12-19</td>\n",
       "      <td>G193</td>\n",
       "      <td>0.00</td>\n",
       "      <td>0</td>\n",
       "      <td>reuss_ottenbach_schoenenbergerl</td>\n",
       "      <td>('reuss_ottenbach_schoenenbergerl', '2020-12-19')</td>\n",
       "      <td>Reuss</td>\n",
       "    </tr>\n",
       "    <tr>\n",
       "      <th>62823</th>\n",
       "      <td>2020-12-19</td>\n",
       "      <td>G56</td>\n",
       "      <td>0.00</td>\n",
       "      <td>0</td>\n",
       "      <td>reuss_ottenbach_schoenenbergerl</td>\n",
       "      <td>('reuss_ottenbach_schoenenbergerl', '2020-12-19')</td>\n",
       "      <td>Reuss</td>\n",
       "    </tr>\n",
       "    <tr>\n",
       "      <th>62824</th>\n",
       "      <td>2020-12-19</td>\n",
       "      <td>G88</td>\n",
       "      <td>0.00</td>\n",
       "      <td>0</td>\n",
       "      <td>reuss_ottenbach_schoenenbergerl</td>\n",
       "      <td>('reuss_ottenbach_schoenenbergerl', '2020-12-19')</td>\n",
       "      <td>Reuss</td>\n",
       "    </tr>\n",
       "    <tr>\n",
       "      <th>62825</th>\n",
       "      <td>2020-12-19</td>\n",
       "      <td>G205</td>\n",
       "      <td>0.00</td>\n",
       "      <td>0</td>\n",
       "      <td>reuss_ottenbach_schoenenbergerl</td>\n",
       "      <td>('reuss_ottenbach_schoenenbergerl', '2020-12-19')</td>\n",
       "      <td>Reuss</td>\n",
       "    </tr>\n",
       "  </tbody>\n",
       "</table>\n",
       "<p>222 rows × 7 columns</p>\n",
       "</div>"
      ],
      "text/plain": [
       "            date  code  pcs_m  quantity                         location  \\\n",
       "62604 2020-12-19  G999   0.05         1  reuss_ottenbach_schoenenbergerl   \n",
       "62605 2020-12-19  G904   0.00         0  reuss_ottenbach_schoenenbergerl   \n",
       "62606 2020-12-19  G117   0.00         0  reuss_ottenbach_schoenenbergerl   \n",
       "62607 2020-12-19   G95   0.00         0  reuss_ottenbach_schoenenbergerl   \n",
       "62608 2020-12-19  G178   0.00         0  reuss_ottenbach_schoenenbergerl   \n",
       "...          ...   ...    ...       ...                              ...   \n",
       "62821 2020-12-19  G180   0.00         0  reuss_ottenbach_schoenenbergerl   \n",
       "62822 2020-12-19  G193   0.00         0  reuss_ottenbach_schoenenbergerl   \n",
       "62823 2020-12-19   G56   0.00         0  reuss_ottenbach_schoenenbergerl   \n",
       "62824 2020-12-19   G88   0.00         0  reuss_ottenbach_schoenenbergerl   \n",
       "62825 2020-12-19  G205   0.00         0  reuss_ottenbach_schoenenbergerl   \n",
       "\n",
       "                                                loc_date water_name  \n",
       "62604  ('reuss_ottenbach_schoenenbergerl', '2020-12-19')      Reuss  \n",
       "62605  ('reuss_ottenbach_schoenenbergerl', '2020-12-19')      Reuss  \n",
       "62606  ('reuss_ottenbach_schoenenbergerl', '2020-12-19')      Reuss  \n",
       "62607  ('reuss_ottenbach_schoenenbergerl', '2020-12-19')      Reuss  \n",
       "62608  ('reuss_ottenbach_schoenenbergerl', '2020-12-19')      Reuss  \n",
       "...                                                  ...        ...  \n",
       "62821  ('reuss_ottenbach_schoenenbergerl', '2020-12-19')      Reuss  \n",
       "62822  ('reuss_ottenbach_schoenenbergerl', '2020-12-19')      Reuss  \n",
       "62823  ('reuss_ottenbach_schoenenbergerl', '2020-12-19')      Reuss  \n",
       "62824  ('reuss_ottenbach_schoenenbergerl', '2020-12-19')      Reuss  \n",
       "62825  ('reuss_ottenbach_schoenenbergerl', '2020-12-19')      Reuss  \n",
       "\n",
       "[222 rows x 7 columns]"
      ]
     },
     "execution_count": 10,
     "metadata": {},
     "output_type": "execute_result"
    }
   ],
   "source": [
    "dfSurveys[dfSurveys.loc_date==\"('reuss_ottenbach_schoenenbergerl', '2020-12-19')\"]"
   ]
  },
  {
   "cell_type": "code",
   "execution_count": 11,
   "metadata": {},
   "outputs": [
    {
     "name": "stdout",
     "output_type": "stream",
     "text": [
      "putting: output/construction.json\n"
     ]
    }
   ],
   "source": [
    "construction=['G9',\n",
    "              'G17',\n",
    "              'G22','G66', 'G68','G69','G72','G73', 'G74','G81','G82', 'G83','G87','G89','G93','G160','G162','G169','G174','G186','G188','G189','G190','G194','G908','G921','G931']\n",
    "# saving to .json\n",
    "ut.push_this_to_json(filename=F\"{output}/construction.json\", data=ahh)"
   ]
  },
  {
   "cell_type": "code",
   "execution_count": 12,
   "metadata": {},
   "outputs": [
    {
     "data": {
      "text/plain": [
       "['G69', 'G72', 'G169', 'G189']"
      ]
     },
     "execution_count": 12,
     "metadata": {},
     "output_type": "execute_result"
    }
   ],
   "source": [
    "ahh=[code for code in dfCodes.code if code not in found]\n",
    "[code for code in construction if code in ahh]"
   ]
  },
  {
   "cell_type": "code",
   "execution_count": 20,
   "metadata": {},
   "outputs": [
    {
     "data": {
      "text/html": [
       "<div>\n",
       "<style scoped>\n",
       "    .dataframe tbody tr th:only-of-type {\n",
       "        vertical-align: middle;\n",
       "    }\n",
       "\n",
       "    .dataframe tbody tr th {\n",
       "        vertical-align: top;\n",
       "    }\n",
       "\n",
       "    .dataframe thead th {\n",
       "        text-align: right;\n",
       "    }\n",
       "</style>\n",
       "<table border=\"1\" class=\"dataframe\">\n",
       "  <thead>\n",
       "    <tr style=\"text-align: right;\">\n",
       "      <th></th>\n",
       "      <th>date</th>\n",
       "      <th>loc_date</th>\n",
       "      <th>code</th>\n",
       "      <th>pcs_m</th>\n",
       "      <th>quantity</th>\n",
       "      <th>location</th>\n",
       "      <th>water_name</th>\n",
       "    </tr>\n",
       "  </thead>\n",
       "  <tbody>\n",
       "    <tr>\n",
       "      <th>0</th>\n",
       "      <td>2020-10-22</td>\n",
       "      <td>('aabach', '2020-10-22')</td>\n",
       "      <td>G1</td>\n",
       "      <td>0.0</td>\n",
       "      <td>0</td>\n",
       "      <td>aabach</td>\n",
       "      <td>Zurichsee</td>\n",
       "    </tr>\n",
       "    <tr>\n",
       "      <th>1</th>\n",
       "      <td>2020-10-22</td>\n",
       "      <td>('aabach', '2020-10-22')</td>\n",
       "      <td>G10</td>\n",
       "      <td>0.0</td>\n",
       "      <td>0</td>\n",
       "      <td>aabach</td>\n",
       "      <td>Zurichsee</td>\n",
       "    </tr>\n",
       "    <tr>\n",
       "      <th>2</th>\n",
       "      <td>2020-10-22</td>\n",
       "      <td>('aabach', '2020-10-22')</td>\n",
       "      <td>G100</td>\n",
       "      <td>0.0</td>\n",
       "      <td>0</td>\n",
       "      <td>aabach</td>\n",
       "      <td>Zurichsee</td>\n",
       "    </tr>\n",
       "    <tr>\n",
       "      <th>3</th>\n",
       "      <td>2020-10-22</td>\n",
       "      <td>('aabach', '2020-10-22')</td>\n",
       "      <td>G101</td>\n",
       "      <td>0.0</td>\n",
       "      <td>0</td>\n",
       "      <td>aabach</td>\n",
       "      <td>Zurichsee</td>\n",
       "    </tr>\n",
       "    <tr>\n",
       "      <th>4</th>\n",
       "      <td>2020-10-22</td>\n",
       "      <td>('aabach', '2020-10-22')</td>\n",
       "      <td>G102</td>\n",
       "      <td>0.0</td>\n",
       "      <td>0</td>\n",
       "      <td>aabach</td>\n",
       "      <td>Zurichsee</td>\n",
       "    </tr>\n",
       "    <tr>\n",
       "      <th>...</th>\n",
       "      <td>...</td>\n",
       "      <td>...</td>\n",
       "      <td>...</td>\n",
       "      <td>...</td>\n",
       "      <td>...</td>\n",
       "      <td>...</td>\n",
       "      <td>...</td>\n",
       "    </tr>\n",
       "    <tr>\n",
       "      <th>44387</th>\n",
       "      <td>2021-01-10</td>\n",
       "      <td>('zurichsee_wollishofen_langendorfm', '2021-01...</td>\n",
       "      <td>G96</td>\n",
       "      <td>0.0</td>\n",
       "      <td>0</td>\n",
       "      <td>zurichsee_wollishofen_langendorfm</td>\n",
       "      <td>Zurichsee</td>\n",
       "    </tr>\n",
       "    <tr>\n",
       "      <th>44388</th>\n",
       "      <td>2021-01-10</td>\n",
       "      <td>('zurichsee_wollishofen_langendorfm', '2021-01...</td>\n",
       "      <td>G97</td>\n",
       "      <td>0.0</td>\n",
       "      <td>0</td>\n",
       "      <td>zurichsee_wollishofen_langendorfm</td>\n",
       "      <td>Zurichsee</td>\n",
       "    </tr>\n",
       "    <tr>\n",
       "      <th>44389</th>\n",
       "      <td>2021-01-10</td>\n",
       "      <td>('zurichsee_wollishofen_langendorfm', '2021-01...</td>\n",
       "      <td>G98</td>\n",
       "      <td>0.0</td>\n",
       "      <td>0</td>\n",
       "      <td>zurichsee_wollishofen_langendorfm</td>\n",
       "      <td>Zurichsee</td>\n",
       "    </tr>\n",
       "    <tr>\n",
       "      <th>44390</th>\n",
       "      <td>2021-01-10</td>\n",
       "      <td>('zurichsee_wollishofen_langendorfm', '2021-01...</td>\n",
       "      <td>G99</td>\n",
       "      <td>0.0</td>\n",
       "      <td>0</td>\n",
       "      <td>zurichsee_wollishofen_langendorfm</td>\n",
       "      <td>Zurichsee</td>\n",
       "    </tr>\n",
       "    <tr>\n",
       "      <th>44391</th>\n",
       "      <td>2021-01-10</td>\n",
       "      <td>('zurichsee_wollishofen_langendorfm', '2021-01...</td>\n",
       "      <td>G999</td>\n",
       "      <td>0.0</td>\n",
       "      <td>0</td>\n",
       "      <td>zurichsee_wollishofen_langendorfm</td>\n",
       "      <td>Zurichsee</td>\n",
       "    </tr>\n",
       "  </tbody>\n",
       "</table>\n",
       "<p>44392 rows × 7 columns</p>\n",
       "</div>"
      ],
      "text/plain": [
       "            date                                           loc_date  code  \\\n",
       "0     2020-10-22                           ('aabach', '2020-10-22')    G1   \n",
       "1     2020-10-22                           ('aabach', '2020-10-22')   G10   \n",
       "2     2020-10-22                           ('aabach', '2020-10-22')  G100   \n",
       "3     2020-10-22                           ('aabach', '2020-10-22')  G101   \n",
       "4     2020-10-22                           ('aabach', '2020-10-22')  G102   \n",
       "...          ...                                                ...   ...   \n",
       "44387 2021-01-10  ('zurichsee_wollishofen_langendorfm', '2021-01...   G96   \n",
       "44388 2021-01-10  ('zurichsee_wollishofen_langendorfm', '2021-01...   G97   \n",
       "44389 2021-01-10  ('zurichsee_wollishofen_langendorfm', '2021-01...   G98   \n",
       "44390 2021-01-10  ('zurichsee_wollishofen_langendorfm', '2021-01...   G99   \n",
       "44391 2021-01-10  ('zurichsee_wollishofen_langendorfm', '2021-01...  G999   \n",
       "\n",
       "       pcs_m  quantity                           location water_name  \n",
       "0        0.0         0                             aabach  Zurichsee  \n",
       "1        0.0         0                             aabach  Zurichsee  \n",
       "2        0.0         0                             aabach  Zurichsee  \n",
       "3        0.0         0                             aabach  Zurichsee  \n",
       "4        0.0         0                             aabach  Zurichsee  \n",
       "...      ...       ...                                ...        ...  \n",
       "44387    0.0         0  zurichsee_wollishofen_langendorfm  Zurichsee  \n",
       "44388    0.0         0  zurichsee_wollishofen_langendorfm  Zurichsee  \n",
       "44389    0.0         0  zurichsee_wollishofen_langendorfm  Zurichsee  \n",
       "44390    0.0         0  zurichsee_wollishofen_langendorfm  Zurichsee  \n",
       "44391    0.0         0  zurichsee_wollishofen_langendorfm  Zurichsee  \n",
       "\n",
       "[44392 rows x 7 columns]"
      ]
     },
     "execution_count": 20,
     "metadata": {},
     "output_type": "execute_result"
    }
   ],
   "source": [
    "cdate\n"
   ]
  },
  {
   "cell_type": "code",
   "execution_count": null,
   "metadata": {},
   "outputs": [],
   "source": []
  },
  {
   "cell_type": "code",
   "execution_count": 13,
   "metadata": {},
   "outputs": [
    {
     "name": "stdout",
     "output_type": "stream",
     "text": [
      "putting: output/codeNotfound.json\n"
     ]
    }
   ],
   "source": [
    "# saving to .json\n",
    "ut.push_this_to_json(filename=F\"{output}/codeNotfound.json\", data=ahh)"
   ]
  },
  {
   "cell_type": "code",
   "execution_count": 14,
   "metadata": {},
   "outputs": [],
   "source": [
    "construction=['G9',\n",
    "              'G17',\n",
    "              'G22','G66', 'G68','G69','G72','G73', 'G74','G81','G82', 'G83','G87','G89','G93','G160','G162','G169','G174','G186','G188','G189','G190','G194','G908','G921','G931']"
   ]
  },
  {
   "cell_type": "markdown",
   "metadata": {},
   "source": [
    "### <span style=\"color:#008891\">Make a place for your output and save work there</span>\n",
    "\n",
    "Make a folder in the output directory for any thing you want to save. That way its on the same directory as all the other workbooks.\n",
    "\n",
    "There is a convenience method for making a directory"
   ]
  },
  {
   "cell_type": "code",
   "execution_count": 15,
   "metadata": {},
   "outputs": [
    {
     "name": "stdout",
     "output_type": "stream",
     "text": [
      "That project exists\n"
     ]
    }
   ],
   "source": [
    "project_dir = ut.make_project_folder(output, 'micro_directory')"
   ]
  },
  {
   "cell_type": "code",
   "execution_count": 25,
   "metadata": {},
   "outputs": [],
   "source": []
  },
  {
   "cell_type": "markdown",
   "metadata": {},
   "source": [
    "### <span style=\"color:#008891\">Save some product to the new directory</span>"
   ]
  },
  {
   "cell_type": "code",
   "execution_count": 40,
   "metadata": {},
   "outputs": [
    {
     "data": {
      "text/html": [
       "<div>\n",
       "<style scoped>\n",
       "    .dataframe tbody tr th:only-of-type {\n",
       "        vertical-align: middle;\n",
       "    }\n",
       "\n",
       "    .dataframe tbody tr th {\n",
       "        vertical-align: top;\n",
       "    }\n",
       "\n",
       "    .dataframe thead th {\n",
       "        text-align: right;\n",
       "    }\n",
       "</style>\n",
       "<table border=\"1\" class=\"dataframe\">\n",
       "  <thead>\n",
       "    <tr style=\"text-align: right;\">\n",
       "      <th></th>\n",
       "      <th>quantity</th>\n",
       "    </tr>\n",
       "    <tr>\n",
       "      <th>code</th>\n",
       "      <th></th>\n",
       "    </tr>\n",
       "  </thead>\n",
       "  <tbody>\n",
       "    <tr>\n",
       "      <th>G160</th>\n",
       "      <td>12</td>\n",
       "    </tr>\n",
       "    <tr>\n",
       "      <th>G162</th>\n",
       "      <td>1</td>\n",
       "    </tr>\n",
       "    <tr>\n",
       "      <th>G17</th>\n",
       "      <td>5</td>\n",
       "    </tr>\n",
       "    <tr>\n",
       "      <th>G174</th>\n",
       "      <td>7</td>\n",
       "    </tr>\n",
       "    <tr>\n",
       "      <th>G186</th>\n",
       "      <td>110</td>\n",
       "    </tr>\n",
       "    <tr>\n",
       "      <th>G188</th>\n",
       "      <td>14</td>\n",
       "    </tr>\n",
       "    <tr>\n",
       "      <th>G190</th>\n",
       "      <td>2</td>\n",
       "    </tr>\n",
       "    <tr>\n",
       "      <th>G194</th>\n",
       "      <td>130</td>\n",
       "    </tr>\n",
       "    <tr>\n",
       "      <th>G22</th>\n",
       "      <td>573</td>\n",
       "    </tr>\n",
       "    <tr>\n",
       "      <th>G66</th>\n",
       "      <td>719</td>\n",
       "    </tr>\n",
       "    <tr>\n",
       "      <th>G68</th>\n",
       "      <td>21</td>\n",
       "    </tr>\n",
       "    <tr>\n",
       "      <th>G73</th>\n",
       "      <td>285</td>\n",
       "    </tr>\n",
       "    <tr>\n",
       "      <th>G74</th>\n",
       "      <td>177</td>\n",
       "    </tr>\n",
       "    <tr>\n",
       "      <th>G81</th>\n",
       "      <td>649</td>\n",
       "    </tr>\n",
       "    <tr>\n",
       "      <th>G82</th>\n",
       "      <td>11174</td>\n",
       "    </tr>\n",
       "    <tr>\n",
       "      <th>G83</th>\n",
       "      <td>157</td>\n",
       "    </tr>\n",
       "    <tr>\n",
       "      <th>G87</th>\n",
       "      <td>359</td>\n",
       "    </tr>\n",
       "    <tr>\n",
       "      <th>G89</th>\n",
       "      <td>1898</td>\n",
       "    </tr>\n",
       "    <tr>\n",
       "      <th>G9</th>\n",
       "      <td>14</td>\n",
       "    </tr>\n",
       "    <tr>\n",
       "      <th>G908</th>\n",
       "      <td>94</td>\n",
       "    </tr>\n",
       "    <tr>\n",
       "      <th>G921</th>\n",
       "      <td>137</td>\n",
       "    </tr>\n",
       "    <tr>\n",
       "      <th>G93</th>\n",
       "      <td>205</td>\n",
       "    </tr>\n",
       "    <tr>\n",
       "      <th>G931</th>\n",
       "      <td>19</td>\n",
       "    </tr>\n",
       "  </tbody>\n",
       "</table>\n",
       "</div>"
      ],
      "text/plain": [
       "      quantity\n",
       "code          \n",
       "G160        12\n",
       "G162         1\n",
       "G17          5\n",
       "G174         7\n",
       "G186       110\n",
       "G188        14\n",
       "G190         2\n",
       "G194       130\n",
       "G22        573\n",
       "G66        719\n",
       "G68         21\n",
       "G73        285\n",
       "G74        177\n",
       "G81        649\n",
       "G82      11174\n",
       "G83        157\n",
       "G87        359\n",
       "G89       1898\n",
       "G9          14\n",
       "G908        94\n",
       "G921       137\n",
       "G93        205\n",
       "G931        19"
      ]
     },
     "execution_count": 40,
     "metadata": {},
     "output_type": "execute_result"
    }
   ],
   "source": [
    "cone = hmm.loc[hmm.code.isin(construction)]\n",
    "cone.set_index('code', inplace=True, drop=True)\n",
    "cone\n"
   ]
  },
  {
   "cell_type": "code",
   "execution_count": 16,
   "metadata": {},
   "outputs": [],
   "source": [
    "# if you plan on using date time then you need to do that yourself:\n",
    "dfAgg.set_index('date', inplace=True)"
   ]
  },
  {
   "cell_type": "code",
   "execution_count": 41,
   "metadata": {},
   "outputs": [
    {
     "data": {
      "image/png": "[encoded data removed]",
      "text/plain": [
       "<Figure size 432x576 with 3 Axes>"
      ]
     },
     "metadata": {},
     "output_type": "display_data"
    }
   ],
   "source": [
    "# set some parameters:\n",
    "start_date = '2020-04-01'\n",
    "end_date = dt.datetime.today().strftime('%Y-%m-%d')\n",
    "\n",
    "# draw two curves of the monthly average of two code groups\n",
    "cdate = dfAgg.loc[start_date:end_date].copy()\n",
    "\n",
    "# get only the lake values\n",
    "cdate = cdate[cdate.water_name.isin(the_lakes)]\n",
    "cdate.reset_index(inplace=True)\n",
    "\n",
    "# break this up into code groups\n",
    "cone = cdate.loc[cdate.code.isin(construction)].groupby(['loc_date', 'date'], as_index=False).pcs_m.sum()\n",
    "cone.set_index('date', inplace=True)\n",
    "\n",
    "ctwo = cdate.loc[cdate.code.isin(['G74', 'G82', 'G81', 'G67', 'G89', 'G79', 'G78'])].groupby(['loc_date', 'date'], as_index=False).pcs_m.sum()\n",
    "ctwo.set_index('date', inplace=True)\n",
    "\n",
    "# pull the monthly figures\n",
    "coneM = cone.resample('M').pcs_m.median()\n",
    "ctwoM = ctwo.resample('M').pcs_m.median()\n",
    "\n",
    "# save the chart:\n",
    "sns.set_style('whitegrid')\n",
    "fig, axs = plt.subplots(3,1, figsize=(6,8),sharex = True, sharey=True)\n",
    "\n",
    "axone = sns.lineplot(data=coneM, x=coneM.index, y=coneM, label='group one', ax=axs[0])\n",
    "axtwo = sns.lineplot(data=ctwoM, x=ctwoM.index, y=ctwoM, label='group two', ax=axs[1])\n",
    "axthree = sns.lineplot(data=coneM, x=coneM.index, y=coneM, label='group one', ax=axs[2])\n",
    "sns.lineplot(data=ctwoM, x=ctwoM.index, y=ctwoM, label='group two',  ax=axs[2])\n",
    "axs[2].xaxis.set_major_formatter(mths_fmt)\n",
    "axs[2].set_xlabel('Date', **xlab_k)\n",
    "axs[0].set_ylabel('Pieces per meter', **ylab_k)\n",
    "axs[1].set_ylabel('Pieces per meter', **ylab_k)\n",
    "axs[2].set_ylabel('Pieces per meter', **ylab_k)\n",
    "\n",
    "axs[0].set_title(F\"Group one and two, {start_date} to {end_date}\", **title_k)\n",
    "plt.tight_layout()\n",
    "plt.savefig(F\"{project_dir}/atestchart.svg\")\n",
    "plt.show()\n",
    "plt.close()\n"
   ]
  },
  {
   "cell_type": "code",
   "execution_count": 18,
   "metadata": {},
   "outputs": [
    {
     "ename": "NameError",
     "evalue": "name 'atestproject' is not defined",
     "output_type": "error",
     "traceback": [
      "\u001b[1;31m---------------------------------------------------------------------------\u001b[0m",
      "\u001b[1;31mNameError\u001b[0m                                 Traceback (most recent call last)",
      "\u001b[1;32m<ipython-input-18-2f1a459608f9>\u001b[0m in \u001b[0;36m<module>\u001b[1;34m\u001b[0m\n\u001b[0;32m      1\u001b[0m \u001b[1;31m# save some data\u001b[0m\u001b[1;33m\u001b[0m\u001b[1;33m\u001b[0m\u001b[1;33m\u001b[0m\u001b[0m\n\u001b[1;32m----> 2\u001b[1;33m \u001b[0mcone\u001b[0m\u001b[1;33m.\u001b[0m\u001b[0mto_csv\u001b[0m\u001b[1;33m(\u001b[0m\u001b[1;34mF\"{atestproject}/group_one_agg.csv\"\u001b[0m\u001b[1;33m,\u001b[0m \u001b[0mindex\u001b[0m \u001b[1;33m=\u001b[0m \u001b[1;32mFalse\u001b[0m\u001b[1;33m)\u001b[0m\u001b[1;33m\u001b[0m\u001b[1;33m\u001b[0m\u001b[0m\n\u001b[0m",
      "\u001b[1;31mNameError\u001b[0m: name 'atestproject' is not defined"
     ]
    }
   ],
   "source": [
    "# save some data\n",
    "cone.to_csv(F\"{atestproject}/group_one_agg.csv\", index = False)"
   ]
  },
  {
   "cell_type": "markdown",
   "metadata": {},
   "source": [
    "#### Hopefully that just worked for you\n",
    "\n",
    "if not contact analyst@hammerdirt.ch"
   ]
  }
 ],
 "metadata": {
  "kernelspec": {
   "display_name": "Python 3",
   "language": "python",
   "name": "python3"
  },
  "language_info": {
   "codemirror_mode": {
    "name": "ipython",
    "version": 3
   },
   "file_extension": ".py",
   "mimetype": "text/x-python",
   "name": "python",
   "nbconvert_exporter": "python",
   "pygments_lexer": "ipython3",
   "version": "3.8.5"
  }
 },
 "nbformat": 4,
 "nbformat_minor": 4
}
