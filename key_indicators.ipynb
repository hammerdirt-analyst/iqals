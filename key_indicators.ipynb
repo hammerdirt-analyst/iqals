{
 "cells": [
  {
   "cell_type": "code",
   "execution_count": 1,
   "metadata": {
    "jupyter": {
     "source_hidden": true
    }
   },
   "outputs": [],
   "source": [
    "# sys, file and nav packages:\n",
    "# import os\n",
    "import datetime as dt\n",
    "# import csv\n",
    "# import json\n",
    "\n",
    "# math packages:\n",
    "import pandas as pd\n",
    "import numpy as np\n",
    "import math\n",
    "\n",
    "# charting:\n",
    "import matplotlib as mpl\n",
    "import matplotlib.pyplot as plt\n",
    "import seaborn as sns\n",
    "\n",
    "# home brew utitilties\n",
    "import utilities.utility_functions as ut\n",
    "import utilities.abundance_classes as ac\n",
    "import utilities.chart_kwargs as chartkwargs\n",
    "\n",
    "\n",
    "# set some parameters:\n",
    "today = dt.datetime.now().date().strftime(\"%Y-%m-%d\")\n",
    "start_date = '2020-04-01'\n",
    "end_date ='2021-04-01'\n",
    "\n",
    "# the city, lake and river bassin we are aggregating to\n",
    "# the keys are column names in the survey data\n",
    "levels = {\"city\":\"Biel/Bienne\",\"water_name_slug\":'bielersee', \"river_bassin\":'aare'}\n",
    "\n",
    "# variables for the directory tree\n",
    "most_recent, survey_data, location_data, code_defs, stat_ent, geo_data, output = ut.make_local_paths()\n",
    "\n",
    "# name of the output folder:\n",
    "name_of_project = 'keyindicatorsexample'\n",
    "\n",
    "# add the folder to the directory tree:\n",
    "project_directory = ut.make_project_folder(output, name_of_project)\n",
    "\n",
    "# keep track of output\n",
    "files_generated = []\n",
    "figure_num = 0\n",
    "data_num = 0\n",
    "\n",
    "def add_output(**kwargs):\n",
    "    files_generated.append({'tag':kwargs['tag'], 'number':kwargs['figure_num'], 'file':kwargs['file'],'type':kwargs['a_type']})\n",
    "    if kwargs['a_type'] == 'data':\n",
    "        kwargs['data'].to_csv(F\"{kwargs['file']}.csv\", index=False)\n",
    "    else:\n",
    "        plt.savefig(F\"{kwargs['file']}.jpeg\", dpi=300)"
   ]
  },
  {
   "cell_type": "markdown",
   "metadata": {},
   "source": [
    "## <span style=\"color:#008891\">Key statistical indicators of beach litter survey results</span>\n",
    "\n",
    "#### <span style=\"color:#008891\">Identification, quantification and analysis of observable anthropogenic debris along swiss river and lakes</span>\n",
    "\n",
    "The key indicators are common relationships used to provide insight to the most frequent questions using parameters that are taken directly from the survey data. The key indicators are relatively easy to calculate and interpret. In this section we explain the key indicators and use examples from the current data. \n",
    "\n",
    "#### <span style=\"color:#008891\">A brief reminder of the survey method</span>\n",
    "\n",
    "A survey is a collection of observations. The observations correspond to the objects that were removed and counted during the survey. Each object is placed into one of 260 categories¹. The location, date, survey dimensions and the total number of objects in each category is noted.\n",
    "\n",
    "Some locations are sampled monthly, other were only sampled once. The scope and size of the data for this example:"
   ]
  },
  {
   "cell_type": "code",
   "execution_count": 2,
   "metadata": {
    "jupyter": {
     "source_hidden": true
    }
   },
   "outputs": [
    {
     "name": "stdout",
     "output_type": "stream",
     "text": [
      "\n",
      "This data is valid for all surveys between 2020-04-01 and 2021-04-01 from the following catchment areas:\n",
      "\n",
      "  ['aare']\n",
      "\n",
      "There are 28,288 observations from 128 surveys.\n",
      "\n",
      "There were 12,875 objects collected.\n"
     ]
    }
   ],
   "source": [
    "# name the data sources and where to find them\n",
    "# the easiest is to put them in the resources/most_recent directory\n",
    "# the extension default is resources/most_recent/\n",
    "data_sources = {    \n",
    "    \"survey_data\":\"results_with_zeroes.csv\",\n",
    "    \"river_bassins\":\"river_basins.json\",\n",
    "    \"beaches\":\"beaches_with_ranks.csv\",\n",
    "    \"codes\":\"mlw_codes.csv\",\n",
    "    \"code_groups\":\"code_group2.json\",    \n",
    "}\n",
    "\n",
    "# define the methods to use for the .JSON and .csv files:\n",
    "my_data_methods = {'json':ut.json_file_get, 'csv':pd.read_csv}\n",
    "\n",
    "# get your data:\n",
    "survey_data, river_bassins, dfBeaches, dfCodes, code_groups = ac.get_data_from_most_recent(data_sources, data_methods=my_data_methods)\n",
    "\n",
    "# format the date to timestamp and slice the data by start/end date\n",
    "dfSurveys = ac.fo_rmat_and_slice_date(survey_data.copy(), a_format=\"%Y-%m-%d\", start_date=start_date, end_date=end_date)\n",
    "\n",
    "# add the grouping column defined by river_bassins\n",
    "data = ac.add_a_grouping_column(dfSurveys, river_bassins, column_to_match=\"water_name_slug\")\n",
    "\n",
    "# set the index of the beach data to location slug\n",
    "dfBeaches.set_index('slug', inplace=True)\n",
    "\n",
    "# set the index of dfCodes to code:\n",
    "dfCodes.set_index('code', inplace=True)\n",
    "\n",
    "# make a map to the code descriptions\n",
    "code_description_map = dfCodes.description\n",
    "\n",
    "# put the data into a class\n",
    "# kwargs for the abundance class\n",
    "a_class_kwargs = dict(\n",
    "    code_group_data=code_groups,\n",
    "    levels=['river_bassin', 'water_name_slug', 'city'],\n",
    "    river_bassins=river_bassins,\n",
    "    exp_variables=['population','buildings', 'streets', 'intersects', 'pop_group_proj', 'pop_group_rip', 'streets_rank', 'buildings_rank'],       \n",
    "    code_group_loc=output,    \n",
    ")\n",
    "\n",
    "# the data labled by river bassin, water feature, city and beach name with independent variables attached\n",
    "a = ac.PreprocessData(data,  dfBeaches, these_cols=['loc_date', 'location', 'water_name_slug','date'], **a_class_kwargs)\n",
    "\n",
    "# define the final data set here:\n",
    "a_data = a.survey_data.copy()\n",
    "\n",
    "# identify all records with a quantity > 0\n",
    "a_data['fail'] = a_data.quantity > 0\n",
    "\n",
    "# thats it! all the survey records with the independent variables attached and columns to group by\n",
    "# date, location, (location, date), river bassin, water body, city, material, usage group, or object\n",
    "\n",
    "# define the data set for this example:\n",
    "trb = a_data.loc[a_data.river_bassin == levels['river_bassin']].copy()\n",
    "\n",
    "# describe the data set:\n",
    "num_obs = len(trb)\n",
    "num_samps = len(trb.loc_date.unique())\n",
    "num_obj = trb.quantity.sum()\n",
    "num_locs = len(trb.location.unique())\n",
    "\n",
    "# the city that we are looking at:\n",
    "biel = trb[trb.city == levels['city']]\n",
    "\n",
    "# samples at biel\n",
    "biel_locd = biel.loc_date.unique()\n",
    "\n",
    "# locations at biel\n",
    "biel_loc = biel.location.unique()\n",
    "\n",
    "# example data summary and keys\n",
    "biel_t = biel.quantity.sum()\n",
    "biel_fail = biel.loc[biel.quantity > 0]\n",
    "biel_nfail = len(biel_fail.code.unique())\n",
    "\n",
    "print(F\"\\nThis data is valid for all surveys between {start_date} and {end_date} from the following catchment areas:\\n\\n  {trb.river_bassin.unique()}\")\n",
    "print(F\"\\nThere are {'{:,}'.format(num_obs)} observations from {num_samps} surveys.\\n\\nThere were {'{:,}'.format(num_obj)} objects collected.\")"
   ]
  },
  {
   "cell_type": "markdown",
   "metadata": {},
   "source": [
    "### <span style=\"color:#008891\">Indicators for the most frequent questions</span>\n",
    "\n",
    "1. What do you find?\n",
    "2. How often do you find it?\n",
    "3. How much do you find?\n",
    "4. What else do you find?\n",
    "5. Where do you find the most?\n",
    "\n",
    "These are important questions to answer. The survey results are a census of objects that were primarily washed up on the beach. This helps answer the question:\n",
    "\n",
    "\n",
    "> **What are we likely to find at the beach?**\n",
    "\n",
    "> **What are we likely to find in the water?**\n",
    "\n",
    "The key indicators differ between regions and locations.  Which may mean that the extent and/or nature of the problem is different from one region to another.\n",
    "\n",
    "The reliability of these indicators is based on the following assumptions:\n",
    "\n",
    "1. The more trash there is on the ground the more a person is likely to find\n",
    "2. The survey results represent the minimum amount of trash at that site²\n",
    "3. The chance of finding any item is the same as finding any other item³\n",
    "\n",
    "\n",
    "#### <span style=\"color:#008891\">More information </span>\n",
    "\n",
    "For information on a specific catchment area or a water feature see the notebook for that catchment area (or make one and send a pull request). For more information on the project visit https://www.plagespropres.ch/ .\n",
    "\n",
    "\n",
    "¹ The EU guide on monitoring marine litter https://mcc.jrc.ec.europa.eu/documents/201702074014.pdfhttps://mcc.jrc.ec.europa.eu/documents/201702074014.pdf<br> ² There is most likely more trash at the survey site, but certainly not less than what was recorded.<br>³ Independent and identically distributed : https://stats.stackexchange.com/questions/17391/what-are-i-i-d-random-variables\n"
   ]
  },
  {
   "cell_type": "markdown",
   "metadata": {
    "jupyter": {
     "source_hidden": true
    }
   },
   "source": [
    "### <span style=\"color:#008891\">Fail rate: likelihood of finding an object</span>\n",
    "\n",
    "#### The fail rate is the number of times that an object was found divided by the number of surveys.\n",
    "\n",
    "**What does it mean?** The fail rate describes the percent of times that a category was identified in relation to the amount of surveys conducted\n",
    "\n",
    "> Use the fail rate to determine how frequently an object is found within a geographic range\n",
    "\n",
    "> Use the fail rate to indentify objects that are found frequently but in low numbers"
   ]
  },
  {
   "cell_type": "code",
   "execution_count": 3,
   "metadata": {},
   "outputs": [
    {
     "name": "stdout",
     "output_type": "stream",
     "text": [
      "\n",
      "Consider the summary of the surveys conducted in Biel/Bienne:\n",
      "\n",
      "There were 3,067 objects removed and identified in the course of 16 surveys taken from 3 locations in Biel/Bienne.\n",
      "\n",
      "The objects were placed in to the following 118 of the 260 possible categories:\n",
      "\n",
      "['G117' 'G213' 'G73' 'G152' 'G24' 'G87' 'G159' 'G3' 'G905' 'G170' 'G33'\n",
      " 'G101' 'G178' 'G38' 'G939' 'G115' 'G211' 'G67' 'G95' 'G148' 'G23' 'G79'\n",
      " 'G156' 'G27' 'G901' 'G167' 'G31' 'G100' 'G177' 'G35' 'G922' 'G112' 'G200'\n",
      " 'G50' 'G941' 'G143' 'G22' 'G78' 'G153' 'G25' 'G89' 'G165' 'G30' 'G175'\n",
      " 'G34' 'G917' 'G106' 'G186' 'G48' 'G940' 'G908' 'G41' 'G923' 'G21' 'G70'\n",
      " 'G942' 'G4' 'G28' 'G904' 'G37' 'G191' 'G928' 'G10' 'G135' 'G68' 'G98'\n",
      " 'G32' 'G936' 'G133' 'G66' 'G125' 'G8' 'G103' 'G93' 'G91' 'G916' 'G155'\n",
      " 'G142' 'G7' 'G208' 'G26' 'G198' 'G921' 'G76' 'G927' 'G12' 'G150' 'G59'\n",
      " 'G914' 'G197' 'G930' 'G171' 'G53' 'G913' 'G118' 'G137' 'G161' 'G104'\n",
      " 'G188' 'G75' 'G43' 'G71' 'G20' 'G49' 'G918' 'G210' 'G2' 'G203' 'G919'\n",
      " 'G195' 'G158' 'G929' 'G64' 'G96' 'G204' 'G82' 'G81' 'G74']\n",
      "\n"
     ]
    }
   ],
   "source": [
    "print(\"\\nConsider the summary of the surveys conducted in Biel/Bienne:\")\n",
    "print(F\"\\nThere were { '{:,}'.format( biel_t)} objects removed and identified in the course of { len(biel_locd) } surveys taken from {len(biel_loc)} locations in Biel/Bienne.\")\n",
    "print(F\"\\nThe objects were placed in to the following {biel_nfail} of the {len(dfCodes)} possible categories:\\n\\n{biel_fail.code.unique()}\\n\")"
   ]
  },
  {
   "cell_type": "markdown",
   "metadata": {},
   "source": [
    "#### <span style=\"color:#008891\">Calculate the fail rate per object category, for one city, lake and river basin</span>\n",
    "\n",
    "The fail rate can be calculated for any lake, municipality or river bassin __provided you have a sufficient quantity of reliable data__. Biel/Bienne is a city on Bielersee in the Aare river bassin. There were multiple surveys from multiple locations within the river bassin.\n",
    "\n",
    "**How much data is sufficient?** The data should cover the land use characteristics for the geographic and temporal scale appropriate to the area of study. Local authorities will have insight to land use characteristics that can greatly increase monitoring effiency. **How confident we are in the findings is directly related to the quality and the amount of data available**.\n",
    "\n",
    "To calculate the fail rates for Biel, Bielersee and the Aare river basin we just add up the number of times a code was used and divide it by the number of surveys for the city, lake or river basin.\n",
    "\n",
    "#### <span style=\"color:#008891\">The 10 items identified the most often in Biel/Bienne</span>\n",
    "\n",
    "Compare the fail-rates of the ten most common items from the 16 surveys in Biel to the fail-rates of those same items for Bielersee the Aare and all other river bassins"
   ]
  },
  {
   "cell_type": "code",
   "execution_count": 4,
   "metadata": {},
   "outputs": [
    {
     "data": {
      "image/png": "[encoded data removed]",
      "text/plain": [
       "<Figure size 288x576 with 2 Axes>"
      ]
     },
     "metadata": {
      "needs_background": "light"
     },
     "output_type": "display_data"
    }
   ],
   "source": [
    "# this is a convenience function for the abundance class\n",
    "# the fail rate needs to be recalculated at each aggregation level\n",
    "fail_rates_df = ac.agg_fail_rate_by_city_feature_basin_all(a_data, levels, group='code', )\n",
    "\n",
    "# plot that\n",
    "fig, ax = plt.subplots(figsize=(4,8))\n",
    "\n",
    "sns.heatmap(fail_rates_df.sort_values(by=\"Biel/Bienne\", ascending=False)[:10], cmap='YlOrRd', ax = ax)\n",
    "        \n",
    "plt.tight_layout()\n",
    "plt.show()"
   ]
  },
  {
   "cell_type": "markdown",
   "metadata": {},
   "source": [
    "With the exception of fragmented plastics and plastic sheeting the fail rate for the top ten items in Biel/Bienne was greater than the rest of the lake, the river bassin and nationally.\n",
    "\n",
    "**The fail rate is not the probability of finding one object**, it is the most likely estimate (MLE) of the probability of finding one object. The MLE is the best estimate for the probability of a binomial variabe (the pass fail rate is a bimomial variable). A complete derivation of the MLE of the binomial variable is beyond the scope of this article but very easy to understand⁴. \n",
    "\n",
    "**With that the first two questions are answered:**"
   ]
  },
  {
   "cell_type": "code",
   "execution_count": 5,
   "metadata": {
    "jupyter": {
     "source_hidden": true
    }
   },
   "outputs": [
    {
     "name": "stdout",
     "output_type": "stream",
     "text": [
      "\n",
      "What do you find on the beach in Biel/Bienne?\n",
      "\n",
      "There were 118 categories that were identified at least one time:\n",
      "\n",
      "['G117' 'G213' 'G73' 'G152' 'G24' 'G87' 'G159' 'G3' 'G905' 'G170' 'G33'\n",
      " 'G101' 'G178' 'G38' 'G939' 'G115' 'G211' 'G67' 'G95' 'G148' 'G23' 'G79'\n",
      " 'G156' 'G27' 'G901' 'G167' 'G31' 'G100' 'G177' 'G35' 'G922' 'G112' 'G200'\n",
      " 'G50' 'G941' 'G143' 'G22' 'G78' 'G153' 'G25' 'G89' 'G165' 'G30' 'G175'\n",
      " 'G34' 'G917' 'G106' 'G186' 'G48' 'G940' 'G908' 'G41' 'G923' 'G21' 'G70'\n",
      " 'G942' 'G4' 'G28' 'G904' 'G37' 'G191' 'G928' 'G10' 'G135' 'G68' 'G98'\n",
      " 'G32' 'G936' 'G133' 'G66' 'G125' 'G8' 'G103' 'G93' 'G91' 'G916' 'G155'\n",
      " 'G142' 'G7' 'G208' 'G26' 'G198' 'G921' 'G76' 'G927' 'G12' 'G150' 'G59'\n",
      " 'G914' 'G197' 'G930' 'G171' 'G53' 'G913' 'G118' 'G137' 'G161' 'G104'\n",
      " 'G188' 'G75' 'G43' 'G71' 'G20' 'G49' 'G918' 'G210' 'G2' 'G203' 'G919'\n",
      " 'G195' 'G158' 'G929' 'G64' 'G96' 'G204' 'G82' 'G81' 'G74']\n",
      "\n",
      "\n",
      "How often are those objects found?\n",
      "\n",
      "The 10 objects that were identified the most frequently:\n",
      "\n",
      "code\n",
      "G27     1.0000\n",
      "G177    1.0000\n",
      "G30     0.9375\n",
      "G78     0.9375\n",
      "G79     0.8750\n",
      "G81     0.8750\n",
      "G74     0.8125\n",
      "G82     0.8125\n",
      "G25     0.8125\n",
      "G67     0.8125\n",
      "Name: Biel/Bienne, dtype: float64\n",
      "\n"
     ]
    }
   ],
   "source": [
    "print(\"\\nWhat do you find on the beach in Biel/Bienne?\")\n",
    "print(F\"\\nThere were {biel_nfail} categories that were identified at least one time:\\n\\n{biel_fail.code.unique()}\\n\")\n",
    "print(\"\\nHow often are those objects found?\")\n",
    "print(F\"\\nThe 10 objects that were identified the most frequently:\\n\\n{fail_rates_df.sort_values(by='Biel/Bienne', ascending=False)[:10]['Biel/Bienne']}\\n\")"
   ]
  },
  {
   "cell_type": "markdown",
   "metadata": {},
   "source": [
    "**Conclusion**: We now know what items were found the most often _and that tells us about what we may find at the next survey_ but we do not know how many of these objects were found at each survey. To do that we need to look at the quantity found as well as size of the survey.\n",
    "\n",
    "⁴ A very simple explanation of the MLE for a binomial variable: https://www.youtube.com/watch?v=4KKV9yZCoM4"
   ]
  },
  {
   "cell_type": "markdown",
   "metadata": {},
   "source": [
    "### <span style=\"color:#008891\">Pieces per meter: How much do you find</span>\n",
    "\n",
    "#### Pieces per meter is the number of objects found divided by the length of the shoreline surveyed.\n",
    "\n",
    "**What does it mean?** Pieces per meter describes the quantiy of an object that was found for each meter of shoreline surveyed.\n",
    "\n",
    "> Use pieces per meter to compare the magnitude of results between locations\n",
    "\n",
    "> Use pieces per meter to identify zones of accumulation\n",
    "\n",
    "_Why not use the surface area?_ The norm internationally is to report the results as quantity of objects per length of shoreline surveyed, usually 100 meters. You can use either one, however if you are looking for comparable data sets your choices may be limited if using the surface area is a requirement. The example here is given in pieces per meter.\n",
    "\n",
    "#### <span style=\"color:#008891\">Calculate the pieces per meter of the ten objects the most frequently identified at Biel/Bienne</span>\n",
    "\n",
    "The pieces per meter (pcs_m) is calculated for each observation at the time the survey is submitted. This value can be taken directly from the survey results. The pcs_m value is not cumulative, therefore we need to use either the mean or the median value. Because we are interested in how many may be found at a survey we will use the median value for each object of the ten most identified objects in the city of Biel/Bienne.  "
   ]
  },
  {
   "cell_type": "code",
   "execution_count": null,
   "metadata": {
    "jupyter": {
     "source_hidden": true
    }
   },
   "outputs": [],
   "source": []
  },
  {
   "cell_type": "markdown",
   "metadata": {},
   "source": [
    "\n",
    "<br/><br />\n",
    "\n",
    "#### **Pieces per meter:** How many objects were found within a defined distance\n",
    "\n",
    "The pieces per meter ratio is the total number of objects found divided by the length in meters of the survey. This ratio is calculated for each record in the survey. Objects that were not identified durring a survey have a pcs/m ratio of 0.\n",
    "\n",
    "_Pieces per meter is the number of objects found divided by the number of samples taken._\n",
    "\n",
    "__what does it mean:__ The pcs-m ratio describes the average amount of an object you are likely to find if you mulitply pcs/m by the survey length\n",
    "\n",
    "__how to use it:__ Objects with a high pcs/m ratio have a higher minimum value per survey (if they are found: see fail rate)\n",
    "\n",
    "__Why is this is important?__ A high pcs/m ration indicates either proximity to a source or a zone of accumulation\n",
    "<br/><br />\n",
    "\n",
    "#### **% of total** The amount of an object relative to the other objects indeitififed\n",
    "\n",
    "The percent of total describes the value of an object when all the other objects are considered.\n",
    "\n",
    "__what does it mean:__ The % of total describes how much of the problem can be attributed to an object or group of objects\n",
    "\n",
    "__how to use it:__ The % of total is the often the first indicator used to prioritize mitigation campaigns\n",
    "\n",
    "__Why is this important:__ This helps define the problem at different levels\n",
    "<br/><br />"
   ]
  },
  {
   "cell_type": "code",
   "execution_count": null,
   "metadata": {
    "jupyter": {
     "source_hidden": true
    }
   },
   "outputs": [],
   "source": [
    "\n"
   ]
  },
  {
   "cell_type": "code",
   "execution_count": null,
   "metadata": {
    "jupyter": {
     "source_hidden": true
    }
   },
   "outputs": [],
   "source": []
  },
  {
   "cell_type": "markdown",
   "metadata": {},
   "source": [
    "## <span style=\"color:#008891\">Description of survey results</span>\n",
    "\n",
    "### <span style=\"color:#008891\"> Total number of surveys and observations, total number of objects found, number of cities and total population concerned</span>"
   ]
  },
  {
   "cell_type": "code",
   "execution_count": null,
   "metadata": {
    "jupyter": {
     "source_hidden": true
    }
   },
   "outputs": [],
   "source": []
  },
  {
   "cell_type": "code",
   "execution_count": null,
   "metadata": {
    "jupyter": {
     "source_hidden": true
    }
   },
   "outputs": [],
   "source": [
    "\n"
   ]
  },
  {
   "cell_type": "markdown",
   "metadata": {},
   "source": [
    "## <span style=\"color:#008891\">The top ten objects identified</span>"
   ]
  },
  {
   "cell_type": "code",
   "execution_count": 6,
   "metadata": {
    "jupyter": {
     "source_hidden": true
    }
   },
   "outputs": [
    {
     "ename": "NameError",
     "evalue": "name 'material_map' is not defined",
     "output_type": "error",
     "traceback": [
      "\u001b[0;31m---------------------------------------------------------------------------\u001b[0m",
      "\u001b[0;31mNameError\u001b[0m                                 Traceback (most recent call last)",
      "\u001b[0;32m<ipython-input-6-c82ca49118b6>\u001b[0m in \u001b[0;36m<module>\u001b[0;34m\u001b[0m\n\u001b[1;32m     13\u001b[0m \u001b[0;34m\u001b[0m\u001b[0m\n\u001b[1;32m     14\u001b[0m \u001b[0;31m# add descriptive and categorical variables:\u001b[0m\u001b[0;34m\u001b[0m\u001b[0;34m\u001b[0m\u001b[0;34m\u001b[0m\u001b[0m\n\u001b[0;32m---> 15\u001b[0;31m \u001b[0mtop_ten_national\u001b[0m\u001b[0;34m[\u001b[0m\u001b[0;34m'material'\u001b[0m\u001b[0;34m]\u001b[0m \u001b[0;34m=\u001b[0m \u001b[0mtop_ten_national\u001b[0m\u001b[0;34m.\u001b[0m\u001b[0mcode\u001b[0m\u001b[0;34m.\u001b[0m\u001b[0mmap\u001b[0m\u001b[0;34m(\u001b[0m\u001b[0;32mlambda\u001b[0m \u001b[0mx\u001b[0m\u001b[0;34m:\u001b[0m \u001b[0mmaterial_map\u001b[0m\u001b[0;34m.\u001b[0m\u001b[0mloc\u001b[0m\u001b[0;34m[\u001b[0m\u001b[0mx\u001b[0m\u001b[0;34m]\u001b[0m\u001b[0;34m)\u001b[0m\u001b[0;34m\u001b[0m\u001b[0;34m\u001b[0m\u001b[0m\n\u001b[0m\u001b[1;32m     16\u001b[0m \u001b[0mtop_ten_national\u001b[0m\u001b[0;34m[\u001b[0m\u001b[0;34m'description'\u001b[0m\u001b[0;34m]\u001b[0m \u001b[0;34m=\u001b[0m \u001b[0mtop_ten_national\u001b[0m\u001b[0;34m.\u001b[0m\u001b[0mcode\u001b[0m\u001b[0;34m.\u001b[0m\u001b[0mmap\u001b[0m\u001b[0;34m(\u001b[0m\u001b[0;32mlambda\u001b[0m \u001b[0mx\u001b[0m\u001b[0;34m:\u001b[0m \u001b[0mdesc_map\u001b[0m\u001b[0;34m.\u001b[0m\u001b[0mloc\u001b[0m\u001b[0;34m[\u001b[0m\u001b[0mx\u001b[0m\u001b[0;34m]\u001b[0m\u001b[0;34m)\u001b[0m\u001b[0;34m\u001b[0m\u001b[0;34m\u001b[0m\u001b[0m\n\u001b[1;32m     17\u001b[0m \u001b[0;34m\u001b[0m\u001b[0m\n",
      "\u001b[0;32m~/anaconda3/envs/refactor_process/lib/python3.8/site-packages/pandas/core/series.py\u001b[0m in \u001b[0;36mmap\u001b[0;34m(self, arg, na_action)\u001b[0m\n\u001b[1;32m   3980\u001b[0m         \u001b[0mdtype\u001b[0m\u001b[0;34m:\u001b[0m \u001b[0mobject\u001b[0m\u001b[0;34m\u001b[0m\u001b[0;34m\u001b[0m\u001b[0m\n\u001b[1;32m   3981\u001b[0m         \"\"\"\n\u001b[0;32m-> 3982\u001b[0;31m         \u001b[0mnew_values\u001b[0m \u001b[0;34m=\u001b[0m \u001b[0msuper\u001b[0m\u001b[0;34m(\u001b[0m\u001b[0;34m)\u001b[0m\u001b[0;34m.\u001b[0m\u001b[0m_map_values\u001b[0m\u001b[0;34m(\u001b[0m\u001b[0marg\u001b[0m\u001b[0;34m,\u001b[0m \u001b[0mna_action\u001b[0m\u001b[0;34m=\u001b[0m\u001b[0mna_action\u001b[0m\u001b[0;34m)\u001b[0m\u001b[0;34m\u001b[0m\u001b[0;34m\u001b[0m\u001b[0m\n\u001b[0m\u001b[1;32m   3983\u001b[0m         return self._constructor(new_values, index=self.index).__finalize__(\n\u001b[1;32m   3984\u001b[0m             \u001b[0mself\u001b[0m\u001b[0;34m,\u001b[0m \u001b[0mmethod\u001b[0m\u001b[0;34m=\u001b[0m\u001b[0;34m\"map\"\u001b[0m\u001b[0;34m\u001b[0m\u001b[0;34m\u001b[0m\u001b[0m\n",
      "\u001b[0;32m~/anaconda3/envs/refactor_process/lib/python3.8/site-packages/pandas/core/base.py\u001b[0m in \u001b[0;36m_map_values\u001b[0;34m(self, mapper, na_action)\u001b[0m\n\u001b[1;32m   1158\u001b[0m \u001b[0;34m\u001b[0m\u001b[0m\n\u001b[1;32m   1159\u001b[0m         \u001b[0;31m# mapper is a function\u001b[0m\u001b[0;34m\u001b[0m\u001b[0;34m\u001b[0m\u001b[0;34m\u001b[0m\u001b[0m\n\u001b[0;32m-> 1160\u001b[0;31m         \u001b[0mnew_values\u001b[0m \u001b[0;34m=\u001b[0m \u001b[0mmap_f\u001b[0m\u001b[0;34m(\u001b[0m\u001b[0mvalues\u001b[0m\u001b[0;34m,\u001b[0m \u001b[0mmapper\u001b[0m\u001b[0;34m)\u001b[0m\u001b[0;34m\u001b[0m\u001b[0;34m\u001b[0m\u001b[0m\n\u001b[0m\u001b[1;32m   1161\u001b[0m \u001b[0;34m\u001b[0m\u001b[0m\n\u001b[1;32m   1162\u001b[0m         \u001b[0;32mreturn\u001b[0m \u001b[0mnew_values\u001b[0m\u001b[0;34m\u001b[0m\u001b[0;34m\u001b[0m\u001b[0m\n",
      "\u001b[0;32mpandas/_libs/lib.pyx\u001b[0m in \u001b[0;36mpandas._libs.lib.map_infer\u001b[0;34m()\u001b[0m\n",
      "\u001b[0;32m<ipython-input-6-c82ca49118b6>\u001b[0m in \u001b[0;36m<lambda>\u001b[0;34m(x)\u001b[0m\n\u001b[1;32m     13\u001b[0m \u001b[0;34m\u001b[0m\u001b[0m\n\u001b[1;32m     14\u001b[0m \u001b[0;31m# add descriptive and categorical variables:\u001b[0m\u001b[0;34m\u001b[0m\u001b[0;34m\u001b[0m\u001b[0;34m\u001b[0m\u001b[0m\n\u001b[0;32m---> 15\u001b[0;31m \u001b[0mtop_ten_national\u001b[0m\u001b[0;34m[\u001b[0m\u001b[0;34m'material'\u001b[0m\u001b[0;34m]\u001b[0m \u001b[0;34m=\u001b[0m \u001b[0mtop_ten_national\u001b[0m\u001b[0;34m.\u001b[0m\u001b[0mcode\u001b[0m\u001b[0;34m.\u001b[0m\u001b[0mmap\u001b[0m\u001b[0;34m(\u001b[0m\u001b[0;32mlambda\u001b[0m \u001b[0mx\u001b[0m\u001b[0;34m:\u001b[0m \u001b[0mmaterial_map\u001b[0m\u001b[0;34m.\u001b[0m\u001b[0mloc\u001b[0m\u001b[0;34m[\u001b[0m\u001b[0mx\u001b[0m\u001b[0;34m]\u001b[0m\u001b[0;34m)\u001b[0m\u001b[0;34m\u001b[0m\u001b[0;34m\u001b[0m\u001b[0m\n\u001b[0m\u001b[1;32m     16\u001b[0m \u001b[0mtop_ten_national\u001b[0m\u001b[0;34m[\u001b[0m\u001b[0;34m'description'\u001b[0m\u001b[0;34m]\u001b[0m \u001b[0;34m=\u001b[0m \u001b[0mtop_ten_national\u001b[0m\u001b[0;34m.\u001b[0m\u001b[0mcode\u001b[0m\u001b[0;34m.\u001b[0m\u001b[0mmap\u001b[0m\u001b[0;34m(\u001b[0m\u001b[0;32mlambda\u001b[0m \u001b[0mx\u001b[0m\u001b[0;34m:\u001b[0m \u001b[0mdesc_map\u001b[0m\u001b[0;34m.\u001b[0m\u001b[0mloc\u001b[0m\u001b[0;34m[\u001b[0m\u001b[0mx\u001b[0m\u001b[0;34m]\u001b[0m\u001b[0;34m)\u001b[0m\u001b[0;34m\u001b[0m\u001b[0;34m\u001b[0m\u001b[0m\n\u001b[1;32m     17\u001b[0m \u001b[0;34m\u001b[0m\u001b[0m\n",
      "\u001b[0;31mNameError\u001b[0m: name 'material_map' is not defined"
     ]
    }
   ],
   "source": [
    "# note all records where quantity is > 0\n",
    "a_data['fail'] = a_data.quantity > 0\n",
    "w_bassin_total = a_data.groupby('river_bassin').quantity.sum()\n",
    "\n",
    "# get the list of codes by quantity\n",
    "national_topten= a.code_totals.sort_values(ascending=False)\n",
    "\n",
    "# take first ten records after sorting\n",
    "national_topten_codes = national_topten.index[:10]\n",
    "\n",
    "# grab the data from the survey results:\n",
    "top_ten_national = a_data[a_data.code.isin(national_topten_codes)][['code', 'quantity', 'fail', 'pcs_m', 'loc_date']].copy()\n",
    "\n",
    "# add descriptive and categorical variables:\n",
    "top_ten_national['material'] = top_ten_national.code.map(lambda x: material_map.loc[x])\n",
    "top_ten_national['description'] = top_ten_national.code.map(lambda x: desc_map.loc[x])\n",
    "\n",
    "\n",
    "# agg the values from the survey data\n",
    "# there is a convenience method for this\n",
    "# the groups and the level where quantity is calculated:\n",
    "groups = {'quantity_level':'code', 'columns':['code', 'description']}\n",
    "\n",
    "# the columns to aggregate\n",
    "aggs = {'pcs_m':'mean', 'quantity':'sum', 'fail':'sum', 'loc_date':'nunique'}\n",
    "\n",
    "# columns divided by other columns\n",
    "rates = [\n",
    "    {'rate_name':'fail rate','columns':{'this':'fail', 'over_that':'loc_date'}},\n",
    "    {'rate_name':'% of total', 'columns':{'this':'quantity', 'over_that':'feature_total'}},\n",
    "]\n",
    "\n",
    "# product of two columns\n",
    "products = [\n",
    "     {'rate_name':'rating', 'columns':{'this':'pcs_m', 'times_that':'fail rate'}}    \n",
    "]\n",
    "\n",
    "# method that returns the project total total:\n",
    "def get_the_project_total(x , adf):\n",
    "    return  adf.quantity.sum()\n",
    "\n",
    "# calculate the fail rate and % of total for each code:\n",
    "top_ten_agg = ac.calculate_rates(top_ten_national, feature_total_map=get_the_project_total, feature_map=a_data,groups=groups, aggs=aggs, rates=rates, products=products)\n",
    "\n",
    "# for display purposes make the description the index\n",
    "top_ten_agg.set_index('description', inplace=True)\n",
    "print(F\"\\nThe top ten objects are {round((top_ten_agg.quantity.sum()/num_obj)*100, 2)}% of all objects identified\\n\")\n",
    "\n",
    "tt_agg = top_ten_agg[['quantity']].sort_values(by='quantity', ascending=False).round(2)\n",
    "tt_agg"
   ]
  },
  {
   "cell_type": "markdown",
   "metadata": {},
   "source": [
    "#### <span style=\"color:#008891\">Survey results: consolidating object categories</span>"
   ]
  },
  {
   "cell_type": "markdown",
   "metadata": {},
   "source": [
    "The top ten list gives a very high level summary of the survey results. Based entirely on the total amount of an object found. It is a good indicator of overall abundance of an object in the ecosystem. Using this method we can account for ~60% of objects identified and very quickly identify the most abundant objects.\n",
    "\n",
    "The top ten list can be improved to account for a greater percentage of the objects found. Currently, polystyrene is present in three forms in the top ten list, extruded polystyrene and two size variants of expanded polystyrene. Fragmented plastics are also present twice in the top ten list. The survey method was designed to get a maximum amount of detail for each survey. Grouping like objects by size is a common way to differentiate observations.\n",
    "\n",
    "Some of the objects in the top ten list that can be consolidated:\n",
    "\n",
    "1. There are three objects that are made from expanded or extruded polystyrene\n",
    "2. Fragmented plastics are present in two different size ranges.\n",
    "\n",
    "By combining like objects or objects that have the same or similar origin the impact of that group can be better appreciated. When the foam and the fragmented plastics are combined, that liberates three new places in the top ten list. Foams replace cigarette ends as the most abundant (pcs/m and quantity) but cigarette ends still retain the title as most frequently found (fail rate). The top ten list now accounts for ~70% of the objects identified."
   ]
  },
  {
   "cell_type": "markdown",
   "metadata": {},
   "source": [
    "#### <span style=\"color:#008891\"> There is more room at the top: a consolidated top ten list</span>"
   ]
  },
  {
   "cell_type": "code",
   "execution_count": null,
   "metadata": {
    "jupyter": {
     "source_hidden": true
    }
   },
   "outputs": [],
   "source": [
    "fts = a_data.groupby(['river_bassin','big_group','loc_date'], as_index=False).agg({'pcs_m':'sum', 'quantity':'sum'})\n",
    "fts['fail'] = fts.quantity > 0\n",
    "\n",
    "# assign a description to results:\n",
    "def assign_descriptions(x, **kwargs):\n",
    "    if x in kwargs['exclude']:\n",
    "        data = x\n",
    "    else:\n",
    "        data = kwargs['som_keys'][x]\n",
    "    return data\n",
    "\n",
    "\n",
    "groups = {'quantity_level':'big_group', 'columns':['big_group']}\n",
    "\n",
    "ftsx = ac.calculate_rates(fts, feature_total_map=get_the_project_total, feature_map=a_data,groups=groups, aggs=aggs, rates=rates, products=products)\n",
    "\n",
    "bg_desc = ['foams', 'cigarette ends', 'frag plastic', 'snack wrapper', 'sheeting']\n",
    "som_kwargs = dict(exclude=bg_desc, som_keys=desc_map)\n",
    "\n",
    "ftsx['description'] = ftsx.big_group.map(lambda x: assign_descriptions(x, **som_kwargs))\n",
    "\n",
    "\n",
    "ftsx = ftsx[['description','quantity', '% of total', 'pcs_m','fail rate']].set_index('description').sort_values(by='quantity', ascending=False)[:10].round(2)\n",
    "print(F\"\\nThe consolidated top ten objects are {round((ftsx.quantity.sum()/num_obj)*100, 2)}% of all objects identified\\n\")\n",
    "ftsx"
   ]
  },
  {
   "cell_type": "markdown",
   "metadata": {},
   "source": [
    "The *fail rate* is a **key indicator** as well as *% of total* and *pieces per meter*. Each indicator can be used to understand different aspects of the survey results. "
   ]
  },
  {
   "cell_type": "markdown",
   "metadata": {},
   "source": [
    "#### <span style=\"color:#008891\">Key indicators of the top ten objects</span>"
   ]
  },
  {
   "cell_type": "code",
   "execution_count": null,
   "metadata": {
    "jupyter": {
     "source_hidden": true
    }
   },
   "outputs": [],
   "source": [
    "fig, axs = plt.subplots(1,3, figsize=(5.4,8))\n",
    "\n",
    "sns.heatmap(pd.DataFrame(ftsx['% of total']), ax = axs[0], cmap='YlOrRd', linewidth=.01, linecolor='white', annot=True, square=True, fmt=\".0%\", cbar=False)\n",
    "sns.heatmap(pd.DataFrame(ftsx['pcs_m']), ax = axs[1], cmap='YlOrRd', linewidth=.01, linecolor='white', annot=True, square=True, fmt=\".2\", yticklabels=False, cbar=False)\n",
    "sns.heatmap(pd.DataFrame(ftsx['fail rate']), ax = axs[2], cmap='YlOrRd', linewidth=.01, linecolor='white', annot=True, square=True, fmt=\".0%\", yticklabels=False, cbar=False)\n",
    "\n",
    "for i in [0,1,2]:\n",
    "    axs[i].set_ylabel(\"\")\n",
    "    axs[i].set_xlabel(\"\")\n",
    "    axs[i].xaxis.tick_top()\n",
    "    axs[i].xaxis.set_label_position('top') \n",
    "\n",
    "plt.tight_layout()\n",
    "\n",
    "plt.show()\n",
    "plt.close()"
   ]
  },
  {
   "cell_type": "markdown",
   "metadata": {},
   "source": [
    "#### Have a great day\n",
    "\n",
    "This project was made possible by the Swiss federal office for the environment.\n",
    "\n",
    "This document originates from https://github.com/hammerdirt-analyst/iqals all copyrights apply."
   ]
  },
  {
   "cell_type": "code",
   "execution_count": null,
   "metadata": {
    "jupyter": {
     "source_hidden": true
    }
   },
   "outputs": [],
   "source": [
    "author = \"roger@hammerdirt.ch\"\n",
    "my_message = \"Statistics is fun when you do it outside\"\n",
    "print(F\"\\nProduced by: {author}\\nDate: {today}\\n\\n{my_message}\")"
   ]
  },
  {
   "cell_type": "code",
   "execution_count": null,
   "metadata": {
    "jupyter": {
     "source_hidden": true
    }
   },
   "outputs": [],
   "source": []
  }
 ],
 "metadata": {
  "kernelspec": {
   "display_name": "Python 3",
   "language": "python",
   "name": "python3"
  },
  "language_info": {
   "codemirror_mode": {
    "name": "ipython",
    "version": 3
   },
   "file_extension": ".py",
   "mimetype": "text/x-python",
   "name": "python",
   "nbconvert_exporter": "python",
   "pygments_lexer": "ipython3",
   "version": "3.8.3"
  }
 },
 "nbformat": 4,
 "nbformat_minor": 4
}
