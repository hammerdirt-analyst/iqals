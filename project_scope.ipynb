{
 "cells": [
  {
   "cell_type": "markdown",
   "metadata": {},
   "source": [
    "## <span style=\"color:#008891\">Description of survey results: temporal, geopgraphic and administrative scope</span>\n",
    "\n",
    "#### <span style=\"color:#008891\">Identification, quantification and analysis of observable anthropogenic debris along swiss river and lakes</span>\n",
    "\n",
    "The summary of the survey results and survey characteristics is provided. The results are presented nationally and by river bassin for all surveys since April 1, 2020.  For now this function only works on data later than January 1st 2020. We are in the process of integrating the data from prior projects.\n",
    "\n",
    "#### <span style=\"color:#008891\">Contents</span>\n",
    "\n",
    "1. [A summary](#scope) of the number of locations and the effected population as well as an exhaustive list of lakes, rivers and municipalites where surveys were conducted.\n",
    "\n",
    "2. [The dimensional records](#validdata) are matched to the survey records, missing records are identified and records that do not have a match in both data sets are excluded. The list of excluded surveys and the percentage of all the surveys that are being used to calculate the summary is provided.\n",
    "\n",
    "3. [The dimensional summary](#datasummary) records are summarized to the river bassin.\n",
    "\n",
    "4. [Figure 1](#figureone): relationship of \"number of items found per survey\" to the measured variables, grouped by river bassin\n",
    "\n",
    "\n",
    "#### <span style=\"color:#008891\">More information </span>\n",
    "\n",
    "For information on a specific catchment area or a water feature see the notebook for that catchment area (or make one and send a pull request). For more information on the project visit https://www.plagespropres.ch/ ."
   ]
  },
  {
   "cell_type": "code",
   "execution_count": 1,
   "metadata": {},
   "outputs": [],
   "source": [
    "# sys, file and nav packages:\n",
    "import os\n",
    "import datetime as dt\n",
    "import csv\n",
    "import json\n",
    "\n",
    "# math packages:\n",
    "import pandas as pd\n",
    "import numpy as np\n",
    "import math\n",
    "\n",
    "# charting:\n",
    "import matplotlib as mpl\n",
    "import matplotlib.pyplot as plt\n",
    "import seaborn as sns\n",
    "\n",
    "# images and display\n",
    "import base64, io, IPython\n",
    "from PIL import Image as PILImage\n",
    "from IPython.display import Markdown as md\n",
    "\n",
    "# home brew utitilties\n",
    "import utilities.utility_functions as ut\n",
    "import utilities.abundance_classes as ac\n",
    "\n",
    "\n",
    "# easy variables to the directory tree\n",
    "most_recent, survey_data, location_data, code_defs, stat_ent, geo_data, output = ut.make_local_paths()\n",
    "\n",
    "today = dt.datetime.now().date().strftime(\"%Y-%m-%d\")\n",
    "\n",
    "# set some parameters:\n",
    "start_date = '2020-01-01'\n",
    "end_date =today\n",
    "\n",
    "# name the folder:\n",
    "name_of_project = 'project_scope'\n",
    "\n",
    "# use this to store things:\n",
    "project_directory = ut.make_project_folder(output, name_of_project)\n",
    "\n",
    "# keep track of output\n",
    "files_generated = []\n",
    "figure_num = 0\n",
    "data_num = 0\n",
    "\n",
    "# kwargs for the abundance class\n",
    "group_names_locations = ut.json_file_get(F\"{output}/code_groups/code_group2.json\")\n",
    "\n",
    "# convenience method to organize output\n",
    "def add_output(**kwargs):\n",
    "    files_generated.append({'tag':kwargs['tag'], 'number':kwargs['figure_num'], 'file':kwargs['file'],'type':kwargs['a_type']})\n",
    "    if kwargs['a_type'] == 'data':\n",
    "        kwargs['data'].to_csv(F\"{kwargs['file']}.csv\", index=False)\n",
    "    else:\n",
    "        plt.savefig(F\"{kwargs['file']}.jpeg\", dpi=300)\n",
    "\n",
    "\n",
    "data_sources = {    \n",
    "    \"survey_data\":\"results_with_zeroes.csv\",\n",
    "    \"river_bassins\":\"river_basins.json\",\n",
    "    \"beaches\":\"beaches_with_gis.csv\",\n",
    "    \"codes\":\"mlw_codes.csv\",\n",
    "    \"code_groups\":\"code_group2.json\",\n",
    "    \"dims_data\":\"dims_data.csv\"\n",
    "}\n",
    "\n",
    "# define the methods to use for the .JSON and .csv files:\n",
    "my_data_methods = {'json':ut.json_file_get, 'csv':pd.read_csv}\n",
    "\n",
    "# get your data:\n",
    "survey_data, river_bassins, dfBeaches, dfCodes, code_groups, dfDims = ac.get_data_from_most_recent(data_sources, data_methods=my_data_methods)\n",
    "\n",
    "# format the date to timestamp and slice the data by start/end date\n",
    "dfSurveys = ac.fo_rmat_and_slice_date(survey_data.copy(), a_format=\"%Y-%m-%d\", start_date=start_date, end_date=end_date)\n",
    "\n",
    "# add the grouping column defined by river_bassins\n",
    "data = ac.add_a_grouping_column(dfSurveys, river_bassins, column_to_match=\"water_name_slug\")\n",
    "\n",
    "# set the index of the beach data to location slug\n",
    "dfBeaches.set_index('slug', inplace=True)\n",
    "\n",
    "# set the index of dfCodes to code:\n",
    "dfCodes.set_index('code', inplace=True)\n",
    "\n",
    "# assign river bassin labels to locations:\n",
    "for k,v in river_bassins.items():\n",
    "    dfBeaches.loc[dfBeaches.water_name_slug.isin(v), 'river_bassin'] = k\n",
    "\n",
    "# dimensional data\n",
    "# the loc date key needs updating:\n",
    "dfDims['loc_date'] = list(zip(dfDims.location, dfDims.date))\n",
    "\n",
    "# make a copy of the survey data and tag the records as either lake or river:\n",
    "data = dfSurveys.copy()\n",
    "\n",
    "# columns can be added to the data before prcessing it\n",
    "\n",
    "# map lake or river from dfBeaches\n",
    "lakes = dfBeaches[dfBeaches.water == 'l'].water_name_slug.unique()\n",
    "rivers = dfBeaches[dfBeaches.water == 'r'].water_name_slug.unique()\n",
    "\n",
    "# tagging each record as either lake or river:\n",
    "# map values to new column t:\n",
    "data['type'] = 't'\n",
    "for a_place in data.water_name_slug.unique():\n",
    "    data.loc[data.water_name_slug.isin(lakes), 'type'] = 'l'\n",
    "    data.loc[data.water_name_slug.isin(rivers), 'type'] = 'r'\n",
    "\n",
    "# check if there are any un categorized records:\n",
    "if len(data[data['type']=='t']) > 0:\n",
    "    print(F\"\\nThere are {len(data[data['type']=='t'])} records that were not classified as either lake or river:\\n\\n{data[data['type']=='t']}\\n\")\n",
    "else:\n",
    "    pass\n",
    "\n",
    "# put the data into a class\n",
    "# kwargs for the data class\n",
    "a_class_kwargs = dict(\n",
    "    code_group_data=group_names_locations,\n",
    "    levels=['river_bassin', 'water_name_slug', 'city'],\n",
    "    river_bassins=river_bassins,\n",
    "    exp_variables=['population','buildings', 'streets', 'intersects'],\n",
    "    code_group_loc=output,\n",
    ")\n",
    "\n",
    "# this puts the data into an abundance class\n",
    "a = ac.PreprocessData(data, dfBeaches,**a_class_kwargs)\n",
    "\n",
    "# define the final data set here:\n",
    "a_data = a.survey_data.copy()\n",
    "\n",
    "n_samps_rivers_lakes = a_data[['loc_date', 'type']].groupby('type').nunique()\n",
    "\n",
    "# locations included in this report, export to GIS for mapping\n",
    "geo_df = dfBeaches.loc[a_data.location.unique()]\n",
    "filename = F\"{project_directory}/report_locations.csv\"\n",
    "geo_df.to_csv(filename, index=False)\n",
    "\n",
    "# describe the data set:\n",
    "num_obs = len(a_data)\n",
    "num_samps = len(a_data.loc_date.unique())\n",
    "num_obj = a_data.quantity.sum()\n",
    "num_locs = len(a_data.location.unique())\n",
    "num_rivs = a_data[a_data['type']=='r'].water_name_slug.nunique()\n",
    "num_lakes = a_data[a_data['type'] == 'l'].water_name_slug.nunique()\n",
    "\n",
    "# number of municipalities\n",
    "a_map = dfBeaches['city']\n",
    "munis = [a_map[x] for x in a_data.location.unique()]\n",
    "munis = sorted(list(set(munis)))\n",
    "num_munis = len(munis)\n",
    "\n",
    "# population\n",
    "total_pop_d = dfBeaches.loc[a_data.location.unique()][['city', 'population']]\n",
    "total_pop_c = total_pop_d.drop_duplicates('city')\n",
    "total_pop = total_pop_c.population.sum()"
   ]
  },
  {
   "cell_type": "code",
   "execution_count": 2,
   "metadata": {},
   "outputs": [
    {
     "data": {
      "text/plain": [
       "array(['emme', 'neuenburgersee', 'thunersee', 'aare', 'bielersee',\n",
       "       'schuss', 'brienzersee', 'la-thiele', 'aarenidau-buren-kanal'],\n",
       "      dtype=object)"
      ]
     },
     "execution_count": 2,
     "metadata": {},
     "output_type": "execute_result"
    }
   ],
   "source": [
    "a_data[a_data.river_bassin == 'aare']['water_name_slug'].unique()"
   ]
  },
  {
   "cell_type": "markdown",
   "metadata": {},
   "source": [
    "<a id='scope'></a>\n",
    "#### <span style=\"color:#008891\"> Effective dates, river bassins, number of obervations, number of surveys and number of objects</span>"
   ]
  },
  {
   "cell_type": "code",
   "execution_count": 3,
   "metadata": {},
   "outputs": [
    {
     "data": {
      "text/markdown": [
       "This summary is valid for all surveys between 2020-01-01 and 2021-05-18 from the following catchment areas:\n",
       "1. linth\n",
       "2. aare\n",
       "3. reuss\n",
       "4. rhone\n",
       "5. ticino\n",
       "\n"
      ],
      "text/plain": [
       "<IPython.core.display.Markdown object>"
      ]
     },
     "execution_count": 3,
     "metadata": {},
     "output_type": "execute_result"
    }
   ],
   "source": [
    "a_list = [F\"{i+1}. {x}\\n\" for i,x in enumerate(a_data.river_bassin.unique())]\n",
    "a_list=''.join(a_list)\n",
    "\n",
    "description = F\"\"\"This summary is valid for all surveys between {start_date} and {end_date} from the following catchment areas:\\n{a_list}\n",
    "\"\"\"\n",
    "md(description)"
   ]
  },
  {
   "cell_type": "code",
   "execution_count": 4,
   "metadata": {},
   "outputs": [
    {
     "data": {
      "text/markdown": [
       "There were 51,987 objects collected in the course of 368 surveys. This includes 131 different survey locations from 74 municipalities with a total population of ~1,669,684. There were 319 samples from 10 different lakes and 49 samples from 16 different rivers."
      ],
      "text/plain": [
       "<IPython.core.display.Markdown object>"
      ]
     },
     "execution_count": 4,
     "metadata": {},
     "output_type": "execute_result"
    }
   ],
   "source": [
    "surveys_objects = F\"There were {'{:,}'.format(num_obj)} objects collected in the course of {num_samps} surveys.\"\n",
    "pop_and_munis = F\"This includes {num_locs} different survey locations from {num_munis} municipalities with a total population of ~{'{:,}.'.format(total_pop)}\"\n",
    "num_samps_rl = F\"There were {n_samps_rivers_lakes.loc['l'][0]} samples from {num_lakes} different lakes and {n_samps_rivers_lakes.loc['r'][0]} samples from {num_rivs} different rivers.\"\n",
    "\n",
    "the_lakes = [F\"{x},\" for x in sorted(a_data[a_data['type'] == 'l'].water_name_slug.unique())[:-1]]\n",
    "the_lakes.append(F\"and {sorted(a_data[a_data['type'] == 'l'].water_name_slug.unique())[-1]}\")\n",
    "the_lakes=' '.join(the_lakes)\n",
    "t_l = F\"\\n**The lakes where the surveys were conducted**:\\n\\n{a_list}\\n\"\n",
    "\n",
    "the_rivs = [F\"{x},\" for x in sorted(a_data[a_data['type'] == 'r'].water_name_slug.unique())[:-1]]\n",
    "the_rivs.append(F\"and {sorted(a_data[a_data['type'] == 'r'].water_name_slug.unique())[-1]}\")\n",
    "the_rivs =' '.join(the_rivs)\n",
    "\n",
    "t_r = F\"**The rivers where the surveys were conducted**:\\n\\n{the_rivs}\"\n",
    "\n",
    "the_munis = [F\"{x},\" for x in sorted(munis)[:-1]]\n",
    "the_munis.append(F\"and {sorted(munis)[-1]}.\")\n",
    "the_munis = ' '.join(the_munis)\n",
    "\n",
    "t_m = F\"**The municpalities where the surveys were conducted**:\\n\\n{the_munis}\"\n",
    "\n",
    "a_para = F\"{surveys_objects} {pop_and_munis} {num_samps_rl}\"\n",
    "md(a_para)"
   ]
  },
  {
   "cell_type": "code",
   "execution_count": 5,
   "metadata": {},
   "outputs": [
    {
     "data": {
      "text/markdown": [
       "\n",
       "**The lakes where the surveys were conducted**:\n",
       "\n",
       "1. linth\n",
       "2. aare\n",
       "3. reuss\n",
       "4. rhone\n",
       "5. ticino\n",
       "\n",
       "\n",
       "**The rivers where the surveys were conducted**:\n",
       "\n",
       "aare, aarenidau-buren-kanal, dorfbach, emme, escherkanal, jona, la-thiele, limmat, linthkanal, maggia, reuss, rhone, schuss, seez, sihl, and ticino\n",
       "\n",
       "**The municpalities where the surveys were conducted**:\n",
       "\n",
       "Aarau, Allaman, Ascona, Beatenberg, Bellinzona, Bern, Biel/Bienne, Boudry, Bourg-en-Lavaux, Brienz (BE), Brugg, Brügg, Burgdorf, Bönigen, Cheyres-Châbles, Cudrefin, Dietikon, Estavayer, Freienbach, Gals, Gambarogno, Gebenstorf, Genève, Gland, Glarus Nord, Grandson, Hauterive (NE), Hünenberg, Kallnach, Köniz, Küsnacht (ZH), La Tour-de-Peilz, Lausanne, Lavey-Morcles, Le Landeron, Leuk, Ligerz, Locarno, Luterbach, Lüscherz, Merenschwand, Minusio, Montreux, Neuchâtel, Nidau, Port, Préverenges, Quarten, Rapperswil-Jona, Richterswil, Riddes, Rubigen, Saint-Gingolph, Saint-Sulpice (VD), Salgesch, Schmerikon, Sion, Solothurn, Spiez, Stäfa, Thun, Tolochenaz, Unterengstringen, Unterseen, Versoix, Vevey, Vinelz, Walenstadt, Walperswil, Weesen, Weggis, Yverdon-les-Bains, Zug, and Zürich."
      ],
      "text/plain": [
       "<IPython.core.display.Markdown object>"
      ]
     },
     "execution_count": 5,
     "metadata": {},
     "output_type": "execute_result"
    }
   ],
   "source": [
    "md(F\"{t_l}\\n{t_r}\\n\\n{t_m}\")"
   ]
  },
  {
   "cell_type": "markdown",
   "metadata": {},
   "source": [
    "<a id='validdata'></a>\n",
    "## <span style=\"color:#008891\">The dimensional data summary</span>\n",
    "\n",
    "### <span style=\"color:#008891\"> Match the dimensional records to the survey records</span>\n",
    "\n",
    "#### There are two components to a survey:\n",
    "\n",
    "1. The objects that are found\n",
    "2. The context in which they were found -- dimensional data\n",
    "\n",
    "These two elements are transmitted seperately when the surveyor submits the data. The context for each survey is unique and each survey can generate up to 220 observations with the same context, sending the dimensional data only once is more efficient and faster.\n",
    "\n",
    "Before analysis the dimensional data records need to be matched up to the survey data. The *location_date* key is the unique indentifier for each survey. Here we match up the location_date keys from both data sets.\n",
    "\n",
    "Dimensional data with no matching survey is dropped. An inquiry is made to the surveyor to identify the nature of the discrepancy. There are paper records generated at each survey. Records are dropped from the server or ammended once the surveyor has replied to the inquiry."
   ]
  },
  {
   "cell_type": "code",
   "execution_count": 6,
   "metadata": {},
   "outputs": [
    {
     "data": {
      "text/markdown": [
       "\n",
       "<span style='color:#008891'>These are the surveys that do not have matching dimensional data</span>:\n",
       "\n",
       "('baby-plage-geneva', '2021-04-14'), ('quai-maria-belgia', '2021-02-28'), ('quai-maria-belgia', '2021-01-31')\n",
       "\n",
       "! THE DIMENSIONAL DATA SUMMARY IS CALCULATED USING 99.2% of the survey data !\n",
       "Requests have been made to surveyors to submit the missing records.\n"
      ],
      "text/plain": [
       "<IPython.core.display.Markdown object>"
      ]
     },
     "execution_count": 6,
     "metadata": {},
     "output_type": "execute_result"
    }
   ],
   "source": [
    "# gather the dimensional data for the time frame\n",
    "som_dims = dfDims[(dfDims.date >= start_date)&(dfDims.date <= end_date)].copy()\n",
    "\n",
    "# map survey total to loc date from the survey data\n",
    "some_q = a.daily_totals_all[['loc_date', 'quantity']].set_index('loc_date')\n",
    "\n",
    "# use only data from the surveys in a_data:\n",
    "som_dims = som_dims[som_dims.loc_date.isin(a_data.loc_date.unique())].copy()\n",
    "\n",
    "# keep the dims that don't match\n",
    "no_matching_locdate = som_dims[~som_dims.loc_date.isin(a_data.loc_date.unique())]\n",
    "\n",
    "# get a list of unique loc_date values from each set\n",
    "ldu = a_data.loc_date.unique()\n",
    "ddu = som_dims.loc_date.unique()\n",
    "\n",
    "# identify the surveys with no matching dimensional data\n",
    "no_dim_locdate = [x for x in list(ldu) if x not in list(ddu)]\n",
    "\n",
    "# map quantity per survey to the dims data\n",
    "som_dims['quantity'] = som_dims.loc_date.map(lambda x: ut.use_this_key(x,some_q, column='quantity'))\n",
    "\n",
    "# keep the dims that did not get tagged with a qty\n",
    "no_qty = som_dims[som_dims.quantity == 'no data'][['location', 'date']].copy()\n",
    "\n",
    "# drop the dims that did not match\n",
    "som_dims = som_dims[som_dims.quantity != 'no data'].copy()\n",
    "\n",
    "# map locations to feature names\n",
    "location_wname_key = dfBeaches.water_name_slug\n",
    "\n",
    "# assign a water feature name to each record\n",
    "som_dims['water_name_slug'] = som_dims.location.map(lambda x: location_wname_key.loc[x])\n",
    "\n",
    "# assign a river bassin name to each record\n",
    "for k,v in river_bassins.items():\n",
    "    som_dims.loc[som_dims.water_name_slug.isin(v), 'river_bassin'] = k\n",
    "\n",
    "# map the number of samples per water feature or bassin:\n",
    "samples_feature = a_data.groupby('water_name_slug').loc_date.nunique()\n",
    "samples_bassin = a_data.groupby('river_bassin').loc_date.nunique()\n",
    "\n",
    "# map total quantity per river bassin:\n",
    "qty_bassin = a_data.groupby('river_bassin').quantity.sum()\n",
    "qty_feature = a_data.groupby('water_name_slug').quantity.sum()\n",
    "\n",
    "# 120 minutes covers the travel, equipment preparation and maintenance and incidental time on location:\n",
    "som_dims['total_time'] = som_dims.time_minutes+120\n",
    "som_dims['total_time'] = som_dims.total_time/60\n",
    "som_dims['total_time'] = som_dims.total_time.round(2)\n",
    "\n",
    "dim_recs_no_survey = len(no_qty) > 0\n",
    "if dim_recs_no_survey:\n",
    "    no_surveys = \"\\nThe dims records with no matching survey records have been dropped.\"\n",
    "else:\n",
    "    no_surveys = \"All dimensional records found a home in the survey data!\"\n",
    "\n",
    "no_dimensional_data = len(no_dim_locdate) > 0\n",
    "\n",
    "if no_dimensional_data:\n",
    "    no_dims = ', '.join([str(x) for x in no_dim_locdate])\n",
    "    no_dimensions = F\"\\n<span style='color:#008891'>These are the surveys that do not have matching dimensional data</span>:\\n\\n{no_dims}\\n\"\n",
    "    per_cent_surveys = F\"\\n! THE DIMENSIONAL DATA SUMMARY IS CALCULATED USING {np.round(((1-len(no_dim_locdate)/len(ldu))*100),1)}% of the survey data !\"\n",
    "    requests = \"\\nRequests have been made to surveyors to submit the missing records.\\n\"\n",
    "    dimensional_data = F\"{no_dimensions}{per_cent_surveys}{requests}\"\n",
    "else:\n",
    "    dimensional_data = \"\\nAll the surveys found a home in the dimensional data\"\n",
    "\n",
    "md(dimensional_data)"
   ]
  },
  {
   "cell_type": "code",
   "execution_count": 7,
   "metadata": {},
   "outputs": [
    {
     "ename": "FileNotFoundError",
     "evalue": "[Errno 2] No such file or directory: 'resources/maps/national.png'",
     "output_type": "error",
     "traceback": [
      "\u001b[0;31m---------------------------------------------------------------------------\u001b[0m",
      "\u001b[0;31mFileNotFoundError\u001b[0m                         Traceback (most recent call last)",
      "\u001b[0;32m<ipython-input-7-9481b5918ef1>\u001b[0m in \u001b[0;36m<module>\u001b[0;34m\u001b[0m\n\u001b[0;32m----> 1\u001b[0;31m \u001b[0mimage\u001b[0m \u001b[0;34m=\u001b[0m \u001b[0mPILImage\u001b[0m\u001b[0;34m.\u001b[0m\u001b[0mopen\u001b[0m\u001b[0;34m(\u001b[0m\u001b[0;34m\"resources/maps/national.png\"\u001b[0m\u001b[0;34m)\u001b[0m\u001b[0;34m\u001b[0m\u001b[0;34m\u001b[0m\u001b[0m\n\u001b[0m\u001b[1;32m      2\u001b[0m \u001b[0;34m\u001b[0m\u001b[0m\n\u001b[1;32m      3\u001b[0m \u001b[0moutput\u001b[0m \u001b[0;34m=\u001b[0m \u001b[0mio\u001b[0m\u001b[0;34m.\u001b[0m\u001b[0mBytesIO\u001b[0m\u001b[0;34m(\u001b[0m\u001b[0;34m)\u001b[0m\u001b[0;34m\u001b[0m\u001b[0;34m\u001b[0m\u001b[0m\n\u001b[1;32m      4\u001b[0m \u001b[0mimage\u001b[0m\u001b[0;34m.\u001b[0m\u001b[0msave\u001b[0m\u001b[0;34m(\u001b[0m\u001b[0moutput\u001b[0m\u001b[0;34m,\u001b[0m \u001b[0mformat\u001b[0m\u001b[0;34m=\u001b[0m\u001b[0;34m'PNG'\u001b[0m\u001b[0;34m)\u001b[0m\u001b[0;34m\u001b[0m\u001b[0;34m\u001b[0m\u001b[0m\n\u001b[1;32m      5\u001b[0m \u001b[0mencoded_string\u001b[0m \u001b[0;34m=\u001b[0m \u001b[0mbase64\u001b[0m\u001b[0;34m.\u001b[0m\u001b[0mb64encode\u001b[0m\u001b[0;34m(\u001b[0m\u001b[0moutput\u001b[0m\u001b[0;34m.\u001b[0m\u001b[0mgetvalue\u001b[0m\u001b[0;34m(\u001b[0m\u001b[0;34m)\u001b[0m\u001b[0;34m)\u001b[0m\u001b[0;34m.\u001b[0m\u001b[0mdecode\u001b[0m\u001b[0;34m(\u001b[0m\u001b[0;34m)\u001b[0m\u001b[0;34m\u001b[0m\u001b[0;34m\u001b[0m\u001b[0m\n",
      "\u001b[0;32m~/anaconda3/envs/refactor_process/lib/python3.8/site-packages/PIL/Image.py\u001b[0m in \u001b[0;36mopen\u001b[0;34m(fp, mode, formats)\u001b[0m\n\u001b[1;32m   2889\u001b[0m \u001b[0;34m\u001b[0m\u001b[0m\n\u001b[1;32m   2890\u001b[0m     \u001b[0;32mif\u001b[0m \u001b[0mfilename\u001b[0m\u001b[0;34m:\u001b[0m\u001b[0;34m\u001b[0m\u001b[0;34m\u001b[0m\u001b[0m\n\u001b[0;32m-> 2891\u001b[0;31m         \u001b[0mfp\u001b[0m \u001b[0;34m=\u001b[0m \u001b[0mbuiltins\u001b[0m\u001b[0;34m.\u001b[0m\u001b[0mopen\u001b[0m\u001b[0;34m(\u001b[0m\u001b[0mfilename\u001b[0m\u001b[0;34m,\u001b[0m \u001b[0;34m\"rb\"\u001b[0m\u001b[0;34m)\u001b[0m\u001b[0;34m\u001b[0m\u001b[0;34m\u001b[0m\u001b[0m\n\u001b[0m\u001b[1;32m   2892\u001b[0m         \u001b[0mexclusive_fp\u001b[0m \u001b[0;34m=\u001b[0m \u001b[0;32mTrue\u001b[0m\u001b[0;34m\u001b[0m\u001b[0;34m\u001b[0m\u001b[0m\n\u001b[1;32m   2893\u001b[0m \u001b[0;34m\u001b[0m\u001b[0m\n",
      "\u001b[0;31mFileNotFoundError\u001b[0m: [Errno 2] No such file or directory: 'resources/maps/national.png'"
     ]
    }
   ],
   "source": [
    "image = PILImage.open(\"resources/maps/national.png\")\n",
    "\n",
    "output = io.BytesIO()\n",
    "image.save(output, format='PNG')\n",
    "encoded_string = base64.b64encode(output.getvalue()).decode()\n",
    "\n",
    "html = '<img src=\"data:image/png;base64,{}\"/>'.format(encoded_string)\n",
    "IPython.display.HTML(html)"
   ]
  },
  {
   "cell_type": "markdown",
   "metadata": {},
   "source": [
    "<a id='datasummary'></a>\n",
    "### <span style=\"color:#008891\">The dimensional records</span>\n",
    "\n",
    "The following information is recorded at each survey:\n",
    "\n",
    "1. Length of survey area\n",
    "2. Surface area\n",
    "3. Weight of all objects\n",
    "4. Weight of all plastics\n",
    "5. Weight of all plastics < 5mm\n",
    "6. Time to complete a survey\n",
    "7. Number of participants\n",
    "8. Participating groups\n",
    "\n",
    "For objects that are greater than 5mm the weights are recorded on location. The smaller objects are weighed on a more appropriate scale. The length and the surface area are recorded at each survey."
   ]
  },
  {
   "cell_type": "code",
   "execution_count": 8,
   "metadata": {},
   "outputs": [],
   "source": [
    "\n",
    "\n",
    "new_cols = {\n",
    "    'total_time':'time to survey',\n",
    "    'length':'meters surveyed',\n",
    "    'area':'m² surveyed',\n",
    "    'total_w':'total weight',\n",
    "    'mac_plast_w':'plastic > 5mm weight',\n",
    "    'mic_plas_w':'plastic < 5mm weight',\n",
    "    'num_parts_staff':'staff',\n",
    "    'num_parts_other':'help',\n",
    "    'participants':'groups'\n",
    "}\n",
    "\n",
    "som_dims.rename(columns=new_cols, inplace=True)"
   ]
  },
  {
   "cell_type": "code",
   "execution_count": 9,
   "metadata": {},
   "outputs": [
    {
     "data": {
      "text/markdown": [
       "#### <span style='color:#008891'>Cumulative totals all data</span>\n",
       "The cumulative results from 365 samples, weights are in kilograms, time is in hours"
      ],
      "text/plain": [
       "<IPython.core.display.Markdown object>"
      ]
     },
     "execution_count": 9,
     "metadata": {},
     "output_type": "execute_result"
    }
   ],
   "source": [
    "# group by river bassin\n",
    "agg_this = {\n",
    "    'time to survey':'sum',\n",
    "    'meters surveyed':'sum',\n",
    "    'm² surveyed':'sum',\n",
    "    'total weight':'sum',\n",
    "    'plastic > 5mm weight':'sum',\n",
    "    'plastic < 5mm weight':'sum',\n",
    "    'staff':'sum',\n",
    "    'help':'sum',\n",
    "    'loc_date':'nunique'}\n",
    "dims_summary_stats = som_dims.groupby('river_bassin').agg(agg_this)\n",
    "dims_summary_stats.rename(columns={'loc_date':'# samples'}, inplace=True)\n",
    "\n",
    "# convert the plastic weights to kilos\n",
    "dims_summary_stats['plastic > 5mm weight'] = dims_summary_stats['plastic > 5mm weight']/1000\n",
    "dims_summary_stats['plastic < 5mm weight'] = dims_summary_stats['plastic < 5mm weight']/1000\n",
    "\n",
    "# get the quantity found per river bassin\n",
    "dims_summary_stats['quantity'] = dims_summary_stats.index.map(lambda x: ut.use_this_key(x, qty_bassin))\n",
    "\n",
    "som_cols = [\n",
    "    'time to survey',\n",
    "    'meters surveyed',\n",
    "    'm² surveyed',\n",
    "    'total weight',\n",
    "    'plastic > 5mm weight',\n",
    "    'staff', 'help',\n",
    "    '# samples',\n",
    "    'quantity'\n",
    "]\n",
    "ints = som_cols = [\n",
    "    'time to survey',\n",
    "    'meters surveyed',\n",
    "    'm² surveyed',\n",
    "    'total weight',\n",
    "    'staff', 'help',\n",
    "    '# samples',\n",
    "    'quantity'\n",
    "]\n",
    "def make_series_an_int(x):\n",
    "    return x.astype('int')\n",
    "col_order = ['# samples',  'meters surveyed', 'm² surveyed', 'total weight', 'plastic > 5mm weight','plastic < 5mm weight', 'quantity', 'time to survey', 'help', 'staff']\n",
    "\n",
    "# reorder the columns\n",
    "dims_summary_stats[som_cols] = dims_summary_stats[som_cols].apply(lambda x: x.astype('int'))\n",
    "dims_summary_stats = dims_summary_stats[col_order]\n",
    "\n",
    "# make a summary of all data\n",
    "asum = pd.DataFrame(dims_summary_stats.sum()).round(2)\n",
    "asum.reset_index(inplace=True)\n",
    "\n",
    "# pandas gymnastics os that inst are displayed as ints:\n",
    "asum['summary total'] = 'summary total'\n",
    "asum['# samples'] = len(som_dims)\n",
    "asum = asum.pivot(columns='index', values=0, index='summary total')\n",
    "asum[ints] = asum[ints].apply(lambda x: x.astype('int'))\n",
    "asum = asum[col_order]\n",
    "\n",
    "cum_results = F\"#### <span style='color:#008891'>Cumulative totals all data</span>\\nThe cumulative results from {len(som_dims.loc_date.unique())} samples, weights are in kilograms, time is in hours\"\n",
    "md(cum_results)"
   ]
  },
  {
   "cell_type": "code",
   "execution_count": 10,
   "metadata": {},
   "outputs": [
    {
     "data": {
      "text/html": [
       "<div>\n",
       "<style scoped>\n",
       "    .dataframe tbody tr th:only-of-type {\n",
       "        vertical-align: middle;\n",
       "    }\n",
       "\n",
       "    .dataframe tbody tr th {\n",
       "        vertical-align: top;\n",
       "    }\n",
       "\n",
       "    .dataframe thead th {\n",
       "        text-align: right;\n",
       "    }\n",
       "</style>\n",
       "<table border=\"1\" class=\"dataframe\">\n",
       "  <thead>\n",
       "    <tr style=\"text-align: right;\">\n",
       "      <th>index</th>\n",
       "      <th># samples</th>\n",
       "      <th>meters surveyed</th>\n",
       "      <th>m² surveyed</th>\n",
       "      <th>total weight</th>\n",
       "      <th>plastic &gt; 5mm weight</th>\n",
       "      <th>plastic &lt; 5mm weight</th>\n",
       "      <th>quantity</th>\n",
       "      <th>time to survey</th>\n",
       "      <th>help</th>\n",
       "      <th>staff</th>\n",
       "    </tr>\n",
       "    <tr>\n",
       "      <th>summary total</th>\n",
       "      <th></th>\n",
       "      <th></th>\n",
       "      <th></th>\n",
       "      <th></th>\n",
       "      <th></th>\n",
       "      <th></th>\n",
       "      <th></th>\n",
       "      <th></th>\n",
       "      <th></th>\n",
       "      <th></th>\n",
       "    </tr>\n",
       "  </thead>\n",
       "  <tbody>\n",
       "    <tr>\n",
       "      <th>summary total</th>\n",
       "      <td>365</td>\n",
       "      <td>18961</td>\n",
       "      <td>91841</td>\n",
       "      <td>284</td>\n",
       "      <td>87.74</td>\n",
       "      <td>0.22</td>\n",
       "      <td>51987</td>\n",
       "      <td>1438</td>\n",
       "      <td>130</td>\n",
       "      <td>378</td>\n",
       "    </tr>\n",
       "  </tbody>\n",
       "</table>\n",
       "</div>"
      ],
      "text/plain": [
       "index          # samples  meters surveyed  m² surveyed  total weight  \\\n",
       "summary total                                                          \n",
       "summary total        365            18961        91841           284   \n",
       "\n",
       "index          plastic > 5mm weight  plastic < 5mm weight  quantity  \\\n",
       "summary total                                                         \n",
       "summary total                 87.74                  0.22     51987   \n",
       "\n",
       "index          time to survey  help  staff  \n",
       "summary total                               \n",
       "summary total            1438   130    378  "
      ]
     },
     "execution_count": 10,
     "metadata": {},
     "output_type": "execute_result"
    }
   ],
   "source": [
    "asum"
   ]
  },
  {
   "cell_type": "code",
   "execution_count": 11,
   "metadata": {},
   "outputs": [
    {
     "data": {
      "text/markdown": [
       "<span style='color:#008891'>Cumulative totals by river basin</span>\n",
       "\n",
       "The cumulative results for each river basin, weights are in kilograms, time is in hours:\n"
      ],
      "text/plain": [
       "<IPython.core.display.Markdown object>"
      ]
     },
     "execution_count": 11,
     "metadata": {},
     "output_type": "execute_result"
    }
   ],
   "source": [
    "rb_cum_results = \"<span style='color:#008891'>Cumulative totals by river basin</span>\\n\\nThe cumulative results for each river basin, weights are in kilograms, time is in hours:\\n\"\n",
    "md(rb_cum_results)"
   ]
  },
  {
   "cell_type": "code",
   "execution_count": 12,
   "metadata": {},
   "outputs": [
    {
     "data": {
      "text/html": [
       "<div>\n",
       "<style scoped>\n",
       "    .dataframe tbody tr th:only-of-type {\n",
       "        vertical-align: middle;\n",
       "    }\n",
       "\n",
       "    .dataframe tbody tr th {\n",
       "        vertical-align: top;\n",
       "    }\n",
       "\n",
       "    .dataframe thead th {\n",
       "        text-align: right;\n",
       "    }\n",
       "</style>\n",
       "<table border=\"1\" class=\"dataframe\">\n",
       "  <thead>\n",
       "    <tr style=\"text-align: right;\">\n",
       "      <th></th>\n",
       "      <th># samples</th>\n",
       "      <th>meters surveyed</th>\n",
       "      <th>m² surveyed</th>\n",
       "      <th>total weight</th>\n",
       "      <th>plastic &gt; 5mm weight</th>\n",
       "      <th>plastic &lt; 5mm weight</th>\n",
       "      <th>quantity</th>\n",
       "      <th>time to survey</th>\n",
       "      <th>help</th>\n",
       "      <th>staff</th>\n",
       "    </tr>\n",
       "    <tr>\n",
       "      <th>river_bassin</th>\n",
       "      <th></th>\n",
       "      <th></th>\n",
       "      <th></th>\n",
       "      <th></th>\n",
       "      <th></th>\n",
       "      <th></th>\n",
       "      <th></th>\n",
       "      <th></th>\n",
       "      <th></th>\n",
       "      <th></th>\n",
       "    </tr>\n",
       "  </thead>\n",
       "  <tbody>\n",
       "    <tr>\n",
       "      <th>aare</th>\n",
       "      <td>138</td>\n",
       "      <td>7834</td>\n",
       "      <td>36229</td>\n",
       "      <td>72</td>\n",
       "      <td>31.361170</td>\n",
       "      <td>0.167588</td>\n",
       "      <td>13858</td>\n",
       "      <td>555</td>\n",
       "      <td>6</td>\n",
       "      <td>140</td>\n",
       "    </tr>\n",
       "    <tr>\n",
       "      <th>linth</th>\n",
       "      <td>104</td>\n",
       "      <td>5137</td>\n",
       "      <td>24862</td>\n",
       "      <td>34</td>\n",
       "      <td>12.496621</td>\n",
       "      <td>0.004475</td>\n",
       "      <td>9289</td>\n",
       "      <td>391</td>\n",
       "      <td>7</td>\n",
       "      <td>109</td>\n",
       "    </tr>\n",
       "    <tr>\n",
       "      <th>reuss</th>\n",
       "      <td>8</td>\n",
       "      <td>225</td>\n",
       "      <td>832</td>\n",
       "      <td>1</td>\n",
       "      <td>0.301000</td>\n",
       "      <td>0.000000</td>\n",
       "      <td>123</td>\n",
       "      <td>21</td>\n",
       "      <td>2</td>\n",
       "      <td>8</td>\n",
       "    </tr>\n",
       "    <tr>\n",
       "      <th>rhone</th>\n",
       "      <td>98</td>\n",
       "      <td>4710</td>\n",
       "      <td>24930</td>\n",
       "      <td>144</td>\n",
       "      <td>41.757375</td>\n",
       "      <td>0.049155</td>\n",
       "      <td>27287</td>\n",
       "      <td>407</td>\n",
       "      <td>115</td>\n",
       "      <td>104</td>\n",
       "    </tr>\n",
       "    <tr>\n",
       "      <th>ticino</th>\n",
       "      <td>17</td>\n",
       "      <td>1055</td>\n",
       "      <td>4988</td>\n",
       "      <td>33</td>\n",
       "      <td>1.825180</td>\n",
       "      <td>0.000249</td>\n",
       "      <td>1430</td>\n",
       "      <td>64</td>\n",
       "      <td>0</td>\n",
       "      <td>17</td>\n",
       "    </tr>\n",
       "  </tbody>\n",
       "</table>\n",
       "</div>"
      ],
      "text/plain": [
       "              # samples  meters surveyed  m² surveyed  total weight  \\\n",
       "river_bassin                                                          \n",
       "aare                138             7834        36229            72   \n",
       "linth               104             5137        24862            34   \n",
       "reuss                 8              225          832             1   \n",
       "rhone                98             4710        24930           144   \n",
       "ticino               17             1055         4988            33   \n",
       "\n",
       "              plastic > 5mm weight  plastic < 5mm weight  quantity  \\\n",
       "river_bassin                                                         \n",
       "aare                     31.361170              0.167588     13858   \n",
       "linth                    12.496621              0.004475      9289   \n",
       "reuss                     0.301000              0.000000       123   \n",
       "rhone                    41.757375              0.049155     27287   \n",
       "ticino                    1.825180              0.000249      1430   \n",
       "\n",
       "              time to survey  help  staff  \n",
       "river_bassin                               \n",
       "aare                     555     6    140  \n",
       "linth                    391     7    109  \n",
       "reuss                     21     2      8  \n",
       "rhone                    407   115    104  \n",
       "ticino                    64     0     17  "
      ]
     },
     "execution_count": 12,
     "metadata": {},
     "output_type": "execute_result"
    }
   ],
   "source": [
    "dims_summary_stats"
   ]
  },
  {
   "cell_type": "markdown",
   "metadata": {},
   "source": [
    "<a id='figureone'></a>\n",
    "<br></br>\n",
    "#### <span style=\"color:#008891\">The number of objects indentified versus time to survey, length, weights, surface area</span>"
   ]
  },
  {
   "cell_type": "code",
   "execution_count": 13,
   "metadata": {
    "jupyter": {
     "source_hidden": true
    }
   },
   "outputs": [],
   "source": [
    "greater_than_50 = som_dims[som_dims['total weight'] >= 50]['loc_date'].unique()\n",
    "greater_than_ten = som_dims[som_dims['plastic < 5mm weight'] >= 10]['loc_date'].unique()"
   ]
  },
  {
   "cell_type": "code",
   "execution_count": 14,
   "metadata": {},
   "outputs": [
    {
     "data": {
      "text/markdown": [
       "\n",
       "The following Surveys *are not included* in the charts below:\n",
       "\n",
       "Surveys with a total weight greater than 50kg:\n",
       "\n",
       "  ('lavey-les-bains-2', '2021-02-24')\n",
       "\n",
       "Surveys with a micro plastic weight greater than 10g:\n",
       "\n",
       "  ('baby-plage-geneva', '2020-07-07'), ('wycheley', '2020-11-07')\n"
      ],
      "text/plain": [
       "<IPython.core.display.Markdown object>"
      ]
     },
     "execution_count": 14,
     "metadata": {},
     "output_type": "execute_result"
    }
   ],
   "source": [
    "# print(F\"\\nThe following Surveys are not included in the charts below:\\n\")\n",
    "g_50 = ', '.join([str(x) for x in greater_than_50])\n",
    "t_wght = F\"Surveys with a total weight greater than 50kg:\\n\\n  {g_50}\\n\"\n",
    "g_10 = ', '.join([str(x) for x in greater_than_ten])\n",
    "micro_wght = F\"Surveys with a micro plastic weight greater than 10g:\\n\\n  {g_10}\\n\"\n",
    "\n",
    "n_ot_included = F\"\"\"\\nThe following Surveys *are not included* in the charts below:\\n\\n{t_wght}\\n{micro_wght}\"\"\"\n",
    "md(n_ot_included)"
   ]
  },
  {
   "cell_type": "code",
   "execution_count": 15,
   "metadata": {
    "jupyter": {
     "source_hidden": true
    }
   },
   "outputs": [
    {
     "name": "stdout",
     "output_type": "stream",
     "text": [
      "\n",
      "\n"
     ]
    },
    {
     "data": {
      "image/png": "[encoded data removed]",
      "text/plain": [
       "<Figure size 864x864 with 6 Axes>"
      ]
     },
     "metadata": {
      "needs_background": "light"
     },
     "output_type": "display_data"
    }
   ],
   "source": [
    "print(\"\\n\")\n",
    "\n",
    "# chart kwargs\n",
    "title_k14 = {'loc':'left', 'pad':16, 'linespacing':1.5, 'fontsize':14}\n",
    "xlab_k14 = {'labelpad':14, 'fontsize':14}\n",
    "\n",
    "# chart variables against number of objects found\n",
    "fig, axs = plt.subplots(3,2,figsize=(12,12), sharex=False, sharey=True)\n",
    "sns.scatterplot(data=som_dims, x='time to survey', y='quantity', hue='river_bassin', palette='husl', ax=axs[0,0])\n",
    "axs[0,0].get_legend().remove()\n",
    "axs[0,0].set_title(\"Time in hours to complete the survey\", **title_k14 )\n",
    "axs[0,0].set_xlabel(\"\")\n",
    "axs[0,0].set_ylabel(\"Number of objects identified\", **xlab_k14)\n",
    "\n",
    "\n",
    "sns.scatterplot(data=som_dims, x='meters surveyed', y='quantity', hue='river_bassin', palette='husl', ax=axs[0,1])\n",
    "axs[0,1].set_title(\"Length of shoreline\", **title_k14 )\n",
    "axs[0,1].set_xlabel(\"\")\n",
    "axs[0,1].set_ylabel(\"Number of objects identified\", **xlab_k14)\n",
    "\n",
    "\n",
    "sns.scatterplot(data=som_dims, x='m² surveyed', y='quantity', hue='river_bassin', palette='husl', ax=axs[1,0])\n",
    "axs[1,0].get_legend().remove()\n",
    "axs[1,0].set_title(\"Surface area\", **title_k14 )\n",
    "axs[1,0].set_xlabel(\"\")\n",
    "axs[1,0].set_ylabel(\"Number of objects identified\", **xlab_k14)\n",
    "\n",
    "sns.scatterplot(data=som_dims[som_dims['total weight'] < 50], x='total weight', y='quantity', hue='river_bassin', palette='husl', ax=axs[1,1])\n",
    "axs[1,1].set_title(\"Total weight in kilograms\", **title_k14 )\n",
    "axs[1,1].set_xlabel(\"\" )\n",
    "axs[1,1].set_ylabel(\"Number of objects identified\", **xlab_k14)\n",
    "\n",
    "sns.scatterplot(data=som_dims[som_dims['total weight'] < 50], x=som_dims[som_dims['total weight'] < 50]['plastic > 5mm weight']/1000, y='quantity', hue='river_bassin', palette='husl', ax=axs[2,0])\n",
    "axs[2,0].get_legend().remove()\n",
    "axs[2,0].set_title(\"Kilograms of plastic removed\", **title_k14 )\n",
    "axs[2,0].set_xlabel(\"\" )\n",
    "axs[2,0].set_ylabel(\"Number of objects identified\", **xlab_k14)\n",
    "\n",
    "\n",
    "sns.scatterplot(data=som_dims[som_dims['plastic < 5mm weight'] < 10], x=som_dims[som_dims['plastic < 5mm weight'] < 10]['plastic < 5mm weight'], y='quantity', hue='river_bassin', palette='husl', ax=axs[2,1])\n",
    "axs[2,1].set_title(\"Grams of plastics less than 5mm removed\", **title_k14 )\n",
    "axs[2,1].set_xlabel(\"\")\n",
    "axs[2,1].set_ylabel(\"Number of objects identified\", **xlab_k14)\n",
    "\n",
    "plt.subplots_adjust(hspace=.5)\n",
    "\n",
    "plt.tight_layout()\n",
    "plt.subplots_adjust(hspace=.4)\n",
    "plt.show()"
   ]
  },
  {
   "cell_type": "markdown",
   "metadata": {},
   "source": [
    "#### Have a great day\n",
    "\n",
    "This project was made possible by the Swiss federal office for the environment.\n",
    "\n",
    "This document originates from https://github.com/hammerdirt-analyst/iqals all copyrights apply."
   ]
  },
  {
   "cell_type": "code",
   "execution_count": 16,
   "metadata": {
    "jupyter": {
     "source_hidden": true
    }
   },
   "outputs": [
    {
     "name": "stdout",
     "output_type": "stream",
     "text": [
      "\n",
      "Produced by: roger@hammerdirt.ch\n",
      "Date: 2021-05-18\n",
      "\n",
      "love what you do\n"
     ]
    }
   ],
   "source": [
    "author = \"roger@hammerdirt.ch\"\n",
    "my_message = \"love what you do\"\n",
    "print(F\"\\nProduced by: {author}\\nDate: {today}\\n\\n{my_message}\")"
   ]
  }
 ],
 "metadata": {
  "kernelspec": {
   "display_name": "Python 3",
   "language": "python",
   "name": "python3"
  },
  "language_info": {
   "codemirror_mode": {
    "name": "ipython",
    "version": 3
   },
   "file_extension": ".py",
   "mimetype": "text/x-python",
   "name": "python",
   "nbconvert_exporter": "python",
   "pygments_lexer": "ipython3",
   "version": "3.8.3"
  }
 },
 "nbformat": 4,
 "nbformat_minor": 4
}
