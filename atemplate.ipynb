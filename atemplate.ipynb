{
 "cells": [
  {
   "cell_type": "markdown",
   "metadata": {},
   "source": [
    "## <span style=\"color:blue\">This is a template or example workbook</span>\n",
    "\n",
    "### <span style=\"color:#008891\">Please read this if you want it to work</span>\n",
    "\n",
    "__What this does:__ This note book imports the processed data from the litter surveys and provides an example of the functionality.\n",
    "\n",
    "__When to use it:__ Whenever you want to start an analysis, this work book will save you some steps and provide a few convenience methods\n",
    "\n",
    "\n",
    "#### Tasks:\n",
    "\n",
    "1. Set the local path and provide variables for the subdirectories\n",
    "2. Retrieve data from repo\n",
    "3. Provide commonly used variables and formatting objects\n",
    "4. Provide a method to save objects locally\n",
    "\n",
    "\n",
    "questions or comments: analyst@hammerdirt.ch"
   ]
  },
  {
   "cell_type": "code",
   "execution_count": 1,
   "metadata": {
    "code_folding": [
     0
    ]
   },
   "outputs": [
    {
     "data": {
      "text/html": [
       "\n",
       "<style>\n",
       ".output {\n",
       "    display: flex;\n",
       "    align-items: center;\n",
       "    text-align: center;\n",
       "}\n",
       "</style>\n"
      ],
      "text/plain": [
       "<IPython.core.display.HTML object>"
      ]
     },
     "metadata": {},
     "output_type": "display_data"
    }
   ],
   "source": [
    "# sys, file and nav packages:\n",
    "import os\n",
    "import datetime as dt\n",
    "import csv\n",
    "\n",
    "# math packages:\n",
    "import pandas as pd\n",
    "import numpy as np\n",
    "from scipy import stats\n",
    "import datetime as dt \n",
    "\n",
    "\n",
    "# charting:\n",
    "import matplotlib as mpl\n",
    "import matplotlib.pyplot as plt\n",
    "import matplotlib.dates as mdates\n",
    "from matplotlib import ticker\n",
    "import seaborn as sns\n",
    "import matplotlib.gridspec as gridspec\n",
    "from IPython.display import display, HTML\n",
    "\n",
    "\n",
    "# home brew utitilties\n",
    "import utilities.utility_functions as ut\n",
    "\n",
    "# documenting\n",
    "from IPython.display import Markdown as md\n",
    "\n",
    "display(HTML(\"\"\"\n",
    "<style>\n",
    ".output {\n",
    "    display: flex;\n",
    "    align-items: center;\n",
    "    text-align: center;\n",
    "}\n",
    "</style>\n",
    "\"\"\"))"
   ]
  },
  {
   "cell_type": "markdown",
   "metadata": {},
   "source": [
    "### <span style=\"color:blue\">micro analysis.</span>\n",
    "\n",
    "Change as needed. Probably want to keep the local path reference though. Some common variables are established here:\n",
    "\n",
    "1. the_lakes\n",
    "2. poi\n",
    "3. the_rivs\n",
    "\n",
    "**poi** places of interest, project locations specified in the contract\n",
    "\n",
    "**the_lakes** lakes of interest to the project\n",
    "\n",
    "**the_rivs** the principal rivers."
   ]
  },
  {
   "cell_type": "code",
   "execution_count": 2,
   "metadata": {},
   "outputs": [],
   "source": [
    "# the local file structure. The resources are located in the corresponding directory.\n",
    "# the purpose and date should be included in the filename when saving results to output\n",
    "survey_data, location_data, code_defs, stat_ent, geo_data, output = ut.make_local_paths()"
   ]
  },
  {
   "cell_type": "code",
   "execution_count": 3,
   "metadata": {},
   "outputs": [],
   "source": [
    "# variables/arrays that are frequently used:\n",
    "# project lakes\n",
    "the_lakes = [\n",
    "    \"Bielersee\",\n",
    "    \"Walensee\",\n",
    "    \"Lac Léman\",\n",
    "    \"Zurichsee\",\n",
    "    \"Neuenburgersee\",\n",
    "    \"Thunersee\",\n",
    "    \"Lago Maggiore\",\n",
    "    \"Brienzersee\",\n",
    "    \"poi\"\n",
    "]\n",
    "\n",
    "the_rivs = [\n",
    "    'Aare',\n",
    "    'Rhône',\n",
    "    'Limmat',\n",
    "    'Linth',\n",
    "    'Ticino',\n",
    "]\n",
    "# project beaches\n",
    "poi = [\n",
    "    \"neuenburgersee_cudrefin_mattera\",\n",
    "    \"la-petite-plage\",\n",
    "    \"evole-plage\",\n",
    "    \"plage-de-cheyres\",\n",
    "    \"mullermatte\",\n",
    "    \"bielersee_vinelz_fankhausers\",\n",
    "    \"baby-plage-geneva\",\n",
    "    \"baye-de-montreux-g\",\n",
    "    \"grand-clos\",\n",
    "    \"preverenges\",\n",
    "    \"quai-maria-belgia\",\n",
    "    \"zurichsee_wollishofen_langendorfm\",\n",
    "    \"zurichsee_kusnachterhorn_thirkell-whitej\",\n",
    "    \"zuerichsee_richterswil_benkoem_2\",     \n",
    "    \"rastplatz-stampf\",\n",
    "    \"weissenau-neuhaus\",\n",
    "    \"thunersee_spiez_meierd_1\",\n",
    "    \"walensee_walenstadt_wysse\",\n",
    "    \"gasi-strand\",\n",
    "    \"vira-gambarogno\",\n",
    "    \"sentiero-giro-del-golf-spiaggia\",\n",
    "    \"maladaire\"\n",
    "   \n",
    "]"
   ]
  },
  {
   "cell_type": "code",
   "execution_count": 4,
   "metadata": {},
   "outputs": [],
   "source": [
    "# standard formats already in use for charts \n",
    "# you can just apply these as kwargs to different elements...\n",
    "table_k = dict(loc=\"top left\", bbox=(0,0,1,1), colWidths=[.5, .5], cellLoc='center')\n",
    "tablecenter_k = dict(loc=\"top left\", bbox=(0,0,1,1), cellLoc='center')\n",
    "tabtickp_k = dict(axis='both', which='both', bottom=False, top=False, left=False, right=False, labelleft=False, labelbottom=False)\n",
    "title_k = {'loc':'left', 'pad':10, 'linespacing':1.5, 'fontsize':12}\n",
    "title_k20 = {'loc':'left', 'pad':10, 'linespacing':1.5, 'fontsize':12, 'color':'dodgerblue'}\n",
    "title_k17 = {'loc':'left', 'pad':10, 'linespacing':1.5, 'fontsize':12, 'color':'salmon'}\n",
    "titler_k20 = {'loc':'right', 'pad':10, 'linespacing':1.5, 'fontsize':12, 'color':'dodgerblue'}\n",
    "titler_k17 = {'loc':'right', 'pad':10, 'linespacing':1.5, 'fontsize':12, 'color':'salmon'}\n",
    "xlab_k = {'labelpad':10, 'fontsize':12}\n",
    "ylab_k = {'labelpad':14, 'fontsize':14}\n",
    "titler_k = {'loc':'right', 'pad':10, 'linespacing':1.5, 'fontsize':12}\n",
    "\n",
    "# use these to format date axis in charts\n",
    "weeks = mdates.WeekdayLocator(byweekday=1, interval=4)\n",
    "days = mdates.DayLocator(bymonthday=1, interval=1)\n",
    "months = mdates.MonthLocator(bymonth=[3,6,9,12])\n",
    "wks_fmt = mdates.DateFormatter('%d')\n",
    "mths_fmt = mdates.DateFormatter('%b')"
   ]
  },
  {
   "cell_type": "code",
   "execution_count": 5,
   "metadata": {},
   "outputs": [],
   "source": [
    "# probably want to keep these... the works already done\n",
    "# aggregated survey data\n",
    "dfAgg = pd.read_csv(F\"{survey_data}/results_with_zeroes_aggregated_parent.csv\")\n",
    "dfAgg['date'] = pd.to_datetime(dfAgg['date'])\n",
    "\n",
    "# non aggregated survey data\n",
    "dfSurveys = pd.read_csv(F\"{survey_data}/results_with_zeroes.csv\")\n",
    "dfSurveys['date'] = pd.to_datetime(dfSurveys['date'])\n",
    "\n",
    "# beach data\n",
    "dfBeaches = pd.read_csv(F\"{location_data}/beaches_pop_bfs.csv\")\n",
    "\n",
    "# code definitions\n",
    "dfCodes = pd.read_csv(F\"{code_defs}/mlw_codes.csv\")"
   ]
  },
  {
   "cell_type": "markdown",
   "metadata": {},
   "source": [
    "### <span style=\"color:#008891\">Make a place for your output and save work there</span>\n",
    "\n",
    "Make a folder in the output directory for any thing you want to save. That way its on the same directory as all the other workbooks.\n",
    "\n",
    "There is a convenience method for making a directory"
   ]
  },
  {
   "cell_type": "code",
   "execution_count": 6,
   "metadata": {},
   "outputs": [
    {
     "name": "stdout",
     "output_type": "stream",
     "text": [
      "That project exists\n"
     ]
    }
   ],
   "source": [
    "atestproject = ut.make_project_folder(output, 'test_directory')"
   ]
  },
  {
   "cell_type": "markdown",
   "metadata": {},
   "source": [
    "### <span style=\"color:#008891\">Save some product to the new directory</span>"
   ]
  },
  {
   "cell_type": "code",
   "execution_count": 7,
   "metadata": {},
   "outputs": [],
   "source": [
    "# if you plan on using date time then you need to do that yourself:\n",
    "dfAgg.set_index('date', inplace=True)"
   ]
  },
  {
   "cell_type": "code",
   "execution_count": 8,
   "metadata": {},
   "outputs": [
    {
     "data": {
      "image/png": "[encoded data removed]",
      "text/plain": [
       "<Figure size 432x576 with 3 Axes>"
      ]
     },
     "metadata": {},
     "output_type": "display_data"
    }
   ],
   "source": [
    "# set some parameters:\n",
    "start_date = '2020-04-01'\n",
    "end_date = dt.datetime.today().strftime('%Y-%m-%d')\n",
    "\n",
    "# draw two curves of the monthly average of two code groups\n",
    "cdate = dfAgg.loc[start_date:end_date].copy()\n",
    "\n",
    "# get only the lake values\n",
    "cdate = cdate[cdate.water_name.isin(the_lakes)]\n",
    "cdate.reset_index(inplace=True)\n",
    "\n",
    "# break this up into code groups\n",
    "cone = cdate.loc[cdate.code.isin(['G27','G30', 'G25', 'G21', 'G10', 'G35','G34'])].groupby(['loc_date', 'date'], as_index=False).pcs_m.sum()\n",
    "cone.set_index('date', inplace=True)\n",
    "\n",
    "ctwo = cdate.loc[cdate.code.isin(['G74', 'G82', 'G81', 'G23', 'G112', 'G89', 'G79', 'G78', 'G70'])].groupby(['loc_date', 'date'], as_index=False).pcs_m.sum()\n",
    "ctwo.set_index('date', inplace=True)\n",
    "\n",
    "# pull the monthly figures\n",
    "coneM = cone.resample('M').pcs_m.median()\n",
    "ctwoM = ctwo.resample('M').pcs_m.median()\n",
    "\n",
    "# save the chart:\n",
    "sns.set_style('whitegrid')\n",
    "fig, axs = plt.subplots(3,1, figsize=(6,8),sharex = True, sharey=True)\n",
    "\n",
    "axone = sns.lineplot(data=coneM, x=coneM.index, y=coneM, label='group one', ax=axs[0])\n",
    "axtwo = sns.lineplot(data=ctwoM, x=ctwoM.index, y=ctwoM, label='group two', ax=axs[1])\n",
    "axthree = sns.lineplot(data=coneM, x=coneM.index, y=coneM, label='group one', ax=axs[2])\n",
    "sns.lineplot(data=ctwoM, x=ctwoM.index, y=ctwoM, label='group two',  ax=axs[2])\n",
    "axs[2].xaxis.set_major_formatter(mths_fmt)\n",
    "axs[2].set_xlabel('Date', **xlab_k)\n",
    "axs[0].set_ylabel('Pieces per meter', **ylab_k)\n",
    "axs[1].set_ylabel('Pieces per meter', **ylab_k)\n",
    "axs[2].set_ylabel('Pieces per meter', **ylab_k)\n",
    "\n",
    "axs[0].set_title(F\"Group one and two, {start_date} to {end_date}\", **title_k)\n",
    "plt.tight_layout()\n",
    "plt.savefig(F\"{atestproject}/atestchart.svg\")\n",
    "plt.show()\n",
    "plt.close()\n"
   ]
  },
  {
   "cell_type": "code",
   "execution_count": 9,
   "metadata": {},
   "outputs": [],
   "source": [
    "# save some data\n",
    "cone.to_csv(F\"{atestproject}/group_one_agg.csv\", index = False)"
   ]
  },
  {
   "cell_type": "markdown",
   "metadata": {},
   "source": [
    "#### Hopefully that just worked for you\n",
    "\n",
    "if not contact analyst@hammerdirt.ch"
   ]
  }
 ],
 "metadata": {
  "kernelspec": {
   "display_name": "Python 3",
   "language": "python",
   "name": "python3"
  },
  "language_info": {
   "codemirror_mode": {
    "name": "ipython",
    "version": 3
   },
   "file_extension": ".py",
   "mimetype": "text/x-python",
   "name": "python",
   "nbconvert_exporter": "python",
   "pygments_lexer": "ipython3",
   "version": "3.8.5"
  }
 },
 "nbformat": 4,
 "nbformat_minor": 4
}
